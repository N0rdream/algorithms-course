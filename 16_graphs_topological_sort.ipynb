{
 "cells": [
  {
   "cell_type": "markdown",
   "metadata": {},
   "source": [
    "# Топологическая сортировка"
   ]
  },
  {
   "cell_type": "code",
   "execution_count": 1,
   "metadata": {},
   "outputs": [],
   "source": [
    "import random\n",
    "import networkx as nx\n",
    "import matplotlib.pyplot as plt"
   ]
  },
  {
   "cell_type": "markdown",
   "metadata": {},
   "source": [
    "## 1. Реализация через матрицу смежности"
   ]
  },
  {
   "cell_type": "code",
   "execution_count": 2,
   "metadata": {},
   "outputs": [],
   "source": [
    "def get_m_adjacency_matrix(adjacency_matrix, n):\n",
    "    m = [0 for i in range(n)]\n",
    "    for i in range(n):\n",
    "        for j in range(n):\n",
    "            m[j] += adjacency_matrix[i][j]\n",
    "    return m\n",
    "\n",
    "\n",
    "def update_m_adjacency_matrix(adjacency_matrix, n, m, nodes):\n",
    "    for i in nodes:\n",
    "        for j in range(n):\n",
    "            m[j] -= adjacency_matrix[i][j]\n",
    "    return m\n",
    "\n",
    "\n",
    "def get_nodes_from_m(m, n):\n",
    "    for i in range(n):\n",
    "        if not m[i]:\n",
    "            yield i\n",
    "\n",
    "            \n",
    "def sort_topological_Demucron_adjacency_matrix(adjacency_matrix):\n",
    "    processed = set()\n",
    "    N = len(adjacency_matrix)\n",
    "    m = get_m_adjacency_matrix(adjacency_matrix, N)\n",
    "    while len(processed) != N:\n",
    "        nodes = set(node for node in get_nodes_from_m(m, N) if node not in processed)\n",
    "        yield nodes\n",
    "        processed = processed.union(nodes)\n",
    "        m = update_m_adjacency_matrix(adjacency_matrix, N, m, nodes)"
   ]
  },
  {
   "cell_type": "markdown",
   "metadata": {},
   "source": [
    "## 2. Реализация через вектора смежности"
   ]
  },
  {
   "cell_type": "code",
   "execution_count": 3,
   "metadata": {},
   "outputs": [],
   "source": [
    "def get_m_adjacency_vectors(adjacency_vectors, n):\n",
    "    m = [0 for i in range(n)]\n",
    "    for nodes_dest in adjacency_vectors:\n",
    "        for node_dest in nodes_dest:\n",
    "            m[node_dest] += 1\n",
    "    return m\n",
    "\n",
    "\n",
    "def update_m_adjacency_vectors(adjacency_vectors, n, m, nodes):\n",
    "    for node_src in nodes:\n",
    "        for node_dest in adjacency_vectors[node_src]:\n",
    "            m[node_dest] -= 1\n",
    "    return m\n",
    "\n",
    "\n",
    "def sort_topological_Demucron_adjacency_vectors(adjacency_vectors):\n",
    "    processed = []\n",
    "    result = []\n",
    "    N = len(adjacency_vectors)\n",
    "    m = get_m_adjacency_vectors(adjacency_vectors, N)\n",
    "    while len(processed) != N:\n",
    "        nodes = [node for node in get_nodes_from_m(m, N) if node not in processed]\n",
    "        result.append(nodes)\n",
    "        processed.extend(nodes)\n",
    "        m = update_m_adjacency_vectors(adjacency_vectors, N, m, nodes)\n",
    "    return result"
   ]
  },
  {
   "cell_type": "markdown",
   "metadata": {},
   "source": [
    "## 3. Проверка корректности работы реализаций алгоритма"
   ]
  },
  {
   "cell_type": "markdown",
   "metadata": {},
   "source": [
    "### На примере графа из слайдов к лекции"
   ]
  },
  {
   "cell_type": "code",
   "execution_count": 4,
   "metadata": {},
   "outputs": [],
   "source": [
    "def to_adjacency_matrix(vectors):\n",
    "    matrix = [[0 for i in range(len(vectors))] for i in range(len(vectors))]\n",
    "    for node_src, nodes_dest in enumerate(vectors):\n",
    "        for node_dest in nodes_dest:\n",
    "            matrix[node_src][node_dest] = 1\n",
    "    return matrix"
   ]
  },
  {
   "cell_type": "code",
   "execution_count": 5,
   "metadata": {},
   "outputs": [],
   "source": [
    "vectors = [\n",
    "    [12, 2],\n",
    "    [12],\n",
    "    [],\n",
    "    [2],\n",
    "    [2, 8, 9],\n",
    "    [3, 11, 10],\n",
    "    [10],\n",
    "    [1, 3, 5, 6],\n",
    "    [13, 0],\n",
    "    [0, 11, 6],\n",
    "    [2],\n",
    "    [],\n",
    "    [2],\n",
    "    [5],\n",
    "]"
   ]
  },
  {
   "cell_type": "markdown",
   "metadata": {},
   "source": [
    "#### Матрица смежности"
   ]
  },
  {
   "cell_type": "code",
   "execution_count": 6,
   "metadata": {},
   "outputs": [
    {
     "data": {
      "text/plain": [
       "[[0, 0, 1, 0, 0, 0, 0, 0, 0, 0, 0, 0, 1, 0],\n",
       " [0, 0, 0, 0, 0, 0, 0, 0, 0, 0, 0, 0, 1, 0],\n",
       " [0, 0, 0, 0, 0, 0, 0, 0, 0, 0, 0, 0, 0, 0],\n",
       " [0, 0, 1, 0, 0, 0, 0, 0, 0, 0, 0, 0, 0, 0],\n",
       " [0, 0, 1, 0, 0, 0, 0, 0, 1, 1, 0, 0, 0, 0],\n",
       " [0, 0, 0, 1, 0, 0, 0, 0, 0, 0, 1, 1, 0, 0],\n",
       " [0, 0, 0, 0, 0, 0, 0, 0, 0, 0, 1, 0, 0, 0],\n",
       " [0, 1, 0, 1, 0, 1, 1, 0, 0, 0, 0, 0, 0, 0],\n",
       " [1, 0, 0, 0, 0, 0, 0, 0, 0, 0, 0, 0, 0, 1],\n",
       " [1, 0, 0, 0, 0, 0, 1, 0, 0, 0, 0, 1, 0, 0],\n",
       " [0, 0, 1, 0, 0, 0, 0, 0, 0, 0, 0, 0, 0, 0],\n",
       " [0, 0, 0, 0, 0, 0, 0, 0, 0, 0, 0, 0, 0, 0],\n",
       " [0, 0, 1, 0, 0, 0, 0, 0, 0, 0, 0, 0, 0, 0],\n",
       " [0, 0, 0, 0, 0, 1, 0, 0, 0, 0, 0, 0, 0, 0]]"
      ]
     },
     "execution_count": 6,
     "metadata": {},
     "output_type": "execute_result"
    }
   ],
   "source": [
    "adjacency_matrix = to_adjacency_matrix(vectors)\n",
    "adjacency_matrix"
   ]
  },
  {
   "cell_type": "code",
   "execution_count": 7,
   "metadata": {},
   "outputs": [
    {
     "name": "stdout",
     "output_type": "stream",
     "text": [
      "[{4, 7}, {8, 1, 9}, {0, 13, 6}, {12, 5}, {11, 10, 3}, {2}]\n"
     ]
    }
   ],
   "source": [
    "result_adjacency_matrix = list(group for group in sort_topological_Demucron_adjacency_matrix(adjacency_matrix))\n",
    "print(result_adjacency_matrix)"
   ]
  },
  {
   "cell_type": "code",
   "execution_count": 8,
   "metadata": {},
   "outputs": [
    {
     "name": "stdout",
     "output_type": "stream",
     "text": [
      "[4, 7, 8, 1, 9, 0, 13, 6, 12, 5, 11, 10, 3, 2]\n"
     ]
    }
   ],
   "source": [
    "flat_result_adjacency_matrix = [elem for group in result_adjacency_matrix for elem in group]\n",
    "print(flat_result_adjacency_matrix)"
   ]
  },
  {
   "cell_type": "markdown",
   "metadata": {},
   "source": [
    "#### Векторы смежности"
   ]
  },
  {
   "cell_type": "code",
   "execution_count": 9,
   "metadata": {},
   "outputs": [
    {
     "name": "stdout",
     "output_type": "stream",
     "text": [
      "[[4, 7], [1, 8, 9], [0, 6, 13], [5, 12], [3, 10, 11], [2]]\n"
     ]
    }
   ],
   "source": [
    "result_adjacency_vectors = list(group for group in sort_topological_Demucron_adjacency_vectors(vectors))\n",
    "print(result_adjacency_vectors)"
   ]
  },
  {
   "cell_type": "code",
   "execution_count": 10,
   "metadata": {},
   "outputs": [
    {
     "name": "stdout",
     "output_type": "stream",
     "text": [
      "[4, 7, 1, 8, 9, 0, 6, 13, 5, 12, 3, 10, 11, 2]\n"
     ]
    }
   ],
   "source": [
    "flat_result_adjacency_vectors = [elem for group in result_adjacency_vectors for elem in group]\n",
    "print(flat_result_adjacency_vectors)"
   ]
  },
  {
   "cell_type": "markdown",
   "metadata": {},
   "source": [
    "#### Готовая библиотека NetworkX"
   ]
  },
  {
   "cell_type": "code",
   "execution_count": 11,
   "metadata": {},
   "outputs": [],
   "source": [
    "G = nx.DiGraph()\n",
    "for node_src, nodes_dest in enumerate(vectors):\n",
    "    G.add_node(node_src)\n",
    "    for node_dest in nodes_dest:\n",
    "        G.add_edge(node_src, node_dest)"
   ]
  },
  {
   "cell_type": "code",
   "execution_count": 12,
   "metadata": {},
   "outputs": [
    {
     "data": {
      "image/png": "[encoded data removed]",
      "text/plain": [
       "<Figure size 432x288 with 1 Axes>"
      ]
     },
     "metadata": {},
     "output_type": "display_data"
    }
   ],
   "source": [
    "nx.draw(G, with_labels=True)\n",
    "plt.show()"
   ]
  },
  {
   "cell_type": "code",
   "execution_count": 13,
   "metadata": {},
   "outputs": [
    {
     "name": "stdout",
     "output_type": "stream",
     "text": [
      "[7, 1, 4, 9, 6, 8, 0, 12, 13, 5, 10, 11, 3, 2]\n"
     ]
    }
   ],
   "source": [
    "print(list(nx.algorithms.dag.topological_sort(G)))"
   ]
  },
  {
   "cell_type": "code",
   "execution_count": 14,
   "metadata": {},
   "outputs": [
    {
     "data": {
      "text/plain": [
       "[4, 7, 1, 8, 9, 0, 6, 12, 13, 5, 3, 10, 2, 11]"
      ]
     },
     "execution_count": 14,
     "metadata": {},
     "output_type": "execute_result"
    }
   ],
   "source": [
    "list(nx.algorithms.dag.lexicographical_topological_sort(G))"
   ]
  },
  {
   "cell_type": "markdown",
   "metadata": {},
   "source": [
    "Проверим, что полученные результаты присутствуют среди всех возможных вариантов сортировки"
   ]
  },
  {
   "cell_type": "code",
   "execution_count": 15,
   "metadata": {},
   "outputs": [
    {
     "name": "stdout",
     "output_type": "stream",
     "text": [
      "True\n",
      "True\n"
     ]
    }
   ],
   "source": [
    "result_networkx = list(nx.algorithms.dag.all_topological_sorts(G))\n",
    "print(flat_result_adjacency_matrix in result_networkx)\n",
    "print(flat_result_adjacency_vectors in result_networkx)"
   ]
  },
  {
   "cell_type": "markdown",
   "metadata": {},
   "source": [
    "### На примере случайно сгенерированного графа"
   ]
  },
  {
   "cell_type": "code",
   "execution_count": 16,
   "metadata": {},
   "outputs": [],
   "source": [
    "def generate_DAG_adjacency_vectors(N, max_degree):\n",
    "    vectors = []\n",
    "    for i in range(N):\n",
    "        nodes = []\n",
    "        available_nodes = [x for x in range(N) if x != i]\n",
    "        for j in range(random.randint(0, max_degree)):\n",
    "            node = available_nodes.pop(random.randint(0, len(available_nodes)-1))\n",
    "            # lower triangular matrix = DAG\n",
    "            if i >= node:\n",
    "                nodes.append(node)\n",
    "        vectors.append(nodes)\n",
    "    return vectors"
   ]
  },
  {
   "cell_type": "code",
   "execution_count": 17,
   "metadata": {},
   "outputs": [],
   "source": [
    "vectors = generate_DAG_adjacency_vectors(10, 4)"
   ]
  },
  {
   "cell_type": "markdown",
   "metadata": {},
   "source": [
    "#### Матрица смежности"
   ]
  },
  {
   "cell_type": "code",
   "execution_count": 18,
   "metadata": {},
   "outputs": [
    {
     "name": "stdout",
     "output_type": "stream",
     "text": [
      "[{4, 6, 7, 8, 9}, {2, 3, 5}, {1}, {0}]\n"
     ]
    }
   ],
   "source": [
    "adjacency_matrix = to_adjacency_matrix(vectors)\n",
    "result_adjacency_matrix = list(group for group in sort_topological_Demucron_adjacency_matrix(adjacency_matrix))\n",
    "print(result_adjacency_matrix)"
   ]
  },
  {
   "cell_type": "code",
   "execution_count": 19,
   "metadata": {},
   "outputs": [
    {
     "name": "stdout",
     "output_type": "stream",
     "text": [
      "[4, 6, 7, 8, 9, 2, 3, 5, 1, 0]\n"
     ]
    }
   ],
   "source": [
    "flat_result_adjacency_matrix = [elem for group in result_adjacency_matrix for elem in group]\n",
    "print(flat_result_adjacency_matrix)"
   ]
  },
  {
   "cell_type": "markdown",
   "metadata": {},
   "source": [
    "#### Векторы смежности"
   ]
  },
  {
   "cell_type": "code",
   "execution_count": 20,
   "metadata": {},
   "outputs": [
    {
     "name": "stdout",
     "output_type": "stream",
     "text": [
      "[[4, 6, 7, 8, 9], [2, 3, 5], [1], [0]]\n"
     ]
    }
   ],
   "source": [
    "result_adjacency_vectors = list(group for group in sort_topological_Demucron_adjacency_vectors(vectors))\n",
    "print(result_adjacency_vectors)"
   ]
  },
  {
   "cell_type": "code",
   "execution_count": 21,
   "metadata": {},
   "outputs": [
    {
     "name": "stdout",
     "output_type": "stream",
     "text": [
      "[4, 6, 7, 8, 9, 2, 3, 5, 1, 0]\n"
     ]
    }
   ],
   "source": [
    "flat_result_adjacency_vectors = [elem for group in result_adjacency_vectors for elem in group]\n",
    "print(flat_result_adjacency_vectors)"
   ]
  },
  {
   "cell_type": "markdown",
   "metadata": {},
   "source": [
    "#### Готовая библиотека NetworkX"
   ]
  },
  {
   "cell_type": "code",
   "execution_count": 22,
   "metadata": {},
   "outputs": [],
   "source": [
    "G = nx.DiGraph()\n",
    "for node_src, nodes_dest in enumerate(vectors):\n",
    "    G.add_node(node_src)\n",
    "    for node_dest in nodes_dest:\n",
    "        G.add_edge(node_src, node_dest)"
   ]
  },
  {
   "cell_type": "code",
   "execution_count": 23,
   "metadata": {},
   "outputs": [
    {
     "name": "stdout",
     "output_type": "stream",
     "text": [
      "[9, 8, 3, 7, 1, 6, 5, 2, 4, 0]\n"
     ]
    }
   ],
   "source": [
    "print(list(nx.algorithms.dag.topological_sort(G)))"
   ]
  },
  {
   "cell_type": "markdown",
   "metadata": {},
   "source": [
    "Проверим, что полученные результаты присутствуют среди всех возможных вариантов сортировки"
   ]
  },
  {
   "cell_type": "code",
   "execution_count": 24,
   "metadata": {},
   "outputs": [
    {
     "name": "stdout",
     "output_type": "stream",
     "text": [
      "True\n",
      "True\n"
     ]
    }
   ],
   "source": [
    "result_networkx = list(nx.algorithms.dag.all_topological_sorts(G))\n",
    "print(flat_result_adjacency_matrix in result_networkx)\n",
    "print(flat_result_adjacency_vectors in result_networkx)"
   ]
  },
  {
   "cell_type": "markdown",
   "metadata": {},
   "source": [
    "### 4. Сравнение времени выполнения алгоритма"
   ]
  },
  {
   "cell_type": "code",
   "execution_count": 25,
   "metadata": {},
   "outputs": [],
   "source": [
    "N = 1000\n",
    "max_degree = 10"
   ]
  },
  {
   "cell_type": "markdown",
   "metadata": {},
   "source": [
    "#### Матрица смежности"
   ]
  },
  {
   "cell_type": "code",
   "execution_count": 26,
   "metadata": {},
   "outputs": [
    {
     "data": {
      "text/plain": [
       "<TimeitResult : 191 ms ± 1.36 ms per loop (mean ± std. dev. of 3 runs, 3 loops each)>"
      ]
     },
     "execution_count": 26,
     "metadata": {},
     "output_type": "execute_result"
    }
   ],
   "source": [
    "%%timeit -r 3 -n 3 -o -q\n",
    "vectors = generate_DAG_adjacency_vectors(N, max_degree)\n",
    "adjacency_matrix = to_adjacency_matrix(vectors)\n",
    "list(group for group in sort_topological_Demucron_adjacency_matrix(adjacency_matrix))"
   ]
  },
  {
   "cell_type": "markdown",
   "metadata": {},
   "source": [
    "#### Векторы смежности"
   ]
  },
  {
   "cell_type": "code",
   "execution_count": 27,
   "metadata": {},
   "outputs": [
    {
     "data": {
      "text/plain": [
       "<TimeitResult : 64.6 ms ± 2.09 ms per loop (mean ± std. dev. of 3 runs, 3 loops each)>"
      ]
     },
     "execution_count": 27,
     "metadata": {},
     "output_type": "execute_result"
    }
   ],
   "source": [
    "%%timeit -r 3 -n 3 -o -q\n",
    "vectors = generate_DAG_adjacency_vectors(N, max_degree)\n",
    "sort_topological_Demucron_adjacency_vectors(vectors)"
   ]
  },
  {
   "cell_type": "markdown",
   "metadata": {},
   "source": [
    "#### Готовая библиотека NetworkX"
   ]
  },
  {
   "cell_type": "code",
   "execution_count": 28,
   "metadata": {},
   "outputs": [
    {
     "data": {
      "text/plain": [
       "<TimeitResult : 48.1 ms ± 461 µs per loop (mean ± std. dev. of 3 runs, 3 loops each)>"
      ]
     },
     "execution_count": 28,
     "metadata": {},
     "output_type": "execute_result"
    }
   ],
   "source": [
    "%%timeit -r 3 -n 3 -o -q\n",
    "vectors = generate_DAG_adjacency_vectors(N, max_degree)\n",
    "G = nx.DiGraph()\n",
    "for node_src, nodes_dest in enumerate(vectors):\n",
    "    G.add_node(node_src)\n",
    "    for node_dest in nodes_dest:\n",
    "        G.add_edge(node_src, node_dest)\n",
    "list(nx.algorithms.dag.topological_sort(G))"
   ]
  },
  {
   "cell_type": "code",
   "execution_count": null,
   "metadata": {},
   "outputs": [],
   "source": []
  },
  {
   "cell_type": "code",
   "execution_count": null,
   "metadata": {},
   "outputs": [],
   "source": []
  }
 ],
 "metadata": {
  "kernelspec": {
   "display_name": "Python 3",
   "language": "python",
   "name": "python3"
  },
  "language_info": {
   "codemirror_mode": {
    "name": "ipython",
    "version": 3
   },
   "file_extension": ".py",
   "mimetype": "text/x-python",
   "name": "python",
   "nbconvert_exporter": "python",
   "pygments_lexer": "ipython3",
   "version": "3.6.9"
  }
 },
 "nbformat": 4,
 "nbformat_minor": 4
}
