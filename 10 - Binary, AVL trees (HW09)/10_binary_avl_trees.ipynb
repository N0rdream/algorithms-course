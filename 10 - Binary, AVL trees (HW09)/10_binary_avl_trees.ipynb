{
 "cells": [
  {
   "cell_type": "markdown",
   "metadata": {},
   "source": [
    "# Двоичные деревья поиска, АВЛ-деревья"
   ]
  },
  {
   "cell_type": "code",
   "execution_count": 1,
   "metadata": {},
   "outputs": [],
   "source": [
    "import random\n",
    "import sys\n",
    "\n",
    "sys.setrecursionlimit(20000)"
   ]
  },
  {
   "cell_type": "markdown",
   "metadata": {},
   "source": [
    "## 1. Двоичное дерево поиска"
   ]
  },
  {
   "cell_type": "markdown",
   "metadata": {},
   "source": [
    "### Реализация"
   ]
  },
  {
   "cell_type": "code",
   "execution_count": 2,
   "metadata": {},
   "outputs": [],
   "source": [
    "class NodeBinary:\n",
    "    \n",
    "    def __init__(self, value):\n",
    "        self.value = value\n",
    "        self.parent = None\n",
    "        self.l_child = None\n",
    "        self.r_child = None\n",
    "        \n",
    "    def is_l_child(self):\n",
    "        return self.parent.l_child == self\n",
    "    \n",
    "    def is_r_child(self):\n",
    "        return self.parent.r_child == self\n",
    "    \n",
    "    def is_leaf(self):\n",
    "        return not self.has_l_child and not self.has_r_child()\n",
    "    \n",
    "    def has_l_child(self):\n",
    "        return self.l_child is not None\n",
    "    \n",
    "    def has_r_child(self):\n",
    "        return self.r_child is not None\n",
    "        \n",
    "    def insert_node(self, node):\n",
    "        # если значение в текущем узле не больше чем значение в добавляемом узле\n",
    "        if self.value < node.value:\n",
    "            # если у текущего узла есть правый потомок\n",
    "            if self.has_r_child():\n",
    "                # добавляем узел в поддерево, где корень - правый потомок текущего узла\n",
    "                self.r_child.insert_node(node)\n",
    "            # если у текущего узла нет правого потомка\n",
    "            else:\n",
    "                # делаем добавляемый узел правым потомком текущего узла\n",
    "                self.r_child = node\n",
    "                # задаем у правого потомка ссылку на родителя, которым является текущий узел\n",
    "                self.r_child.parent = self\n",
    "        # если значение в текущем узле больше чем добавляемое значение\n",
    "        if self.value >= node.value:\n",
    "            # если у текущего узла есть левый потомок\n",
    "            if self.has_l_child():\n",
    "                # добавляем узел в поддерево, где корень - левый потомок текущего узла\n",
    "                self.l_child.insert_node(node)\n",
    "            # если у текущего узла нет левого потомка\n",
    "            else:\n",
    "                # делаем добавляемый узел левым потомком текущего узла\n",
    "                self.l_child = node\n",
    "                # задаем у левого потомка ссылку на родителя, которым является текущий узел\n",
    "                self.l_child.parent = self\n",
    "                \n",
    "    def get_node(self, value):\n",
    "        if self.value == value:\n",
    "            return self\n",
    "        elif self.value < value and self.has_r_child():\n",
    "            return self.r_child.get_node(value)\n",
    "        elif self.value > value and self.has_l_child():\n",
    "            return self.l_child.get_node(value)\n",
    "        \n",
    "    def remove_node(self):\n",
    "        # если удаляемый узел является левым потомком своего родителя\n",
    "        if self.is_l_child():\n",
    "            # обнуляем у родителя ссылку на левого потомка\n",
    "            self.parent.l_child = None\n",
    "        # если правым\n",
    "        else:\n",
    "            # обнуляем у родителя ссылку на правого потомка\n",
    "            self.parent.r_child = None\n",
    "        # если у удаляемого узла есть левый потомок\n",
    "        if self.has_l_child():\n",
    "            # добавляем его в дерево, где корнем является родитель удаляемого узла\n",
    "            self.parent.insert_node(self.l_child)\n",
    "        # если у удаляемого узла есть правый потомок\n",
    "        if self.has_r_child():\n",
    "            # добавляем его в дерево, где корнем является родитель удаляемого узла\n",
    "            self.parent.insert_node(self.r_child)\n",
    "            \n",
    "    def get_new_root(self):\n",
    "        if self.has_l_child() and not self.has_r_child():\n",
    "            root = self.l_child\n",
    "            self.l_child = None\n",
    "        elif not self.has_l_child() and self.has_r_child():\n",
    "            root = self.r_child\n",
    "            self.r_child = None\n",
    "        elif self.has_l_child() and self.has_r_child():\n",
    "            root = self.l_child\n",
    "            self.l_child = None\n",
    "            root.insert_node(self.r_child)\n",
    "            self.r_child = None\n",
    "        else:\n",
    "            return\n",
    "        root.parent = None\n",
    "        return root\n",
    "        \n",
    "    def __iter__(self):\n",
    "        if self.has_l_child():\n",
    "            for value in self.l_child:\n",
    "                yield value\n",
    "        yield self.value\n",
    "        if self.has_r_child():\n",
    "            for value in self.r_child:\n",
    "                yield value"
   ]
  },
  {
   "cell_type": "code",
   "execution_count": 3,
   "metadata": {},
   "outputs": [],
   "source": [
    "class TreeBinary:\n",
    "    \n",
    "    def __init__(self):\n",
    "        self.root = None\n",
    "        self.node_type = NodeBinary\n",
    "        \n",
    "    def insert(self, value):\n",
    "        node = self.node_type(value)\n",
    "        if self.root is None:\n",
    "            self.root = node\n",
    "        else:\n",
    "            self.root.insert_node(node)\n",
    "        return node\n",
    "        \n",
    "    def has_value(self, value):\n",
    "        node = self.root.get_node(value)\n",
    "        if node is not None:\n",
    "            return True\n",
    "        return False\n",
    "    \n",
    "    def remove(self, value):\n",
    "        node = self.root.get_node(value)\n",
    "        if node is None:\n",
    "            print(f'Number {value} is not in the tree')\n",
    "            return\n",
    "        if node.parent is not None:\n",
    "            node.remove_node()\n",
    "            return node.parent\n",
    "        else:\n",
    "            self.root = self.root.get_new_root()\n",
    "            \n",
    "    def __iter__(self):\n",
    "        for element in self.root:\n",
    "            yield element"
   ]
  },
  {
   "cell_type": "markdown",
   "metadata": {},
   "source": [
    "### Вспомогательные функции"
   ]
  },
  {
   "cell_type": "code",
   "execution_count": 4,
   "metadata": {},
   "outputs": [],
   "source": [
    "def get_test_arrays(N, perc=0.1):\n",
    "    array = [i for i in range(N)]\n",
    "    random.shuffle(array)\n",
    "    array_missing = [random.randint(N+1, N*2) for i in range(int(N*perc))]\n",
    "    array_part = array[:int(N*perc)]\n",
    "    random.shuffle(array_part)\n",
    "    return array, array_missing, array_part\n",
    "\n",
    "def print_tree_info(tree):\n",
    "    numbers = list(tree)\n",
    "    print('Количество узлов:', len(numbers))\n",
    "    print('Обход дерева:', numbers[:15], '...')\n",
    "\n",
    "# для сбора замеров времени в один массив\n",
    "from IPython import get_ipython\n",
    "from IPython.core.magics.execution import TimeitResult\n",
    "\n",
    "RESULTS = []\n",
    "\n",
    "def collect_results():\n",
    "    for k, v in get_ipython().__dict__['user_ns']['Out'].items():\n",
    "        if v.__class__ == TimeitResult:\n",
    "            RESULTS.append(round(v.worst, 3))"
   ]
  },
  {
   "cell_type": "markdown",
   "metadata": {},
   "source": [
    "### Тестирование времени работы двоичного дерева при добавлении отсортированных чисел"
   ]
  },
  {
   "cell_type": "code",
   "execution_count": 5,
   "metadata": {},
   "outputs": [],
   "source": [
    "array_rand, array_miss, array_part = get_test_arrays(10000, perc=0.2)"
   ]
  },
  {
   "cell_type": "code",
   "execution_count": 6,
   "metadata": {},
   "outputs": [],
   "source": [
    "tree_binary_sorted = TreeBinary()"
   ]
  },
  {
   "cell_type": "markdown",
   "metadata": {},
   "source": [
    "#### Добавление отсортированных чисел"
   ]
  },
  {
   "cell_type": "code",
   "execution_count": 7,
   "metadata": {},
   "outputs": [
    {
     "data": {
      "text/plain": [
       "<TimeitResult : 23.4 s ± 0 ns per loop (mean ± std. dev. of 1 run, 1 loop each)>"
      ]
     },
     "execution_count": 7,
     "metadata": {},
     "output_type": "execute_result"
    }
   ],
   "source": [
    "%%timeit -r 1 -n 1 -o -q\n",
    "\n",
    "for i in sorted(array_rand):\n",
    "    tree_binary_sorted.insert(i)"
   ]
  },
  {
   "cell_type": "markdown",
   "metadata": {},
   "source": [
    "#### Обход дерева"
   ]
  },
  {
   "cell_type": "code",
   "execution_count": 8,
   "metadata": {},
   "outputs": [
    {
     "name": "stdout",
     "output_type": "stream",
     "text": [
      "Количество узлов: 10000\n",
      "Обход дерева: [0, 1, 2, 3, 4, 5, 6, 7, 8, 9, 10, 11, 12, 13, 14] ...\n"
     ]
    },
    {
     "data": {
      "text/plain": [
       "<TimeitResult : 3.18 s ± 0 ns per loop (mean ± std. dev. of 1 run, 1 loop each)>"
      ]
     },
     "execution_count": 8,
     "metadata": {},
     "output_type": "execute_result"
    }
   ],
   "source": [
    "%%timeit -r 1 -n 1 -o -q\n",
    "\n",
    "print_tree_info(tree_binary_sorted)"
   ]
  },
  {
   "cell_type": "markdown",
   "metadata": {},
   "source": [
    "#### Поиск отсутствующих чисел"
   ]
  },
  {
   "cell_type": "code",
   "execution_count": 9,
   "metadata": {},
   "outputs": [
    {
     "data": {
      "text/plain": [
       "<TimeitResult : 8.7 s ± 0 ns per loop (mean ± std. dev. of 1 run, 1 loop each)>"
      ]
     },
     "execution_count": 9,
     "metadata": {},
     "output_type": "execute_result"
    }
   ],
   "source": [
    "%%timeit -r 1 -n 1 -o -q\n",
    "\n",
    "for i in array_miss:\n",
    "    if tree_binary_sorted.has_value(i):\n",
    "        print(f'{i} is in the tree')\n",
    "        break"
   ]
  },
  {
   "cell_type": "markdown",
   "metadata": {},
   "source": [
    "#### Поиск присутствующих чисел"
   ]
  },
  {
   "cell_type": "code",
   "execution_count": 10,
   "metadata": {},
   "outputs": [
    {
     "data": {
      "text/plain": [
       "<TimeitResult : 3.68 s ± 0 ns per loop (mean ± std. dev. of 1 run, 1 loop each)>"
      ]
     },
     "execution_count": 10,
     "metadata": {},
     "output_type": "execute_result"
    }
   ],
   "source": [
    "%%timeit -r 1 -n 1 -o -q\n",
    "\n",
    "for i in array_part:\n",
    "    if not tree_binary_sorted.has_value(i):\n",
    "        print(f'{i} is not in the tree')\n",
    "        break"
   ]
  },
  {
   "cell_type": "markdown",
   "metadata": {},
   "source": [
    "#### Удаление части имеющихся чисел"
   ]
  },
  {
   "cell_type": "code",
   "execution_count": 11,
   "metadata": {},
   "outputs": [
    {
     "data": {
      "text/plain": [
       "<TimeitResult : 3.22 s ± 0 ns per loop (mean ± std. dev. of 1 run, 1 loop each)>"
      ]
     },
     "execution_count": 11,
     "metadata": {},
     "output_type": "execute_result"
    }
   ],
   "source": [
    "%%timeit -r 1 -n 1 -o -q\n",
    "\n",
    "for i in array_part:\n",
    "    tree_binary_sorted.remove(i)"
   ]
  },
  {
   "cell_type": "markdown",
   "metadata": {},
   "source": [
    "#### Обход дерева"
   ]
  },
  {
   "cell_type": "code",
   "execution_count": 12,
   "metadata": {},
   "outputs": [
    {
     "name": "stdout",
     "output_type": "stream",
     "text": [
      "Количество узлов: 8000\n",
      "Обход дерева: [0, 1, 4, 5, 6, 7, 8, 9, 10, 11, 12, 13, 14, 15, 17] ...\n"
     ]
    },
    {
     "data": {
      "text/plain": [
       "<TimeitResult : 1.52 s ± 0 ns per loop (mean ± std. dev. of 1 run, 1 loop each)>"
      ]
     },
     "execution_count": 12,
     "metadata": {},
     "output_type": "execute_result"
    }
   ],
   "source": [
    "%%timeit -r 1 -n 1 -o -q\n",
    "\n",
    "print_tree_info(tree_binary_sorted)"
   ]
  },
  {
   "cell_type": "markdown",
   "metadata": {},
   "source": [
    "### Тестирование времени работы двоичного дерева при добавлении чисел в случайном порядке"
   ]
  },
  {
   "cell_type": "code",
   "execution_count": 13,
   "metadata": {},
   "outputs": [],
   "source": [
    "array_rand, array_miss, array_part = get_test_arrays(40000, perc=0.2)"
   ]
  },
  {
   "cell_type": "code",
   "execution_count": 14,
   "metadata": {},
   "outputs": [],
   "source": [
    "tree_binary_random = TreeBinary()"
   ]
  },
  {
   "cell_type": "markdown",
   "metadata": {},
   "source": [
    "#### Добавление чисел в случайном порядке"
   ]
  },
  {
   "cell_type": "code",
   "execution_count": 15,
   "metadata": {},
   "outputs": [
    {
     "data": {
      "text/plain": [
       "<TimeitResult : 293 ms ± 0 ns per loop (mean ± std. dev. of 1 run, 1 loop each)>"
      ]
     },
     "execution_count": 15,
     "metadata": {},
     "output_type": "execute_result"
    }
   ],
   "source": [
    "%%timeit -r 1 -n 1 -o -q\n",
    "\n",
    "for i in array_rand:\n",
    "    tree_binary_random.insert(i)"
   ]
  },
  {
   "cell_type": "markdown",
   "metadata": {},
   "source": [
    "#### Обход дерева"
   ]
  },
  {
   "cell_type": "code",
   "execution_count": 16,
   "metadata": {},
   "outputs": [
    {
     "name": "stdout",
     "output_type": "stream",
     "text": [
      "Количество узлов: 40000\n",
      "Обход дерева: [0, 1, 2, 3, 4, 5, 6, 7, 8, 9, 10, 11, 12, 13, 14] ...\n"
     ]
    },
    {
     "data": {
      "text/plain": [
       "<TimeitResult : 57.8 ms ± 0 ns per loop (mean ± std. dev. of 1 run, 1 loop each)>"
      ]
     },
     "execution_count": 16,
     "metadata": {},
     "output_type": "execute_result"
    }
   ],
   "source": [
    "%%timeit -r 1 -n 1 -o -q\n",
    "\n",
    "print_tree_info(tree_binary_random)"
   ]
  },
  {
   "cell_type": "markdown",
   "metadata": {},
   "source": [
    "#### Поиск отсутствующих чисел"
   ]
  },
  {
   "cell_type": "code",
   "execution_count": 17,
   "metadata": {},
   "outputs": [
    {
     "data": {
      "text/plain": [
       "<TimeitResult : 25 ms ± 0 ns per loop (mean ± std. dev. of 1 run, 1 loop each)>"
      ]
     },
     "execution_count": 17,
     "metadata": {},
     "output_type": "execute_result"
    }
   ],
   "source": [
    "%%timeit -r 1 -n 1 -o -q\n",
    "\n",
    "for i in array_miss:\n",
    "    if tree_binary_random.has_value(i):\n",
    "        print(f'{i} is in the tree')\n",
    "        break"
   ]
  },
  {
   "cell_type": "markdown",
   "metadata": {},
   "source": [
    "#### Поиск присутствующих чисел"
   ]
  },
  {
   "cell_type": "code",
   "execution_count": 18,
   "metadata": {},
   "outputs": [
    {
     "data": {
      "text/plain": [
       "<TimeitResult : 43.6 ms ± 0 ns per loop (mean ± std. dev. of 1 run, 1 loop each)>"
      ]
     },
     "execution_count": 18,
     "metadata": {},
     "output_type": "execute_result"
    }
   ],
   "source": [
    "%%timeit -r 1 -n 1 -o -q\n",
    "\n",
    "for i in array_part:\n",
    "    if not tree_binary_random.has_value(i):\n",
    "        print(f'{i} is not in the tree')\n",
    "        break"
   ]
  },
  {
   "cell_type": "markdown",
   "metadata": {},
   "source": [
    "#### Удаление части имеющихся чисел"
   ]
  },
  {
   "cell_type": "code",
   "execution_count": 19,
   "metadata": {},
   "outputs": [
    {
     "data": {
      "text/plain": [
       "<TimeitResult : 4.92 s ± 0 ns per loop (mean ± std. dev. of 1 run, 1 loop each)>"
      ]
     },
     "execution_count": 19,
     "metadata": {},
     "output_type": "execute_result"
    }
   ],
   "source": [
    "%%timeit -r 1 -n 1 -o -q\n",
    "\n",
    "for i in array_part:\n",
    "    tree_binary_random.remove(i)"
   ]
  },
  {
   "cell_type": "markdown",
   "metadata": {},
   "source": [
    "#### Обход дерева"
   ]
  },
  {
   "cell_type": "code",
   "execution_count": 20,
   "metadata": {},
   "outputs": [
    {
     "name": "stdout",
     "output_type": "stream",
     "text": [
      "Количество узлов: 32000\n",
      "Обход дерева: [1, 2, 3, 4, 5, 6, 7, 8, 10, 13, 14, 15, 16, 18, 19] ...\n"
     ]
    },
    {
     "data": {
      "text/plain": [
       "<TimeitResult : 19 s ± 0 ns per loop (mean ± std. dev. of 1 run, 1 loop each)>"
      ]
     },
     "execution_count": 20,
     "metadata": {},
     "output_type": "execute_result"
    }
   ],
   "source": [
    "%%timeit -r 1 -n 1 -o -q\n",
    "\n",
    "print_tree_info(tree_binary_random)"
   ]
  },
  {
   "cell_type": "markdown",
   "metadata": {},
   "source": [
    "## 2. АВЛ-дерево"
   ]
  },
  {
   "cell_type": "markdown",
   "metadata": {},
   "source": [
    "### Реализация"
   ]
  },
  {
   "cell_type": "code",
   "execution_count": 21,
   "metadata": {},
   "outputs": [],
   "source": [
    "class NodeAVL(NodeBinary):\n",
    "    \n",
    "    def __init__(self, value):\n",
    "        super().__init__(value)\n",
    "        self.height = 0"
   ]
  },
  {
   "cell_type": "code",
   "execution_count": 22,
   "metadata": {},
   "outputs": [],
   "source": [
    "class TreeAVL(TreeBinary):\n",
    "    \n",
    "    def __init__(self):\n",
    "        super().__init__()\n",
    "        self.node_type = NodeAVL\n",
    "    \n",
    "    @staticmethod\n",
    "    def get_height(node):\n",
    "        if node is None:\n",
    "            return 0\n",
    "        return node.height\n",
    "    \n",
    "    def update_height(self, node):\n",
    "        node.height = max(self.get_height(node.l_child), self.get_height(node.r_child)) + 1\n",
    "    \n",
    "    def insert(self, value):\n",
    "        node = super().insert(value)\n",
    "        self.balance(node)\n",
    "        \n",
    "    def remove(self, value):\n",
    "        node = super().remove(value)\n",
    "        self.balance(node)\n",
    "    \n",
    "    def rotate_right(self, node):\n",
    "        #\n",
    "        #      A           B\n",
    "        #     / \\         / \\\n",
    "        #    B  R  --->  L  A \n",
    "        #   / \\            / \\\n",
    "        #  L  C           C  R \n",
    "        # \n",
    "        # A - node/old root, B - node.l_child/new root\n",
    "        #\n",
    "        B = node.l_child\n",
    "        C = B.r_child\n",
    "        node.l_child = C\n",
    "        B.r_child = node\n",
    "        B.parent = node.parent\n",
    "        if node.parent is not None:\n",
    "            if node.is_l_child():\n",
    "                node.parent.l_child = B\n",
    "            elif node.is_r_child():\n",
    "                node.parent.r_child = B\n",
    "        else:\n",
    "            self.root = B\n",
    "        node.parent = B\n",
    "        if C is not None:\n",
    "            C.parent = node\n",
    "        self.update_height(node)\n",
    "        self.update_height(B)\n",
    "        \n",
    "    def rotate_left(self, node):\n",
    "        #\n",
    "        #     A            B\n",
    "        #    / \\          / \\\n",
    "        #   L  B   --->  A  R \n",
    "        #     / \\       / \\\n",
    "        #    C  R      L  C \n",
    "        # \n",
    "        # A - node/old root, B - node.r_child/new root\n",
    "        #\n",
    "        B = node.r_child\n",
    "        C = B.l_child\n",
    "        node.r_child = C\n",
    "        B.l_child = node\n",
    "        B.parent = node.parent\n",
    "        if node.parent is not None:\n",
    "            if node.is_l_child():\n",
    "                node.parent.l_child = B\n",
    "            elif node.is_r_child():\n",
    "                node.parent.r_child = B\n",
    "        else:\n",
    "            self.root = B\n",
    "        node.parent = B\n",
    "        if C is not None:\n",
    "            C.parent = node\n",
    "        self.update_height(node)\n",
    "        self.update_height(B)\n",
    "        \n",
    "    def balance(self, node):\n",
    "        while node is not None:\n",
    "            self.update_height(node)\n",
    "            node_balance = self.get_height(node.l_child) - self.get_height(node.r_child)\n",
    "            if node_balance > 1:\n",
    "                if self.get_height(node.l_child.l_child) >= self.get_height(node.l_child.r_child):\n",
    "                    self.rotate_right(node)\n",
    "                else:\n",
    "                    self.rotate_left(node.l_child)\n",
    "                    self.rotate_right(node)\n",
    "            elif node_balance < -1:\n",
    "                if self.get_height(node.r_child.r_child) >= self.get_height(node.r_child.l_child):\n",
    "                    self.rotate_left(node)\n",
    "                else:\n",
    "                    self.rotate_right(node.r_child)\n",
    "                    self.rotate_left(node)\n",
    "            node = node.parent   "
   ]
  },
  {
   "cell_type": "markdown",
   "metadata": {},
   "source": [
    "### Тестирование времени работы АВЛ-дерева при добавлении отсортированных чисел"
   ]
  },
  {
   "cell_type": "code",
   "execution_count": 23,
   "metadata": {},
   "outputs": [],
   "source": [
    "array_rand, array_miss, array_part = get_test_arrays(40000, perc=0.2)"
   ]
  },
  {
   "cell_type": "code",
   "execution_count": 24,
   "metadata": {},
   "outputs": [],
   "source": [
    "tree_avl_sorted = TreeAVL()"
   ]
  },
  {
   "cell_type": "markdown",
   "metadata": {},
   "source": [
    "#### Добавление отсортированных чисел"
   ]
  },
  {
   "cell_type": "code",
   "execution_count": 25,
   "metadata": {},
   "outputs": [
    {
     "data": {
      "text/plain": [
       "<TimeitResult : 849 ms ± 0 ns per loop (mean ± std. dev. of 1 run, 1 loop each)>"
      ]
     },
     "execution_count": 25,
     "metadata": {},
     "output_type": "execute_result"
    }
   ],
   "source": [
    "%%timeit -r 1 -n 1 -o -q\n",
    "\n",
    "for i in sorted(array_rand):\n",
    "    tree_avl_sorted.insert(i)"
   ]
  },
  {
   "cell_type": "markdown",
   "metadata": {},
   "source": [
    "#### Обход дерева"
   ]
  },
  {
   "cell_type": "code",
   "execution_count": 26,
   "metadata": {},
   "outputs": [
    {
     "name": "stdout",
     "output_type": "stream",
     "text": [
      "Количество узлов: 40000\n",
      "Обход дерева: [0, 1, 2, 3, 4, 5, 6, 7, 8, 9, 10, 11, 12, 13, 14] ...\n"
     ]
    },
    {
     "data": {
      "text/plain": [
       "<TimeitResult : 37.9 ms ± 0 ns per loop (mean ± std. dev. of 1 run, 1 loop each)>"
      ]
     },
     "execution_count": 26,
     "metadata": {},
     "output_type": "execute_result"
    }
   ],
   "source": [
    "%%timeit -r 1 -n 1 -o -q\n",
    "\n",
    "print_tree_info(tree_avl_sorted)"
   ]
  },
  {
   "cell_type": "markdown",
   "metadata": {},
   "source": [
    "#### Поиск отсутствующих чисел"
   ]
  },
  {
   "cell_type": "code",
   "execution_count": 27,
   "metadata": {},
   "outputs": [
    {
     "data": {
      "text/plain": [
       "<TimeitResult : 43.4 ms ± 0 ns per loop (mean ± std. dev. of 1 run, 1 loop each)>"
      ]
     },
     "execution_count": 27,
     "metadata": {},
     "output_type": "execute_result"
    }
   ],
   "source": [
    "%%timeit -r 1 -n 1 -o -q\n",
    "\n",
    "for i in array_miss:\n",
    "    if tree_avl_sorted.has_value(i):\n",
    "        print(f'{i} is in the tree')\n",
    "        break"
   ]
  },
  {
   "cell_type": "markdown",
   "metadata": {},
   "source": [
    "#### Поиск присутствующих чисел"
   ]
  },
  {
   "cell_type": "code",
   "execution_count": 28,
   "metadata": {},
   "outputs": [
    {
     "data": {
      "text/plain": [
       "<TimeitResult : 47.7 ms ± 0 ns per loop (mean ± std. dev. of 1 run, 1 loop each)>"
      ]
     },
     "execution_count": 28,
     "metadata": {},
     "output_type": "execute_result"
    }
   ],
   "source": [
    "%%timeit -r 1 -n 1 -o -q\n",
    "\n",
    "for i in array_part:\n",
    "    if not tree_avl_sorted.has_value(i):\n",
    "        print(f'{i} is not in the tree')\n",
    "        break"
   ]
  },
  {
   "cell_type": "markdown",
   "metadata": {},
   "source": [
    "#### Удаление части имеющихся чисел"
   ]
  },
  {
   "cell_type": "code",
   "execution_count": 29,
   "metadata": {},
   "outputs": [
    {
     "data": {
      "text/plain": [
       "<TimeitResult : 170 ms ± 0 ns per loop (mean ± std. dev. of 1 run, 1 loop each)>"
      ]
     },
     "execution_count": 29,
     "metadata": {},
     "output_type": "execute_result"
    }
   ],
   "source": [
    "%%timeit -r 1 -n 1 -o -q\n",
    "\n",
    "for i in array_part:\n",
    "    tree_avl_sorted.remove(i)"
   ]
  },
  {
   "cell_type": "markdown",
   "metadata": {},
   "source": [
    "#### Обход дерева"
   ]
  },
  {
   "cell_type": "code",
   "execution_count": 30,
   "metadata": {},
   "outputs": [
    {
     "name": "stdout",
     "output_type": "stream",
     "text": [
      "Количество узлов: 32000\n",
      "Обход дерева: [0, 1, 2, 3, 4, 7, 8, 9, 10, 12, 13, 14, 15, 16, 18] ...\n"
     ]
    },
    {
     "data": {
      "text/plain": [
       "<TimeitResult : 41.6 ms ± 0 ns per loop (mean ± std. dev. of 1 run, 1 loop each)>"
      ]
     },
     "execution_count": 30,
     "metadata": {},
     "output_type": "execute_result"
    }
   ],
   "source": [
    "%%timeit -r 1 -n 1 -o -q\n",
    "\n",
    "print_tree_info(tree_avl_sorted)"
   ]
  },
  {
   "cell_type": "markdown",
   "metadata": {},
   "source": [
    "### Тестирование времени работы АВЛ-дерева при добавлении чисел в случайном порядке"
   ]
  },
  {
   "cell_type": "code",
   "execution_count": 31,
   "metadata": {},
   "outputs": [],
   "source": [
    "array_rand, array_miss, array_part = get_test_arrays(40000, perc=0.2)"
   ]
  },
  {
   "cell_type": "code",
   "execution_count": 32,
   "metadata": {},
   "outputs": [],
   "source": [
    "tree_avl_random = TreeAVL()"
   ]
  },
  {
   "cell_type": "markdown",
   "metadata": {},
   "source": [
    "#### Добавление чисел"
   ]
  },
  {
   "cell_type": "code",
   "execution_count": 33,
   "metadata": {},
   "outputs": [
    {
     "data": {
      "text/plain": [
       "<TimeitResult : 855 ms ± 0 ns per loop (mean ± std. dev. of 1 run, 1 loop each)>"
      ]
     },
     "execution_count": 33,
     "metadata": {},
     "output_type": "execute_result"
    }
   ],
   "source": [
    "%%timeit -r 1 -n 1 -o -q\n",
    "\n",
    "for i in array_rand:\n",
    "    tree_avl_random.insert(i)"
   ]
  },
  {
   "cell_type": "markdown",
   "metadata": {},
   "source": [
    "#### Обход дерева"
   ]
  },
  {
   "cell_type": "code",
   "execution_count": 34,
   "metadata": {},
   "outputs": [
    {
     "name": "stdout",
     "output_type": "stream",
     "text": [
      "Количество узлов: 40000\n",
      "Обход дерева: [0, 1, 2, 3, 4, 5, 6, 7, 8, 9, 10, 11, 12, 13, 14] ...\n"
     ]
    },
    {
     "data": {
      "text/plain": [
       "<TimeitResult : 48.9 ms ± 0 ns per loop (mean ± std. dev. of 1 run, 1 loop each)>"
      ]
     },
     "execution_count": 34,
     "metadata": {},
     "output_type": "execute_result"
    }
   ],
   "source": [
    "%%timeit -r 1 -n 1 -o -q\n",
    "\n",
    "print_tree_info(tree_avl_random)"
   ]
  },
  {
   "cell_type": "markdown",
   "metadata": {},
   "source": [
    "#### Поиск отсутствующих чисел"
   ]
  },
  {
   "cell_type": "code",
   "execution_count": 35,
   "metadata": {},
   "outputs": [
    {
     "data": {
      "text/plain": [
       "<TimeitResult : 30.7 ms ± 0 ns per loop (mean ± std. dev. of 1 run, 1 loop each)>"
      ]
     },
     "execution_count": 35,
     "metadata": {},
     "output_type": "execute_result"
    }
   ],
   "source": [
    "%%timeit -r 1 -n 1 -o -q\n",
    "\n",
    "for i in array_miss:\n",
    "    if tree_avl_random.has_value(i):\n",
    "        print(f'{i} is in the tree')\n",
    "        break"
   ]
  },
  {
   "cell_type": "markdown",
   "metadata": {},
   "source": [
    "#### Поиск присутствующих чисел"
   ]
  },
  {
   "cell_type": "code",
   "execution_count": 36,
   "metadata": {},
   "outputs": [
    {
     "data": {
      "text/plain": [
       "<TimeitResult : 46.3 ms ± 0 ns per loop (mean ± std. dev. of 1 run, 1 loop each)>"
      ]
     },
     "execution_count": 36,
     "metadata": {},
     "output_type": "execute_result"
    }
   ],
   "source": [
    "%%timeit -r 1 -n 1 -o -q\n",
    "\n",
    "for i in array_part:\n",
    "    if not tree_avl_random.has_value(i):\n",
    "        print(f'{i} is not in the tree')\n",
    "        break"
   ]
  },
  {
   "cell_type": "markdown",
   "metadata": {},
   "source": [
    "#### Удаление части имеющихся чисел"
   ]
  },
  {
   "cell_type": "code",
   "execution_count": 37,
   "metadata": {},
   "outputs": [
    {
     "data": {
      "text/plain": [
       "<TimeitResult : 233 ms ± 0 ns per loop (mean ± std. dev. of 1 run, 1 loop each)>"
      ]
     },
     "execution_count": 37,
     "metadata": {},
     "output_type": "execute_result"
    }
   ],
   "source": [
    "%%timeit -r 1 -n 1 -o -q\n",
    "\n",
    "for i in array_part:\n",
    "    tree_avl_random.remove(i)"
   ]
  },
  {
   "cell_type": "markdown",
   "metadata": {},
   "source": [
    "#### Обход дерева"
   ]
  },
  {
   "cell_type": "code",
   "execution_count": 38,
   "metadata": {},
   "outputs": [
    {
     "name": "stdout",
     "output_type": "stream",
     "text": [
      "Количество узлов: 32000\n",
      "Обход дерева: [0, 1, 2, 3, 4, 5, 6, 7, 8, 9, 10, 11, 12, 13, 17] ...\n"
     ]
    },
    {
     "data": {
      "text/plain": [
       "<TimeitResult : 39.6 ms ± 0 ns per loop (mean ± std. dev. of 1 run, 1 loop each)>"
      ]
     },
     "execution_count": 38,
     "metadata": {},
     "output_type": "execute_result"
    }
   ],
   "source": [
    "%%timeit -r 1 -n 1 -o -q\n",
    "\n",
    "print_tree_info(tree_avl_random)"
   ]
  },
  {
   "cell_type": "markdown",
   "metadata": {},
   "source": [
    "## 3. Выводы"
   ]
  },
  {
   "cell_type": "markdown",
   "metadata": {},
   "source": [
    "#### Таблица производительности при добавлении и поиске элементов"
   ]
  },
  {
   "cell_type": "markdown",
   "metadata": {},
   "source": [
    "|Тип дерева|Тип массива|Количество элементов|Добавление|Поиск отсутствующих|Поиск присутствующих|\n",
    "|:--------:|---------|--------------|--------------------|------------------|---|\n",
    "|Бинарное|Отсортированный|10000|23.389|8.7|3.675|\n",
    "|Бинарное|Случайный|40000|0.293|0.025|0.044|\n",
    "|АВЛ|Отсортированный|40000|0.849|0.043|0.048|\n",
    "|АВЛ|Случайный|40000|0.855|0.031|0.046|"
   ]
  },
  {
   "cell_type": "markdown",
   "metadata": {},
   "source": [
    "#### Таблица производительности при удалении элементов и обходе дерева"
   ]
  },
  {
   "cell_type": "markdown",
   "metadata": {},
   "source": [
    "|Тип дерева|Тип массива|Количество элементов|Удаление|Обход до удаления|Обход после удаления|\n",
    "|:--------:|---------|--------------|--------------------|------------------|------|\n",
    "|Бинарное|Отсортированный|10000|3.217,|3.18|1.523|\n",
    "|Бинарное|Случайный|40000|4.92|0.058|19.044|\n",
    "|АВЛ|Отсортированный|40000|0.17|0.038|0.042|\n",
    "|АВЛ|Случайный|40000|0.233|0.049|0.04|"
   ]
  },
  {
   "cell_type": "markdown",
   "metadata": {},
   "source": [
    "* Добавление элементов в дерево занимает наибольшее время в случае бинарного дерева и сортированного входного массива: дерево вырождается в связанный список с длиной равной длине входного массива. По этой же причине поиск и удаление элементов максимально по сравнению с другими случаями.\n",
    "* Случайно перемешанный входной массив позволяет быстро добавлять и искать элементы в обычном бинарное дерево. Удаление элементов и операции, производимые после этого, уже занимают больше времени по сравнению с АВЛ-деревом. Из-за того, что при удалении не происходит балансировки, структура дерева препятствует эффективному выполнению операций.\n",
    "* В случае АВЛ-дерева наличие или отсутствие сортировки входного массива не влияет на совершаемые операции - балансировка позволяет выстроить эффективную структуру дерева."
   ]
  },
  {
   "cell_type": "code",
   "execution_count": null,
   "metadata": {},
   "outputs": [],
   "source": [
    "collect_results()"
   ]
  },
  {
   "cell_type": "code",
   "execution_count": 43,
   "metadata": {},
   "outputs": [
    {
     "name": "stdout",
     "output_type": "stream",
     "text": [
      "[23.389, 3.18, 8.7, 3.675, 3.217, 1.523]\n",
      "[0.293, 0.058, 0.025, 0.044, 4.92, 19.044]\n",
      "[0.849, 0.038, 0.043, 0.048, 0.17, 0.042]\n",
      "[0.855, 0.049, 0.031, 0.046, 0.233, 0.04]\n"
     ]
    }
   ],
   "source": [
    "for i in range(4):\n",
    "    print(RESULTS[i*6:6*(i+1)])"
   ]
  }
 ],
 "metadata": {
  "kernelspec": {
   "display_name": "Python 3",
   "language": "python",
   "name": "python3"
  },
  "language_info": {
   "codemirror_mode": {
    "name": "ipython",
    "version": 3
   },
   "file_extension": ".py",
   "mimetype": "text/x-python",
   "name": "python",
   "nbconvert_exporter": "python",
   "pygments_lexer": "ipython3",
   "version": "3.6.9"
  }
 },
 "nbformat": 4,
 "nbformat_minor": 2
}
