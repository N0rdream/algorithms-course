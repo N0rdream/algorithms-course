{
 "cells": [
  {
   "cell_type": "markdown",
   "metadata": {},
   "source": [
    "# Поиск компонентов сильной связности в графе, алгоритм Косарайю "
   ]
  },
  {
   "cell_type": "code",
   "execution_count": 1,
   "metadata": {},
   "outputs": [],
   "source": [
    "import random\n",
    "import networkx as nx\n",
    "import matplotlib.pyplot as plt"
   ]
  },
  {
   "cell_type": "markdown",
   "metadata": {},
   "source": [
    "## 1. Реализация через представление графа в виде векторов смежности"
   ]
  },
  {
   "cell_type": "markdown",
   "metadata": {},
   "source": [
    "### Дополнительные структуры данных"
   ]
  },
  {
   "cell_type": "code",
   "execution_count": 2,
   "metadata": {},
   "outputs": [],
   "source": [
    "class MyQueue:\n",
    "    \n",
    "    def __init__(self):\n",
    "        self.queue = []\n",
    "        \n",
    "    def put(self, element):\n",
    "        self.queue.append(element)\n",
    "        \n",
    "    def get(self):\n",
    "        if not self.is_empty():\n",
    "            return self.queue.pop(0)\n",
    "        else:\n",
    "            raise KeyError\n",
    "            \n",
    "    def is_empty(self):\n",
    "        return not self.queue\n",
    "        \n",
    "    def is_in_queue(self, element):\n",
    "        return element in self.queue\n",
    "    \n",
    "    \n",
    "class MyDeque(MyQueue):\n",
    "    \n",
    "    def pop_left(self):\n",
    "        super().get()\n",
    "        \n",
    "    def pop_right(self):\n",
    "        if not self.is_empty():\n",
    "            return self.queue.pop(-1)\n",
    "        else:\n",
    "            raise KeyError"
   ]
  },
  {
   "cell_type": "markdown",
   "metadata": {},
   "source": [
    "### Алгоритм Косарайю"
   ]
  },
  {
   "cell_type": "markdown",
   "metadata": {},
   "source": [
    "- возвращает массив, где в ячейке с индексом номера вершины находится номер группы компонентов сильной связности, в которую данная вершина входит"
   ]
  },
  {
   "cell_type": "code",
   "execution_count": 3,
   "metadata": {},
   "outputs": [],
   "source": [
    "def inverted_adjacency_vectors(vectors):\n",
    "    vectors_inverted = [[] for i in range (len(vectors))]\n",
    "    for node_src, edges in enumerate(vectors):\n",
    "        for node_dest in edges:\n",
    "            if node_dest is not None:\n",
    "                vectors_inverted[node_dest].append(node_src)\n",
    "            else:\n",
    "                break\n",
    "    return vectors_inverted\n",
    "\n",
    "\n",
    "def DFS_Kosaraju_inverted_adjacency_vectors(graph, node, processed, deque):\n",
    "    processed.add(node)\n",
    "    for node_dest in graph[node]:\n",
    "        if node_dest not in processed:\n",
    "            DFS_Kosaraju_inverted_adjacency_vectors(graph, node_dest, processed, deque)\n",
    "    if not deque.is_in_queue(node):\n",
    "        deque.put(node)\n",
    "        \n",
    "\n",
    "def DFS_Kosaraju_adjacency_vectors(graph, node, component_index, result):\n",
    "    result[node] = component_index\n",
    "    for node_dest in graph[node]:\n",
    "        if result[node_dest] is None:\n",
    "            DFS_Kosaraju_adjacency_vectors(graph, node_dest, component_index, result)\n",
    "            \n",
    "\n",
    "def Kosaraju_adjacency_vectors(graph):\n",
    "    inverted_graph = inverted_adjacency_vectors(graph)\n",
    "    processed = set()\n",
    "    deque = MyDeque()\n",
    "    for node in range(len(inverted_graph)):\n",
    "        if node not in processed:\n",
    "            DFS_Kosaraju_inverted_adjacency_vectors(inverted_graph, node, processed, deque)  \n",
    "    result = [None for i in range(len(graph))]\n",
    "    component_index = 1\n",
    "    while not deque.is_empty():\n",
    "        node = deque.pop_right()\n",
    "        if result[node] is None:\n",
    "            DFS_Kosaraju_adjacency_vectors(graph, node, component_index, result)\n",
    "            component_index += 1\n",
    "    return result"
   ]
  },
  {
   "cell_type": "markdown",
   "metadata": {},
   "source": [
    "## 2. Реализация через представление графа в виде класса"
   ]
  },
  {
   "cell_type": "markdown",
   "metadata": {},
   "source": [
    "### Реализация графа через класс"
   ]
  },
  {
   "cell_type": "code",
   "execution_count": 28,
   "metadata": {},
   "outputs": [],
   "source": [
    "class Node:\n",
    "    \n",
    "    def __init__(self, label):\n",
    "        self.label = label\n",
    "        self.edges = []\n",
    "        \n",
    "    def add_edge(self, node, weight):\n",
    "        if not self.edges:\n",
    "            self.edges.append(Edge(node, weight))\n",
    "        else:\n",
    "            for edge in self.edges:\n",
    "                if edge.node == node:\n",
    "                    raise ValueError(f'Edge \"{self.label}-->{node.label}\" already exists.')\n",
    "            self.edges.append(Edge(node, weight))\n",
    "            self.edges.sort(key=lambda edge: edge.node.label)\n",
    "\n",
    "    def get_edges(self):\n",
    "        return self.edges\n",
    "    \n",
    "    def __str__(self):\n",
    "        res = []\n",
    "        for edge in self.edges:\n",
    "            res.append(f'{self.label}-->{edge.node.label}({edge.weight})')\n",
    "        return(', '.join(res))\n",
    "    \n",
    "    \n",
    "class Edge:\n",
    "    \n",
    "    def __init__(self, node, weight):\n",
    "        self.node = node\n",
    "        self.weight = weight\n",
    "        \n",
    "        \n",
    "class Graph:\n",
    "    \n",
    "    def __init__(self):\n",
    "        self.nodes = {}\n",
    "        \n",
    "    def add_node(self, label):\n",
    "        if label not in self.nodes:\n",
    "            self.nodes[label] = Node(label)\n",
    "        else:\n",
    "            raise ValueError(f'Node {node.label} is already in graph.')\n",
    "            \n",
    "    def get_nodes(self):\n",
    "        return self.nodes\n",
    "    \n",
    "    def get_node(self, label):\n",
    "        return self.nodes[label]\n",
    "    \n",
    "    @classmethod\n",
    "    def from_adjacency_vectors(cls, vectors):\n",
    "        instance = cls()\n",
    "        labels = [i for i in range(len(vectors))]\n",
    "        for label in labels:\n",
    "            instance.add_node(label)\n",
    "        for label_src, row in zip(labels, vectors):\n",
    "            for label_dest in row:\n",
    "                if label_dest is not None:\n",
    "                    instance.get_node(label_src).add_edge(instance.get_node(label_dest), 0)\n",
    "                else:\n",
    "                    break\n",
    "        return instance\n",
    "    \n",
    "    def __str__(self):\n",
    "        res = []\n",
    "        for k, node in self.nodes.items():\n",
    "            res.append(str(node))\n",
    "        return '\\n'.join(res)\n",
    "    \n",
    "    @classmethod\n",
    "    def inverted(cls, graph):\n",
    "        self_inverted = cls()\n",
    "        for label in graph.nodes:\n",
    "            self_inverted.add_node(label)\n",
    "        for _, node_src in graph.nodes.items():\n",
    "            for edge in node_src.edges:\n",
    "                self_inverted.nodes[edge.node.label].add_edge(self_inverted.get_node(node_src.label), edge.weight)\n",
    "        return self_inverted"
   ]
  },
  {
   "cell_type": "markdown",
   "metadata": {},
   "source": [
    "### Алгоритм Косарайю"
   ]
  },
  {
   "cell_type": "markdown",
   "metadata": {},
   "source": [
    "- генерирует массивы с компонентами сильной связности"
   ]
  },
  {
   "cell_type": "code",
   "execution_count": 29,
   "metadata": {},
   "outputs": [],
   "source": [
    "def DFS_Kosaraju_inverted(node, processed, deque):\n",
    "    processed.add(node.label)\n",
    "    for edge in node.edges:\n",
    "        if edge.node.label not in processed:\n",
    "            DFS_Kosaraju_inverted(edge.node, processed, deque)\n",
    "    if not deque.is_in_queue(node.label):\n",
    "        deque.put(node.label)\n",
    "\n",
    "        \n",
    "def DFS_Kosaraju(node, components, processed):\n",
    "    processed.add(node.label)\n",
    "    components.append(node.label)\n",
    "    for edge in node.edges:\n",
    "        if edge.node.label not in components and edge.node.label not in processed:\n",
    "            DFS_Kosaraju(edge.node, components, processed)\n",
    "\n",
    "            \n",
    "def Kosaraju(G):\n",
    "    processed = set()\n",
    "    deque = MyDeque()\n",
    "    H = Graph.inverted(G)\n",
    "    for label, node in H.nodes.items():\n",
    "        if label not in processed:\n",
    "            DFS_Kosaraju_inverted(node, processed, deque)\n",
    "    processed = set()\n",
    "    while not deque.is_empty():\n",
    "        node = G.get_node(deque.pop_right())\n",
    "        if node.label not in processed:\n",
    "            processed.add(node.label)\n",
    "            components = []\n",
    "            DFS_Kosaraju(node, components, processed)\n",
    "            yield components"
   ]
  },
  {
   "cell_type": "markdown",
   "metadata": {},
   "source": [
    "## 3. Проверка корректности работы реализаций алгоритма"
   ]
  },
  {
   "cell_type": "markdown",
   "metadata": {},
   "source": [
    "### На примере графа из слайдов к лекции"
   ]
  },
  {
   "cell_type": "code",
   "execution_count": 30,
   "metadata": {},
   "outputs": [],
   "source": [
    "# для перевода массива с номерами компонентов в массив массивов с компонентами\n",
    "def to_list_of_lists(array):\n",
    "    result = [[] for i in range(max(array))]\n",
    "    for node in range(len(array)):\n",
    "        result[array[node]-1].append(node)\n",
    "    return sorted(result) "
   ]
  },
  {
   "cell_type": "code",
   "execution_count": 31,
   "metadata": {},
   "outputs": [],
   "source": [
    "vectors = [\n",
    "    [1],        # 0 - A\n",
    "    [5, 2, 4],  # 1 - B\n",
    "    [6, 3],     # 2 - C\n",
    "    [2, 7],     # 3 - D\n",
    "    [0, 5],     # 4 - E\n",
    "    [6],        # 5 - F\n",
    "    [5],        # 6 - G\n",
    "    [6, 3],     # 7 - H\n",
    "]"
   ]
  },
  {
   "cell_type": "markdown",
   "metadata": {},
   "source": [
    "#### Готовая библиотека NetworkX"
   ]
  },
  {
   "cell_type": "code",
   "execution_count": 32,
   "metadata": {},
   "outputs": [],
   "source": [
    "G = nx.DiGraph()\n",
    "for node_src, nodes_dest in enumerate(vectors):\n",
    "    for node_dest in nodes_dest:\n",
    "        G.add_edge(node_src, node_dest)"
   ]
  },
  {
   "cell_type": "code",
   "execution_count": 33,
   "metadata": {},
   "outputs": [
    {
     "data": {
      "image/png": "[encoded data removed]",
      "text/plain": [
       "<Figure size 432x288 with 1 Axes>"
      ]
     },
     "metadata": {},
     "output_type": "display_data"
    }
   ],
   "source": [
    "nx.draw(G, with_labels=True)\n",
    "plt.show()"
   ]
  },
  {
   "cell_type": "code",
   "execution_count": 34,
   "metadata": {},
   "outputs": [
    {
     "name": "stdout",
     "output_type": "stream",
     "text": [
      "[[0, 1, 4], [2, 3, 7], [5, 6]]\n"
     ]
    }
   ],
   "source": [
    "result_nx = nx.algorithms.components.kosaraju_strongly_connected_components(G)\n",
    "result_nx = sorted([sorted(list(element)) for element in result_nx])\n",
    "print(result_nx)"
   ]
  },
  {
   "cell_type": "markdown",
   "metadata": {},
   "source": [
    "#### Векторы смежности"
   ]
  },
  {
   "cell_type": "code",
   "execution_count": 35,
   "metadata": {},
   "outputs": [
    {
     "name": "stdout",
     "output_type": "stream",
     "text": [
      "[[0, 1, 4], [2, 3, 7], [5, 6]]\n"
     ]
    }
   ],
   "source": [
    "result_adjacency_vectors = Kosaraju_adjacency_vectors(vectors)\n",
    "result_adjacency_vectors = to_list_of_lists(result_adjacency_vectors)\n",
    "print(result_adjacency_vectors)"
   ]
  },
  {
   "cell_type": "markdown",
   "metadata": {},
   "source": [
    "#### Класс"
   ]
  },
  {
   "cell_type": "code",
   "execution_count": 36,
   "metadata": {},
   "outputs": [
    {
     "name": "stdout",
     "output_type": "stream",
     "text": [
      "[[0, 1, 4], [2, 3, 7], [5, 6]]\n"
     ]
    }
   ],
   "source": [
    "G = Graph.from_adjacency_vectors(vectors)\n",
    "result_class = Kosaraju(G)\n",
    "result_class = sorted([sorted(element) for element in result_class])\n",
    "print(result_class)"
   ]
  },
  {
   "cell_type": "markdown",
   "metadata": {},
   "source": [
    "### На примере случайно сгенерированного графа"
   ]
  },
  {
   "cell_type": "code",
   "execution_count": 37,
   "metadata": {},
   "outputs": [],
   "source": [
    "def generate_adjacency_vectors(N, max_degree):\n",
    "    vectors = []\n",
    "    for i in range(N):\n",
    "        nodes = []\n",
    "        available_nodes = [x for x in range(N) if x != i]\n",
    "        for j in range(random.randint(0, max_degree)):\n",
    "            node = available_nodes.pop(random.randint(0, len(available_nodes)-1))\n",
    "            nodes.append(node)\n",
    "        vectors.append(nodes)\n",
    "    return vectors"
   ]
  },
  {
   "cell_type": "code",
   "execution_count": 38,
   "metadata": {},
   "outputs": [],
   "source": [
    "vectors = generate_adjacency_vectors(1000, 4)"
   ]
  },
  {
   "cell_type": "markdown",
   "metadata": {},
   "source": [
    "#### Готовая библиотека NetworkX"
   ]
  },
  {
   "cell_type": "code",
   "execution_count": 39,
   "metadata": {},
   "outputs": [],
   "source": [
    "G = nx.DiGraph()\n",
    "for node_src, nodes_dest in enumerate(vectors):\n",
    "    G.add_node(node_src)\n",
    "    for node_dest in nodes_dest:\n",
    "        G.add_edge(node_src, node_dest)"
   ]
  },
  {
   "cell_type": "code",
   "execution_count": 40,
   "metadata": {},
   "outputs": [],
   "source": [
    "result_nx = nx.algorithms.components.kosaraju_strongly_connected_components(G)\n",
    "result_nx = sorted([sorted(list(element)) for element in result_nx])"
   ]
  },
  {
   "cell_type": "code",
   "execution_count": 41,
   "metadata": {},
   "outputs": [
    {
     "data": {
      "text/plain": [
       "[564]"
      ]
     },
     "execution_count": 41,
     "metadata": {},
     "output_type": "execute_result"
    }
   ],
   "source": [
    "[len(group) for group in result_nx if len(group) > 1]"
   ]
  },
  {
   "cell_type": "markdown",
   "metadata": {},
   "source": [
    "#### Векторы смежности"
   ]
  },
  {
   "cell_type": "code",
   "execution_count": 42,
   "metadata": {},
   "outputs": [
    {
     "name": "stdout",
     "output_type": "stream",
     "text": [
      "True\n"
     ]
    }
   ],
   "source": [
    "result_adjacency_vectors = Kosaraju_adjacency_vectors(vectors)\n",
    "result_adjacency_vectors = to_list_of_lists(result_adjacency_vectors)\n",
    "print(result_adjacency_vectors == result_nx)"
   ]
  },
  {
   "cell_type": "markdown",
   "metadata": {},
   "source": [
    "#### Класс"
   ]
  },
  {
   "cell_type": "code",
   "execution_count": 43,
   "metadata": {},
   "outputs": [
    {
     "name": "stdout",
     "output_type": "stream",
     "text": [
      "True\n"
     ]
    }
   ],
   "source": [
    "G = Graph.from_adjacency_vectors(vectors)\n",
    "result_class = Kosaraju(G)\n",
    "result_class = sorted([sorted(element) for element in result_class])\n",
    "print(result_class == result_nx)"
   ]
  },
  {
   "cell_type": "markdown",
   "metadata": {},
   "source": [
    "### 4. Сравнение времени выполнения алгоритма"
   ]
  },
  {
   "cell_type": "code",
   "execution_count": 44,
   "metadata": {},
   "outputs": [],
   "source": [
    "N = 3000\n",
    "max_degree = 50"
   ]
  },
  {
   "cell_type": "markdown",
   "metadata": {},
   "source": [
    "#### Векторы смежности"
   ]
  },
  {
   "cell_type": "code",
   "execution_count": 45,
   "metadata": {},
   "outputs": [
    {
     "data": {
      "text/plain": [
       "<TimeitResult : 486 ms ± 4.57 ms per loop (mean ± std. dev. of 3 runs, 3 loops each)>"
      ]
     },
     "execution_count": 45,
     "metadata": {},
     "output_type": "execute_result"
    }
   ],
   "source": [
    "%%timeit -r 3 -n 3 -o -q\n",
    "vectors = generate_adjacency_vectors(N, max_degree)\n",
    "result_adjacency_vectors = Kosaraju_adjacency_vectors(vectors)\n",
    "result_adjacency_vectors = to_list_of_lists(result_adjacency_vectors)"
   ]
  },
  {
   "cell_type": "markdown",
   "metadata": {},
   "source": [
    "#### Класс"
   ]
  },
  {
   "cell_type": "code",
   "execution_count": 50,
   "metadata": {},
   "outputs": [
    {
     "data": {
      "text/plain": [
       "<TimeitResult : 2.02 s ± 34.6 ms per loop (mean ± std. dev. of 3 runs, 3 loops each)>"
      ]
     },
     "execution_count": 50,
     "metadata": {},
     "output_type": "execute_result"
    }
   ],
   "source": [
    "%%timeit -r 3 -n 3 -o -q\n",
    "vectors = generate_adjacency_vectors(N, max_degree)\n",
    "G = Graph.from_adjacency_vectors(vectors)\n",
    "result_class = list(Kosaraju(G))\n",
    "result_class = sorted([sorted(element) for element in result_class])"
   ]
  },
  {
   "cell_type": "markdown",
   "metadata": {},
   "source": [
    "#### Готовая библиотека NetworkX"
   ]
  },
  {
   "cell_type": "code",
   "execution_count": 47,
   "metadata": {},
   "outputs": [
    {
     "data": {
      "text/plain": [
       "<TimeitResult : 557 ms ± 2.59 ms per loop (mean ± std. dev. of 3 runs, 3 loops each)>"
      ]
     },
     "execution_count": 47,
     "metadata": {},
     "output_type": "execute_result"
    }
   ],
   "source": [
    "%%timeit -r 3 -n 3 -o -q\n",
    "vectors = generate_adjacency_vectors(N, max_degree)\n",
    "G = nx.DiGraph()\n",
    "for node_src, nodes_dest in enumerate(vectors):\n",
    "    G.add_node(node_src)\n",
    "    for node_dest in nodes_dest:\n",
    "        G.add_edge(node_src, node_dest)\n",
    "result_nx = nx.algorithms.components.kosaraju_strongly_connected_components(G)\n",
    "result_nx = sorted([sorted(list(element)) for element in result_nx])"
   ]
  },
  {
   "cell_type": "code",
   "execution_count": null,
   "metadata": {},
   "outputs": [],
   "source": []
  },
  {
   "cell_type": "code",
   "execution_count": null,
   "metadata": {},
   "outputs": [],
   "source": []
  }
 ],
 "metadata": {
  "kernelspec": {
   "display_name": "Python 3",
   "language": "python",
   "name": "python3"
  },
  "language_info": {
   "codemirror_mode": {
    "name": "ipython",
    "version": 3
   },
   "file_extension": ".py",
   "mimetype": "text/x-python",
   "name": "python",
   "nbconvert_exporter": "python",
   "pygments_lexer": "ipython3",
   "version": "3.6.9"
  }
 },
 "nbformat": 4,
 "nbformat_minor": 4
}
