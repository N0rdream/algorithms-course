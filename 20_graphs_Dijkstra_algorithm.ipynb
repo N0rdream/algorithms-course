{
 "cells": [
  {
   "cell_type": "markdown",
   "metadata": {},
   "source": [
    "# Графы. Алгоритм Дейкстры"
   ]
  },
  {
   "cell_type": "code",
   "execution_count": 1,
   "metadata": {},
   "outputs": [],
   "source": [
    "import random\n",
    "import networkx as nx\n",
    "import matplotlib.pyplot as plt\n",
    "from collections import namedtuple\n",
    "import math"
   ]
  },
  {
   "cell_type": "markdown",
   "metadata": {},
   "source": [
    "## 1. Реализация"
   ]
  },
  {
   "cell_type": "markdown",
   "metadata": {},
   "source": [
    "### Через векторы смежности и матрицу весов"
   ]
  },
  {
   "cell_type": "code",
   "execution_count": 2,
   "metadata": {},
   "outputs": [],
   "source": [
    "def get_shortest_path_Dijsktra(vectors, weights, node_s, node_d):\n",
    "    processed = set()\n",
    "    shortest_distances = {i: math.inf for i in range(len(vectors))}\n",
    "    previous_nodes = {i: None for i in range(len(vectors))}\n",
    "    shortest_distances[node_s] = 0\n",
    "    while len(processed) < len(vectors):\n",
    "        current_node = sorted([(dist, node) for node, dist in shortest_distances.items() if node not in processed])[0][1]\n",
    "        if current_node == node_d:\n",
    "            break\n",
    "        processed.add(current_node)\n",
    "        for node_adj, weight in zip(vectors[current_node], weights[current_node]):\n",
    "            if node_adj in processed:\n",
    "                continue\n",
    "            distance_to_adjacent_node = shortest_distances[current_node] + weight\n",
    "            if distance_to_adjacent_node < shortest_distances[node_adj]:\n",
    "                shortest_distances[node_adj] = distance_to_adjacent_node\n",
    "                previous_nodes[node_adj] = current_node\n",
    "    shortest_path = [node_d]\n",
    "    previous_node = previous_nodes[node_d]\n",
    "    while previous_node is not None:\n",
    "        shortest_path.append(previous_node)\n",
    "        previous_node = previous_nodes[previous_node]\n",
    "    return list(reversed(shortest_path))"
   ]
  },
  {
   "cell_type": "markdown",
   "metadata": {},
   "source": [
    "### C пояснениями на примере графа из лекции"
   ]
  },
  {
   "cell_type": "code",
   "execution_count": 3,
   "metadata": {},
   "outputs": [],
   "source": [
    "Edge = namedtuple('Edge', ['node_d', 'weight'])\n",
    "\n",
    "graph = {\n",
    "    'A': [Edge('B', 2), Edge('C', 3), Edge('D', 6)],\n",
    "    'B': [Edge('A', 2), Edge('C', 4), Edge('E', 9)],\n",
    "    'C': [Edge('A', 3), Edge('B', 4), Edge('D', 1), Edge('E', 7), Edge('F', 6)],\n",
    "    'D': [Edge('A', 6), Edge('C', 1), Edge('F', 4)],\n",
    "    'E': [Edge('B', 9), Edge('C', 7), Edge('F', 1), Edge('G', 5)],\n",
    "    'F': [Edge('C', 6), Edge('D', 4), Edge('E', 1), Edge('G', 8)],\n",
    "    'G': [Edge('E', 5), Edge('F', 8)],\n",
    "}"
   ]
  },
  {
   "cell_type": "code",
   "execution_count": 4,
   "metadata": {},
   "outputs": [
    {
     "name": "stdout",
     "output_type": "stream",
     "text": [
      "Current node: A\n",
      "Adjacent_node: B\n",
      "Adjacent_node: C\n",
      "Adjacent_node: D\n",
      "shortest_distances {'A': 0, 'B': 2, 'C': 3, 'D': 6, 'E': inf, 'F': inf, 'G': inf}\n",
      "previous_nodes {'A': None, 'B': 'A', 'C': 'A', 'D': 'A', 'E': None, 'F': None, 'G': None}\n",
      "\n",
      "Current node: B\n",
      "Adjacent_node: C\n",
      "Adjacent_node: E\n",
      "shortest_distances {'A': 0, 'B': 2, 'C': 3, 'D': 6, 'E': 11, 'F': inf, 'G': inf}\n",
      "previous_nodes {'A': None, 'B': 'A', 'C': 'A', 'D': 'A', 'E': 'B', 'F': None, 'G': None}\n",
      "\n",
      "Current node: C\n",
      "Adjacent_node: D\n",
      "Adjacent_node: E\n",
      "Adjacent_node: F\n",
      "shortest_distances {'A': 0, 'B': 2, 'C': 3, 'D': 4, 'E': 10, 'F': 9, 'G': inf}\n",
      "previous_nodes {'A': None, 'B': 'A', 'C': 'A', 'D': 'C', 'E': 'C', 'F': 'C', 'G': None}\n",
      "\n",
      "Current node: D\n",
      "Adjacent_node: F\n",
      "shortest_distances {'A': 0, 'B': 2, 'C': 3, 'D': 4, 'E': 10, 'F': 8, 'G': inf}\n",
      "previous_nodes {'A': None, 'B': 'A', 'C': 'A', 'D': 'C', 'E': 'C', 'F': 'D', 'G': None}\n",
      "\n",
      "Current node: F\n",
      "Adjacent_node: E\n",
      "Adjacent_node: G\n",
      "shortest_distances {'A': 0, 'B': 2, 'C': 3, 'D': 4, 'E': 9, 'F': 8, 'G': 16}\n",
      "previous_nodes {'A': None, 'B': 'A', 'C': 'A', 'D': 'C', 'E': 'F', 'F': 'D', 'G': 'F'}\n",
      "\n",
      "Current node: E\n",
      "Adjacent_node: G\n",
      "shortest_distances {'A': 0, 'B': 2, 'C': 3, 'D': 4, 'E': 9, 'F': 8, 'G': 14}\n",
      "previous_nodes {'A': None, 'B': 'A', 'C': 'A', 'D': 'C', 'E': 'F', 'F': 'D', 'G': 'E'}\n",
      "\n",
      "Current node: G\n",
      "shortest_distances {'A': 0, 'B': 2, 'C': 3, 'D': 4, 'E': 9, 'F': 8, 'G': 14}\n",
      "previous_nodes {'A': None, 'B': 'A', 'C': 'A', 'D': 'C', 'E': 'F', 'F': 'D', 'G': 'E'}\n",
      "\n"
     ]
    }
   ],
   "source": [
    "# множество обработанных элементов\n",
    "processed = set()\n",
    "# для каждой вершины будем сохранять длину кратчайшего пути до нее\n",
    "# установим все длины равными бесконечности\n",
    "shortest_distances = {node: math.inf for node in graph}\n",
    "previous_nodes = {node: None for node in graph}\n",
    "\n",
    "# выбираем начальную вершину графа\n",
    "initial_node = 'A'\n",
    "# определяем вершины, до которых необходимо проложить кратчайший путь\n",
    "final_nodes = ['G']\n",
    "# устанавливаем длину пройденного пути до выбранной вершины равным нулю\n",
    "shortest_distances[initial_node] = 0\n",
    "\n",
    "# пока обработаны не все вершины графа\n",
    "while len(processed) < len(graph):\n",
    "    # выберем еще не обработанную вершину графа с минимальной длиной пути до нее\n",
    "    current_node = sorted([(dist, node) for node, dist in shortest_distances.items() if node not in processed])[0][1]\n",
    "    # пометим текущую вершину как обработанную\n",
    "    processed.add(current_node)\n",
    "    print('Current node:', current_node)\n",
    "    # переберем ребра инцидентные текущей вершине\n",
    "    for edge in graph[current_node]:\n",
    "        # если смежная вершина уже была обработана, переходим к следующему ребру\n",
    "        if edge.node_d in processed:\n",
    "            continue\n",
    "        print('Adjacent_node:', edge.node_d)\n",
    "        # иначе вычислим длину пути от текущей вершины до выбранной смежной,\n",
    "        # складывая длину пути до текущей вершины с весом соответствующего ребра\n",
    "        distance_to_adjacent_node = shortest_distances[current_node] + edge.weight\n",
    "        #print('shortest_distances[current_node]', shortest_distances[current_node])\n",
    "        #print(distance_to_adjacent_node)\n",
    "        # если вычисленная длина меньше текущей длины пути до смежной вершины,\n",
    "        # мы нашли более короткий путь поэтому\n",
    "        if distance_to_adjacent_node < shortest_distances[edge.node_d]:\n",
    "            # сохраним вычисленную длину пути до выбранной смежной вершины\n",
    "            shortest_distances[edge.node_d] = distance_to_adjacent_node\n",
    "            # сохраним текущую вершину для выбранной смежной, как вершину,\n",
    "            # по которой можно добраться до смежной крайтчайшим путем\n",
    "            previous_nodes[edge.node_d] = current_node\n",
    "    print('shortest_distances', shortest_distances)\n",
    "    print('previous_nodes', previous_nodes)\n",
    "    print()"
   ]
  },
  {
   "cell_type": "code",
   "execution_count": 5,
   "metadata": {},
   "outputs": [
    {
     "name": "stdout",
     "output_type": "stream",
     "text": [
      "Shortest path from A to G ['A', 'C', 'D', 'F', 'E', 'G']\n"
     ]
    }
   ],
   "source": [
    "for final_node in final_nodes:\n",
    "    shortest_path = []\n",
    "    shortest_path.append(final_node)\n",
    "    previous_node = previous_nodes[final_node]\n",
    "    while previous_node is not None:\n",
    "        shortest_path.append(previous_node)\n",
    "        previous_node = previous_nodes[previous_node]\n",
    "    print(f'Shortest path from {initial_node} to {final_node}', list(reversed(shortest_path)))"
   ]
  },
  {
   "cell_type": "markdown",
   "metadata": {},
   "source": [
    "## 2. Проверка корректности работы"
   ]
  },
  {
   "cell_type": "markdown",
   "metadata": {},
   "source": [
    "### На примере графа из лекции"
   ]
  },
  {
   "cell_type": "code",
   "execution_count": 6,
   "metadata": {},
   "outputs": [],
   "source": [
    "adjacency_vectors = [\n",
    "    [1, 2, 3],\n",
    "    [0, 2, 4],\n",
    "    [0, 1, 3, 4, 5],\n",
    "    [0, 2, 5],\n",
    "    [1, 2, 5, 6],\n",
    "    [2, 3, 4, 6],\n",
    "    [4, 5],\n",
    "]\n",
    "\n",
    "weights = [\n",
    "    [2, 3, 6],\n",
    "    [2, 4, 9],\n",
    "    [3, 4, 1, 7, 6],\n",
    "    [6, 1, 4],\n",
    "    [9, 7, 1, 5],\n",
    "    [6, 4, 1, 8],\n",
    "    [5, 8],\n",
    "]"
   ]
  },
  {
   "cell_type": "markdown",
   "metadata": {},
   "source": [
    "#### Готовая библиотека NetworkX"
   ]
  },
  {
   "cell_type": "code",
   "execution_count": 7,
   "metadata": {},
   "outputs": [],
   "source": [
    "G = nx.Graph()\n",
    "for node_src in range(len(adjacency_vectors)):\n",
    "    for node_dest, weight in zip(adjacency_vectors[node_src], weights[node_src]):\n",
    "        G.add_edge(node_src, node_dest, weight=weight)"
   ]
  },
  {
   "cell_type": "code",
   "execution_count": 8,
   "metadata": {},
   "outputs": [
    {
     "data": {
      "image/png": "[encoded data removed]",
      "text/plain": [
       "<Figure size 432x288 with 1 Axes>"
      ]
     },
     "metadata": {},
     "output_type": "display_data"
    }
   ],
   "source": [
    "nx.draw(G, with_labels=True)\n",
    "plt.show()"
   ]
  },
  {
   "cell_type": "code",
   "execution_count": 9,
   "metadata": {},
   "outputs": [
    {
     "name": "stdout",
     "output_type": "stream",
     "text": [
      "[0, 2, 3, 5, 4, 6]\n"
     ]
    }
   ],
   "source": [
    "shortest_path_nx = nx.algorithms.shortest_paths.weighted.dijkstra_path(G, 0, 6)\n",
    "print(shortest_path_nx)"
   ]
  },
  {
   "cell_type": "markdown",
   "metadata": {},
   "source": [
    "#### Векторы смежности"
   ]
  },
  {
   "cell_type": "code",
   "execution_count": 10,
   "metadata": {},
   "outputs": [
    {
     "name": "stdout",
     "output_type": "stream",
     "text": [
      "[0, 2, 3, 5, 4, 6]\n",
      "True\n"
     ]
    }
   ],
   "source": [
    "shortest_path_vectors = get_shortest_path_Dijsktra(adjacency_vectors, weights, 0, 6)\n",
    "print(shortest_path_vectors)\n",
    "print(shortest_path_vectors == shortest_path_nx)"
   ]
  },
  {
   "cell_type": "markdown",
   "metadata": {},
   "source": [
    "### На примере случайного графа"
   ]
  },
  {
   "cell_type": "code",
   "execution_count": 41,
   "metadata": {},
   "outputs": [],
   "source": [
    "def generate_undirected_weighted_graph_adjacency_matrix(N, min_degree, max_degree, max_weight):\n",
    "    matrix = [[0 for i in range(N)] for i in range(N)]\n",
    "    for node_s in range(N):\n",
    "        nodes_d = [x for x in range(N) if x != node_s]\n",
    "        for j in range(random.randint(min_degree, max_degree)):\n",
    "            node_d = nodes_d.pop(random.randint(0, len(nodes_d)-1))\n",
    "            if not matrix[node_s][node_d]:\n",
    "                weight = random.randint(1, max_weight)\n",
    "                matrix[node_s][node_d] = weight\n",
    "                matrix[node_d][node_s] = weight\n",
    "    return matrix\n",
    "\n",
    "def transform_adj_matrix_into_adj_vectors(matrix):\n",
    "    vectors = [[] for i in range(len(matrix))]\n",
    "    weights = [[] for i in range(len(matrix))]\n",
    "    for node_s, row in enumerate(adjacency_matrix):\n",
    "        for node_d, weight in enumerate(row):\n",
    "            if weight:\n",
    "                vectors[node_s].append(node_d)\n",
    "                weights[node_s].append(weight)\n",
    "    return vectors, weights"
   ]
  },
  {
   "cell_type": "code",
   "execution_count": 42,
   "metadata": {},
   "outputs": [],
   "source": [
    "N = 20\n",
    "min_degree = 2\n",
    "max_degree = 3\n",
    "max_weight = 9"
   ]
  },
  {
   "cell_type": "code",
   "execution_count": 43,
   "metadata": {},
   "outputs": [],
   "source": [
    "adjacency_matrix = generate_undirected_weighted_graph_adjacency_matrix(N, min_degree, max_degree, max_weight)\n",
    "adjacency_vectors, weights = transform_adj_matrix_into_adj_vectors(adjacency_matrix)"
   ]
  },
  {
   "cell_type": "markdown",
   "metadata": {},
   "source": [
    "#### Готовая библиотека NetworkX"
   ]
  },
  {
   "cell_type": "code",
   "execution_count": 44,
   "metadata": {},
   "outputs": [],
   "source": [
    "G = nx.Graph()\n",
    "for node_src in range(len(adjacency_vectors)):\n",
    "    for node_dest, weight in zip(adjacency_vectors[node_src], weights[node_src]):\n",
    "        G.add_edge(node_src, node_dest, weight=weight)"
   ]
  },
  {
   "cell_type": "code",
   "execution_count": 45,
   "metadata": {},
   "outputs": [
    {
     "data": {
      "image/png": "[encoded data removed]",
      "text/plain": [
       "<Figure size 432x288 with 1 Axes>"
      ]
     },
     "metadata": {},
     "output_type": "display_data"
    }
   ],
   "source": [
    "nx.draw(G, with_labels=True)\n",
    "plt.show()"
   ]
  },
  {
   "cell_type": "code",
   "execution_count": 46,
   "metadata": {},
   "outputs": [
    {
     "name": "stdout",
     "output_type": "stream",
     "text": [
      "[0, 19]\n"
     ]
    }
   ],
   "source": [
    "shortest_path_nx = nx.algorithms.shortest_paths.weighted.dijkstra_path(G, 0, N-1)\n",
    "print(shortest_path_nx)"
   ]
  },
  {
   "cell_type": "markdown",
   "metadata": {},
   "source": [
    "#### Векторы смежности"
   ]
  },
  {
   "cell_type": "code",
   "execution_count": 47,
   "metadata": {},
   "outputs": [
    {
     "name": "stdout",
     "output_type": "stream",
     "text": [
      "[0, 19]\n",
      "True\n"
     ]
    }
   ],
   "source": [
    "shortest_path_vectors = get_shortest_path_Dijsktra(adjacency_vectors, weights, 0, N-1)\n",
    "print(shortest_path_vectors)\n",
    "print(shortest_path_vectors == shortest_path_nx)"
   ]
  },
  {
   "cell_type": "markdown",
   "metadata": {},
   "source": [
    "### 3. Сравнение времени выполнения алгоритма"
   ]
  },
  {
   "cell_type": "code",
   "execution_count": 95,
   "metadata": {},
   "outputs": [],
   "source": [
    "N = 1000\n",
    "min_degree = 10\n",
    "max_degree = 30\n",
    "max_weight = 99"
   ]
  },
  {
   "cell_type": "code",
   "execution_count": 96,
   "metadata": {},
   "outputs": [],
   "source": [
    "vectors = []\n",
    "weights = []\n",
    "for i in range(10):\n",
    "    adjacency_matrix = generate_undirected_weighted_graph_adjacency_matrix(N, min_degree, max_degree, max_weight)\n",
    "    v, w = transform_adj_matrix_into_adj_vectors(adjacency_matrix)\n",
    "    vectors.append(v)\n",
    "    weights.append(w)"
   ]
  },
  {
   "cell_type": "markdown",
   "metadata": {},
   "source": [
    "#### Векторы смежности"
   ]
  },
  {
   "cell_type": "code",
   "execution_count": 97,
   "metadata": {},
   "outputs": [
    {
     "name": "stdout",
     "output_type": "stream",
     "text": [
      "[0, 394, 433, 842, 129, 999]\n",
      "[0, 426, 757, 326, 865, 999]\n",
      "[0, 25, 681, 145, 850, 999]\n",
      "[0, 747, 836, 37, 582, 562, 43, 478, 899, 999]\n",
      "[0, 856, 904, 302, 972, 548, 999]\n",
      "[0, 995, 516, 105, 887, 557, 90, 999]\n",
      "[0, 19, 656, 484, 96, 288, 224, 999]\n",
      "[0, 386, 399, 999]\n",
      "[0, 851, 307, 305, 999]\n",
      "[0, 669, 777, 131, 779, 999]\n",
      "CPU times: user 898 ms, sys: 128 µs, total: 898 ms\n",
      "Wall time: 896 ms\n"
     ]
    }
   ],
   "source": [
    "%%time\n",
    "for v, w in zip(vectors, weights):\n",
    "    shortest_path_vectors = get_shortest_path_Dijsktra(v, w, 0, N-1)\n",
    "    print(shortest_path_vectors)"
   ]
  },
  {
   "cell_type": "markdown",
   "metadata": {},
   "source": [
    "#### Готовая библиотека NetworkX"
   ]
  },
  {
   "cell_type": "code",
   "execution_count": 98,
   "metadata": {},
   "outputs": [
    {
     "name": "stdout",
     "output_type": "stream",
     "text": [
      "[0, 394, 433, 842, 129, 999]\n",
      "[0, 426, 757, 326, 865, 999]\n",
      "[0, 25, 681, 145, 850, 999]\n",
      "[0, 747, 836, 37, 582, 562, 43, 478, 899, 999]\n",
      "[0, 856, 904, 302, 972, 548, 999]\n",
      "[0, 995, 516, 105, 887, 557, 90, 999]\n",
      "[0, 19, 656, 484, 96, 288, 224, 999]\n",
      "[0, 386, 399, 999]\n",
      "[0, 851, 307, 305, 999]\n",
      "[0, 669, 777, 131, 779, 999]\n",
      "CPU times: user 524 ms, sys: 0 ns, total: 524 ms\n",
      "Wall time: 523 ms\n"
     ]
    }
   ],
   "source": [
    "%%time\n",
    "for v, w in zip(vectors, weights):\n",
    "    G = nx.Graph()\n",
    "    for node_src in range(len(v)):\n",
    "        for node_dest, weight in zip(v[node_src], w[node_src]):\n",
    "            G.add_edge(node_src, node_dest, weight=weight)\n",
    "    shortest_path_nx = nx.algorithms.shortest_paths.weighted.dijkstra_path(G, 0, N-1)\n",
    "    print(shortest_path_nx)"
   ]
  }
 ],
 "metadata": {
  "kernelspec": {
   "display_name": "Python 3",
   "language": "python",
   "name": "python3"
  },
  "language_info": {
   "codemirror_mode": {
    "name": "ipython",
    "version": 3
   },
   "file_extension": ".py",
   "mimetype": "text/x-python",
   "name": "python",
   "nbconvert_exporter": "python",
   "pygments_lexer": "ipython3",
   "version": "3.6.9"
  }
 },
 "nbformat": 4,
 "nbformat_minor": 4
}
