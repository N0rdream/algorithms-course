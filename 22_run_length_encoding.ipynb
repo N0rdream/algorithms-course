{
 "cells": [
  {
   "cell_type": "markdown",
   "metadata": {},
   "source": [
    "# Реализация алгоритма run-length encoding"
   ]
  },
  {
   "cell_type": "code",
   "execution_count": 169,
   "metadata": {},
   "outputs": [],
   "source": [
    "import random\n",
    "import string\n",
    "import struct\n",
    "import os"
   ]
  },
  {
   "cell_type": "markdown",
   "metadata": {},
   "source": [
    "## 1. Реализация"
   ]
  },
  {
   "cell_type": "code",
   "execution_count": 170,
   "metadata": {},
   "outputs": [],
   "source": [
    "def zip_rle(filename):\n",
    "    with open(filename, 'rb') as fr, open(filename + '.rle', 'wb+') as fw:\n",
    "        \n",
    "        # позиция указателя для записи в файл подсчитанного количества элементов\n",
    "        counter_pos = 0\n",
    "        # позиция указателя для записи в файл элемента\n",
    "        element_pos = 0\n",
    "        # рассматриваем элементы в исходном файле тройками: предыдущий, текущий, следующий\n",
    "        prev_el = None\n",
    "        curr_el = fr.read(1)\n",
    "        \n",
    "        while True:\n",
    "            next_el = fr.read(1)\n",
    "            # задаем начальные значения\n",
    "            if prev_el is None:\n",
    "                if curr_el == next_el:\n",
    "                    counter = 1\n",
    "                else:\n",
    "                    counter = -1\n",
    "                element_pos += 1\n",
    "                fw.seek(element_pos)\n",
    "                fw.write(curr_el)\n",
    "                element_pos += 1\n",
    "                \n",
    "            if prev_el is not None:\n",
    "                # aAb->aAb\n",
    "                # aAa->aAa\n",
    "                if prev_el == curr_el:\n",
    "                    if counter < 127:\n",
    "                        counter += 1\n",
    "                    else:\n",
    "                        fw.seek(counter_pos)\n",
    "                        fw.write(struct.pack('b', counter))\n",
    "                        counter_pos = element_pos\n",
    "                        if curr_el == next_el:\n",
    "                            counter = 1\n",
    "                        else:\n",
    "                            counter = -1\n",
    "                        counter_pos = element_pos\n",
    "                        element_pos += 1\n",
    "                        fw.seek(element_pos)\n",
    "                        fw.write(curr_el)\n",
    "                        element_pos += 1\n",
    "                if prev_el != curr_el:\n",
    "                    # bAa->b Aa\n",
    "                    if curr_el == next_el:\n",
    "                        fw.seek(counter_pos)\n",
    "                        fw.write(struct.pack('b', counter))\n",
    "                        counter_pos = element_pos\n",
    "                        counter = 1\n",
    "                        element_pos += 1\n",
    "                    if curr_el != next_el:\n",
    "                        # aBc->aBc\n",
    "                        if counter < 0:\n",
    "                            if counter > -127:\n",
    "                                counter -= 1\n",
    "                            else:\n",
    "                                fw.seek(counter_pos)\n",
    "                                fw.write(struct.pack('b', counter))\n",
    "                                counter_pos = element_pos\n",
    "                                if curr_el == next_el:\n",
    "                                    counter = 1\n",
    "                                else:\n",
    "                                    counter = -1\n",
    "                                counter_pos = element_pos\n",
    "                                element_pos += 1\n",
    "                        # aaBc->aa Bc\n",
    "                        else:\n",
    "                            fw.seek(counter_pos)\n",
    "                            fw.write(struct.pack('b', counter))\n",
    "                            counter_pos = element_pos\n",
    "                            counter = -1\n",
    "                            element_pos += 1\n",
    "                    fw.seek(element_pos)\n",
    "                    fw.write(curr_el)\n",
    "                    element_pos += 1\n",
    "\n",
    "            if next_el == b'':\n",
    "                fw.seek(counter_pos)\n",
    "                fw.write(struct.pack('b', counter))\n",
    "                break\n",
    "\n",
    "            prev_el, curr_el = curr_el, next_el"
   ]
  },
  {
   "cell_type": "code",
   "execution_count": 171,
   "metadata": {},
   "outputs": [],
   "source": [
    "def unzip_rle(filename_in, filename_out):\n",
    "    with open(filename_in, 'rb') as fr, open(filename_out, 'wb') as fw:\n",
    "        while True:\n",
    "            data = fr.read(1)\n",
    "            if not data:\n",
    "                break\n",
    "            counter = struct.unpack('b', data)[0]\n",
    "            if counter < 0:\n",
    "                for i in range(abs(counter)):\n",
    "                    element = fr.read(1)\n",
    "                    fw.write(element)\n",
    "            if counter > 0:\n",
    "                element = fr.read(1)\n",
    "                for i in range(counter):\n",
    "                    fw.write(element)"
   ]
  },
  {
   "cell_type": "markdown",
   "metadata": {},
   "source": [
    "## 2. Тестирование"
   ]
  },
  {
   "cell_type": "code",
   "execution_count": 172,
   "metadata": {},
   "outputs": [],
   "source": [
    "def generate_test_file(filename, n, m=1):\n",
    "    with open(filename, 'w') as fw:\n",
    "        for i in range(n):\n",
    "            element = random.choice(string.ascii_lowercase)\n",
    "            for i in range(m):\n",
    "                fw.write(element)\n",
    "                \n",
    "def compare_files(filename_1, filename_2):                   \n",
    "    with open(filename_1, 'r') as fr, open(filename_2, 'r') as fo:\n",
    "        print(fr.read() == fo.read())"
   ]
  },
  {
   "cell_type": "code",
   "execution_count": 173,
   "metadata": {},
   "outputs": [],
   "source": [
    "filename_init = 'test'\n",
    "filename_zipped = filename_init + '.rle'\n",
    "filename_unzipped = 'test_unzipped'"
   ]
  },
  {
   "cell_type": "markdown",
   "metadata": {},
   "source": [
    "### Тест №1"
   ]
  },
  {
   "cell_type": "markdown",
   "metadata": {},
   "source": [
    "- Текстовый файл\n",
    "- 26 различных символов\n",
    "- Случайный порядок"
   ]
  },
  {
   "cell_type": "code",
   "execution_count": 174,
   "metadata": {},
   "outputs": [],
   "source": [
    "generate_test_file(filename_init, 10000)\n",
    "zip_rle(filename_init)\n",
    "unzip_rle(filename_zipped, filename_unzipped)"
   ]
  },
  {
   "cell_type": "code",
   "execution_count": 175,
   "metadata": {},
   "outputs": [
    {
     "name": "stdout",
     "output_type": "stream",
     "text": [
      "True\n"
     ]
    }
   ],
   "source": [
    "compare_files(filename_init, filename_unzipped)"
   ]
  },
  {
   "cell_type": "code",
   "execution_count": 176,
   "metadata": {},
   "outputs": [
    {
     "name": "stdout",
     "output_type": "stream",
     "text": [
      "Размер исходного файла: 10000\n",
      "Размер сжатого файла: 10363\n",
      "Коэффициент сжатия: 0.96\n"
     ]
    }
   ],
   "source": [
    "print('Размер исходного файла:', os.stat(filename_init).st_size)\n",
    "print('Размер сжатого файла:', os.stat(filename_zipped).st_size)\n",
    "print('Коэффициент сжатия:', round(os.stat(filename_init).st_size / os.stat(filename_zipped).st_size, 2))"
   ]
  },
  {
   "cell_type": "markdown",
   "metadata": {},
   "source": [
    "### Тест №2"
   ]
  },
  {
   "cell_type": "markdown",
   "metadata": {},
   "source": [
    "- Текстовый файл\n",
    "- 26 различных символов\n",
    "- Каждый символ задублирован"
   ]
  },
  {
   "cell_type": "code",
   "execution_count": 177,
   "metadata": {},
   "outputs": [],
   "source": [
    "generate_test_file(filename_init, 10000, m=2)\n",
    "zip_rle(filename_init)\n",
    "unzip_rle(filename_zipped, filename_unzipped)"
   ]
  },
  {
   "cell_type": "code",
   "execution_count": 178,
   "metadata": {},
   "outputs": [
    {
     "name": "stdout",
     "output_type": "stream",
     "text": [
      "True\n"
     ]
    }
   ],
   "source": [
    "compare_files(filename_init, filename_unzipped)"
   ]
  },
  {
   "cell_type": "code",
   "execution_count": 179,
   "metadata": {},
   "outputs": [
    {
     "name": "stdout",
     "output_type": "stream",
     "text": [
      "Размер исходного файла: 20000\n",
      "Размер сжатого файла: 19260\n",
      "Коэффициент сжатия: 1.04\n"
     ]
    }
   ],
   "source": [
    "print('Размер исходного файла:', os.stat(filename_init).st_size)\n",
    "print('Размер сжатого файла:', os.stat(filename_zipped).st_size)\n",
    "print('Коэффициент сжатия:', round(os.stat(filename_init).st_size / os.stat(filename_zipped).st_size, 2))"
   ]
  },
  {
   "cell_type": "markdown",
   "metadata": {},
   "source": [
    "### Тест №3"
   ]
  },
  {
   "cell_type": "markdown",
   "metadata": {},
   "source": [
    "- Текстовый файл\n",
    "- 26 различных символов\n",
    "- Каждый символ повторяется 150 раз"
   ]
  },
  {
   "cell_type": "code",
   "execution_count": 180,
   "metadata": {},
   "outputs": [],
   "source": [
    "generate_test_file(filename_init, 1000, m=150)\n",
    "zip_rle(filename_init)\n",
    "unzip_rle(filename_zipped, filename_unzipped)"
   ]
  },
  {
   "cell_type": "code",
   "execution_count": 181,
   "metadata": {},
   "outputs": [
    {
     "name": "stdout",
     "output_type": "stream",
     "text": [
      "True\n"
     ]
    }
   ],
   "source": [
    "compare_files(filename_init, filename_unzipped)"
   ]
  },
  {
   "cell_type": "code",
   "execution_count": 182,
   "metadata": {},
   "outputs": [
    {
     "name": "stdout",
     "output_type": "stream",
     "text": [
      "Размер исходного файла: 150000\n",
      "Размер сжатого файла: 3922\n",
      "Коэффициент сжатия: 38.25\n"
     ]
    }
   ],
   "source": [
    "print('Размер исходного файла:', os.stat(filename_init).st_size)\n",
    "print('Размер сжатого файла:', os.stat(filename_zipped).st_size)\n",
    "print('Коэффициент сжатия:', round(os.stat(filename_init).st_size / os.stat(filename_zipped).st_size, 2))"
   ]
  },
  {
   "cell_type": "code",
   "execution_count": 183,
   "metadata": {},
   "outputs": [],
   "source": [
    "os.remove(filename_init)\n",
    "os.remove(filename_zipped)\n",
    "os.remove(filename_unzipped)"
   ]
  },
  {
   "cell_type": "markdown",
   "metadata": {},
   "source": [
    "### Тест №4"
   ]
  },
  {
   "cell_type": "markdown",
   "metadata": {},
   "source": [
    "- Изображение"
   ]
  },
  {
   "cell_type": "code",
   "execution_count": 156,
   "metadata": {},
   "outputs": [],
   "source": [
    "filename_init_img = 'image.png'\n",
    "filename_zipped_img = filename_init_img + '.rle'"
   ]
  },
  {
   "cell_type": "code",
   "execution_count": 157,
   "metadata": {},
   "outputs": [],
   "source": [
    "zip_rle(filename_init_img)"
   ]
  },
  {
   "cell_type": "code",
   "execution_count": 158,
   "metadata": {},
   "outputs": [
    {
     "name": "stdout",
     "output_type": "stream",
     "text": [
      "Размер исходного файла: 1364789\n",
      "Размер сжатого файла: 1380456\n",
      "Коэффициент сжатия: 0.99\n"
     ]
    }
   ],
   "source": [
    "print('Размер исходного файла:', os.stat(filename_init_img).st_size)\n",
    "print('Размер сжатого файла:', os.stat(filename_zipped_img).st_size)\n",
    "print('Коэффициент сжатия:', round(os.stat(filename_init_img).st_size / os.stat(filename_zipped_img).st_size, 2))"
   ]
  },
  {
   "cell_type": "markdown",
   "metadata": {},
   "source": [
    "### Тест №5"
   ]
  },
  {
   "cell_type": "markdown",
   "metadata": {},
   "source": [
    "- Звуковой файл"
   ]
  },
  {
   "cell_type": "code",
   "execution_count": 159,
   "metadata": {},
   "outputs": [],
   "source": [
    "filename_init_a1 = 'wave.mp3'\n",
    "filename_zipped_a1 = filename_init_a1 + '.rle'"
   ]
  },
  {
   "cell_type": "code",
   "execution_count": 160,
   "metadata": {},
   "outputs": [],
   "source": [
    "zip_rle(filename_init_a1)"
   ]
  },
  {
   "cell_type": "code",
   "execution_count": 161,
   "metadata": {},
   "outputs": [
    {
     "name": "stdout",
     "output_type": "stream",
     "text": [
      "Размер исходного файла: 15103189\n",
      "Размер сжатого файла: 15191258\n",
      "Коэффициент сжатия: 0.99\n"
     ]
    }
   ],
   "source": [
    "print('Размер исходного файла:', os.stat(filename_init_a1).st_size)\n",
    "print('Размер сжатого файла:', os.stat(filename_zipped_a1).st_size)\n",
    "print('Коэффициент сжатия:', round(os.stat(filename_init_a1).st_size / os.stat(filename_zipped_a1).st_size, 2))"
   ]
  },
  {
   "cell_type": "markdown",
   "metadata": {},
   "source": [
    "### Тест №6"
   ]
  },
  {
   "cell_type": "markdown",
   "metadata": {},
   "source": [
    "- Звуковой файл\n",
    "- Присутствуют моменты без музыки"
   ]
  },
  {
   "cell_type": "code",
   "execution_count": 162,
   "metadata": {},
   "outputs": [],
   "source": [
    "filename_init_a2 = 'waterfront.mp3'\n",
    "filename_zipped_a2 = filename_init_a2 + '.rle'"
   ]
  },
  {
   "cell_type": "code",
   "execution_count": 163,
   "metadata": {},
   "outputs": [],
   "source": [
    "zip_rle(filename_init_a2)"
   ]
  },
  {
   "cell_type": "code",
   "execution_count": 164,
   "metadata": {},
   "outputs": [
    {
     "name": "stdout",
     "output_type": "stream",
     "text": [
      "Размер исходного файла: 8671924\n",
      "Размер сжатого файла: 8392413\n",
      "Коэффициент сжатия: 1.03\n"
     ]
    }
   ],
   "source": [
    "print('Размер исходного файла:', os.stat(filename_init_a2).st_size)\n",
    "print('Размер сжатого файла:', os.stat(filename_zipped_a2).st_size)\n",
    "print('Коэффициент сжатия:', round(os.stat(filename_init_a2).st_size / os.stat(filename_zipped_a2).st_size, 2))"
   ]
  },
  {
   "cell_type": "markdown",
   "metadata": {},
   "source": [
    "### Тест №6"
   ]
  },
  {
   "cell_type": "markdown",
   "metadata": {},
   "source": [
    "- Сжатый архиватором файл"
   ]
  },
  {
   "cell_type": "code",
   "execution_count": 165,
   "metadata": {},
   "outputs": [],
   "source": [
    "filename_init_zip = 'compressed.zip'\n",
    "filename_zipped_zip = filename_init_zip + '.rle'"
   ]
  },
  {
   "cell_type": "code",
   "execution_count": 166,
   "metadata": {},
   "outputs": [],
   "source": [
    "zip_rle(filename_init_zip)"
   ]
  },
  {
   "cell_type": "code",
   "execution_count": 167,
   "metadata": {},
   "outputs": [
    {
     "name": "stdout",
     "output_type": "stream",
     "text": [
      "Размер исходного файла: 64511\n",
      "Размер сжатого файла: 65152\n",
      "Коэффициент сжатия: 0.99\n"
     ]
    }
   ],
   "source": [
    "print('Размер исходного файла:', os.stat(filename_init_zip).st_size)\n",
    "print('Размер сжатого файла:', os.stat(filename_zipped_zip).st_size)\n",
    "print('Коэффициент сжатия:', round(os.stat(filename_init_zip).st_size / os.stat(filename_zipped_zip).st_size, 2))"
   ]
  },
  {
   "cell_type": "markdown",
   "metadata": {},
   "source": [
    "## 3. Выводы"
   ]
  },
  {
   "cell_type": "markdown",
   "metadata": {},
   "source": [
    "|Тип файла|Коэффициент сжатия|\n",
    "|:------:|----------|\n",
    "|Текстовый файл 1|0.97|\n",
    "|Текстовый файл 2|1.04|\n",
    "|Текстовый файл 3|38.15|\n",
    "|Изображение|0.99|\n",
    "|Аудио 4|0.99|\n",
    "|Аудио 5|1.03|\n",
    "|Сжатый|0.99|"
   ]
  },
  {
   "cell_type": "markdown",
   "metadata": {},
   "source": [
    "Сжатию по алгоритму RLE поддаются файлы, содержащие повторяющиеся элементы. Например: текст с одинаковыми символами, аудио с паузами, изображения с доминирующим цветом. В противном случае получившийся при применении RLE файл получается размером больше исходного, т.к. добавляется еще информация о количестве подсчитанных элементов."
   ]
  },
  {
   "cell_type": "code",
   "execution_count": null,
   "metadata": {},
   "outputs": [],
   "source": []
  }
 ],
 "metadata": {
  "kernelspec": {
   "display_name": "Python 3",
   "language": "python",
   "name": "python3"
  },
  "language_info": {
   "codemirror_mode": {
    "name": "ipython",
    "version": 3
   },
   "file_extension": ".py",
   "mimetype": "text/x-python",
   "name": "python",
   "nbconvert_exporter": "python",
   "pygments_lexer": "ipython3",
   "version": "3.6.9"
  }
 },
 "nbformat": 4,
 "nbformat_minor": 4
}
