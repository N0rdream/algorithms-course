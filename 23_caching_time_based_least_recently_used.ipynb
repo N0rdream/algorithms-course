{
 "cells": [
  {
   "cell_type": "markdown",
   "metadata": {},
   "source": [
    "# Caching. Time based least recently used algorithm"
   ]
  },
  {
   "cell_type": "code",
   "execution_count": 1,
   "metadata": {},
   "outputs": [],
   "source": [
    "import time\n",
    "import string\n",
    "import random\n",
    "import functools\n",
    "import sys\n",
    "\n",
    "from collections import OrderedDict\n",
    "from cachetools import cached, TTLCache\n",
    "\n",
    "sys.setrecursionlimit(5000)"
   ]
  },
  {
   "cell_type": "markdown",
   "metadata": {},
   "source": [
    "## 1. Реализация"
   ]
  },
  {
   "cell_type": "code",
   "execution_count": 2,
   "metadata": {},
   "outputs": [],
   "source": [
    "class TLRU:\n",
    "    \n",
    "    def __init__(self, size=100, time_to_use=60):\n",
    "        self.cache = OrderedDict()\n",
    "        self.size = size\n",
    "        self.time_to_use = time_to_use\n",
    "        \n",
    "    def create_value(self , value):\n",
    "        return {'value': value, 'ts': time.time()}\n",
    "        \n",
    "    def store(self, key, value):\n",
    "        # если размер кэша превышает заданное максимальное значение\n",
    "        if len(self.cache) >= self.size:\n",
    "            # удаляем первый элемент в кэше вне зависимоти от его валидности по времени\n",
    "            self.cache.popitem(last=False)\n",
    "        # если элемент в кэше присутствует\n",
    "        if key in self.cache:\n",
    "            # удаляем его для переноса в конец кэша\n",
    "            del self.cache[key]\n",
    "        self.cache[key] = self.create_value(value)\n",
    "                \n",
    "    def get(self, key):\n",
    "        # очистка кэша от невалидных значений\n",
    "        self.update_cache()\n",
    "        if key not in self.cache:\n",
    "            raise KeyError(f'Key {key} is not in the cache.')\n",
    "        # переносим запрашиваемый элемент из начала в конец кэша\n",
    "        value = self.cache.pop(key)['value']\n",
    "        self.cache[key] = self.create_value(value)\n",
    "        return value\n",
    "    \n",
    "    def update_cache(self):\n",
    "        ts_now = time.time()\n",
    "        while True:\n",
    "            try:\n",
    "                # найдем первый элемент в кэше\n",
    "                key = next(iter(self.cache))\n",
    "            # если кэш пуст\n",
    "            except StopIteration:\n",
    "                break\n",
    "            # оценка валидности кэша по времени\n",
    "            if ts_now - self.cache[key]['ts'] > self.time_to_use:\n",
    "                # удаляем элемент в случае невалидности\n",
    "                del self.cache[key]\n",
    "            else:\n",
    "                break"
   ]
  },
  {
   "cell_type": "markdown",
   "metadata": {},
   "source": [
    "## 2. Проверка корректности работы"
   ]
  },
  {
   "cell_type": "code",
   "execution_count": 3,
   "metadata": {},
   "outputs": [],
   "source": [
    "def get_initial_cache():\n",
    "    cache = TLRU(size=3, time_to_use=3)\n",
    "    keys = ['A', 'B', 'C']\n",
    "    values = [1, 2, 3]\n",
    "    timeouts = [1, 1, 0]\n",
    "\n",
    "    for key, value, timeout in zip(keys, values, timeouts):\n",
    "        cache.store(key, value)\n",
    "        time.sleep(timeout)\n",
    "    return cache"
   ]
  },
  {
   "cell_type": "markdown",
   "metadata": {},
   "source": [
    "### Тест №1"
   ]
  },
  {
   "cell_type": "markdown",
   "metadata": {},
   "source": [
    "- Корректность работы очищения кэша по таймауту\n",
    "- 1ый запрос - все элементы в кэше (без обновления)\n",
    "- 2ой запрос - нет первого элемента\n",
    "- 3ий запрос - пустой кэш"
   ]
  },
  {
   "cell_type": "code",
   "execution_count": 4,
   "metadata": {},
   "outputs": [],
   "source": [
    "cache = get_initial_cache()\n",
    "\n",
    "# первый и последний элемент в кэше\n",
    "assert cache.cache['A']['value'] == 1\n",
    "assert cache.cache['C']['value'] == 3\n",
    "\n",
    "time.sleep(2)\n",
    "\n",
    "# элемент A удален\n",
    "try:\n",
    "    print(cache.get('A'))\n",
    "except KeyError:\n",
    "    pass\n",
    "\n",
    "time.sleep(2)\n",
    "\n",
    "# элементы B, С удалены\n",
    "try:\n",
    "    print(cache.get('B'))\n",
    "except KeyError:\n",
    "    pass\n",
    "\n",
    "# кэш пуст\n",
    "assert not cache.cache"
   ]
  },
  {
   "cell_type": "markdown",
   "metadata": {},
   "source": [
    "### Тест №2"
   ]
  },
  {
   "cell_type": "markdown",
   "metadata": {},
   "source": [
    "- Вытеснение элемента с валидным временем\n",
    "- Заполним кэш размером 3\n",
    "- Добавим 4ый элемент"
   ]
  },
  {
   "cell_type": "code",
   "execution_count": 5,
   "metadata": {},
   "outputs": [],
   "source": [
    "cache = get_initial_cache()\n",
    "    \n",
    "# первый элемент в кэше еще можно использовать\n",
    "assert cache.cache['A']['ts'] - time.time() < 3\n",
    "\n",
    "# добавим еще один элемент\n",
    "cache.store('D', 4)\n",
    "\n",
    "# первый элемент кэша удален\n",
    "try:\n",
    "    print(cache.get('A'))\n",
    "except KeyError:\n",
    "    pass "
   ]
  },
  {
   "cell_type": "markdown",
   "metadata": {},
   "source": [
    "### Тест №3"
   ]
  },
  {
   "cell_type": "markdown",
   "metadata": {},
   "source": [
    "- Обновление метки времени при запросе элемента\n",
    "- Заполним кэш размером 3\n",
    "- Запросим присутствующий элемент"
   ]
  },
  {
   "cell_type": "code",
   "execution_count": 6,
   "metadata": {},
   "outputs": [],
   "source": [
    "cache = get_initial_cache()\n",
    "\n",
    "# элемент A первый в кэше\n",
    "assert list(cache.cache.keys())[0] == 'A'\n",
    "\n",
    "cache.get('A')\n",
    "\n",
    "# элемент A последний в кэше\n",
    "assert list(cache.cache.keys())[-1] == 'A'\n",
    "# первым стал элемент B\n",
    "assert list(cache.cache.keys())[0] == 'B'"
   ]
  },
  {
   "cell_type": "markdown",
   "metadata": {},
   "source": [
    "### Тест №4"
   ]
  },
  {
   "cell_type": "markdown",
   "metadata": {},
   "source": [
    "- Запись присутствующего в кэше элемента\n",
    "- Заполним кэш размером 3\n",
    "- Обновим присутствующий элемент"
   ]
  },
  {
   "cell_type": "code",
   "execution_count": 7,
   "metadata": {},
   "outputs": [],
   "source": [
    "cache = get_initial_cache()\n",
    "\n",
    "# элемент A первый в кэше\n",
    "assert list(cache.cache.keys())[0] == 'A'\n",
    "assert cache.cache['A']['value'] == 1\n",
    "\n",
    "cache.store('A', 4)\n",
    "\n",
    "# элемент A последний в кэше с новым значением\n",
    "assert list(cache.cache.keys())[-1] == 'A'\n",
    "assert cache.cache['A']['value'] == 4\n",
    "\n",
    "# первым стал элемент B\n",
    "assert list(cache.cache.keys())[0] == 'B'"
   ]
  },
  {
   "cell_type": "markdown",
   "metadata": {},
   "source": [
    "## 3. Тест эффективности работы в зависимости от размера и таймаута"
   ]
  },
  {
   "cell_type": "code",
   "execution_count": 8,
   "metadata": {},
   "outputs": [],
   "source": [
    "def get_cache_performance(size, timeout, n):\n",
    "    cache = TLRU(size=size, time_to_use=timeout)\n",
    "    hits = 0\n",
    "    misses = 0\n",
    "    for i in range(n):\n",
    "        random_element = random.choice(string.ascii_uppercase)\n",
    "        operation = random.choice(['s', 'g'])\n",
    "        if operation == 's':\n",
    "            cache.store(random_element, random_element)\n",
    "        else:\n",
    "            try:\n",
    "                cache.get(random_element)\n",
    "                hits += 1\n",
    "            except KeyError:\n",
    "                misses += 1\n",
    "    print('Эффективность кэширования:', round(hits / (hits + misses), 2))"
   ]
  },
  {
   "cell_type": "markdown",
   "metadata": {},
   "source": [
    "### Тест №1"
   ]
  },
  {
   "cell_type": "markdown",
   "metadata": {},
   "source": [
    "- 26 типов элементов\n",
    "- Размер кэша 13\n",
    "- Таймаут 0.00001 с"
   ]
  },
  {
   "cell_type": "code",
   "execution_count": 9,
   "metadata": {},
   "outputs": [
    {
     "name": "stdout",
     "output_type": "stream",
     "text": [
      "Эффективность кэширования: 0.07\n"
     ]
    }
   ],
   "source": [
    "SIZE = 13\n",
    "TIMEOUT = 0.00001\n",
    "N = 100000\n",
    "\n",
    "get_cache_performance(SIZE, TIMEOUT, N)"
   ]
  },
  {
   "cell_type": "markdown",
   "metadata": {},
   "source": [
    "### Тест №2"
   ]
  },
  {
   "cell_type": "markdown",
   "metadata": {},
   "source": [
    "- 26 типов элементов\n",
    "- Размер кэша 13\n",
    "- Таймаут 0.0001 с (увеличено в 10 раз)"
   ]
  },
  {
   "cell_type": "code",
   "execution_count": 10,
   "metadata": {},
   "outputs": [
    {
     "name": "stdout",
     "output_type": "stream",
     "text": [
      "Эффективность кэширования: 0.48\n"
     ]
    }
   ],
   "source": [
    "SIZE = 13\n",
    "TIMEOUT = 0.0001\n",
    "N = 100000\n",
    "\n",
    "get_cache_performance(SIZE, TIMEOUT, N)"
   ]
  },
  {
   "cell_type": "markdown",
   "metadata": {},
   "source": [
    "### Тест №3"
   ]
  },
  {
   "cell_type": "markdown",
   "metadata": {},
   "source": [
    "- 26 типов элементов\n",
    "- Размер кэша 26 (увеличено в 2 раза)\n",
    "- Таймаут 0.0001 с"
   ]
  },
  {
   "cell_type": "code",
   "execution_count": 11,
   "metadata": {},
   "outputs": [
    {
     "name": "stdout",
     "output_type": "stream",
     "text": [
      "Эффективность кэширования: 0.66\n"
     ]
    }
   ],
   "source": [
    "SIZE = 26\n",
    "TIMEOUT = 0.0001\n",
    "N = 100000\n",
    "\n",
    "get_cache_performance(SIZE, TIMEOUT, N)"
   ]
  },
  {
   "cell_type": "markdown",
   "metadata": {},
   "source": [
    "### Тест №4"
   ]
  },
  {
   "cell_type": "markdown",
   "metadata": {},
   "source": [
    "- 26 типов элементов\n",
    "- Размер кэша 26\n",
    "- Таймаут 0.001 с (увеличено в 10 раз)"
   ]
  },
  {
   "cell_type": "code",
   "execution_count": 12,
   "metadata": {},
   "outputs": [
    {
     "name": "stdout",
     "output_type": "stream",
     "text": [
      "Эффективность кэширования: 0.96\n"
     ]
    }
   ],
   "source": [
    "SIZE = 26\n",
    "TIMEOUT = 0.001\n",
    "N = 100000\n",
    "\n",
    "get_cache_performance(SIZE, TIMEOUT, N)"
   ]
  },
  {
   "cell_type": "markdown",
   "metadata": {},
   "source": [
    "## 4. Сравнение с другими реализациями кэширования"
   ]
  },
  {
   "cell_type": "markdown",
   "metadata": {},
   "source": [
    "### LRU из модуля functools"
   ]
  },
  {
   "cell_type": "code",
   "execution_count": 13,
   "metadata": {},
   "outputs": [
    {
     "data": {
      "text/plain": [
       "<TimeitResult : 424 µs ± 87.9 µs per loop (mean ± std. dev. of 3 runs, 3 loops each)>"
      ]
     },
     "execution_count": 13,
     "metadata": {},
     "output_type": "execute_result"
    }
   ],
   "source": [
    "%%timeit -r 3 -n 3 -o -q\n",
    "\n",
    "@functools.lru_cache(maxsize=100)\n",
    "def fib(n):\n",
    "    if n < 2:\n",
    "        return n\n",
    "    return fib(n-1) + fib(n-2)\n",
    "\n",
    "fib(1000)"
   ]
  },
  {
   "cell_type": "markdown",
   "metadata": {},
   "source": [
    "### TTLCache из модуля cachetools"
   ]
  },
  {
   "cell_type": "code",
   "execution_count": 14,
   "metadata": {},
   "outputs": [
    {
     "data": {
      "text/plain": [
       "<TimeitResult : 15.7 ms ± 852 µs per loop (mean ± std. dev. of 3 runs, 3 loops each)>"
      ]
     },
     "execution_count": 14,
     "metadata": {},
     "output_type": "execute_result"
    }
   ],
   "source": [
    "%%timeit -r 3 -n 3 -o -q\n",
    "\n",
    "cache = TTLCache(maxsize=100, ttl=1)\n",
    "\n",
    "@cached(cache)\n",
    "def fib(n):\n",
    "    if n < 2:\n",
    "        return n\n",
    "    return fib(n-1) + fib(n-2)\n",
    "\n",
    "fib(1000)"
   ]
  },
  {
   "cell_type": "markdown",
   "metadata": {},
   "source": [
    "### Собственная реализация"
   ]
  },
  {
   "cell_type": "code",
   "execution_count": 15,
   "metadata": {},
   "outputs": [
    {
     "data": {
      "text/plain": [
       "<TimeitResult : 8.79 ms ± 1.19 ms per loop (mean ± std. dev. of 3 runs, 3 loops each)>"
      ]
     },
     "execution_count": 15,
     "metadata": {},
     "output_type": "execute_result"
    }
   ],
   "source": [
    "%%timeit -r 3 -n 3 -o -q\n",
    "\n",
    "cache = TLRU(size=100, time_to_use=1)\n",
    "\n",
    "def fib(n):\n",
    "    if n < 2:\n",
    "        return n\n",
    "    try:\n",
    "        return cache.get(n-1) + cache.get(n-2)\n",
    "    except:\n",
    "        a = fib(n-1)\n",
    "        b = fib(n-2)\n",
    "        cache.store(n-1, a)\n",
    "        cache.store(n-2, b)\n",
    "        return a + b\n",
    "    \n",
    "fib(1000)"
   ]
  },
  {
   "cell_type": "code",
   "execution_count": null,
   "metadata": {},
   "outputs": [],
   "source": []
  }
 ],
 "metadata": {
  "kernelspec": {
   "display_name": "Python 3",
   "language": "python",
   "name": "python3"
  },
  "language_info": {
   "codemirror_mode": {
    "name": "ipython",
    "version": 3
   },
   "file_extension": ".py",
   "mimetype": "text/x-python",
   "name": "python",
   "nbconvert_exporter": "python",
   "pygments_lexer": "ipython3",
   "version": "3.6.9"
  }
 },
 "nbformat": 4,
 "nbformat_minor": 4
}
