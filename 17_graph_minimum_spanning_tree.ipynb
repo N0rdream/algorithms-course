{
 "cells": [
  {
   "cell_type": "markdown",
   "metadata": {},
   "source": [
    "# Минимальные остовные деревья"
   ]
  },
  {
   "cell_type": "code",
   "execution_count": 1,
   "metadata": {},
   "outputs": [],
   "source": [
    "import random\n",
    "import networkx as nx\n",
    "import matplotlib.pyplot as plt"
   ]
  },
  {
   "cell_type": "markdown",
   "metadata": {},
   "source": [
    "## 1. Реализация алгоритма"
   ]
  },
  {
   "cell_type": "markdown",
   "metadata": {},
   "source": [
    "### Через матрицу смежности"
   ]
  },
  {
   "cell_type": "code",
   "execution_count": 2,
   "metadata": {},
   "outputs": [],
   "source": [
    "def has_cycle_matrix(matrix, node):\n",
    "    # кладем на стек выбранную вершину и ее \"родителя\"\n",
    "    stack = [(node, None)]\n",
    "    # будем запоминать порядок обработки вершин\n",
    "    search_order = []\n",
    "    # пока количество обработанных вершин меньше, чем количество вершин в графе\n",
    "    while len(search_order) < len(matrix) and len(stack) > 0:\n",
    "        # начинаем обрабатывать вершины с вершины стека\n",
    "        current_node, parent = stack.pop()\n",
    "        # если текущая вершина уже была обработана - в графе цикл\n",
    "        if current_node in search_order:\n",
    "            search_order.append(current_node)\n",
    "            return True, search_order\n",
    "        # добавляем вершину в порядок обработки\n",
    "        search_order.append(current_node)\n",
    "        # перебираем ребра текущей вершины в обратном порядке,\n",
    "        # чтобы со стека брать вершины, начиная с наименьшего номера\n",
    "        for node_d in [i for i in range(len(matrix[current_node])-1, -1, -1) if matrix[current_node][i]]:\n",
    "            # не учитываем ребро от \"потомка\" к \"родителю\"\n",
    "            if node_d != parent:\n",
    "                # кладем на стек выбранную вершину и ее \"родителя\" (текущую вершину)\n",
    "                stack.append((node_d, current_node))\n",
    "    return False, search_order\n",
    "\n",
    "\n",
    "def get_sorted_edges_by_weight_matrix(matrix):\n",
    "    edges = []\n",
    "    for node_s, row in enumerate(matrix):\n",
    "        for node_d, weight in enumerate(row):\n",
    "            # перебираем ребра в верхней части матрицы (upper triangular)\n",
    "            if weight and node_s <= node_d:\n",
    "                edges.append((node_s, node_d, weight))\n",
    "    # сортируем ребра по весу и номеру первой вершины\n",
    "    return sorted(edges, key=lambda edge: (edge[2], edge[0]))"
   ]
  },
  {
   "cell_type": "code",
   "execution_count": 3,
   "metadata": {},
   "outputs": [],
   "source": [
    "def get_minimum_spanning_tree_Kruskal_algorithm_matrix(matrix):\n",
    "    edges = []\n",
    "    spanning_tree_matrix = [[0 for i in range(len(matrix))] for i in range(len(matrix))]\n",
    "    # перебираем ребра текущего графаё, начиная с наименьшего по весу\n",
    "    for node_s, node_d, _ in get_sorted_edges_by_weight_matrix(matrix):\n",
    "        # добавляем ребро в остовное дерево\n",
    "        spanning_tree_matrix[node_s][node_d] = 1\n",
    "        spanning_tree_matrix[node_d][node_s] = 1\n",
    "        # если при добавлении ребра в дереве образуется цикл\n",
    "        if has_cycle_matrix(spanning_tree_matrix, node_s)[0]:\n",
    "            # удаляем ребро из дерева\n",
    "            spanning_tree_matrix[node_s][node_d] = 0\n",
    "            spanning_tree_matrix[node_d][node_s] = 0\n",
    "        # иначе оставляем ребро в дереве\n",
    "        else:\n",
    "            edges.append((node_s, node_d))\n",
    "        if len(edges) == len(matrix) - 1:\n",
    "            # остовное дерево выстроилось до перебора всех ребер исходного графа\n",
    "            return edges\n",
    "    return edges"
   ]
  },
  {
   "cell_type": "markdown",
   "metadata": {},
   "source": [
    "### Через векторы смежности и матрицу весов"
   ]
  },
  {
   "cell_type": "code",
   "execution_count": 4,
   "metadata": {},
   "outputs": [],
   "source": [
    "adjacency_vectors = [\n",
    "    [1, 3],\n",
    "    [0, 2, 3, 4],\n",
    "    [1, 4],\n",
    "    [0, 1, 4, 5],\n",
    "    [1, 2, 3, 5, 6],\n",
    "    [3, 4, 6],\n",
    "    [4, 5],\n",
    "]\n",
    "\n",
    "weights = [\n",
    "    [0,  7,  0,  5,  0,  0,  0],\n",
    "    [7,  0,  8,  9,  7,  0,  0],\n",
    "    [0,  8,  0,  0,  5,  0,  0],\n",
    "    [5,  9,  0,  0, 15,  6,  0],\n",
    "    [0,  7,  5, 15,  0,  8,  9],\n",
    "    [0,  0,  0,  6,  8,  0, 11],\n",
    "    [0,  0,  0,  0,  9, 11,  0],\n",
    "]"
   ]
  },
  {
   "cell_type": "code",
   "execution_count": 5,
   "metadata": {},
   "outputs": [],
   "source": [
    "def has_cycle_vectors(vectors, node):\n",
    "    # кладем на стек выбранную вершину и ее \"родителя\"\n",
    "    stack = [(node, None)]\n",
    "    # будем запоминать порядок обработки вершин\n",
    "    search_order = []\n",
    "    # пока количество обработанных вершин меньше, чем количество вершин в графе\n",
    "    while len(search_order) < len(vectors) and len(stack) > 0:\n",
    "        # начинаем обрабатывать вершины с вершины стека\n",
    "        current_node, parent = stack.pop()\n",
    "        # если текущая вершина уже была обработана - в графе цикл\n",
    "        if current_node in search_order:\n",
    "            search_order.append(current_node)\n",
    "            return True, search_order\n",
    "        # добавляем вершину в порядок обработки\n",
    "        search_order.append(current_node)\n",
    "        # перебираем ребра текущей вершины в обратном порядке,\n",
    "        # чтобы со стека брать вершины, начиная с наименьшего номера\n",
    "        for node_d in sorted(vectors[current_node], reverse=True):\n",
    "            # не учитываем ребро от \"потомка\" к \"родителю\"\n",
    "            if node_d != parent:\n",
    "                # кладем на стек выбранную вершину и ее \"родителя\" (текущую вершину)\n",
    "                stack.append((node_d, current_node))\n",
    "    return False, search_order\n",
    "\n",
    "\n",
    "def get_sorted_edges_by_weight_vectors(vectors, weights):\n",
    "    edges = []\n",
    "    for node_s, nodes_d in enumerate(vectors):\n",
    "        for node_d in nodes_d:\n",
    "            # перебираем ребра в верхней части матрицы (upper triangular)\n",
    "            if node_s <= node_d:\n",
    "                edges.append((node_s, node_d, weights[node_s][node_d]))\n",
    "    # сортируем ребра по весу и номеру первой вершины\n",
    "    return sorted(edges, key=lambda edge: (edge[2], edge[0]))"
   ]
  },
  {
   "cell_type": "code",
   "execution_count": 6,
   "metadata": {},
   "outputs": [],
   "source": [
    "def get_minimum_spanning_tree_Kruskal_algorithm_vectors(vectors, weights):\n",
    "    edges = []\n",
    "    spanning_tree_vectors = [[] for i in range(len(vectors))]\n",
    "    # перебираем ребра текущего графаё, начиная с наименьшего по весу\n",
    "    for node_s, node_d, _ in get_sorted_edges_by_weight_vectors(vectors, weights):\n",
    "        # добавляем ребро в остовное дерево\n",
    "        spanning_tree_vectors[node_s].append(node_d)\n",
    "        spanning_tree_vectors[node_d].append(node_s)\n",
    "        # если при добавлении ребра в дереве образуется цикл\n",
    "        if has_cycle_vectors(spanning_tree_vectors, node_s)[0]:\n",
    "            # удаляем ребро из дерева\n",
    "            del spanning_tree_vectors[node_s][-1]\n",
    "            del spanning_tree_vectors[node_d][-1]\n",
    "        # иначе оставляем ребро в дереве\n",
    "        else:\n",
    "            edges.append((node_s, node_d))\n",
    "        if len(edges) == len(vectors) - 1:\n",
    "            # остовное дерево выстроилось до перебора всех ребер исходного графа\n",
    "            return edges\n",
    "    return edges"
   ]
  },
  {
   "cell_type": "markdown",
   "metadata": {},
   "source": [
    "## 2. Проверка корректности работы"
   ]
  },
  {
   "cell_type": "markdown",
   "metadata": {},
   "source": [
    "### На примере графа из лекции"
   ]
  },
  {
   "cell_type": "code",
   "execution_count": 7,
   "metadata": {},
   "outputs": [],
   "source": [
    "adjacency_matrix = [\n",
    "    [0,  7,  0,  5,  0,  0,  0],\n",
    "    [7,  0,  8,  9,  7,  0,  0],\n",
    "    [0,  8,  0,  0,  5,  0,  0],\n",
    "    [5,  9,  0,  0, 15,  6,  0],\n",
    "    [0,  7,  5, 15,  0,  8,  9],\n",
    "    [0,  0,  0,  6,  8,  0, 11],\n",
    "    [0,  0,  0,  0,  9, 11,  0],\n",
    "]"
   ]
  },
  {
   "cell_type": "markdown",
   "metadata": {},
   "source": [
    "#### Готовая библиотека NetworkX"
   ]
  },
  {
   "cell_type": "code",
   "execution_count": 8,
   "metadata": {},
   "outputs": [],
   "source": [
    "G = nx.Graph()\n",
    "for node_src, nodes_dest in enumerate(adjacency_matrix):\n",
    "    for node_dest, weight in enumerate(nodes_dest):\n",
    "        if weight:\n",
    "            G.add_edge(node_src, node_dest, weight=weight)"
   ]
  },
  {
   "cell_type": "code",
   "execution_count": 9,
   "metadata": {},
   "outputs": [
    {
     "data": {
      "image/png": "[encoded data removed]",
      "text/plain": [
       "<Figure size 432x288 with 1 Axes>"
      ]
     },
     "metadata": {},
     "output_type": "display_data"
    }
   ],
   "source": [
    "nx.draw(G, with_labels=True)\n",
    "plt.show()"
   ]
  },
  {
   "cell_type": "code",
   "execution_count": 10,
   "metadata": {},
   "outputs": [
    {
     "name": "stdout",
     "output_type": "stream",
     "text": [
      "[(0, 1), (0, 3), (1, 4), (2, 4), (3, 5), (4, 6)]\n"
     ]
    }
   ],
   "source": [
    "minimum_spanning_tree_nx = nx.minimum_spanning_tree(G)\n",
    "minimum_spanning_tree_nx = sorted(minimum_spanning_tree_nx.edges)\n",
    "print(minimum_spanning_tree_nx)"
   ]
  },
  {
   "cell_type": "markdown",
   "metadata": {},
   "source": [
    "#### Матрица смежности"
   ]
  },
  {
   "cell_type": "code",
   "execution_count": 11,
   "metadata": {},
   "outputs": [
    {
     "name": "stdout",
     "output_type": "stream",
     "text": [
      "[(0, 1), (0, 3), (1, 4), (2, 4), (3, 5), (4, 6)]\n",
      "True\n"
     ]
    }
   ],
   "source": [
    "minimum_spanning_tree_matrix = get_minimum_spanning_tree_Kruskal_algorithm_matrix(adjacency_matrix)\n",
    "minimum_spanning_tree_matrix = sorted(minimum_spanning_tree_matrix)\n",
    "print(minimum_spanning_tree_matrix)\n",
    "print(minimum_spanning_tree_matrix == minimum_spanning_tree_nx)"
   ]
  },
  {
   "cell_type": "markdown",
   "metadata": {},
   "source": [
    "#### Векторы смежности"
   ]
  },
  {
   "cell_type": "code",
   "execution_count": 12,
   "metadata": {},
   "outputs": [],
   "source": [
    "def transform_adj_matrix_into_adj_vectors(matrix):\n",
    "    vectors = [[] for i in range(len(matrix))]\n",
    "    for node_s, row in enumerate(adjacency_matrix):\n",
    "        for node_d, weight in enumerate(row):\n",
    "            if weight:\n",
    "                vectors[node_s].append(node_d)\n",
    "    return vectors, matrix[:]"
   ]
  },
  {
   "cell_type": "code",
   "execution_count": 13,
   "metadata": {},
   "outputs": [],
   "source": [
    "adjacency_vectors, weights = transform_adj_matrix_into_adj_vectors(adjacency_matrix)"
   ]
  },
  {
   "cell_type": "code",
   "execution_count": 14,
   "metadata": {},
   "outputs": [
    {
     "name": "stdout",
     "output_type": "stream",
     "text": [
      "[(0, 1), (0, 3), (1, 4), (2, 4), (3, 5), (4, 6)]\n",
      "True\n"
     ]
    }
   ],
   "source": [
    "minimum_spanning_tree_vectors = get_minimum_spanning_tree_Kruskal_algorithm_vectors(adjacency_vectors, weights)\n",
    "minimum_spanning_tree_vectors = sorted(minimum_spanning_tree_vectors)\n",
    "print(minimum_spanning_tree_vectors)\n",
    "print(minimum_spanning_tree_vectors == minimum_spanning_tree_nx)"
   ]
  },
  {
   "cell_type": "markdown",
   "metadata": {},
   "source": [
    "### На примере случайного графа"
   ]
  },
  {
   "cell_type": "code",
   "execution_count": 15,
   "metadata": {},
   "outputs": [],
   "source": [
    "def generate_undirected_weighted_graph_adjacency_matrix(N, max_degree, max_weight):\n",
    "    matrix = [[0 for i in range(N)] for i in range(N)]\n",
    "    for node_s in range(N):\n",
    "        nodes_d = [x for x in range(N) if x != node_s]\n",
    "        for j in range(random.randint(0, max_degree)):\n",
    "            node_d = nodes_d.pop(random.randint(0, len(nodes_d)-1))\n",
    "            if not matrix[node_s][node_d]:\n",
    "                weight = random.randint(1, max_weight)\n",
    "                matrix[node_s][node_d] = weight\n",
    "                matrix[node_d][node_s] = weight\n",
    "    return matrix"
   ]
  },
  {
   "cell_type": "code",
   "execution_count": 16,
   "metadata": {},
   "outputs": [],
   "source": [
    "N = 15\n",
    "max_degree = 5\n",
    "max_weight = 999"
   ]
  },
  {
   "cell_type": "code",
   "execution_count": 17,
   "metadata": {},
   "outputs": [],
   "source": [
    "adjacency_matrix = generate_undirected_weighted_graph_adjacency_matrix(N, max_degree, max_weight)"
   ]
  },
  {
   "cell_type": "markdown",
   "metadata": {},
   "source": [
    "#### Готовая библиотека NetworkX"
   ]
  },
  {
   "cell_type": "code",
   "execution_count": 18,
   "metadata": {},
   "outputs": [],
   "source": [
    "G = nx.Graph()\n",
    "for node_src, nodes_dest in enumerate(adjacency_matrix):\n",
    "    for node_dest, weight in enumerate(nodes_dest):\n",
    "        if weight:\n",
    "            G.add_edge(node_src, node_dest, weight=weight)"
   ]
  },
  {
   "cell_type": "code",
   "execution_count": 19,
   "metadata": {},
   "outputs": [
    {
     "data": {
      "image/png": "[encoded data removed]",
      "text/plain": [
       "<Figure size 432x288 with 1 Axes>"
      ]
     },
     "metadata": {},
     "output_type": "display_data"
    }
   ],
   "source": [
    "nx.draw(G, with_labels=True)\n",
    "plt.show()"
   ]
  },
  {
   "cell_type": "code",
   "execution_count": 20,
   "metadata": {},
   "outputs": [
    {
     "data": {
      "text/plain": [
       "[[0, 14],\n",
       " [1, 7],\n",
       " [1, 10],\n",
       " [1, 11],\n",
       " [1, 12],\n",
       " [1, 14],\n",
       " [2, 5],\n",
       " [2, 8],\n",
       " [2, 9],\n",
       " [3, 11],\n",
       " [3, 13],\n",
       " [4, 14],\n",
       " [6, 13],\n",
       " [9, 12]]"
      ]
     },
     "execution_count": 20,
     "metadata": {},
     "output_type": "execute_result"
    }
   ],
   "source": [
    "minimum_spanning_tree_nx = nx.minimum_spanning_tree(G)\n",
    "minimum_spanning_tree_nx = sorted([sorted(edge) for edge in minimum_spanning_tree_nx.edges])\n",
    "minimum_spanning_tree_nx"
   ]
  },
  {
   "cell_type": "markdown",
   "metadata": {},
   "source": [
    "#### Матрица смежности"
   ]
  },
  {
   "cell_type": "code",
   "execution_count": 21,
   "metadata": {},
   "outputs": [
    {
     "name": "stdout",
     "output_type": "stream",
     "text": [
      "[[0, 14], [1, 7], [1, 10], [1, 11], [1, 12], [1, 14], [2, 5], [2, 8], [2, 9], [3, 11], [3, 13], [4, 14], [6, 13], [9, 12]]\n",
      "True\n"
     ]
    }
   ],
   "source": [
    "minimum_spanning_tree_matrix = get_minimum_spanning_tree_Kruskal_algorithm_matrix(adjacency_matrix)\n",
    "minimum_spanning_tree_matrix = sorted([sorted(edge) for edge in minimum_spanning_tree_matrix])\n",
    "print(minimum_spanning_tree_matrix)\n",
    "print(minimum_spanning_tree_matrix == minimum_spanning_tree_nx)"
   ]
  },
  {
   "cell_type": "markdown",
   "metadata": {},
   "source": [
    "#### Векторы смежности"
   ]
  },
  {
   "cell_type": "code",
   "execution_count": 22,
   "metadata": {},
   "outputs": [],
   "source": [
    "adjacency_vectors, weights = transform_adj_matrix_into_adj_vectors(adjacency_matrix)"
   ]
  },
  {
   "cell_type": "code",
   "execution_count": 23,
   "metadata": {},
   "outputs": [
    {
     "name": "stdout",
     "output_type": "stream",
     "text": [
      "[[0, 14], [1, 7], [1, 10], [1, 11], [1, 12], [1, 14], [2, 5], [2, 8], [2, 9], [3, 11], [3, 13], [4, 14], [6, 13], [9, 12]]\n",
      "True\n"
     ]
    }
   ],
   "source": [
    "minimum_spanning_tree_vectors = get_minimum_spanning_tree_Kruskal_algorithm_vectors(adjacency_vectors, weights)\n",
    "minimum_spanning_tree_vectors = sorted([sorted(edge) for edge in minimum_spanning_tree_vectors])\n",
    "print(minimum_spanning_tree_vectors)\n",
    "print(minimum_spanning_tree_vectors == minimum_spanning_tree_nx)"
   ]
  },
  {
   "cell_type": "markdown",
   "metadata": {},
   "source": [
    "### 3. Сравнение времени выполнения алгоритма"
   ]
  },
  {
   "cell_type": "code",
   "execution_count": 29,
   "metadata": {},
   "outputs": [],
   "source": [
    "N = 500\n",
    "max_degree = 30\n",
    "max_weight = 99"
   ]
  },
  {
   "cell_type": "markdown",
   "metadata": {},
   "source": [
    "#### Матрица смежности"
   ]
  },
  {
   "cell_type": "code",
   "execution_count": 32,
   "metadata": {},
   "outputs": [
    {
     "data": {
      "text/plain": [
       "<TimeitResult : 8.12 s ± 814 ms per loop (mean ± std. dev. of 3 runs, 3 loops each)>"
      ]
     },
     "execution_count": 32,
     "metadata": {},
     "output_type": "execute_result"
    }
   ],
   "source": [
    "%%timeit -r 3 -n 3 -o -q\n",
    "adjacency_matrix = generate_undirected_weighted_graph_adjacency_matrix(N, max_degree, max_weight)\n",
    "get_minimum_spanning_tree_Kruskal_algorithm_matrix(adjacency_matrix)"
   ]
  },
  {
   "cell_type": "markdown",
   "metadata": {},
   "source": [
    "#### Векторы смежности"
   ]
  },
  {
   "cell_type": "code",
   "execution_count": 33,
   "metadata": {},
   "outputs": [
    {
     "data": {
      "text/plain": [
       "<TimeitResult : 30.3 ms ± 1.71 ms per loop (mean ± std. dev. of 3 runs, 3 loops each)>"
      ]
     },
     "execution_count": 33,
     "metadata": {},
     "output_type": "execute_result"
    }
   ],
   "source": [
    "%%timeit -r 3 -n 3 -o -q\n",
    "adjacency_matrix = generate_undirected_weighted_graph_adjacency_matrix(N, max_degree, max_weight)\n",
    "adjacency_vectors, weights = transform_adj_matrix_into_adj_vectors(adjacency_matrix)\n",
    "get_minimum_spanning_tree_Kruskal_algorithm_vectors(adjacency_vectors, weights)"
   ]
  },
  {
   "cell_type": "markdown",
   "metadata": {},
   "source": [
    "#### Готовая библиотека NetworkX"
   ]
  },
  {
   "cell_type": "code",
   "execution_count": 34,
   "metadata": {},
   "outputs": [
    {
     "data": {
      "text/plain": [
       "<TimeitResult : 65.5 ms ± 2.13 ms per loop (mean ± std. dev. of 3 runs, 3 loops each)>"
      ]
     },
     "execution_count": 34,
     "metadata": {},
     "output_type": "execute_result"
    }
   ],
   "source": [
    "%%timeit -r 3 -n 3 -o -q\n",
    "adjacency_matrix = generate_undirected_weighted_graph_adjacency_matrix(N, max_degree, max_weight)\n",
    "G = nx.Graph()\n",
    "for node_src, nodes_dest in enumerate(adjacency_matrix):\n",
    "    for node_dest, weight in enumerate(nodes_dest):\n",
    "        if weight:\n",
    "            G.add_edge(node_src, node_dest, weight=weight)\n",
    "nx.minimum_spanning_tree(G)"
   ]
  },
  {
   "cell_type": "markdown",
   "metadata": {},
   "source": [
    "В варианте с матрицей тратится много времени на поиск ребер в разреженной матрице"
   ]
  }
 ],
 "metadata": {
  "kernelspec": {
   "display_name": "Python 3",
   "language": "python",
   "name": "python3"
  },
  "language_info": {
   "codemirror_mode": {
    "name": "ipython",
    "version": 3
   },
   "file_extension": ".py",
   "mimetype": "text/x-python",
   "name": "python",
   "nbconvert_exporter": "python",
   "pygments_lexer": "ipython3",
   "version": "3.6.9"
  }
 },
 "nbformat": 4,
 "nbformat_minor": 4
}
