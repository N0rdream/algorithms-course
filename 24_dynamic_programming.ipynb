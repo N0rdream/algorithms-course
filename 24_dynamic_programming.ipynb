{
 "cells": [
  {
   "cell_type": "markdown",
   "metadata": {},
   "source": [
    "# Динамическое программирование"
   ]
  },
  {
   "cell_type": "markdown",
   "metadata": {},
   "source": [
    "## Задача 1.1"
   ]
  },
  {
   "cell_type": "code",
   "execution_count": 1,
   "metadata": {},
   "outputs": [],
   "source": [
    "def is_even(x):\n",
    "    return x % 2 == 0\n",
    "\n",
    "def gcd(x, y):\n",
    "    if x == y:\n",
    "        return x\n",
    "    if x == 0:\n",
    "        return y\n",
    "    if y == 0:\n",
    "        return x\n",
    "    if is_even(x) and is_even(y):\n",
    "        return 2 * gcd(x//2, y//2)\n",
    "    if not is_even(x) and is_even(y):\n",
    "        return gcd(x, y//2)\n",
    "    if is_even(x) and not is_even(y):\n",
    "        return gcd(x//2, y)\n",
    "    if (x > y):\n",
    "        return gcd((x-y)//2, y)\n",
    "    if (x < y):\n",
    "        return gcd(x, (y-x)//2)\n",
    "    \n",
    "def get_numbers(line):\n",
    "    return [int(number) for fraction in line.split('+') for number in fraction.split('/')]\n",
    "\n",
    "def main(numbers):\n",
    "    a, b, c, d = numbers\n",
    "    x = a * d + b * c\n",
    "    y = b * d\n",
    "    g = gcd(x, y)\n",
    "    return f'{x//g}/{y//g}'"
   ]
  },
  {
   "cell_type": "code",
   "execution_count": 2,
   "metadata": {},
   "outputs": [
    {
     "name": "stdout",
     "output_type": "stream",
     "text": [
      "2/100+3/100\n",
      "1/20\n"
     ]
    }
   ],
   "source": [
    "line = input()\n",
    "\n",
    "numbers = get_numbers(line)\n",
    "print(main(numbers))"
   ]
  },
  {
   "cell_type": "markdown",
   "metadata": {},
   "source": [
    "## Задача 1.2"
   ]
  },
  {
   "cell_type": "code",
   "execution_count": 6,
   "metadata": {},
   "outputs": [
    {
     "name": "stdout",
     "output_type": "stream",
     "text": [
      "4\n",
      "1\n",
      "2 3\n",
      "4 5 6\n",
      "9 8 0 3\n",
      "17\n"
     ]
    }
   ],
   "source": [
    "n = int(input())\n",
    "\n",
    "matrix = []\n",
    "\n",
    "for i in range(n):\n",
    "    numbers = [int(n) for n in input().split()]\n",
    "    matrix.append(numbers)\n",
    "\n",
    "for i in range(n-2, -1, -1):\n",
    "    for j in range(i+1):\n",
    "        matrix[i][j] += max(matrix[i+1][j], matrix[i+1][j+1])\n",
    "\n",
    "print(matrix[0][0])"
   ]
  },
  {
   "cell_type": "markdown",
   "metadata": {},
   "source": [
    "## Задача 1.3"
   ]
  },
  {
   "cell_type": "code",
   "execution_count": 8,
   "metadata": {},
   "outputs": [
    {
     "name": "stdout",
     "output_type": "stream",
     "text": [
      "3\n",
      "6\n"
     ]
    }
   ],
   "source": [
    "n = int(input())\n",
    "\n",
    "x5, x8, x55, x88 = 1, 1, 0, 0\n",
    "\n",
    "for i in range(2, n+1):\n",
    "    x5, x8, x55, x88 = x8+x88, x5+x55, x5, x8\n",
    "    \n",
    "print(sum([x5, x8, x55, x88]))"
   ]
  },
  {
   "cell_type": "markdown",
   "metadata": {},
   "source": [
    "## Задача 1.4"
   ]
  },
  {
   "cell_type": "code",
   "execution_count": 10,
   "metadata": {},
   "outputs": [
    {
     "name": "stdout",
     "output_type": "stream",
     "text": [
      "4\n",
      "1 1 1 1\n",
      "0 1 0 1\n",
      "0 0 0 0\n",
      "1 0 1 1\n",
      "3\n"
     ]
    }
   ],
   "source": [
    "n = int(input())\n",
    "\n",
    "matrix = []\n",
    "\n",
    "for i in range(n):\n",
    "    row = [int(n) for n in input().split()]\n",
    "    matrix.append(row)\n",
    "\n",
    "def walk(x, y):\n",
    "    if x < 0 or x >= n:\n",
    "        return\n",
    "    if y < 0 or y >= n:\n",
    "        return\n",
    "    if matrix[x][y] == 0:\n",
    "        return\n",
    "    matrix[x][y] = 0\n",
    "    walk(x-1, y)\n",
    "    walk(x+1, y)\n",
    "    walk(x, y-1)\n",
    "    walk(x, y+1)\n",
    "\n",
    "result = 0\n",
    "\n",
    "for i in range(n):\n",
    "    for j in range(n):\n",
    "        if matrix[i][j] == 1:\n",
    "            result += 1\n",
    "            walk(i, j)\n",
    "\n",
    "print(result)"
   ]
  },
  {
   "cell_type": "markdown",
   "metadata": {},
   "source": [
    "## Задача 2.1"
   ]
  },
  {
   "cell_type": "code",
   "execution_count": 464,
   "metadata": {},
   "outputs": [],
   "source": [
    "M, N = 3, 4"
   ]
  },
  {
   "cell_type": "code",
   "execution_count": 465,
   "metadata": {},
   "outputs": [],
   "source": [
    "matrix = [[0, 0, 0, 0], [0, 1, 0, 0], [1, 0, 0, 0]]"
   ]
  },
  {
   "cell_type": "code",
   "execution_count": 466,
   "metadata": {},
   "outputs": [
    {
     "name": "stdout",
     "output_type": "stream",
     "text": [
      "6\n"
     ]
    }
   ],
   "source": [
    "S = 0\n",
    "\n",
    "# перебираем все числа в массиве\n",
    "for i in range(M):\n",
    "    for j in range(N):\n",
    "        # если текущее число массива равно нулю\n",
    "        if matrix[i][j] == 0:\n",
    "            # мы нашли остров минимального размера\n",
    "            w = 0\n",
    "            h = 0\n",
    "            heights = []\n",
    "            # если не достигли последнего столбца массива\n",
    "            for jj in range(j, N):\n",
    "                # если число справа ноль\n",
    "                if matrix[i][jj] == 0:\n",
    "                    # увеличиваем ширину на 1\n",
    "                    w += 1\n",
    "                    # идем вниз по массиву от числа справа (включая текущее число)\n",
    "                    for ii in range(i, M):\n",
    "                       # если число снизу ноль\n",
    "                        if matrix[ii][jj] == 0:\n",
    "                            # увеличиваем высоту на единицу\n",
    "                            h += 1\n",
    "                        # если число снизу единица - останавливаемся\n",
    "                        else:\n",
    "                            break \n",
    "                    heights.append(h)\n",
    "                    h = 0\n",
    "                # если число справа единица - останавливаемся \n",
    "                else:\n",
    "                    break\n",
    "            # считаем площадь наибольшего прямоугольника\n",
    "            s = min(heights) * w\n",
    "            if s > S:\n",
    "                S = s\n",
    "\n",
    "print(S)"
   ]
  },
  {
   "cell_type": "markdown",
   "metadata": {},
   "source": [
    "## Задача 2.2"
   ]
  },
  {
   "cell_type": "code",
   "execution_count": 467,
   "metadata": {},
   "outputs": [
    {
     "name": "stdout",
     "output_type": "stream",
     "text": [
      "[[0, 0, 0, 0], [0, 1, 0, 0], [1, 0, 0, 0]]\n"
     ]
    }
   ],
   "source": [
    "M, N = 3, 4\n",
    "T = 2\n",
    "B = [[1, 1], [0, 2]]\n",
    "\n",
    "matrix = [[0 for j in range(N)] for i in range(M)]\n",
    "\n",
    "for b in B:\n",
    "    j, i = b\n",
    "    matrix[i][j] = 1\n",
    "    \n",
    "print(matrix)"
   ]
  },
  {
   "cell_type": "code",
   "execution_count": 468,
   "metadata": {
    "scrolled": true
   },
   "outputs": [],
   "source": [
    "for i in range(M-1, -1, -1):\n",
    "    for j in range(N):\n",
    "        if i == 0:\n",
    "            matrix[i][j] = int(not matrix[i][j])\n",
    "        else:\n",
    "            if matrix[i][j] == 0:\n",
    "                matrix[i][j] = 1\n",
    "                for ii in range(i-1, -1, -1):\n",
    "                    if matrix[ii][j] == 0:\n",
    "                        matrix[i][j] += 1\n",
    "                    else:\n",
    "                        break\n",
    "            else:\n",
    "                matrix[i][j] = 0"
   ]
  },
  {
   "cell_type": "code",
   "execution_count": 469,
   "metadata": {},
   "outputs": [
    {
     "data": {
      "text/plain": [
       "[[1, 1, 1, 1], [2, 0, 2, 2], [0, 1, 3, 3]]"
      ]
     },
     "execution_count": 469,
     "metadata": {},
     "output_type": "execute_result"
    }
   ],
   "source": [
    "matrix"
   ]
  },
  {
   "cell_type": "markdown",
   "metadata": {},
   "source": [
    "## Задача 2.3"
   ]
  },
  {
   "cell_type": "code",
   "execution_count": 470,
   "metadata": {},
   "outputs": [],
   "source": [
    "N = 10\n",
    "A = [1, 1, 1, 4, 4, 2, 3, 3, 2, 2]\n",
    "#A = [6, 5, 4, 3, 2, 1, 0, 1, 2, 3]"
   ]
  },
  {
   "cell_type": "code",
   "execution_count": 471,
   "metadata": {},
   "outputs": [],
   "source": [
    "L = []\n",
    "R = []\n",
    "\n",
    "for i in range(N):\n",
    "    for l in range(i, -1, -1):\n",
    "        if A[l] == 0:\n",
    "            break\n",
    "        if A[l] < A[i]:\n",
    "            l = l + 1\n",
    "            break        \n",
    "    L.append(l)\n",
    "    for r in range(i, N):\n",
    "        if A[r] < A[i]:\n",
    "            r = r - 1\n",
    "            break\n",
    "    R.append(r)"
   ]
  },
  {
   "cell_type": "code",
   "execution_count": 472,
   "metadata": {},
   "outputs": [
    {
     "name": "stdout",
     "output_type": "stream",
     "text": [
      "[0, 0, 0, 3, 3, 3, 6, 6, 3, 3]\n",
      "[9, 9, 9, 4, 4, 9, 7, 7, 9, 9]\n"
     ]
    }
   ],
   "source": [
    "print(L)\n",
    "print(R)"
   ]
  },
  {
   "cell_type": "markdown",
   "metadata": {},
   "source": [
    "## Задача 2.4"
   ]
  },
  {
   "cell_type": "code",
   "execution_count": 481,
   "metadata": {},
   "outputs": [],
   "source": [
    "M, N = 3, 4\n",
    "T = 2\n",
    "B = [[1, 1], [0, 2]]\n",
    "\n",
    "matrix = [[0 for j in range(N)] for i in range(M)]\n",
    "\n",
    "for b in B:\n",
    "    j, i = b\n",
    "    matrix[i][j] = 1"
   ]
  },
  {
   "cell_type": "code",
   "execution_count": 482,
   "metadata": {},
   "outputs": [],
   "source": [
    "def calculate_max_area(heights, n):\n",
    "    s_max = 0\n",
    "    tmp = [0 for i in range(n)]\n",
    "    for i in range(n):\n",
    "        for l in range(i, -1, -1):\n",
    "            if heights[l] < heights[i]:\n",
    "                l = l + 1\n",
    "                break        \n",
    "        tmp[i] = l\n",
    "        for r in range(i, N):\n",
    "            if heights[r] < heights[i]:\n",
    "                r = r - 1\n",
    "                break\n",
    "        # считаем площадь: (r - l + 1) * h\n",
    "        s = (r - tmp[i] + 1) * heights[i]\n",
    "        if s > s_max:\n",
    "            s_max = s\n",
    "    return s_max"
   ]
  },
  {
   "cell_type": "code",
   "execution_count": 483,
   "metadata": {},
   "outputs": [
    {
     "name": "stdout",
     "output_type": "stream",
     "text": [
      "6\n"
     ]
    }
   ],
   "source": [
    "area_max = 0\n",
    "\n",
    "for i in range(M-1, -1, -1):\n",
    "    for j in range(N):\n",
    "        if i == 0:\n",
    "            matrix[i][j] = int(not matrix[i][j])\n",
    "        else:\n",
    "            if matrix[i][j] == 0:\n",
    "                matrix[i][j] = 1\n",
    "                for ii in range(i-1, -1, -1):\n",
    "                    if matrix[ii][j] == 0:\n",
    "                        matrix[i][j] += 1\n",
    "                    else:\n",
    "                        break\n",
    "            else:\n",
    "                matrix[i][j] = 0\n",
    "    area = calculate_max_area(matrix[i], N)\n",
    "    if area > area_max:\n",
    "        area_max = area\n",
    "        \n",
    "print(area_max)"
   ]
  },
  {
   "cell_type": "code",
   "execution_count": null,
   "metadata": {},
   "outputs": [],
   "source": []
  },
  {
   "cell_type": "code",
   "execution_count": null,
   "metadata": {},
   "outputs": [],
   "source": []
  }
 ],
 "metadata": {
  "kernelspec": {
   "display_name": "Python 3",
   "language": "python",
   "name": "python3"
  },
  "language_info": {
   "codemirror_mode": {
    "name": "ipython",
    "version": 3
   },
   "file_extension": ".py",
   "mimetype": "text/x-python",
   "name": "python",
   "nbconvert_exporter": "python",
   "pygments_lexer": "ipython3",
   "version": "3.6.9"
  }
 },
 "nbformat": 4,
 "nbformat_minor": 4
}
