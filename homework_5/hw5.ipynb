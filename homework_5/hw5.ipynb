{
 "cells": [
  {
   "cell_type": "markdown",
   "metadata": {},
   "source": [
    "# Реализация Insertion Sort и Shell Sort"
   ]
  },
  {
   "cell_type": "code",
   "execution_count": 1,
   "metadata": {},
   "outputs": [],
   "source": [
    "import random"
   ]
  },
  {
   "cell_type": "markdown",
   "metadata": {},
   "source": [
    "## 1. Реализация Insertion sort"
   ]
  },
  {
   "cell_type": "code",
   "execution_count": 2,
   "metadata": {},
   "outputs": [],
   "source": [
    "def sorted_insertion(array):\n",
    "    array_copy = array[:]\n",
    "    for i in range(len(array_copy)):\n",
    "        # выбираем элемент массива\n",
    "        selected_element = array_copy[i]\n",
    "        # начальный индекс для сравнения выбранного элемента с элементами в отсортированной части массива\n",
    "        j = i - 1\n",
    "        # пока индекс в отсортированной части массива неотрицательный и\n",
    "        # пока текущий элемент отсортированного массива больше выбранного элемента\n",
    "        while j >= 0 and array_copy[j] > selected_element:\n",
    "            # сдвигаем элементы в отсортированной части массива вправо на 1\n",
    "            array_copy[j + 1] = array_copy[j]\n",
    "            # уменьшаем индекс на 1, берем элемент с меньшим (или равным) значемением\n",
    "            j -= 1\n",
    "        # - если текущий элемент (по индеску j) отсортированного массива меньше или равен выбранному элементу,\n",
    "        # тогда записываем выбранный элемент в ячейку правее (с индексом j + 1)\n",
    "        # - если индекс отрицательный - пишем в самое начало\n",
    "        array_copy[j + 1] = selected_element\n",
    "    return array_copy"
   ]
  },
  {
   "cell_type": "code",
   "execution_count": 3,
   "metadata": {},
   "outputs": [
    {
     "name": "stdout",
     "output_type": "stream",
     "text": [
      "[12, 5, 14, 10, 4, 15, 13, 16, 18, 3, 20, 11, 7, 2, 21, 1, 9, 24, 0, 19, 6, 25, 8, 17, 23, 22]\n",
      "[0, 1, 2, 3, 4, 5, 6, 7, 8, 9, 10, 11, 12, 13, 14, 15, 16, 17, 18, 19, 20, 21, 22, 23, 24, 25]\n"
     ]
    }
   ],
   "source": [
    "A = [i for i in range(26)]\n",
    "random.shuffle(A)\n",
    "A_sorted = sorted_insertion(A)\n",
    "print(A)\n",
    "print(A_sorted)"
   ]
  },
  {
   "cell_type": "markdown",
   "metadata": {},
   "source": [
    "## 2. Реализация Shell sort"
   ]
  },
  {
   "cell_type": "code",
   "execution_count": 4,
   "metadata": {},
   "outputs": [],
   "source": [
    "def sorted_shell(array, gap_func):\n",
    "    gaps = gap_func(len(array))\n",
    "    array_copy = array[:]    \n",
    "    for gap in gaps:\n",
    "        for i in range(0, len(array), gap):\n",
    "            selected_element = array_copy[i]\n",
    "            j = i - gap\n",
    "            while j >= 0 and array_copy[j] > selected_element:\n",
    "                array_copy[j + gap] = array_copy[j]\n",
    "                j -= gap\n",
    "            array_copy[j + gap] = selected_element\n",
    "    return array_copy"
   ]
  },
  {
   "cell_type": "markdown",
   "metadata": {},
   "source": [
    "Последовательность Хиббарда (1963). Оценка сложности алгоритма $\\Theta(N^{3/2})$"
   ]
  },
  {
   "cell_type": "code",
   "execution_count": 5,
   "metadata": {},
   "outputs": [],
   "source": [
    "def get_hibbard_gaps(n):\n",
    "    gaps = []\n",
    "    k = 1\n",
    "    while (2**k - 1) < n:\n",
    "        gaps.append(2**k - 1)\n",
    "        k += 1\n",
    "    return list(reversed(gaps))"
   ]
  },
  {
   "cell_type": "markdown",
   "metadata": {},
   "source": [
    "Последовательность Кнута (1973). Оценка сложности алгоритма $\\Theta(N^{3/2})$"
   ]
  },
  {
   "cell_type": "code",
   "execution_count": 6,
   "metadata": {},
   "outputs": [],
   "source": [
    "def get_knuth_gaps(n):\n",
    "    gaps = []\n",
    "    k = 1\n",
    "    while (3**k - 1) / 2 < n / 3:\n",
    "        gaps.append(int((3**k - 1) / 2))\n",
    "        k += 1\n",
    "    return list(reversed(gaps))"
   ]
  },
  {
   "cell_type": "markdown",
   "metadata": {},
   "source": [
    "Последовательность Седжвика (1982). Оценка сложности алгоритма $O(N^{4/3})$"
   ]
  },
  {
   "cell_type": "code",
   "execution_count": 7,
   "metadata": {},
   "outputs": [],
   "source": [
    "def get_sedgewick_gaps(n):\n",
    "    gaps = [1]\n",
    "    for k in range(1, n):\n",
    "        x = 4**k + 3 * 2**(k - 1) + 1\n",
    "        if x < n:\n",
    "            gaps.append(x)\n",
    "        else:\n",
    "            break\n",
    "    return list(reversed(gaps))"
   ]
  },
  {
   "cell_type": "markdown",
   "metadata": {},
   "source": [
    "Последовательность Пратта (1971). Оценка сложности алгоритма $O(N \\log^2 N)$"
   ]
  },
  {
   "cell_type": "code",
   "execution_count": 8,
   "metadata": {},
   "outputs": [],
   "source": [
    "def get_pratt_gaps(n):\n",
    "    return list(reversed([i for i in range(1, n) if i % 2 == 0 or i % 3 == 0 or i == 1]))"
   ]
  },
  {
   "cell_type": "markdown",
   "metadata": {},
   "source": [
    "Тест"
   ]
  },
  {
   "cell_type": "code",
   "execution_count": 9,
   "metadata": {},
   "outputs": [],
   "source": [
    "A = [i for i in range(26)]\n",
    "random.shuffle(A)"
   ]
  },
  {
   "cell_type": "code",
   "execution_count": 10,
   "metadata": {},
   "outputs": [
    {
     "name": "stdout",
     "output_type": "stream",
     "text": [
      "[23, 24, 1, 15, 2, 9, 11, 6, 8, 19, 16, 3, 20, 7, 13, 5, 0, 4, 14, 25, 12, 22, 17, 10, 21, 18]\n",
      "[0, 1, 2, 3, 4, 5, 6, 7, 8, 9, 10, 11, 12, 13, 14, 15, 16, 17, 18, 19, 20, 21, 22, 23, 24, 25]\n"
     ]
    }
   ],
   "source": [
    "A_sorted = sorted_shell(A, get_hibbard_gaps)\n",
    "print(A)\n",
    "print(A_sorted)"
   ]
  },
  {
   "cell_type": "code",
   "execution_count": 11,
   "metadata": {},
   "outputs": [
    {
     "name": "stdout",
     "output_type": "stream",
     "text": [
      "[23, 24, 1, 15, 2, 9, 11, 6, 8, 19, 16, 3, 20, 7, 13, 5, 0, 4, 14, 25, 12, 22, 17, 10, 21, 18]\n",
      "[0, 1, 2, 3, 4, 5, 6, 7, 8, 9, 10, 11, 12, 13, 14, 15, 16, 17, 18, 19, 20, 21, 22, 23, 24, 25]\n"
     ]
    }
   ],
   "source": [
    "A_sorted = sorted_shell(A, get_knuth_gaps)\n",
    "print(A)\n",
    "print(A_sorted)"
   ]
  },
  {
   "cell_type": "code",
   "execution_count": 12,
   "metadata": {},
   "outputs": [
    {
     "name": "stdout",
     "output_type": "stream",
     "text": [
      "[23, 24, 1, 15, 2, 9, 11, 6, 8, 19, 16, 3, 20, 7, 13, 5, 0, 4, 14, 25, 12, 22, 17, 10, 21, 18]\n",
      "[0, 1, 2, 3, 4, 5, 6, 7, 8, 9, 10, 11, 12, 13, 14, 15, 16, 17, 18, 19, 20, 21, 22, 23, 24, 25]\n"
     ]
    }
   ],
   "source": [
    "A_sorted = sorted_shell(A, get_sedgewick_gaps)\n",
    "print(A)\n",
    "print(A_sorted)"
   ]
  },
  {
   "cell_type": "code",
   "execution_count": 13,
   "metadata": {},
   "outputs": [
    {
     "name": "stdout",
     "output_type": "stream",
     "text": [
      "[23, 24, 1, 15, 2, 9, 11, 6, 8, 19, 16, 3, 20, 7, 13, 5, 0, 4, 14, 25, 12, 22, 17, 10, 21, 18]\n",
      "[0, 1, 2, 3, 4, 5, 6, 7, 8, 9, 10, 11, 12, 13, 14, 15, 16, 17, 18, 19, 20, 21, 22, 23, 24, 25]\n"
     ]
    }
   ],
   "source": [
    "A_sorted = sorted_shell(A, get_pratt_gaps)\n",
    "print(A)\n",
    "print(A_sorted)"
   ]
  },
  {
   "cell_type": "markdown",
   "metadata": {},
   "source": [
    "## 3. Сравнение эффективности insertion и shell сортировок"
   ]
  },
  {
   "cell_type": "code",
   "execution_count": 14,
   "metadata": {},
   "outputs": [],
   "source": [
    "def shuffle_part(array, n):\n",
    "    if type(n) == float:\n",
    "        num = int(n * len(array))\n",
    "    if type(n) == int:\n",
    "        num = n\n",
    "    indices = [i for i in range(len(array))]\n",
    "    indices_shuffle = random.sample(indices, num)\n",
    "    half_1 = indices_shuffle[0:int(len(indices_shuffle) / 2)]\n",
    "    half_2 = indices_shuffle[int(len(indices_shuffle) / 2):]\n",
    "    for index_1, index_2 in zip(half_1, half_2):\n",
    "        array[index_1], array[index_2] = array[index_2], array[index_1]"
   ]
  },
  {
   "cell_type": "markdown",
   "metadata": {},
   "source": [
    "### Cлучайный массив"
   ]
  },
  {
   "cell_type": "code",
   "execution_count": 15,
   "metadata": {},
   "outputs": [],
   "source": [
    "A = [i for i in range(10000)]\n",
    "random.shuffle(A)"
   ]
  },
  {
   "cell_type": "code",
   "execution_count": 16,
   "metadata": {},
   "outputs": [
    {
     "name": "stdout",
     "output_type": "stream",
     "text": [
      "3.64 s ± 47.9 ms per loop (mean ± std. dev. of 2 runs, 2 loops each)\n"
     ]
    }
   ],
   "source": [
    "%%timeit -n 2 -r 2\n",
    "sorted_insertion(A)"
   ]
  },
  {
   "cell_type": "code",
   "execution_count": 17,
   "metadata": {},
   "outputs": [
    {
     "name": "stdout",
     "output_type": "stream",
     "text": [
      "2.64 s ± 9.08 ms per loop (mean ± std. dev. of 2 runs, 2 loops each)\n"
     ]
    }
   ],
   "source": [
    "%%timeit -n 2 -r 2\n",
    "sorted_shell(A, get_hibbard_gaps)"
   ]
  },
  {
   "cell_type": "markdown",
   "metadata": {},
   "source": [
    "### Массив, в котором перемешаны 10% элементов"
   ]
  },
  {
   "cell_type": "code",
   "execution_count": 18,
   "metadata": {},
   "outputs": [],
   "source": [
    "A = [i for i in range(10000)]\n",
    "shuffle_part(A, 0.1)"
   ]
  },
  {
   "cell_type": "code",
   "execution_count": 19,
   "metadata": {},
   "outputs": [
    {
     "name": "stdout",
     "output_type": "stream",
     "text": [
      "484 ms ± 5.03 ms per loop (mean ± std. dev. of 3 runs, 3 loops each)\n"
     ]
    }
   ],
   "source": [
    "%%timeit -n 3 -r 3\n",
    "sorted_insertion(A)"
   ]
  },
  {
   "cell_type": "code",
   "execution_count": 20,
   "metadata": {},
   "outputs": [
    {
     "name": "stdout",
     "output_type": "stream",
     "text": [
      "333 ms ± 1.82 ms per loop (mean ± std. dev. of 3 runs, 3 loops each)\n"
     ]
    }
   ],
   "source": [
    "%%timeit -n 3 -r 3\n",
    "sorted_shell(A, get_hibbard_gaps)"
   ]
  },
  {
   "cell_type": "markdown",
   "metadata": {},
   "source": [
    "### Почти упорядоченный массив"
   ]
  },
  {
   "cell_type": "code",
   "execution_count": 21,
   "metadata": {},
   "outputs": [],
   "source": [
    "A = [i for i in range(10000)]\n",
    "shuffle_part(A, 5)"
   ]
  },
  {
   "cell_type": "code",
   "execution_count": 22,
   "metadata": {},
   "outputs": [
    {
     "name": "stdout",
     "output_type": "stream",
     "text": [
      "6.55 ms ± 543 µs per loop (mean ± std. dev. of 3 runs, 3 loops each)\n"
     ]
    }
   ],
   "source": [
    "%%timeit -n 3 -r 3\n",
    "sorted_insertion(A)"
   ]
  },
  {
   "cell_type": "code",
   "execution_count": 23,
   "metadata": {},
   "outputs": [
    {
     "name": "stdout",
     "output_type": "stream",
     "text": [
      "23.5 ms ± 3.68 ms per loop (mean ± std. dev. of 3 runs, 3 loops each)\n"
     ]
    }
   ],
   "source": [
    "%%timeit -n 3 -r 3\n",
    "sorted_shell(A, get_pratt_gaps)"
   ]
  },
  {
   "cell_type": "markdown",
   "metadata": {},
   "source": [
    "### Выводы"
   ]
  },
  {
   "cell_type": "markdown",
   "metadata": {},
   "source": [
    "При сортировке случайного массива и массива, в котором перемешаны 10% элементов, лучше себя показывает Shell sort. В случае почти упорядоченного массива Insertion sort лучше."
   ]
  },
  {
   "cell_type": "markdown",
   "metadata": {},
   "source": [
    "## 4. Сравнение эффективности shell сортировок"
   ]
  },
  {
   "cell_type": "markdown",
   "metadata": {},
   "source": [
    "### Тест на примере случайного массива с 10000 элементами"
   ]
  },
  {
   "cell_type": "code",
   "execution_count": 24,
   "metadata": {},
   "outputs": [],
   "source": [
    "A = [i for i in range(10000)]\n",
    "random.shuffle(A)"
   ]
  },
  {
   "cell_type": "code",
   "execution_count": 25,
   "metadata": {},
   "outputs": [
    {
     "name": "stdout",
     "output_type": "stream",
     "text": [
      "2.73 s ± 42.2 ms per loop (mean ± std. dev. of 2 runs, 2 loops each)\n"
     ]
    }
   ],
   "source": [
    "%%timeit -n 2 -r 2\n",
    "sorted_shell(A, get_hibbard_gaps)"
   ]
  },
  {
   "cell_type": "code",
   "execution_count": 26,
   "metadata": {},
   "outputs": [
    {
     "name": "stdout",
     "output_type": "stream",
     "text": [
      "3.08 s ± 36.8 ms per loop (mean ± std. dev. of 2 runs, 2 loops each)\n"
     ]
    }
   ],
   "source": [
    "%%timeit -n 2 -r 2\n",
    "sorted_shell(A, get_knuth_gaps)"
   ]
  },
  {
   "cell_type": "code",
   "execution_count": 27,
   "metadata": {},
   "outputs": [
    {
     "name": "stdout",
     "output_type": "stream",
     "text": [
      "3.33 s ± 26.8 ms per loop (mean ± std. dev. of 2 runs, 2 loops each)\n"
     ]
    }
   ],
   "source": [
    "%%timeit -n 2 -r 2\n",
    "sorted_shell(A, get_sedgewick_gaps)"
   ]
  },
  {
   "cell_type": "code",
   "execution_count": 28,
   "metadata": {},
   "outputs": [
    {
     "name": "stdout",
     "output_type": "stream",
     "text": [
      "1.8 s ± 10.5 ms per loop (mean ± std. dev. of 2 runs, 2 loops each)\n"
     ]
    }
   ],
   "source": [
    "%%timeit -n 2 -r 2\n",
    "sorted_shell(A, get_pratt_gaps)"
   ]
  },
  {
   "cell_type": "markdown",
   "metadata": {},
   "source": [
    "### Выводы"
   ]
  },
  {
   "cell_type": "markdown",
   "metadata": {},
   "source": [
    "Лучше всех себя показал Shell sort с последовательностью Пратта с оценкой сложности $O(N \\log^2 N)$).  \n",
    "Худше всех Shell sort с последовательностью Седжвика несмотря на заявленную $O(N^{4/3})$."
   ]
  }
 ],
 "metadata": {
  "kernelspec": {
   "display_name": "Python 3",
   "language": "python",
   "name": "python3"
  },
  "language_info": {
   "codemirror_mode": {
    "name": "ipython",
    "version": 3
   },
   "file_extension": ".py",
   "mimetype": "text/x-python",
   "name": "python",
   "nbconvert_exporter": "python",
   "pygments_lexer": "ipython3",
   "version": "3.6.8"
  }
 },
 "nbformat": 4,
 "nbformat_minor": 2
}
