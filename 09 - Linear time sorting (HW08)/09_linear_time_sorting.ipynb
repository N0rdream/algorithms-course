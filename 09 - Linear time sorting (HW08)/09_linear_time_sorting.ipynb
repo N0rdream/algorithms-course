{
 "cells": [
  {
   "cell_type": "code",
   "execution_count": 1,
   "metadata": {},
   "outputs": [],
   "source": [
    "import random"
   ]
  },
  {
   "cell_type": "code",
   "execution_count": 37,
   "metadata": {},
   "outputs": [],
   "source": [
    "def sort_bucket(array, k):\n",
    "    buckets = [[] for i in range(k)]\n",
    "    max_element = max(array)\n",
    "    \n",
    "    # что делать с макс элементом?\n",
    "    \n",
    "    for elem in array:\n",
    "        if elem == max_element:\n",
    "            buckets[k-1].append(elem)\n",
    "        else:\n",
    "            buckets[round(elem / max_element * k)].append(elem)\n",
    "    for bucket in buckets:\n",
    "        bucket.sort()\n",
    "        print(bucket)\n",
    "    j = 0\n",
    "    for bucket in buckets:\n",
    "        for elem in bucket:\n",
    "            array[j] = elem\n",
    "            j += 1"
   ]
  },
  {
   "cell_type": "code",
   "execution_count": 38,
   "metadata": {},
   "outputs": [],
   "source": [
    "test_array = [random.randint(1, 10) for i in range(50)]"
   ]
  },
  {
   "cell_type": "code",
   "execution_count": 39,
   "metadata": {},
   "outputs": [
    {
     "ename": "IndexError",
     "evalue": "list index out of range",
     "output_type": "error",
     "traceback": [
      "\u001b[0;31m---------------------------------------------------------------------------\u001b[0m",
      "\u001b[0;31mIndexError\u001b[0m                                Traceback (most recent call last)",
      "\u001b[0;32m<ipython-input-39-c6d0191824ac>\u001b[0m in \u001b[0;36m<module>\u001b[0;34m()\u001b[0m\n\u001b[0;32m----> 1\u001b[0;31m \u001b[0msort_bucket\u001b[0m\u001b[0;34m(\u001b[0m\u001b[0mtest_array\u001b[0m\u001b[0;34m,\u001b[0m \u001b[0;36m3\u001b[0m\u001b[0;34m)\u001b[0m\u001b[0;34m\u001b[0m\u001b[0;34m\u001b[0m\u001b[0m\n\u001b[0m",
      "\u001b[0;32m<ipython-input-37-82d21c01b248>\u001b[0m in \u001b[0;36msort_bucket\u001b[0;34m(array, k)\u001b[0m\n\u001b[1;32m      9\u001b[0m             \u001b[0;31m#buckets[k-1].append(elem)\u001b[0m\u001b[0;34m\u001b[0m\u001b[0;34m\u001b[0m\u001b[0;34m\u001b[0m\u001b[0m\n\u001b[1;32m     10\u001b[0m         \u001b[0;31m#else:\u001b[0m\u001b[0;34m\u001b[0m\u001b[0;34m\u001b[0m\u001b[0;34m\u001b[0m\u001b[0m\n\u001b[0;32m---> 11\u001b[0;31m         \u001b[0mbuckets\u001b[0m\u001b[0;34m[\u001b[0m\u001b[0mround\u001b[0m\u001b[0;34m(\u001b[0m\u001b[0melem\u001b[0m \u001b[0;34m/\u001b[0m \u001b[0mmax_element\u001b[0m \u001b[0;34m*\u001b[0m \u001b[0mk\u001b[0m\u001b[0;34m)\u001b[0m\u001b[0;34m]\u001b[0m\u001b[0;34m.\u001b[0m\u001b[0mappend\u001b[0m\u001b[0;34m(\u001b[0m\u001b[0melem\u001b[0m\u001b[0;34m)\u001b[0m\u001b[0;34m\u001b[0m\u001b[0;34m\u001b[0m\u001b[0m\n\u001b[0m\u001b[1;32m     12\u001b[0m     \u001b[0;32mfor\u001b[0m \u001b[0mbucket\u001b[0m \u001b[0;32min\u001b[0m \u001b[0mbuckets\u001b[0m\u001b[0;34m:\u001b[0m\u001b[0;34m\u001b[0m\u001b[0;34m\u001b[0m\u001b[0m\n\u001b[1;32m     13\u001b[0m         \u001b[0mbucket\u001b[0m\u001b[0;34m.\u001b[0m\u001b[0msort\u001b[0m\u001b[0;34m(\u001b[0m\u001b[0;34m)\u001b[0m\u001b[0;34m\u001b[0m\u001b[0;34m\u001b[0m\u001b[0m\n",
      "\u001b[0;31mIndexError\u001b[0m: list index out of range"
     ]
    }
   ],
   "source": [
    "sort_bucket(test_array, 3)"
   ]
  },
  {
   "cell_type": "code",
   "execution_count": 40,
   "metadata": {},
   "outputs": [
    {
     "data": {
      "text/plain": [
       "[4,\n",
       " 1,\n",
       " 1,\n",
       " 9,\n",
       " 7,\n",
       " 3,\n",
       " 8,\n",
       " 5,\n",
       " 8,\n",
       " 7,\n",
       " 6,\n",
       " 6,\n",
       " 4,\n",
       " 8,\n",
       " 9,\n",
       " 1,\n",
       " 8,\n",
       " 10,\n",
       " 10,\n",
       " 8,\n",
       " 7,\n",
       " 4,\n",
       " 3,\n",
       " 4,\n",
       " 8,\n",
       " 1,\n",
       " 5,\n",
       " 6,\n",
       " 10,\n",
       " 8,\n",
       " 7,\n",
       " 10,\n",
       " 9,\n",
       " 10,\n",
       " 1,\n",
       " 6,\n",
       " 3,\n",
       " 6,\n",
       " 5,\n",
       " 1,\n",
       " 6,\n",
       " 3,\n",
       " 2,\n",
       " 9,\n",
       " 8,\n",
       " 1,\n",
       " 3,\n",
       " 3,\n",
       " 2,\n",
       " 7]"
      ]
     },
     "execution_count": 40,
     "metadata": {},
     "output_type": "execute_result"
    }
   ],
   "source": [
    "test_array"
   ]
  },
  {
   "cell_type": "code",
   "execution_count": 6,
   "metadata": {},
   "outputs": [],
   "source": [
    "def sort_counting(array, k): # [0, ..., k)\n",
    "    counter = [0 for i in range(k)]\n",
    "    for number in array:\n",
    "        counter[number] += 1\n",
    "    i = 0\n",
    "    for x in range(0, k):\n",
    "        for j in range(0, counter[x]):\n",
    "            array[i] = x\n",
    "            i += 1"
   ]
  },
  {
   "cell_type": "code",
   "execution_count": 7,
   "metadata": {},
   "outputs": [],
   "source": [
    "test_array = [random.randint(1, 9) for i in range(20)]"
   ]
  },
  {
   "cell_type": "code",
   "execution_count": 8,
   "metadata": {},
   "outputs": [],
   "source": [
    "sort_counting(test_array, 10)"
   ]
  },
  {
   "cell_type": "code",
   "execution_count": 9,
   "metadata": {},
   "outputs": [
    {
     "data": {
      "text/plain": [
       "[1, 1, 2, 2, 2, 3, 3, 3, 4, 5, 5, 5, 6, 6, 6, 6, 7, 8, 8, 9]"
      ]
     },
     "execution_count": 9,
     "metadata": {},
     "output_type": "execute_result"
    }
   ],
   "source": [
    "test_array"
   ]
  },
  {
   "cell_type": "code",
   "execution_count": 10,
   "metadata": {},
   "outputs": [],
   "source": [
    "def sort_counting_objects(array, k): # array of objects with keys (tuples [1])\n",
    "    counter = [0 for i in range(k)]\n",
    "    for obj in array:\n",
    "        counter[obj[1]] += 1\n",
    "    for j in range(1, k):\n",
    "        counter[j] += counter[j - 1]\n",
    "    print(counter)\n",
    "    new_array = [0 for i in range(len(array))]\n",
    "    \n",
    "    #переписать reversed - для внешней сортировки не подойдет\n",
    "    \n",
    "    for elem in reversed(array):\n",
    "        counter[elem[1]] -= 1\n",
    "        new_array[counter[elem[1]]] = elem\n",
    "    return new_array"
   ]
  },
  {
   "cell_type": "code",
   "execution_count": 11,
   "metadata": {},
   "outputs": [],
   "source": [
    "test_array = [(random.randint(1, 9), random.randint(1, 9)) for i in range(7)]"
   ]
  },
  {
   "cell_type": "code",
   "execution_count": 12,
   "metadata": {},
   "outputs": [
    {
     "data": {
      "text/plain": [
       "[(9, 5), (9, 8), (1, 6), (8, 8), (8, 8), (3, 4), (3, 1)]"
      ]
     },
     "execution_count": 12,
     "metadata": {},
     "output_type": "execute_result"
    }
   ],
   "source": [
    "test_array"
   ]
  },
  {
   "cell_type": "code",
   "execution_count": 13,
   "metadata": {},
   "outputs": [
    {
     "name": "stdout",
     "output_type": "stream",
     "text": [
      "[0, 1, 1, 1, 2, 3, 4, 4, 7, 7]\n"
     ]
    },
    {
     "data": {
      "text/plain": [
       "[(3, 1), (3, 4), (9, 5), (1, 6), (9, 8), (8, 8), (8, 8)]"
      ]
     },
     "execution_count": 13,
     "metadata": {},
     "output_type": "execute_result"
    }
   ],
   "source": [
    "sort_counting_objects(test_array, 10)"
   ]
  },
  {
   "cell_type": "code",
   "execution_count": 182,
   "metadata": {},
   "outputs": [],
   "source": [
    "def sort_radix(array, base, max_exp):\n",
    "    for exp in range(0, max_exp+1):\n",
    "        sort_radix_helper(array, base, exp)\n",
    "\n",
    "def sort_radix_helper(array, base, exp):\n",
    "    # создаем пустой массив размера base для подсчета количества встретившихся цифр\n",
    "    counter = [0 for i in range(base)]\n",
    "    for number in array:\n",
    "        counter[get_digit(number, base, exp)] += 1\n",
    "    for i in range(1, base):\n",
    "        counter[i] += counter[i - 1] \n",
    "    tmp_array = [0 for i in range(len(array))]\n",
    "    for i in range(len(array)-1, -1, -1):\n",
    "        counter[get_digit(array[i], base, exp)] -= 1\n",
    "        tmp_array[counter[get_digit(array[i], base, exp)]] = array[i] \n",
    "    for i in range(0, len(array)):\n",
    "        array[i] = tmp_array[i]\n",
    "        \n",
    "def get_digit(number, base, exp):\n",
    "    return number // base**exp % base"
   ]
  },
  {
   "cell_type": "code",
   "execution_count": 183,
   "metadata": {},
   "outputs": [],
   "source": [
    "test_array = [random.randint(1, 1000) for i in range(10)]"
   ]
  },
  {
   "cell_type": "code",
   "execution_count": 184,
   "metadata": {},
   "outputs": [
    {
     "data": {
      "text/plain": [
       "[465, 313, 712, 520, 128, 59, 859, 421, 141, 680]"
      ]
     },
     "execution_count": 184,
     "metadata": {},
     "output_type": "execute_result"
    }
   ],
   "source": [
    "test_array"
   ]
  },
  {
   "cell_type": "code",
   "execution_count": 185,
   "metadata": {},
   "outputs": [],
   "source": [
    "sort_radix(test_array, 10, 2)"
   ]
  },
  {
   "cell_type": "code",
   "execution_count": 186,
   "metadata": {},
   "outputs": [
    {
     "data": {
      "text/plain": [
       "[59, 128, 141, 313, 421, 465, 520, 680, 712, 859]"
      ]
     },
     "execution_count": 186,
     "metadata": {},
     "output_type": "execute_result"
    }
   ],
   "source": [
    "test_array"
   ]
  },
  {
   "cell_type": "code",
   "execution_count": null,
   "metadata": {},
   "outputs": [],
   "source": []
  },
  {
   "cell_type": "code",
   "execution_count": null,
   "metadata": {},
   "outputs": [],
   "source": []
  },
  {
   "cell_type": "code",
   "execution_count": null,
   "metadata": {},
   "outputs": [],
   "source": []
  },
  {
   "cell_type": "code",
   "execution_count": null,
   "metadata": {},
   "outputs": [],
   "source": []
  },
  {
   "cell_type": "code",
   "execution_count": null,
   "metadata": {},
   "outputs": [],
   "source": []
  },
  {
   "cell_type": "code",
   "execution_count": null,
   "metadata": {},
   "outputs": [],
   "source": []
  },
  {
   "cell_type": "code",
   "execution_count": null,
   "metadata": {},
   "outputs": [],
   "source": []
  },
  {
   "cell_type": "code",
   "execution_count": null,
   "metadata": {},
   "outputs": [],
   "source": []
  }
 ],
 "metadata": {
  "kernelspec": {
   "display_name": "Python 3",
   "language": "python",
   "name": "python3"
  },
  "language_info": {
   "codemirror_mode": {
    "name": "ipython",
    "version": 3
   },
   "file_extension": ".py",
   "mimetype": "text/x-python",
   "name": "python",
   "nbconvert_exporter": "python",
   "pygments_lexer": "ipython3",
   "version": "3.7.2"
  }
 },
 "nbformat": 4,
 "nbformat_minor": 2
}
