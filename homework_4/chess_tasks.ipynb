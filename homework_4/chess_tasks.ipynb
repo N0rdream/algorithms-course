{
 "cells": [
  {
   "cell_type": "code",
   "execution_count": 140,
   "metadata": {},
   "outputs": [],
   "source": [
    "import os\n",
    "\n",
    "BASE_FOLDER = '2019-08-12_Chess-Tasks'"
   ]
  },
  {
   "cell_type": "code",
   "execution_count": 37,
   "metadata": {},
   "outputs": [],
   "source": [
    "BASE_FOLDER = '2019-08-12_Chess-Tasks'\n",
    "ASSIGNMENTS = sorted(os.listdir(BASE_FOLDER))"
   ]
  },
  {
   "cell_type": "code",
   "execution_count": 150,
   "metadata": {},
   "outputs": [],
   "source": [
    "def get_folder(n):\n",
    "    return ASSIGNMENTS[n - 1]\n",
    "\n",
    "def get_assignment(n):\n",
    "    with open(os.path.join(BASE_FOLDER, get_folder(n), 'problem.txt')) as f:\n",
    "        print(f.read())"
   ]
  },
  {
   "cell_type": "code",
   "execution_count": 76,
   "metadata": {},
   "outputs": [],
   "source": [
    "def get_inputs(n):\n",
    "    dirname = ASSIGNMENTS[n - 1]\n",
    "    result = []\n",
    "    for filename in os.listdir(os.path.join(BASE_FOLDER, dirname)):\n",
    "        if 'test' in filename:\n",
    "            base, ext = os.path.splitext(filename)\n",
    "            if ext == '.in':\n",
    "                with open(os.path.join(BASE_FOLDER, dirname, filename)) as f:\n",
    "                    result.append(f.read().strip())\n",
    "    return result"
   ]
  },
  {
   "cell_type": "markdown",
   "metadata": {},
   "source": [
    "## 1. FEN - ASCII"
   ]
  },
  {
   "cell_type": "code",
   "execution_count": 77,
   "metadata": {},
   "outputs": [
    {
     "name": "stdout",
     "output_type": "stream",
     "text": [
      "1.FEN - ASCII\n",
      "\n",
      "Дано расположение шахматных фигур на доске в FEN-нотации.\n",
      "\n",
      "Вывести её в текстовом ASCII формате по образцу.\n",
      "На диаграмме должно присутствовать:\n",
      "<ul><li>рамка вокруг позиции, </li><li>буквы <span class='prog'>a-h</span> снизу,</li><li>цифры <span class='prog'>1-8</span> слева,</li> <li>точки на пустых полях,</li> <li>фигуры на своих местах</li></ul>\n",
      "\n",
      "<strong>Начальные данные</strong>: строка символов - позиция в FEN нотации\n",
      "<strong>Вывод результата</strong>: 11 строчек по 21 символу на каждом.\n",
      "\n"
     ]
    }
   ],
   "source": [
    "get_assignment(1)"
   ]
  },
  {
   "cell_type": "code",
   "execution_count": 126,
   "metadata": {},
   "outputs": [],
   "source": [
    "def line_transform(line):\n",
    "    result = ''\n",
    "    for cell in line:\n",
    "        try:\n",
    "            result += '. ' * int(cell)\n",
    "        except ValueError:\n",
    "            result += cell + ' '\n",
    "    return result\n",
    "\n",
    "\n",
    "def get_base_board(s):\n",
    "    result = [el for el in s.split('/')[:7]]\n",
    "    result.append(s.split('/')[7].split()[0])\n",
    "    return [line_transform(line) for line in result]\n",
    "\n",
    "\n",
    "def get_ascii_board(s):\n",
    "    base_board = get_base_board(s)\n",
    "    border_line = '  +' + '-' * 17 + '+'\n",
    "    print(border_line)\n",
    "    for i, line in enumerate(base_board):\n",
    "        print(str(len(base_board) - i) + ' | ' + line + '|')\n",
    "    print(border_line)\n",
    "    print('    a b c d e f g h  ')"
   ]
  },
  {
   "cell_type": "code",
   "execution_count": 128,
   "metadata": {},
   "outputs": [
    {
     "name": "stdout",
     "output_type": "stream",
     "text": [
      "7k/8/8/8/8/8/8/K7 w - - 0 50\n",
      "  +-----------------+\n",
      "8 | . . . . . . . k |\n",
      "7 | . . . . . . . . |\n",
      "6 | . . . . . . . . |\n",
      "5 | . . . . . . . . |\n",
      "4 | . . . . . . . . |\n",
      "3 | . . . . . . . . |\n",
      "2 | . . . . . . . . |\n",
      "1 | K . . . . . . . |\n",
      "  +-----------------+\n",
      "    a b c d e f g h  \n",
      "\n",
      "8/1k6/ppp4p/8/8/8/1K6/QQQQQQQQ w - - 0 50\n",
      "  +-----------------+\n",
      "8 | . . . . . . . . |\n",
      "7 | . k . . . . . . |\n",
      "6 | p p p . . . . p |\n",
      "5 | . . . . . . . . |\n",
      "4 | . . . . . . . . |\n",
      "3 | . . . . . . . . |\n",
      "2 | . K . . . . . . |\n",
      "1 | Q Q Q Q Q Q Q Q |\n",
      "  +-----------------+\n",
      "    a b c d e f g h  \n",
      "\n",
      "rnbqkbnr/pppppppp/8/8/8/8/PPPPPPPP/RNBQKBNR w KQkq - 0 1\n",
      "  +-----------------+\n",
      "8 | r n b q k b n r |\n",
      "7 | p p p p p p p p |\n",
      "6 | . . . . . . . . |\n",
      "5 | . . . . . . . . |\n",
      "4 | . . . . . . . . |\n",
      "3 | . . . . . . . . |\n",
      "2 | P P P P P P P P |\n",
      "1 | R N B Q K B N R |\n",
      "  +-----------------+\n",
      "    a b c d e f g h  \n",
      "\n",
      "r1n1k1b1/1r1b1q1n/1p1p1p1p/p1p1p1p1/1P1P1P1P/P1P1P1P1/1R1B1Q1N/R1N1K1B1 w - - 0 50\n",
      "  +-----------------+\n",
      "8 | r . n . k . b . |\n",
      "7 | . r . b . q . n |\n",
      "6 | . p . p . p . p |\n",
      "5 | p . p . p . p . |\n",
      "4 | . P . P . P . P |\n",
      "3 | P . P . P . P . |\n",
      "2 | . R . B . Q . N |\n",
      "1 | R . N . K . B . |\n",
      "  +-----------------+\n",
      "    a b c d e f g h  \n",
      "\n",
      "2b1k3/7p/2p3pP/1pPp1pP1/pP1PpP2/P3P3/8/2B1K3 w - - 0 50\n",
      "  +-----------------+\n",
      "8 | . . b . k . . . |\n",
      "7 | . . . . . . . p |\n",
      "6 | . . p . . . p P |\n",
      "5 | . p P p . p P . |\n",
      "4 | p P . P p P . . |\n",
      "3 | P . . . P . . . |\n",
      "2 | . . . . . . . . |\n",
      "1 | . . B . K . . . |\n",
      "  +-----------------+\n",
      "    a b c d e f g h  \n",
      "\n",
      "8/6k1/2PPP3/2PKP3/2PPPn2/8/8/8 w - - 0 50\n",
      "  +-----------------+\n",
      "8 | . . . . . . . . |\n",
      "7 | . . . . . . k . |\n",
      "6 | . . P P P . . . |\n",
      "5 | . . P K P . . . |\n",
      "4 | . . P P P n . . |\n",
      "3 | . . . . . . . . |\n",
      "2 | . . . . . . . . |\n",
      "1 | . . . . . . . . |\n",
      "  +-----------------+\n",
      "    a b c d e f g h  \n",
      "\n",
      "r1bqkb1r/pppp1ppp/2n2n2/4p3/4P3/2N2N2/PPPP1PPP/R1BQKB1R w - - 0 50\n",
      "  +-----------------+\n",
      "8 | r . b q k b . r |\n",
      "7 | p p p p . p p p |\n",
      "6 | . . n . . n . . |\n",
      "5 | . . . . p . . . |\n",
      "4 | . . . . P . . . |\n",
      "3 | . . N . . N . . |\n",
      "2 | P P P P . P P P |\n",
      "1 | R . B Q K B . R |\n",
      "  +-----------------+\n",
      "    a b c d e f g h  \n",
      "\n",
      "r1b2rk1/pp2nNp1/3b3p/q1p1p2Q/1nBpP3/3P2N1/PPPB1PPP/R3K2R w KQ - 3 12\n",
      "  +-----------------+\n",
      "8 | r . b . . r k . |\n",
      "7 | p p . . n N p . |\n",
      "6 | . . . b . . . p |\n",
      "5 | q . p . p . . Q |\n",
      "4 | . n B p P . . . |\n",
      "3 | . . . P . . N . |\n",
      "2 | P P P B . P P P |\n",
      "1 | R . . . K . . R |\n",
      "  +-----------------+\n",
      "    a b c d e f g h  \n",
      "\n",
      "rnb1kbnr/pppp1ppp/4p3/8/6Pq/5P2/PPPPP2P/RNBQKBNR w - - 0 50\n",
      "  +-----------------+\n",
      "8 | r n b . k b n r |\n",
      "7 | p p p p . p p p |\n",
      "6 | . . . . p . . . |\n",
      "5 | . . . . . . . . |\n",
      "4 | . . . . . . P q |\n",
      "3 | . . . . . P . . |\n",
      "2 | P P P P P . . P |\n",
      "1 | R N B Q K B N R |\n",
      "  +-----------------+\n",
      "    a b c d e f g h  \n",
      "\n",
      "7k/7q/P6r/N6b/B6n/R6p/Q7/K7 w - - 0 50\n",
      "  +-----------------+\n",
      "8 | . . . . . . . k |\n",
      "7 | . . . . . . . q |\n",
      "6 | P . . . . . . r |\n",
      "5 | N . . . . . . b |\n",
      "4 | B . . . . . . n |\n",
      "3 | R . . . . . . p |\n",
      "2 | Q . . . . . . . |\n",
      "1 | K . . . . . . . |\n",
      "  +-----------------+\n",
      "    a b c d e f g h  \n",
      "\n"
     ]
    }
   ],
   "source": [
    "for inp in get_inputs(1):\n",
    "    print(inp)\n",
    "    get_ascii_board(inp)\n",
    "    print()"
   ]
  },
  {
   "cell_type": "markdown",
   "metadata": {},
   "source": [
    "## 2. FEN - BITS *"
   ]
  },
  {
   "cell_type": "code",
   "execution_count": 138,
   "metadata": {},
   "outputs": [],
   "source": [
    "#get_assignment(2)"
   ]
  },
  {
   "cell_type": "markdown",
   "metadata": {},
   "source": [
    "## 3. Сборка и разборка"
   ]
  },
  {
   "cell_type": "code",
   "execution_count": 152,
   "metadata": {},
   "outputs": [
    {
     "name": "stdout",
     "output_type": "stream",
     "text": [
      "1745.1.Сборка и разборка\n"
     ]
    }
   ],
   "source": [
    "print(get_folder(3))"
   ]
  },
  {
   "cell_type": "code",
   "execution_count": 151,
   "metadata": {},
   "outputs": [
    {
     "name": "stdout",
     "output_type": "stream",
     "text": [
      "1.Сборка и разборка\n",
      "\n",
      "Создать структуру для хранения позиции.\n",
      "Написать функцию для парсинга FEN-позиции в эту структуру.\n",
      "Написать функцию для формирования FEN-строки из этой структуры.\n",
      "\n",
      "Дано: FEN-позиция, записанная с небольшими неточностями.\n",
      "Надо: FEN-строка, созданная по данной позиции.\n",
      "\n"
     ]
    }
   ],
   "source": [
    "get_assignment(3)"
   ]
  },
  {
   "cell_type": "code",
   "execution_count": 304,
   "metadata": {},
   "outputs": [],
   "source": [
    "def get_fen_from_file(hw_num, num):\n",
    "    filepath = os.path.join(FOLDER, get_folder(hw_num), f'test.{num}.out')\n",
    "    with open(filepath) as f:\n",
    "        return f.read().strip()\n",
    "\n",
    "\n",
    "class Chess:\n",
    "    \n",
    "    def __init__(self):\n",
    "        # словарь для всех параметров\n",
    "        self.placement = {}\n",
    "        self.is_white = True\n",
    "        self.castling = '-'\n",
    "        self.en_passant = '-'\n",
    "        self.halfmove_clock = 0\n",
    "        self.fullmove_number = 0\n",
    "        #self.load_fen(fen)\n",
    "        \n",
    "    def load_fen_from_file(self, hw_num, num):\n",
    "        filepath = os.path.join(FOLDER, get_folder(hw_num), f'test.{num}.in')\n",
    "        with open(filepath) as f:\n",
    "            fen = f.read().strip()\n",
    "        self.load_fen(fen)\n",
    "        \n",
    "    def load_fen(self, fen):\n",
    "        fen_list = fen.split()\n",
    "        self.is_white = self.parse_color(fen_list[1])\n",
    "        self.castling = self.parse_castling(fen_list[2])\n",
    "        self.en_passant = fen_list[3]\n",
    "        self.halfmove_clock = fen_list[4]\n",
    "        self.fullmove_number = fen_list[5]\n",
    "        self.parse_placement(fen_list[0])\n",
    "        \n",
    "    def parse_placement(self, placement_string):\n",
    "        lines = placement_string.split('/')\n",
    "        lines = [self.line_transform(line) for line in lines]\n",
    "        for digit in range(1, 9):\n",
    "            for i, letter in enumerate('abcdefgh'):\n",
    "                key = letter + str(digit)\n",
    "                value = lines[8 - digit][i]\n",
    "                self.placement[key] = value\n",
    "                    \n",
    "    @staticmethod\n",
    "    def line_transform(line):\n",
    "        result = ''\n",
    "        for cell in line:\n",
    "            try:\n",
    "                result += '.' * int(cell)\n",
    "            except ValueError:\n",
    "                result += cell\n",
    "        if len(result) != 8:\n",
    "            result += '.' * (8 - len(result))\n",
    "        return result\n",
    "\n",
    "    def parse_color(self, color):\n",
    "        if color.lower() != 'w':\n",
    "            return False\n",
    "        return True\n",
    "    \n",
    "    def parse_castling(self, castling):\n",
    "        return ''.join(sorted(castling))\n",
    "        \n",
    "    def get_fen_placement(self):\n",
    "        fen = []\n",
    "        for digit in range(8, 0, -1):\n",
    "            line = ''\n",
    "            dot_count = 0\n",
    "            for i, letter in enumerate('abcdefgh'):\n",
    "                key = letter + str(digit)\n",
    "                value = self.placement[key]\n",
    "                if value == '.':\n",
    "                    dot_count += 1\n",
    "                if value != '.' and not dot_count:\n",
    "                    line += value\n",
    "                if value != '.' and dot_count:\n",
    "                    line += str(dot_count)\n",
    "                    line += value\n",
    "                    dot_count = 0\n",
    "            if dot_count:\n",
    "                line += str(dot_count)\n",
    "            fen.append(line)\n",
    "        return '/'.join(fen)\n",
    "    \n",
    "    def get_fen(self):\n",
    "        placement = self.get_fen_placement()\n",
    "        if self.is_white:\n",
    "            placement += ' w'\n",
    "        else:\n",
    "            placement += ' b'\n",
    "        placement += ' ' + self.castling + ' ' + self.en_passant\n",
    "        placement += ' ' + str(self.halfmove_clock) + ' ' + str(self.fullmove_number)\n",
    "        return placement\n",
    "    \n",
    "    \n",
    "    def get_base_board(self):\n",
    "        for digit in range(8, 0, -1):\n",
    "            line = ''\n",
    "            for i, letter in enumerate('abcdefgh'):\n",
    "                \n",
    "     \n",
    "    def get_ascii_board(self):\n",
    "        pass\n",
    "        "
   ]
  },
  {
   "cell_type": "code",
   "execution_count": 309,
   "metadata": {},
   "outputs": [
    {
     "name": "stdout",
     "output_type": "stream",
     "text": [
      "0\n",
      "rnbqkbnr/pppppppp/8/8/8/8/PPPPPPPP/RNBQKBNR w KQkq - 0 1\n",
      "True\n",
      "\n",
      "1\n",
      "k7/8/8/8/8/8/8/7K w - - 0 70\n",
      "True\n",
      "\n",
      "2\n",
      "rnbqkb1r/ppp2ppp/3p4/8/3Pn3/5N2/PPP2PPP/RNBQKB1R b KQkq - 0 5\n",
      "True\n",
      "\n",
      "3\n",
      "rnbqkbnr/ppp1p1pp/8/3pPp2/8/8/PPPP1PPP/RNBQKBNR w KQkq f6 0 3\n",
      "True\n",
      "\n",
      "4\n",
      "rnbqkbnr/ppp1p1pp/8/3pPp2/8/8/PPPP1PPP/RNBQKBNR w KQkq f6 0 3\n",
      "True\n",
      "\n",
      "5\n",
      "rnbqkbnr/8/8/pppppppp/PPPPPPPP/8/8/RNBQKBNR w Kq - 0 9\n",
      "True\n",
      "\n",
      "6\n",
      "rnb1kbnr/pppp1ppp/8/4p3/6Pq/5P2/PPPPP2P/RNBQKBNR w KQkq - 1 3\n",
      "True\n",
      "\n",
      "7\n",
      "rnbqkbnr/pppppppp/8/8/8/8/PPPPPPPP/RNBQKBNR w KQkq - 0 1\n",
      "True\n",
      "\n",
      "8\n",
      "rnbqkbnr/pppp1ppp/8/1N6/4pP2/8/PPPPP1PP/R1BQKBNR b KQkq f3 0 3\n",
      "True\n",
      "\n",
      "9\n",
      "k7/8/8/8/8/8/8/K7 w - - 90 70\n",
      "True\n",
      "\n"
     ]
    }
   ],
   "source": [
    "for i in range(10):\n",
    "    print(i)\n",
    "    c = Chess()\n",
    "    c.load_fen_from_file(3, i)\n",
    "    fen_processed = c.get_fen()\n",
    "    fen_from_file = get_fen_from_file(3, i)\n",
    "    print(fen_processed)\n",
    "    print(fen_processed == fen_from_file)\n",
    "    print()"
   ]
  },
  {
   "cell_type": "code",
   "execution_count": 311,
   "metadata": {},
   "outputs": [
    {
     "name": "stdout",
     "output_type": "stream",
     "text": [
      "1.Счётчик полуходов\n",
      "\n",
      "Дана FEN-позиция и ход фигурой.\n",
      "Нужно посчитать этот ход, передать право хода другой стороне,\n",
      "а также увеличить или сбросить счётчик полуходов для правила 50 ходов.\n",
      "Счётчик сбрасывается, если было взятие или ход пешкой.\n",
      "В остальных случаях счётчик увеличивается на 1 после каждого полухода.\n",
      "ФИГУРЫ ПЕРЕМЕЩАТЬ НЕ НУЖНО\n",
      "\n",
      "Дано: \n",
      "   FEN-позиция\n",
      "   ход фигурой\n",
      "Надо:\n",
      "   FEN-позиция после хода\n"
     ]
    }
   ],
   "source": [
    "get_assignment(5)"
   ]
  },
  {
   "cell_type": "code",
   "execution_count": null,
   "metadata": {},
   "outputs": [],
   "source": []
  }
 ],
 "metadata": {
  "kernelspec": {
   "display_name": "Python 3",
   "language": "python",
   "name": "python3"
  },
  "language_info": {
   "codemirror_mode": {
    "name": "ipython",
    "version": 3
   },
   "file_extension": ".py",
   "mimetype": "text/x-python",
   "name": "python",
   "nbconvert_exporter": "python",
   "pygments_lexer": "ipython3",
   "version": "3.6.8"
  }
 },
 "nbformat": 4,
 "nbformat_minor": 2
}
