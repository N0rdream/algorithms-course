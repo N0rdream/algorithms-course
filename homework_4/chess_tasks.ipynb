{
 "cells": [
  {
   "cell_type": "markdown",
   "metadata": {},
   "source": [
    "# Шахматное программирование"
   ]
  },
  {
   "cell_type": "code",
   "execution_count": 1,
   "metadata": {},
   "outputs": [],
   "source": [
    "import os"
   ]
  },
  {
   "cell_type": "markdown",
   "metadata": {},
   "source": [
    "## Вспомогательные функции"
   ]
  },
  {
   "cell_type": "code",
   "execution_count": 2,
   "metadata": {},
   "outputs": [],
   "source": [
    "BASE_FOLDER = '../../algorithms_course_materials/homework_4/2019-08-12_Chess-Tasks'\n",
    "ASSIGNMENTS = sorted(os.listdir(BASE_FOLDER))\n",
    "# FEN_EXAMPLE = 'rnbqkbnr/pppp1ppp/8/1N6/4pP2/8/PPPPP1PP/R1BQKBNR b KQkq f3 0 3'"
   ]
  },
  {
   "cell_type": "code",
   "execution_count": 3,
   "metadata": {},
   "outputs": [],
   "source": [
    "def get_folder(n):\n",
    "    return ASSIGNMENTS[n - 1]\n",
    "\n",
    "\n",
    "def get_assignment(n):\n",
    "    with open(os.path.join(BASE_FOLDER, get_folder(n), 'problem.txt')) as f:\n",
    "        print(f.read())\n",
    "\n",
    "       \n",
    "def get_inputs(n):\n",
    "    dirname = ASSIGNMENTS[n - 1]\n",
    "    result = []\n",
    "    for filename in os.listdir(os.path.join(BASE_FOLDER, dirname)):\n",
    "        if 'test' in filename:\n",
    "            base, ext = os.path.splitext(filename)\n",
    "            if ext == '.in':\n",
    "                with open(os.path.join(BASE_FOLDER, dirname, filename)) as f:\n",
    "                    result.append(f.read().strip())\n",
    "    return result\n",
    "\n",
    "\n",
    "def get_fen_from_file(hw_num, num, out=True):\n",
    "    if out:\n",
    "        filepath = os.path.join(BASE_FOLDER, get_folder(hw_num), f'test.{num}.out')\n",
    "    else:\n",
    "        filepath = os.path.join(BASE_FOLDER, get_folder(hw_num), f'test.{num}.in')\n",
    "    with open(filepath) as f:\n",
    "        return f.read().strip()\n",
    "\n",
    "\n",
    "def get_ascii_from_file(hw_num, num):\n",
    "    filepath = os.path.join(BASE_FOLDER, get_folder(hw_num), f'test.{num}.out')\n",
    "    with open(filepath) as f:\n",
    "        return f.read().rstrip('\\n')"
   ]
  },
  {
   "cell_type": "markdown",
   "metadata": {},
   "source": [
    "## Основной код"
   ]
  },
  {
   "cell_type": "code",
   "execution_count": 4,
   "metadata": {},
   "outputs": [],
   "source": [
    "class Chess:\n",
    "    \n",
    "    def __init__(self):\n",
    "        self.placement = {}\n",
    "        self.is_white = True\n",
    "        self.castling = '-'\n",
    "        self.en_passant = '-'\n",
    "        self.halfmove_clock = 0\n",
    "        self.fullmove_number = 0\n",
    "        self.move = ''\n",
    "        \n",
    "    def load_fen_from_file(self, hw_num, num):\n",
    "        filepath = os.path.join(BASE_FOLDER, get_folder(hw_num), f'test.{num}.in')\n",
    "        with open(filepath) as f:\n",
    "            fen = f.read().split('\\n')\n",
    "        self.load_fen(fen[0])\n",
    "        if len(fen) > 1:\n",
    "            if fen[1]:\n",
    "                self.move = fen[1]\n",
    "                self.count_fullmoves()\n",
    "                self.count_halfmoves()\n",
    "        \n",
    "    def count_fullmoves(self):\n",
    "        if self.is_white:\n",
    "            self.is_white = False\n",
    "        else:\n",
    "            self.is_white = True\n",
    "            self.fullmove_number += 1\n",
    "    \n",
    "    def count_halfmoves(self):\n",
    "        if self.placement[self.move[:2]].lower() == 'p':\n",
    "            self.halfmove_clock = 0\n",
    "        elif self.placement[self.move[2:]] != '.':\n",
    "            self.halfmove_clock = 0\n",
    "        else:\n",
    "            self.halfmove_clock += 1\n",
    "        \n",
    "    def load_fen(self, fen):\n",
    "        fen_list = fen.split()\n",
    "        self.is_white = self.parse_color(fen_list[1])\n",
    "        self.castling = self.parse_castling(fen_list[2])\n",
    "        self.en_passant = fen_list[3]\n",
    "        self.halfmove_clock = int(fen_list[4])\n",
    "        self.fullmove_number = int(fen_list[5])\n",
    "        self.parse_placement(fen_list[0])\n",
    "        \n",
    "    def parse_placement(self, placement_string):\n",
    "        lines = placement_string.split('/')\n",
    "        lines = [self.line_transform(line) for line in lines]\n",
    "        for digit in range(1, 9):\n",
    "            for i, letter in enumerate('abcdefgh'):\n",
    "                key = letter + str(digit)\n",
    "                value = lines[8 - digit][i]\n",
    "                self.placement[key] = value\n",
    "                    \n",
    "    @staticmethod\n",
    "    def line_transform(line):\n",
    "        result = ''\n",
    "        for cell in line:\n",
    "            try:\n",
    "                result += '.' * int(cell)\n",
    "            except ValueError:\n",
    "                result += cell\n",
    "        if len(result) != 8:\n",
    "            result += '.' * (8 - len(result))\n",
    "        return result\n",
    "\n",
    "    def parse_color(self, color):\n",
    "        if color.lower() != 'w':\n",
    "            return False\n",
    "        return True\n",
    "    \n",
    "    def parse_castling(self, castling):\n",
    "        return ''.join(sorted(castling))\n",
    "        \n",
    "    def get_fen_placement(self):\n",
    "        fen = []\n",
    "        for digit in range(8, 0, -1):\n",
    "            line = ''\n",
    "            dot_count = 0\n",
    "            for i, letter in enumerate('abcdefgh'):\n",
    "                key = letter + str(digit)\n",
    "                value = self.placement[key]\n",
    "                if value == '.':\n",
    "                    dot_count += 1\n",
    "                if value != '.' and not dot_count:\n",
    "                    line += value\n",
    "                if value != '.' and dot_count:\n",
    "                    line += str(dot_count)\n",
    "                    line += value\n",
    "                    dot_count = 0\n",
    "            if dot_count:\n",
    "                line += str(dot_count)\n",
    "            fen.append(line)\n",
    "        return '/'.join(fen)\n",
    "    \n",
    "    def get_fen(self):\n",
    "        placement = self.get_fen_placement()\n",
    "        if self.is_white:\n",
    "            placement += ' w'\n",
    "        else:\n",
    "            placement += ' b'\n",
    "        placement += ' ' + self.castling + ' ' + self.en_passant\n",
    "        placement += ' ' + str(self.halfmove_clock) + ' ' + str(self.fullmove_number)\n",
    "        return placement\n",
    "    \n",
    "    def get_base_board(self):\n",
    "        board = []\n",
    "        for digit in range(8, 0, -1):\n",
    "            line = ''\n",
    "            for i, letter in enumerate('abcdefgh'):\n",
    "                key = letter + str(digit)\n",
    "                line += self.placement[key]\n",
    "            board.append(' '.join(line))\n",
    "        return board\n",
    "                \n",
    "    def show_ascii_board(self):\n",
    "        board = []\n",
    "        border_line = '  +' + '-' * 17 + '+'\n",
    "        board.append(border_line)\n",
    "        base_board = self.get_base_board()\n",
    "        for i, line in enumerate(base_board):\n",
    "            board.append(str(8 - i) + ' | ' + line + ' |')\n",
    "        board.append(border_line)\n",
    "        board.append('    a b c d e f g h  ')\n",
    "        return '\\n'.join(board)"
   ]
  },
  {
   "cell_type": "markdown",
   "metadata": {},
   "source": [
    "## 1. FEN - ASCII"
   ]
  },
  {
   "cell_type": "code",
   "execution_count": 5,
   "metadata": {},
   "outputs": [
    {
     "name": "stdout",
     "output_type": "stream",
     "text": [
      "1.FEN - ASCII\n",
      "\n",
      "Дано расположение шахматных фигур на доске в FEN-нотации.\n",
      "\n",
      "Вывести её в текстовом ASCII формате по образцу.\n",
      "На диаграмме должно присутствовать:\n",
      "<ul><li>рамка вокруг позиции, </li><li>буквы <span class='prog'>a-h</span> снизу,</li><li>цифры <span class='prog'>1-8</span> слева,</li> <li>точки на пустых полях,</li> <li>фигуры на своих местах</li></ul>\n",
      "\n",
      "<strong>Начальные данные</strong>: строка символов - позиция в FEN нотации\n",
      "<strong>Вывод результата</strong>: 11 строчек по 21 символу на каждом.\n",
      "\n"
     ]
    }
   ],
   "source": [
    "get_assignment(1)"
   ]
  },
  {
   "cell_type": "markdown",
   "metadata": {},
   "source": [
    "### Пример выполнения"
   ]
  },
  {
   "cell_type": "code",
   "execution_count": 6,
   "metadata": {},
   "outputs": [
    {
     "name": "stdout",
     "output_type": "stream",
     "text": [
      "r1n1k1b1/1r1b1q1n/1p1p1p1p/p1p1p1p1/1P1P1P1P/P1P1P1P1/1R1B1Q1N/R1N1K1B1 w - - 0 50\n",
      "\n",
      "  +-----------------+\n",
      "8 | r . n . k . b . |\n",
      "7 | . r . b . q . n |\n",
      "6 | . p . p . p . p |\n",
      "5 | p . p . p . p . |\n",
      "4 | . P . P . P . P |\n",
      "3 | P . P . P . P . |\n",
      "2 | . R . B . Q . N |\n",
      "1 | R . N . K . B . |\n",
      "  +-----------------+\n",
      "    a b c d e f g h  \n"
     ]
    }
   ],
   "source": [
    "c = Chess()\n",
    "c.load_fen_from_file(1, 4)\n",
    "print(c.get_fen())\n",
    "print()\n",
    "print(c.show_ascii_board())"
   ]
  },
  {
   "cell_type": "markdown",
   "metadata": {},
   "source": [
    "### Тесты"
   ]
  },
  {
   "cell_type": "code",
   "execution_count": 7,
   "metadata": {},
   "outputs": [
    {
     "name": "stdout",
     "output_type": "stream",
     "text": [
      "\n",
      "Все тесты пройдены\n"
     ]
    }
   ],
   "source": [
    "c = Chess()\n",
    "\n",
    "flag = True\n",
    "for i in range(10):\n",
    "    c.load_fen_from_file(1, i)\n",
    "    ascii_from_file = get_ascii_from_file(1, i)\n",
    "    if c.show_ascii_board() != ascii_from_file:\n",
    "        flag = False\n",
    "        print(i)\n",
    "        print(c.show_ascii_board())\n",
    "        print(ascii_from_file)\n",
    "        print()\n",
    "if flag:\n",
    "    print('\\nВсе тесты пройдены')"
   ]
  },
  {
   "cell_type": "markdown",
   "metadata": {},
   "source": [
    "## 2. FEN - BITS *"
   ]
  },
  {
   "cell_type": "code",
   "execution_count": 8,
   "metadata": {},
   "outputs": [],
   "source": [
    "#get_assignment(2)"
   ]
  },
  {
   "cell_type": "markdown",
   "metadata": {},
   "source": [
    "## 3. Сборка и разборка"
   ]
  },
  {
   "cell_type": "code",
   "execution_count": 9,
   "metadata": {},
   "outputs": [
    {
     "name": "stdout",
     "output_type": "stream",
     "text": [
      "1.Сборка и разборка\n",
      "\n",
      "Создать структуру для хранения позиции.\n",
      "Написать функцию для парсинга FEN-позиции в эту структуру.\n",
      "Написать функцию для формирования FEN-строки из этой структуры.\n",
      "\n",
      "Дано: FEN-позиция, записанная с небольшими неточностями.\n",
      "Надо: FEN-строка, созданная по данной позиции.\n",
      "\n"
     ]
    }
   ],
   "source": [
    "get_assignment(3)"
   ]
  },
  {
   "cell_type": "markdown",
   "metadata": {},
   "source": [
    "### Пример выполнения"
   ]
  },
  {
   "cell_type": "code",
   "execution_count": 10,
   "metadata": {},
   "outputs": [
    {
     "name": "stdout",
     "output_type": "stream",
     "text": [
      "k1111111/2111111/311111/41111/5111/611/17/16K w - - 0 70\n",
      "k7/8/8/8/8/8/8/7K w - - 0 70\n"
     ]
    }
   ],
   "source": [
    "c = Chess()\n",
    "\n",
    "c.load_fen_from_file(3, 1)\n",
    "fen_from_file = get_fen_from_file(3, 1, out=False)\n",
    "fen_processed = c.get_fen()\n",
    "\n",
    "print(fen_from_file)\n",
    "print(fen_processed)"
   ]
  },
  {
   "cell_type": "markdown",
   "metadata": {},
   "source": [
    "### Тесты"
   ]
  },
  {
   "cell_type": "code",
   "execution_count": 11,
   "metadata": {},
   "outputs": [
    {
     "name": "stdout",
     "output_type": "stream",
     "text": [
      "\n",
      "Все тесты пройдены\n"
     ]
    }
   ],
   "source": [
    "c = Chess()\n",
    "\n",
    "flag = True\n",
    "for i in range(10):\n",
    "    c.load_fen_from_file(3, i)\n",
    "    fen_processed = c.get_fen()\n",
    "    fen_from_file = get_fen_from_file(3, i)\n",
    "    if fen_processed != fen_from_file:\n",
    "        flag = False\n",
    "        print(i)\n",
    "        print(fen_processed)\n",
    "        print(fen_from_file)\n",
    "        print()\n",
    "if flag:\n",
    "    print('\\nВсе тесты пройдены')"
   ]
  },
  {
   "cell_type": "markdown",
   "metadata": {},
   "source": [
    "## 4. Счётчик ходов"
   ]
  },
  {
   "cell_type": "code",
   "execution_count": 12,
   "metadata": {},
   "outputs": [
    {
     "name": "stdout",
     "output_type": "stream",
     "text": [
      "1.Счётчик ходов\n",
      "\n",
      "Дана FEN-позиция и ход фигурой.\n",
      "Нужно посчитать этот ход и передать право хода другой стороне.\n",
      "ФИГУРЫ ПЕРЕМЕЩАТЬ НЕ НУЖНО\n",
      "\n",
      "Дано: \n",
      "   FEN-позиция\n",
      "   ход фигурой\n",
      "Надо:\n",
      "   FEN-позиция после хода\n"
     ]
    }
   ],
   "source": [
    "get_assignment(4)"
   ]
  },
  {
   "cell_type": "markdown",
   "metadata": {},
   "source": [
    "### Тесты"
   ]
  },
  {
   "cell_type": "code",
   "execution_count": 13,
   "metadata": {},
   "outputs": [
    {
     "name": "stdout",
     "output_type": "stream",
     "text": [
      "2\n",
      "k7/8/8/8/8/8/8/K7 b - - 91 70\n",
      "k7/8/8/8/8/8/8/K7 b - - 90 70\n",
      "\n",
      "3\n",
      "k7/8/8/8/8/8/8/K7 w - - 91 71\n",
      "k7/8/8/8/8/8/8/K7 w - - 90 71\n",
      "\n",
      "4\n",
      "r1bqkbnr/ppp1pppp/2n5/3p4/4P3/5N2/PPPP1PPP/RNBQKBR1 w Qkq - 0 4\n",
      "r1bqkbnr/ppp1pppp/2n5/3p4/4P3/5N2/PPPP1PPP/RNBQKBR1 w Qkq - 3 4\n",
      "\n"
     ]
    }
   ],
   "source": [
    "c = Chess()\n",
    "\n",
    "flag = True\n",
    "for i in range(5):\n",
    "    c.load_fen_from_file(4, i)\n",
    "    fen_processed = c.get_fen()\n",
    "    fen_from_file = get_fen_from_file(4, i)\n",
    "    if fen_processed != fen_from_file:\n",
    "        flag = False\n",
    "        print(i)\n",
    "        print(fen_processed)\n",
    "        print(fen_from_file)\n",
    "        print()\n",
    "if flag:\n",
    "    print('\\nВсе тесты пройдены')"
   ]
  },
  {
   "cell_type": "markdown",
   "metadata": {},
   "source": [
    "Ошибки в тестах 2, 3, 4 из-за различия в подсчете количества полуходов из-за его имплементации в задании 5"
   ]
  },
  {
   "cell_type": "markdown",
   "metadata": {},
   "source": [
    "## 5. Счётчик полуходов"
   ]
  },
  {
   "cell_type": "code",
   "execution_count": 14,
   "metadata": {},
   "outputs": [
    {
     "name": "stdout",
     "output_type": "stream",
     "text": [
      "1.Счётчик полуходов\n",
      "\n",
      "Дана FEN-позиция и ход фигурой.\n",
      "Нужно посчитать этот ход, передать право хода другой стороне,\n",
      "а также увеличить или сбросить счётчик полуходов для правила 50 ходов.\n",
      "Счётчик сбрасывается, если было взятие или ход пешкой.\n",
      "В остальных случаях счётчик увеличивается на 1 после каждого полухода.\n",
      "ФИГУРЫ ПЕРЕМЕЩАТЬ НЕ НУЖНО\n",
      "\n",
      "Дано: \n",
      "   FEN-позиция\n",
      "   ход фигурой\n",
      "Надо:\n",
      "   FEN-позиция после хода\n"
     ]
    }
   ],
   "source": [
    "get_assignment(5)"
   ]
  },
  {
   "cell_type": "markdown",
   "metadata": {},
   "source": [
    "### Тесты"
   ]
  },
  {
   "cell_type": "code",
   "execution_count": 15,
   "metadata": {},
   "outputs": [
    {
     "name": "stdout",
     "output_type": "stream",
     "text": [
      "\n",
      "Все тесты пройдены\n"
     ]
    }
   ],
   "source": [
    "c = Chess()\n",
    "\n",
    "flag = True\n",
    "for i in range(10):\n",
    "    c.load_fen_from_file(5, i)\n",
    "    fen_processed = c.get_fen()\n",
    "    fen_from_file = get_fen_from_file(5, i)\n",
    "    if fen_processed != fen_from_file:\n",
    "        flag = False\n",
    "        print(i)\n",
    "        print(fen_processed)\n",
    "        print(fen_from_file)\n",
    "        print()    \n",
    "if flag:\n",
    "    print('\\nВсе тесты пройдены')"
   ]
  },
  {
   "cell_type": "markdown",
   "metadata": {},
   "source": [
    "## 6. Перемещение фигуры"
   ]
  },
  {
   "cell_type": "code",
   "execution_count": 16,
   "metadata": {},
   "outputs": [
    {
     "name": "stdout",
     "output_type": "stream",
     "text": [
      "1.Перемещение фигуры\n",
      "\n",
      "Дана FEN-позиция и ход фигурой.\n",
      "Это обычных ход или взятие.\n",
      "Не рокировка, не взятие на проходе, не превращение ферзя, а обычный, самый простой ход со взятием или без.\n",
      "\n",
      "Необходимо переставить фигуры и передать право хода.\n",
      "Делать проверку на возможность хода не нужно.\n",
      "\n",
      "Дано: \n",
      "   FEN-позиция\n",
      "   ход фигурой\n",
      "Надо:\n",
      "   FEN-позиция после хода\n"
     ]
    }
   ],
   "source": [
    "get_assignment(6)"
   ]
  }
 ],
 "metadata": {
  "kernelspec": {
   "display_name": "Python 3",
   "language": "python",
   "name": "python3"
  },
  "language_info": {
   "codemirror_mode": {
    "name": "ipython",
    "version": 3
   },
   "file_extension": ".py",
   "mimetype": "text/x-python",
   "name": "python",
   "nbconvert_exporter": "python",
   "pygments_lexer": "ipython3",
   "version": "3.7.2"
  }
 },
 "nbformat": 4,
 "nbformat_minor": 2
}
