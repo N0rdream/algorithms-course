{
 "cells": [
  {
   "cell_type": "markdown",
   "metadata": {},
   "source": [
    "# Реализация heapsort"
   ]
  },
  {
   "cell_type": "code",
   "execution_count": 123,
   "metadata": {},
   "outputs": [],
   "source": [
    "import random\n",
    "import time\n",
    "from heapq import heappush, heappop"
   ]
  },
  {
   "cell_type": "code",
   "execution_count": 124,
   "metadata": {},
   "outputs": [],
   "source": [
    "class MaxHeap:\n",
    "    \n",
    "    def __init__(self):\n",
    "        self.items = []\n",
    "        self.size = 0\n",
    "        \n",
    "    def get_left_child_index(self, index):\n",
    "        # определяет индекс левого потомка для текущего узла\n",
    "        return 2 * index + 1\n",
    "    \n",
    "    def get_right_child_index(self, index):\n",
    "        # определяет индекс правого потомка для текущего узла\n",
    "        return 2 * index + 2\n",
    "    \n",
    "    def get_parent_index(self, index):\n",
    "        # определяет индекс родителя для текущего узла\n",
    "        return int((index - 1) / 2)\n",
    "    \n",
    "    def has_left_child(self, index):\n",
    "        return self.get_left_child_index(index) < self.size\n",
    "    \n",
    "    def has_right_child(self, index):\n",
    "        return self.get_right_child_index(index) < self.size\n",
    "    \n",
    "    def has_parent(self, index):\n",
    "        return self.get_parent_index(index) >= 0\n",
    "    \n",
    "    def get_left_child_value(self, index):\n",
    "        return self.items[self.get_left_child_index(index)]\n",
    "    \n",
    "    def get_right_child_value(self, index):\n",
    "        return self.items[self.get_right_child_index(index)]\n",
    "    \n",
    "    def get_parent_value(self, index):\n",
    "        return self.items[self.get_parent_index(index)]\n",
    "    \n",
    "    def swap(self, index_1, index_2):\n",
    "        self.items[index_1], self.items[index_2] = self.items[index_2], self.items[index_1]\n",
    "        \n",
    "    def get_max_child_index(self, index):\n",
    "        # если у текушего узла есть правый потомок\n",
    "        if self.has_right_child(index):\n",
    "            # если значение левого потомка меньше значения правого потомка\n",
    "            if self.get_left_child_value(index) < self.get_right_child_value(index):\n",
    "                # возвращаем индекс правого потомка\n",
    "                return self.get_right_child_index(index)\n",
    "        # иначе возвращаем индекс левого потомка\n",
    "        return self.get_left_child_index(index)\n",
    "    \n",
    "    def heapify_down(self, index):\n",
    "        # пока у текущего узла есть левый потомок\n",
    "        while self.has_left_child(index):\n",
    "            # определяем индекс потомка с наибольшим значением\n",
    "            max_child_index = self.get_max_child_index(index)\n",
    "            # если наибольшее значение обоих потомков больше значения текущего узла\n",
    "            if self.items[max_child_index] > self.items[index]:\n",
    "                # меняем местами текущий узел и узел потомка с наибольшим значением\n",
    "                self.swap(index, max_child_index)\n",
    "            # перемещаемся вниз по пирамиде\n",
    "            index = max_child_index\n",
    "    \n",
    "    def build_heap(self, array):\n",
    "        self.items = array[:]\n",
    "        self.size = len(array)\n",
    "        i = self.size - 1\n",
    "        while i >= 0:\n",
    "            self.heapify_down(i)\n",
    "            i -= 1\n",
    "    \n",
    "    def heap_sorted(self, array):\n",
    "        self.build_heap(array)\n",
    "        for i in range(len(array)):\n",
    "            self.swap(0, self.size - 1)\n",
    "            self.size -= 1\n",
    "            self.heapify_down(0)\n",
    "        self.size = len(array)\n",
    "        return self.items\n",
    "    \n",
    "    def heapify_down_recursive(self, index):\n",
    "        # если есть левый потомок\n",
    "        if self.has_left_child(index):\n",
    "            # определяем индекс потомка с наибольшим значением\n",
    "            max_child_index = self.get_max_child_index(index)\n",
    "            # если наибольшее значение обоих потомков больше значения текущего узла\n",
    "            if self.items[max_child_index] > self.items[index]:\n",
    "                # меняем местами текущий узел и узел потомка с наибольшим значением\n",
    "                self.swap(index, max_child_index)\n",
    "                # перестраиваем пирамиду с вершиной в узле с индексом max_child_index\n",
    "                self.heapify_down_recursive(max_child_index)"
   ]
  },
  {
   "cell_type": "markdown",
   "metadata": {},
   "source": [
    "## Сравнение времени работы с insertion sort"
   ]
  },
  {
   "cell_type": "code",
   "execution_count": 125,
   "metadata": {},
   "outputs": [],
   "source": [
    "def sorted_insertion(array):\n",
    "    array_copy = array[:]\n",
    "    for i in range(len(array_copy)):\n",
    "        # выбираем элемент массива\n",
    "        selected_element = array_copy[i]\n",
    "        # начальный индекс для сравнения выбранного элемента с элементами в отсортированной части массива\n",
    "        j = i - 1\n",
    "        # пока индекс в отсортированной части массива неотрицательный и\n",
    "        # пока текущий элемент отсортированного массива больше выбранного элемента\n",
    "        while j >= 0 and array_copy[j] > selected_element:\n",
    "            # сдвигаем элементы в отсортированной части массива вправо на 1\n",
    "            array_copy[j + 1] = array_copy[j]\n",
    "            # уменьшаем индекс на 1, берем элемент с меньшим (или равным) значемением\n",
    "            j -= 1\n",
    "        # - если текущий элемент (по индеску j) отсортированного массива меньше или равен выбранному элементу,\n",
    "        # тогда записываем выбранный элемент в ячейку правее (с индексом j + 1)\n",
    "        # - если индекс отрицательный - пишем в самое начало\n",
    "        array_copy[j + 1] = selected_element\n",
    "    return array_copy"
   ]
  },
  {
   "cell_type": "code",
   "execution_count": 126,
   "metadata": {},
   "outputs": [],
   "source": [
    "A = [i for i in range(10000)]\n",
    "random.shuffle(A)"
   ]
  },
  {
   "cell_type": "code",
   "execution_count": 127,
   "metadata": {},
   "outputs": [
    {
     "name": "stdout",
     "output_type": "stream",
     "text": [
      "CPU times: user 3.72 s, sys: 7.43 ms, total: 3.73 s\n",
      "Wall time: 3.74 s\n"
     ]
    }
   ],
   "source": [
    "%%time\n",
    "A_sorted_insertion = sorted_insertion(A)"
   ]
  },
  {
   "cell_type": "code",
   "execution_count": 128,
   "metadata": {},
   "outputs": [
    {
     "name": "stdout",
     "output_type": "stream",
     "text": [
      "CPU times: user 214 ms, sys: 2.2 ms, total: 216 ms\n",
      "Wall time: 216 ms\n"
     ]
    }
   ],
   "source": [
    "%%time\n",
    "h = MaxHeap()\n",
    "A_sorted_heap = h.heap_sorted(A)"
   ]
  },
  {
   "cell_type": "code",
   "execution_count": 129,
   "metadata": {},
   "outputs": [
    {
     "name": "stdout",
     "output_type": "stream",
     "text": [
      "CPU times: user 1.64 ms, sys: 6 µs, total: 1.64 ms\n",
      "Wall time: 1.66 ms\n"
     ]
    }
   ],
   "source": [
    "%%time\n",
    "A_sorted_python = sorted(A)"
   ]
  },
  {
   "cell_type": "code",
   "execution_count": 130,
   "metadata": {},
   "outputs": [
    {
     "name": "stdout",
     "output_type": "stream",
     "text": [
      "True\n",
      "True\n"
     ]
    }
   ],
   "source": [
    "print(A_sorted_insertion == A_sorted_python)\n",
    "print(A_sorted_heap == A_sorted_python)"
   ]
  },
  {
   "cell_type": "markdown",
   "metadata": {},
   "source": [
    "## Реализация очереди с приоритетом"
   ]
  },
  {
   "cell_type": "code",
   "execution_count": 131,
   "metadata": {},
   "outputs": [],
   "source": [
    "class PriorityQueueFromHeap:\n",
    "    \n",
    "    def __init__(self):\n",
    "        self.items = []\n",
    "        \n",
    "    def get_left_child_index(self, index):\n",
    "        return 2 * index + 1\n",
    "    \n",
    "    def get_right_child_index(self, index):\n",
    "        return 2 * index + 2\n",
    "    \n",
    "    def get_parent_index(self, index):\n",
    "        return int((index - 1) / 2)\n",
    "    \n",
    "    def has_left_child(self, index):\n",
    "        return self.get_left_child_index(index) < len(self.items)\n",
    "    \n",
    "    def has_right_child(self, index):\n",
    "        return self.get_right_child_index(index) < len(self.items)\n",
    "    \n",
    "    def has_parent(self, index):\n",
    "        return self.get_parent_index(index) >= 0\n",
    "    \n",
    "    def get_left_child(self, index):\n",
    "        return self.items[self.get_left_child_index(index)]\n",
    "    \n",
    "    def get_right_child(self, index):\n",
    "        return self.items[self.get_right_child_index(index)]\n",
    "    \n",
    "    def get_parent(self, index):\n",
    "        return self.items[self.get_parent_index(index)]\n",
    "    \n",
    "    def swap(self, index_1, index_2):\n",
    "        self.items[index_1], self.items[index_2] = self.items[index_2], self.items[index_1]\n",
    "        \n",
    "    def pop(self):\n",
    "        # берем объект, сохраненный в узле на вершине пирамиды\n",
    "        item = self.items[0]\n",
    "        # сохраняем в узле на вершине пирамиды объект, находящийся в последнем узле\n",
    "        self.items[0] = self.items[-1]\n",
    "        # удаляем последний узел\n",
    "        del self.items[-1]\n",
    "        # перестраиваем пирамиду сверху-вниз\n",
    "        self.heapify_down(0)\n",
    "        #print(self.items)\n",
    "        return item\n",
    "    \n",
    "    def get_high_priority_child_index(self, index):\n",
    "        # если у текушего узла есть правый потомок\n",
    "        if self.has_right_child(index):\n",
    "            # если приоритет левого потомка ниже (большее значение) приоритета правого потомка\n",
    "            if self.get_left_child(index)[0] > self.get_right_child(index)[0]:\n",
    "                # возвращаем индекс правого потомка\n",
    "                return self.get_right_child_index(index)\n",
    "            # при равенстве приоритетов\n",
    "            if self.get_left_child(index)[0] == self.get_right_child(index)[0]:\n",
    "                # если правый потомок был создан ранее, возвращаем его\n",
    "                if self.get_left_child(index)[1] > self.get_right_child(index)[1]:\n",
    "                    return self.get_right_child_index(index)\n",
    "        # иначе возвращаем индекс левого потомка\n",
    "        return self.get_left_child_index(index)\n",
    "    \n",
    "    def heapify_down(self, index):\n",
    "        # пока у текущего узла есть левый потомок\n",
    "        while self.has_left_child(index):\n",
    "            # определяем индекс потомка с наивысшим приоритетом (меньшее значение)\n",
    "            high_priority_child_index = self.get_high_priority_child_index(index)\n",
    "            # если приоритет одного из потомков выше приоритета текущего узла\n",
    "            if self.items[high_priority_child_index][0] < self.items[index][0]:\n",
    "                # меняем местами текущий узел и узел потомка с высшим приоритетом\n",
    "                self.swap(index, high_priority_child_index)\n",
    "            # при равенстве приоритетов выбираем между текущим узлом и узлом потомка   \n",
    "            if self.items[high_priority_child_index][0] == self.items[index][0]:\n",
    "                # если узел потомка был создан ранее, меняем их местами\n",
    "                if self.items[high_priority_child_index][1] < self.items[index][1]:\n",
    "                    self.swap(index, high_priority_child_index)\n",
    "            # перемещаемся вниз по пирамиде\n",
    "            index = high_priority_child_index\n",
    "    \n",
    "    def add(self, item):\n",
    "        # создаем очередной узел в структуре пирамиды и сохраняем туда новый объект\n",
    "        self.items.append(item)\n",
    "        # перестраиваем пирамиду снизу-вверх\n",
    "        if len(self.items) > 1:\n",
    "            self.heapify_up(len(self.items) - 1)\n",
    "        \n",
    "    def heapify_up(self, index):\n",
    "        # пока у текущего узла есть родительский узел и\n",
    "        # пока приоритет родительского узла ниже приоритета (большее значение) текущем узла\n",
    "        while self.has_parent(index) and self.get_parent(index)[0] > self.items[index][0]:\n",
    "            # меняем местами объекты родительского и текущего узла\n",
    "            self.swap(self.get_parent_index(index), index)\n",
    "            # перемещаемся вверх по пирамиде\n",
    "            index = self.get_parent_index(index)\n",
    "    \n",
    "    def is_empty(self):\n",
    "        return not self.items\n",
    "    \n",
    "    def enqueue(self, priority, value):\n",
    "        if priority < 0:\n",
    "            raise ValueError('Priority must be greater than 0')\n",
    "        self.add((priority, time.time(), value))\n",
    "        \n",
    "    def dequeue(self):\n",
    "        if self.is_empty():\n",
    "            raise IndexError('Queue is empty')\n",
    "        return self.pop()[2]"
   ]
  },
  {
   "cell_type": "markdown",
   "metadata": {},
   "source": [
    "## Проверка корректности работы"
   ]
  },
  {
   "cell_type": "code",
   "execution_count": 132,
   "metadata": {},
   "outputs": [
    {
     "name": "stdout",
     "output_type": "stream",
     "text": [
      "Priority: 1, element: 2\n",
      "Priority: 1, element: 3\n",
      "Priority: 1, element: 6\n",
      "Priority: 1, element: 9\n",
      "Priority: 2, element: 4\n",
      "Priority: 2, element: 5\n",
      "Priority: 2, element: 7\n",
      "Priority: 2, element: 8\n",
      "Priority: 2, element: 10\n",
      "Priority: 3, element: 1\n"
     ]
    }
   ],
   "source": [
    "pq_heap = PriorityQueueFromHeap()\n",
    "\n",
    "priorities = [1, 2, 3]\n",
    "for i in range(1, 11):\n",
    "    priority = random.choice(priorities)\n",
    "    pq_heap.enqueue(priority, f'Priority: {priority}, element: {i}')\n",
    "\n",
    "for i in range(10):\n",
    "    print(pq_heap.dequeue())"
   ]
  },
  {
   "cell_type": "markdown",
   "metadata": {},
   "source": [
    "## Сравнение с ранее реализованной очередью"
   ]
  },
  {
   "cell_type": "code",
   "execution_count": 133,
   "metadata": {},
   "outputs": [],
   "source": [
    "class PriorityQueueFromList:\n",
    "    \n",
    "    def __init__(self):\n",
    "        self.queue = []\n",
    "    \n",
    "    def enqueue(self, priority, value):\n",
    "        if priority < 0:\n",
    "            raise ValueError('Priority must be greater than 0')\n",
    "        self.queue.append((priority, value))\n",
    "        self.queue.sort(key=lambda x: x[0])\n",
    "        \n",
    "    def dequeue(self):\n",
    "        if self.is_empty():\n",
    "            raise IndexError('Queue is empty')\n",
    "        return self.queue.pop(0)[1]\n",
    "    \n",
    "    def is_empty(self):\n",
    "        return not self.queue"
   ]
  },
  {
   "cell_type": "code",
   "execution_count": 134,
   "metadata": {},
   "outputs": [],
   "source": [
    "items = [(random.choice([1, 2, 3]), i) for i in range(10000)]"
   ]
  },
  {
   "cell_type": "markdown",
   "metadata": {},
   "source": [
    "### Реализация на основе массива"
   ]
  },
  {
   "cell_type": "code",
   "execution_count": 135,
   "metadata": {},
   "outputs": [
    {
     "name": "stdout",
     "output_type": "stream",
     "text": [
      "CPU times: user 4.08 s, sys: 14.2 ms, total: 4.1 s\n",
      "Wall time: 4.11 s\n"
     ]
    }
   ],
   "source": [
    "%%time\n",
    "\n",
    "pq_list = PriorityQueueFromList()\n",
    "\n",
    "for item in items:\n",
    "    pq_list.enqueue(*item)\n",
    "    \n",
    "pq_list_result = [pq_list.dequeue() for i in range(len(items))]"
   ]
  },
  {
   "cell_type": "markdown",
   "metadata": {},
   "source": [
    "### Реализация на основе пирамиды"
   ]
  },
  {
   "cell_type": "code",
   "execution_count": 136,
   "metadata": {},
   "outputs": [
    {
     "name": "stdout",
     "output_type": "stream",
     "text": [
      "CPU times: user 394 ms, sys: 5.1 ms, total: 399 ms\n",
      "Wall time: 401 ms\n"
     ]
    }
   ],
   "source": [
    "%%time\n",
    "\n",
    "pq_heap = PriorityQueueFromHeap()\n",
    "\n",
    "for item in items:\n",
    "    pq_heap.enqueue(*item)\n",
    "    \n",
    "pq_heap_result = [pq_heap.dequeue() for i in range(len(items))]"
   ]
  },
  {
   "cell_type": "markdown",
   "metadata": {},
   "source": [
    "### Реализация python"
   ]
  },
  {
   "cell_type": "code",
   "execution_count": 137,
   "metadata": {},
   "outputs": [
    {
     "name": "stdout",
     "output_type": "stream",
     "text": [
      "CPU times: user 7.97 ms, sys: 88 µs, total: 8.06 ms\n",
      "Wall time: 8.02 ms\n"
     ]
    }
   ],
   "source": [
    "%%time\n",
    "\n",
    "pq_python = []\n",
    "\n",
    "for item in items:\n",
    "    heappush(pq_python, item)\n",
    "    \n",
    "pq_python_result = [heappop(pq_python)[1] for i in range(len(items))]"
   ]
  },
  {
   "cell_type": "code",
   "execution_count": 138,
   "metadata": {},
   "outputs": [
    {
     "name": "stdout",
     "output_type": "stream",
     "text": [
      "True\n",
      "True\n"
     ]
    }
   ],
   "source": [
    "print(pq_list_result == pq_python_result)\n",
    "print(pq_heap_result == pq_python_result)"
   ]
  }
 ],
 "metadata": {
  "kernelspec": {
   "display_name": "Python 3",
   "language": "python",
   "name": "python3"
  },
  "language_info": {
   "codemirror_mode": {
    "name": "ipython",
    "version": 3
   },
   "file_extension": ".py",
   "mimetype": "text/x-python",
   "name": "python",
   "nbconvert_exporter": "python",
   "pygments_lexer": "ipython3",
   "version": "3.7.3"
  }
 },
 "nbformat": 4,
 "nbformat_minor": 2
}
