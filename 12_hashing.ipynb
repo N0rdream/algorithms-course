{
 "cells": [
  {
   "cell_type": "markdown",
   "metadata": {},
   "source": [
    "# Хеш-таблица (метод цепочек) с применением универсальных хеш-функций "
   ]
  },
  {
   "cell_type": "code",
   "execution_count": 27,
   "metadata": {},
   "outputs": [],
   "source": [
    "import random\n",
    "import sys\n",
    "from collections import namedtuple\n",
    "from copy import deepcopy\n",
    "\n",
    "from algorithms_py.trees import TreeBinary, TreeSplay\n",
    "\n",
    "sys.setrecursionlimit(30000)"
   ]
  },
  {
   "cell_type": "markdown",
   "metadata": {},
   "source": [
    "## Универсальные хеш-функции"
   ]
  },
  {
   "cell_type": "code",
   "execution_count": 2,
   "metadata": {},
   "outputs": [],
   "source": [
    "def get_first_prime_after_number(number):\n",
    "    n = number * 2 \n",
    "    res = []\n",
    "    primes = [True for i in range(n)]\n",
    "    for i in range(2, n):\n",
    "        if primes[i]:\n",
    "            for k in range(i * i, n, i):\n",
    "                primes[k] = False\n",
    "    for i in range(number+1, len(primes)):\n",
    "        if primes[i]:\n",
    "            return i\n",
    "        \n",
    "\n",
    "class HashUniversal:\n",
    "    \n",
    "    def __init__(self, p, m):\n",
    "        self.p = p\n",
    "        self.m = m\n",
    "        self.a = random.randint(1, self.p - 1)\n",
    "        self.b = random.randint(0, self.p - 1)\n",
    "        \n",
    "    def get_hash_value(self, key):\n",
    "        return (self.a * key + self.b) % self.p % self.m"
   ]
  },
  {
   "cell_type": "markdown",
   "metadata": {},
   "source": [
    "## Реализация хеш-таблицы"
   ]
  },
  {
   "cell_type": "code",
   "execution_count": 21,
   "metadata": {},
   "outputs": [],
   "source": [
    "Element = namedtuple('Element', ['key', 'value'])\n",
    "\n",
    "\n",
    "class HashTable:\n",
    "    \n",
    "    def __init__(self, max_key=10000):\n",
    "        self.m = 100\n",
    "        self.p = get_first_prime_after_number(max_key)\n",
    "        self.hash_func = HashUniversal(self.p, self.m)\n",
    "        self.create_new_buckets()\n",
    "                \n",
    "    def create_new_buckets(self):\n",
    "        self.buckets = [None for i in range(self.m)]\n",
    "        \n",
    "    def insert_element(self, key, value):\n",
    "        index = self.hash_func.get_hash_value(key)\n",
    "        chain = self.buckets[index]\n",
    "        # если ячейка таблицы пуста\n",
    "        if chain is None:\n",
    "            # организуем связный список\n",
    "            self.buckets[index] = [Element(key, value)]\n",
    "        else:\n",
    "            # если количество элементов связного списка превышает 32\n",
    "            if len(chain) > 32 and isinstance(chain, list):\n",
    "                # меняем список на бинарное дерево\n",
    "                elements = self.buckets[index]\n",
    "                self.buckets[index] = TreeBinary()\n",
    "                for element in elements:\n",
    "                    self.buckets[index].insert(element.key, element.value)\n",
    "            else:\n",
    "                self.buckets[index].append(Element(key, value))\n",
    "            \n",
    "    def insert(self, key, value):\n",
    "        self.insert_element(key, value)\n",
    "        if self.load_factor > 0.7:\n",
    "            self.resize()\n",
    "            \n",
    "    def get_value(self, key):\n",
    "        index = self.hash_func.get_hash_value(key)\n",
    "        chain = self.buckets[index]\n",
    "        if chain is None:\n",
    "            raise KeyError\n",
    "        if isinstance(chain, list):\n",
    "            for element in self.buckets[index]:\n",
    "                if element.key == key:\n",
    "                    return element.value\n",
    "        if isinstance(chain, TreeBinary):\n",
    "            return chain.get_value(key)\n",
    "                \n",
    "    def remove(self, key):\n",
    "        index = self.hash_func.get_hash_value(key)\n",
    "        chain = self.buckets[index]\n",
    "        if chain is None:\n",
    "            raise KeyError\n",
    "        if isinstance(chain, list):\n",
    "            for element in chain:\n",
    "                if element.key == key:\n",
    "                    chain.remove(element)\n",
    "                    if not chain:\n",
    "                        self.buckets[index] = None\n",
    "        if isinstance(chain, TreeBinary):\n",
    "            chain.remove(key)\n",
    "            if chain.is_empty():\n",
    "                self.buckets[index] = None\n",
    "                    \n",
    "    @property\n",
    "    def load_factor(self):\n",
    "        return sum([self.buckets[i] is not None for i in range(self.m)]) / self.m\n",
    "    \n",
    "    def resize(self):\n",
    "        old_table = deepcopy(self)\n",
    "        self.m *= 2\n",
    "        self.create_new_buckets()\n",
    "        self.hash_func = HashUniversal(self.p, self.m)\n",
    "        for element in old_table:\n",
    "            self.insert_element(element.key, element.value)\n",
    "        \n",
    "    def __iter__(self):\n",
    "        for bucket in self.buckets:\n",
    "            if bucket is not None:\n",
    "                for element in bucket:\n",
    "                    yield element"
   ]
  },
  {
   "cell_type": "markdown",
   "metadata": {},
   "source": [
    "## Тест работы основных операций"
   ]
  },
  {
   "cell_type": "markdown",
   "metadata": {},
   "source": [
    "- 10000 элементов\n",
    "- Добавление, поиск, удаление\n",
    "- Проверяем при помощи питоновской реализации словаря"
   ]
  },
  {
   "cell_type": "code",
   "execution_count": 12,
   "metadata": {},
   "outputs": [],
   "source": [
    "X = 999\n",
    "N = 10000\n",
    "\n",
    "elements = [(i, random.randint(0, X)) for i in range(N)]\n",
    "random.shuffle(elements)\n",
    "\n",
    "hash_table = HashTable(max_key=N)\n",
    "py_dict = {}\n",
    "\n",
    "for element in elements:\n",
    "    hash_table.insert(*element)\n",
    "    py_dict[element[0]] = element[1]"
   ]
  },
  {
   "cell_type": "code",
   "execution_count": 13,
   "metadata": {},
   "outputs": [
    {
     "data": {
      "text/plain": [
       "<TimeitResult : 9 ms ± 0 ns per loop (mean ± std. dev. of 1 run, 1 loop each)>"
      ]
     },
     "execution_count": 13,
     "metadata": {},
     "output_type": "execute_result"
    }
   ],
   "source": [
    "%%timeit -r 1 -n 1 -o -q\n",
    "\n",
    "for k, v in py_dict.items():\n",
    "    if v == hash_table.get_value(k):\n",
    "        continue"
   ]
  },
  {
   "cell_type": "code",
   "execution_count": 14,
   "metadata": {},
   "outputs": [
    {
     "data": {
      "text/plain": [
       "<TimeitResult : 13.6 ms ± 0 ns per loop (mean ± std. dev. of 1 run, 1 loop each)>"
      ]
     },
     "execution_count": 14,
     "metadata": {},
     "output_type": "execute_result"
    }
   ],
   "source": [
    "%%timeit -r 1 -n 1 -o -q\n",
    "\n",
    "for k, v in py_dict.items():\n",
    "    hash_table.remove(k)"
   ]
  },
  {
   "cell_type": "markdown",
   "metadata": {},
   "source": [
    "## Тест операции поиска в сравнении со splay-деревом"
   ]
  },
  {
   "cell_type": "code",
   "execution_count": 75,
   "metadata": {},
   "outputs": [],
   "source": [
    "def generate_structures(N):\n",
    "    elements = [(i, random.randint(0, 999)) for i in range(N)]\n",
    "    random.shuffle(elements)\n",
    "    tree_splay = TreeSplay()\n",
    "    hash_table = HashTable(max_key=N)\n",
    "    for k, v in elements:\n",
    "        tree_splay.insert(k, v)\n",
    "        hash_table.insert(k, v)\n",
    "    return hash_table, tree_splay"
   ]
  },
  {
   "cell_type": "markdown",
   "metadata": {},
   "source": [
    "- N - количество элементов хеш-таблицы/дерева\n",
    "- M - количество случаных ключей в заданном диапазоне"
   ]
  },
  {
   "cell_type": "markdown",
   "metadata": {},
   "source": [
    "### Тест 1"
   ]
  },
  {
   "cell_type": "markdown",
   "metadata": {},
   "source": [
    "- N = 10**5\n",
    "- M = 10**5\n",
    "- Диапазон ключей: [0, N-1]"
   ]
  },
  {
   "cell_type": "code",
   "execution_count": 76,
   "metadata": {},
   "outputs": [],
   "source": [
    "N = 10000\n",
    "M = 10000\n",
    "hash_table, tree_splay = generate_structures(N)\n",
    "keys = [random.randint(0, N-1) for i in range(M)]"
   ]
  },
  {
   "cell_type": "code",
   "execution_count": 77,
   "metadata": {},
   "outputs": [
    {
     "data": {
      "text/plain": [
       "<TimeitResult : 9.95 ms ± 0 ns per loop (mean ± std. dev. of 1 run, 1 loop each)>"
      ]
     },
     "execution_count": 77,
     "metadata": {},
     "output_type": "execute_result"
    }
   ],
   "source": [
    "%%timeit -r 1 -n 1 -o -q\n",
    "\n",
    "for key in keys:\n",
    "    hash_table.get_value(key)"
   ]
  },
  {
   "cell_type": "code",
   "execution_count": 78,
   "metadata": {},
   "outputs": [
    {
     "data": {
      "text/plain": [
       "<TimeitResult : 210 ms ± 0 ns per loop (mean ± std. dev. of 1 run, 1 loop each)>"
      ]
     },
     "execution_count": 78,
     "metadata": {},
     "output_type": "execute_result"
    }
   ],
   "source": [
    "%%timeit -r 1 -n 1 -o -q\n",
    "\n",
    "for key in keys:\n",
    "    tree_splay.get_value(key)"
   ]
  },
  {
   "cell_type": "markdown",
   "metadata": {},
   "source": [
    "### Тест 2"
   ]
  },
  {
   "cell_type": "markdown",
   "metadata": {},
   "source": [
    "- N = 10**5\n",
    "- M = 10**5\n",
    "- Диапазон ключей: [0, N/10]"
   ]
  },
  {
   "cell_type": "code",
   "execution_count": 81,
   "metadata": {},
   "outputs": [],
   "source": [
    "hash_table, tree_splay = generate_structures(N)\n",
    "keys = [random.randint(0, int(N/10)) for i in range(M)]"
   ]
  },
  {
   "cell_type": "code",
   "execution_count": 82,
   "metadata": {},
   "outputs": [
    {
     "data": {
      "text/plain": [
       "<TimeitResult : 7.7 ms ± 0 ns per loop (mean ± std. dev. of 1 run, 1 loop each)>"
      ]
     },
     "execution_count": 82,
     "metadata": {},
     "output_type": "execute_result"
    }
   ],
   "source": [
    "%%timeit -r 1 -n 1 -o -q\n",
    "\n",
    "for key in keys:\n",
    "    hash_table.get_value(key)"
   ]
  },
  {
   "cell_type": "code",
   "execution_count": 83,
   "metadata": {},
   "outputs": [
    {
     "data": {
      "text/plain": [
       "<TimeitResult : 151 ms ± 0 ns per loop (mean ± std. dev. of 1 run, 1 loop each)>"
      ]
     },
     "execution_count": 83,
     "metadata": {},
     "output_type": "execute_result"
    }
   ],
   "source": [
    "%%timeit -r 1 -n 1 -o -q\n",
    "\n",
    "for key in keys:\n",
    "    tree_splay.get_value(key)"
   ]
  },
  {
   "cell_type": "markdown",
   "metadata": {},
   "source": [
    "### Тест 3"
   ]
  },
  {
   "cell_type": "markdown",
   "metadata": {},
   "source": [
    "- N = 10**5\n",
    "- M = 10**5\n",
    "- Диапазон ключей: [0, N/100]"
   ]
  },
  {
   "cell_type": "code",
   "execution_count": 84,
   "metadata": {},
   "outputs": [],
   "source": [
    "hash_table, tree_splay = generate_structures(N)\n",
    "keys = [random.randint(0, int(N/100)) for i in range(M)]"
   ]
  },
  {
   "cell_type": "code",
   "execution_count": 85,
   "metadata": {},
   "outputs": [
    {
     "data": {
      "text/plain": [
       "<TimeitResult : 6.92 ms ± 0 ns per loop (mean ± std. dev. of 1 run, 1 loop each)>"
      ]
     },
     "execution_count": 85,
     "metadata": {},
     "output_type": "execute_result"
    }
   ],
   "source": [
    "%%timeit -r 1 -n 1 -o -q\n",
    "\n",
    "for key in keys:\n",
    "    hash_table.get_value(key)"
   ]
  },
  {
   "cell_type": "code",
   "execution_count": 86,
   "metadata": {},
   "outputs": [
    {
     "data": {
      "text/plain": [
       "<TimeitResult : 89.9 ms ± 0 ns per loop (mean ± std. dev. of 1 run, 1 loop each)>"
      ]
     },
     "execution_count": 86,
     "metadata": {},
     "output_type": "execute_result"
    }
   ],
   "source": [
    "%%timeit -r 1 -n 1 -o -q\n",
    "\n",
    "for key in keys:\n",
    "    tree_splay.get_value(key)"
   ]
  },
  {
   "cell_type": "markdown",
   "metadata": {},
   "source": [
    "### Тест 4"
   ]
  },
  {
   "cell_type": "markdown",
   "metadata": {},
   "source": [
    "- N = 10**5\n",
    "- M = 10**5\n",
    "- Диапазон ключей: [0, N/1000]"
   ]
  },
  {
   "cell_type": "code",
   "execution_count": 87,
   "metadata": {},
   "outputs": [],
   "source": [
    "hash_table, tree_splay = generate_structures(N)\n",
    "keys = [random.randint(0, int(N/1000)) for i in range(M)]"
   ]
  },
  {
   "cell_type": "code",
   "execution_count": 88,
   "metadata": {},
   "outputs": [
    {
     "data": {
      "text/plain": [
       "<TimeitResult : 6.76 ms ± 0 ns per loop (mean ± std. dev. of 1 run, 1 loop each)>"
      ]
     },
     "execution_count": 88,
     "metadata": {},
     "output_type": "execute_result"
    }
   ],
   "source": [
    "%%timeit -r 1 -n 1 -o -q\n",
    "\n",
    "for key in keys:\n",
    "    hash_table.get_value(key)"
   ]
  },
  {
   "cell_type": "code",
   "execution_count": 89,
   "metadata": {},
   "outputs": [
    {
     "data": {
      "text/plain": [
       "<TimeitResult : 39.1 ms ± 0 ns per loop (mean ± std. dev. of 1 run, 1 loop each)>"
      ]
     },
     "execution_count": 89,
     "metadata": {},
     "output_type": "execute_result"
    }
   ],
   "source": [
    "%%timeit -r 1 -n 1 -o -q\n",
    "\n",
    "for key in keys:\n",
    "    tree_splay.get_value(key)"
   ]
  },
  {
   "cell_type": "markdown",
   "metadata": {},
   "source": [
    "По времени выполнения операции поиска хеш-таблица превосходит splay-дерево (<10 ms), хотя последнее показывает уменьшение времени выполнения в случае, если запрашиваемые элементы часто повторяются (c 210 ms до 39 ms)."
   ]
  },
  {
   "cell_type": "code",
   "execution_count": null,
   "metadata": {},
   "outputs": [],
   "source": []
  }
 ],
 "metadata": {
  "kernelspec": {
   "display_name": "Python 3",
   "language": "python",
   "name": "python3"
  },
  "language_info": {
   "codemirror_mode": {
    "name": "ipython",
    "version": 3
   },
   "file_extension": ".py",
   "mimetype": "text/x-python",
   "name": "python",
   "nbconvert_exporter": "python",
   "pygments_lexer": "ipython3",
   "version": "3.6.9"
  }
 },
 "nbformat": 4,
 "nbformat_minor": 4
}
