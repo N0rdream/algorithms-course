{
 "cells": [
  {
   "cell_type": "markdown",
   "metadata": {},
   "source": [
    "# Алгоритм для игры в \"Четыре в ряд\""
   ]
  },
  {
   "cell_type": "code",
   "execution_count": 1,
   "metadata": {},
   "outputs": [],
   "source": [
    "import random\n",
    "from collections import Counter\n",
    "import numpy as np\n",
    "import pandas as pd\n",
    "from operator import itemgetter\n",
    "from itertools import chain\n",
    "\n",
    "import torch\n",
    "import torch.nn.functional as F\n",
    "from torch import nn\n",
    "\n",
    "import matplotlib.pyplot as plt\n",
    "import seaborn as sns\n",
    "\n",
    "from sklearn.model_selection import train_test_split"
   ]
  },
  {
   "cell_type": "markdown",
   "metadata": {},
   "source": [
    "## 1. Реализация правил игры"
   ]
  },
  {
   "cell_type": "code",
   "execution_count": 2,
   "metadata": {},
   "outputs": [],
   "source": [
    "STRATEGIES = {0: 'Tie', 1: 'Vertical', 2: 'Horizontal', 3: 'Diagonal'}\n",
    "PLAYERS = {-1: '2nd', 1: '1st', 0: 'Tie'}\n",
    "# все победы равноценны (зеркальные награды для 1ого и 2ого участника)\n",
    "REWARDS_EQUAL_1 = {-3: -1, -2: -1, -1: -1, 0: 0, 1: 1, 2: 1, 3: 1}\n",
    "REWARDS_EQUAL_2 = {-3: 1, -2: 1, -1: 1, 0: 0, 1: -1, 2: -1, 3: -1}\n",
    "# победы по горизонтали и диагонали оцениваются выше\n",
    "REWARDS_HORIZ_1 = {-3: -1, -2: -2, -1: -3, 0: 0, 1: 1, 2: 2, 3: 3}"
   ]
  },
  {
   "cell_type": "code",
   "execution_count": 3,
   "metadata": {},
   "outputs": [],
   "source": [
    "class ConnectFour:\n",
    "    \n",
    "    def __init__(self):\n",
    "        self.board = np.zeros([6, 7])\n",
    "        self.current_player = 1\n",
    "        self.actions_history = []\n",
    "        #self.game_states_history = []\n",
    "\n",
    "    @property\n",
    "    def legal_actions(self):\n",
    "        return np.nonzero(self.board[0,:] == 0)[0]\n",
    "    \n",
    "    @property\n",
    "    def last_move(self):\n",
    "        last_action = self.actions_history[-1]\n",
    "        row = np.nonzero(self.board[:, last_action])[0][0]\n",
    "        return row, last_action\n",
    "    \n",
    "    @property\n",
    "    def free_spots(self):\n",
    "        return 6*7 - self.moves\n",
    "    \n",
    "    @property\n",
    "    def moves(self):\n",
    "        return np.count_nonzero(self.board)\n",
    "    \n",
    "    @property\n",
    "    def state(self):\n",
    "        state = self.board.flatten().reshape(1, -1)\n",
    "        # state = np.where(state == -1, 2, state)\n",
    "        return state\n",
    "    \n",
    "    def make_image(self):\n",
    "        new_game = self.__class__()\n",
    "        new_game.board = np.copy(self.board)\n",
    "        new_game.current_player = self.current_player\n",
    "        new_game.actions_history = self.actions_history[:]\n",
    "        return new_game\n",
    "    \n",
    "    def get_free_row(self, action):\n",
    "        x = np.argmax(self.board != 0, axis=0)\n",
    "        x = np.where(x > 0, x-1, 6-1)\n",
    "        return x[action]\n",
    "        \n",
    "    def make_move(self, action):\n",
    "        if self.free_spots != 0:\n",
    "            row = self.get_free_row(action)\n",
    "            self.board[row, action] = self.current_player\n",
    "            self.actions_history.append(action)\n",
    "            # меняем до проверки на победу\n",
    "            self.current_player *= -1\n",
    "    \n",
    "    def is_pos_diagonal_win(self):\n",
    "        disks = 0\n",
    "        # считаем слева вниз\n",
    "        row, col = self.last_move\n",
    "        while row < 6 and col >= 0 and self.board[row][col] == -self.current_player:\n",
    "            disks += 1\n",
    "            row += 1\n",
    "            col -= 1\n",
    "        # считаем справа вверх\n",
    "        row, col = self.last_move\n",
    "        while row >= 0 and col < 7 and self.board[row][col] == -self.current_player:\n",
    "            disks += 1\n",
    "            if disks-1 >= 4:\n",
    "                return True\n",
    "            row -= 1\n",
    "            col += 1\n",
    "        return False\n",
    "    \n",
    "    def is_neg_diagonal_win(self):\n",
    "        disks = 0\n",
    "        # считаем справа вниз\n",
    "        row, col = self.last_move\n",
    "        while row < 6 and col < 7 and self.board[row][col] == -self.current_player:\n",
    "            disks += 1\n",
    "            row += 1\n",
    "            col += 1\n",
    "        # считаем слева вверх\n",
    "        row, col = self.last_move\n",
    "        while row >= 0 and col >= 0 and self.board[row][col] == -self.current_player:\n",
    "            disks += 1\n",
    "            if disks-1 >= 4:\n",
    "                return True\n",
    "            row -= 1\n",
    "            col -= 1\n",
    "        return False        \n",
    "    \n",
    "    def is_horizontal_win(self):\n",
    "        disks = 0\n",
    "        # считаем влево\n",
    "        row, col = self.last_move\n",
    "        while col >= 0 and self.board[row][col] == -self.current_player:\n",
    "            disks += 1\n",
    "            col -= 1\n",
    "        # считаем вправо\n",
    "        row, col = self.last_move\n",
    "        while col < 7 and self.board[row][col] == -self.current_player:\n",
    "            disks += 1\n",
    "            if disks-1 == 4:\n",
    "                return True\n",
    "            col += 1\n",
    "        return False\n",
    "    \n",
    "    def is_vertical_win(self):\n",
    "        disks = 0\n",
    "        row, col = self.last_move\n",
    "        # считаем вниз\n",
    "        while row < 6 and self.board[row][col] == -self.current_player:\n",
    "            disks += 1\n",
    "            if disks == 4:\n",
    "                return True\n",
    "            row += 1\n",
    "        return False\n",
    "    \n",
    "    @property\n",
    "    def outcome(self):\n",
    "        if self.is_vertical_win():\n",
    "            return 1 * (-self.current_player)\n",
    "        if self.is_horizontal_win():\n",
    "            return 2 * (-self.current_player)\n",
    "        if self.is_pos_diagonal_win() or self.is_neg_diagonal_win():\n",
    "            return 3 * (-self.current_player)\n",
    "        return 0\n",
    "    \n",
    "    @property\n",
    "    def finished(self):\n",
    "        if self.moves < 7:\n",
    "            return False\n",
    "        if self.moves == 6*7:\n",
    "            return True\n",
    "        else:\n",
    "            if self.outcome != 0:\n",
    "                return True\n",
    "        return False\n",
    "        \n",
    "    def visualize_board(self):\n",
    "        print('1 2 3 4 5 6 7')\n",
    "        print('-------------')\n",
    "        for i in range(6):\n",
    "            row = []\n",
    "            for value in self.board[i]:\n",
    "                if value == 1:\n",
    "                    row.append('x')\n",
    "                elif value == -1:\n",
    "                    row.append('o')\n",
    "                else:\n",
    "                    row.append('.')\n",
    "            print(' '.join(el for el in row))\n",
    "        print()"
   ]
  },
  {
   "cell_type": "markdown",
   "metadata": {},
   "source": [
    "## 2. Алгоритм Monte Carlo tree search (MCTS)"
   ]
  },
  {
   "cell_type": "markdown",
   "metadata": {},
   "source": [
    "https://en.wikipedia.org/wiki/Monte_Carlo_tree_search"
   ]
  },
  {
   "cell_type": "markdown",
   "metadata": {},
   "source": [
    "https://www.youtube.com/watch?v=UXW2yZndl7U"
   ]
  },
  {
   "cell_type": "markdown",
   "metadata": {},
   "source": [
    "https://habr.com/ru/post/282522/"
   ]
  },
  {
   "cell_type": "code",
   "execution_count": 4,
   "metadata": {},
   "outputs": [],
   "source": [
    "class NodeMCTS:\n",
    "    \n",
    "    def __init__(self, game_state, coeff):\n",
    "        self.parent = None\n",
    "        self.children = []\n",
    "        self.visit_counts = 0\n",
    "        self.current_value = 0\n",
    "        self.total_value = 0\n",
    "        self.game_state = game_state\n",
    "        self.coeff = coeff\n",
    "        \n",
    "    def is_leaf(self):\n",
    "        return not self.children\n",
    "                 \n",
    "    def create_child(self, action):\n",
    "        child_game_state = self.game_state.make_image()\n",
    "        child_game_state.make_move(action)\n",
    "        child_node = self.__class__(child_game_state, self.coeff)\n",
    "        child_node.parent = self\n",
    "        return child_node\n",
    "\n",
    "    def choose_child(self):\n",
    "        scores = []\n",
    "        for child in self.children:\n",
    "            if child.visit_counts == 0:\n",
    "                return child\n",
    "            else:\n",
    "                scores.append(child.ucb_score)\n",
    "        max_score_index = np.argmax(scores)\n",
    "        return self.children[max_score_index]\n",
    "    \n",
    "    def expand(self):\n",
    "        # нейросеть для предсказания наиболее перспективного дочернего узла в плане победы\n",
    "        for action in self.game_state.legal_actions:\n",
    "            child_node = self.create_child(action)\n",
    "            self.children.append(child_node)\n",
    "      \n",
    "    @property\n",
    "    def ucb_score(self):\n",
    "        exploitation = self.total_value / self.visit_counts\n",
    "        exploration = np.sqrt(np.log(self.parent.visit_counts) / self.visit_counts)\n",
    "        return exploitation + self.coeff * exploration"
   ]
  },
  {
   "cell_type": "code",
   "execution_count": 5,
   "metadata": {},
   "outputs": [],
   "source": [
    "class MCTS:\n",
    "    \n",
    "    def __init__(self, n_simulations=10, coeff=2, rewards=None):\n",
    "        self.n_simulations = n_simulations\n",
    "        self.coeff = coeff\n",
    "        self.rewards = rewards \n",
    "        \n",
    "    def load_game(self, game):\n",
    "        game_image = game.make_image()\n",
    "        self.root = NodeMCTS(game_image, self.coeff)\n",
    "        self.root.expand()\n",
    "    \n",
    "    def predict(self):\n",
    "        scores = [child.total_value / child.visit_counts for child in self.root.children]\n",
    "        index = np.argmax(scores)\n",
    "        return self.root.game_state.legal_actions[index]\n",
    "    \n",
    "    def predict_probs(self):\n",
    "        scores = np.array([child.total_value / child.visit_counts for child in self.root.children])\n",
    "        return np.exp(scores) / np.sum(np.exp(scores))\n",
    "            \n",
    "    def backpropagate(self, node):\n",
    "        while node.parent is not None:\n",
    "            node.parent.total_value += node.current_value\n",
    "            node.parent.visit_counts += 1\n",
    "            node = node.parent\n",
    "            \n",
    "    def select(self):\n",
    "        node = self.root\n",
    "        while not node.is_leaf():\n",
    "            node = node.choose_child()\n",
    "        return node\n",
    "    \n",
    "    def simulate(self, node):\n",
    "        simulation = node.game_state.make_image()\n",
    "        while not simulation.finished:\n",
    "            # нейросеть для предсказания исхода игры без симуляции\n",
    "            simulation_action = np.random.choice(simulation.legal_actions)\n",
    "            simulation.make_move(simulation_action)\n",
    "        outcome = self.rewards[simulation.outcome]\n",
    "        node.current_value = outcome\n",
    "        node.total_value += outcome\n",
    "        node.visit_counts += 1\n",
    "        \n",
    "    def fit(self):\n",
    "        for i in range(self.n_simulations):\n",
    "            current_node = self.select()\n",
    "            if current_node.visit_counts != 0:\n",
    "                current_node.expand()\n",
    "                if current_node.children:\n",
    "                    first_child_node = current_node.children[0]\n",
    "                    self.simulate(first_child_node)\n",
    "                    self.backpropagate(first_child_node)\n",
    "            else: \n",
    "                self.simulate(current_node)\n",
    "                self.backpropagate(current_node)"
   ]
  },
  {
   "cell_type": "markdown",
   "metadata": {},
   "source": [
    "### Вспомогательные функции"
   ]
  },
  {
   "cell_type": "code",
   "execution_count": 6,
   "metadata": {},
   "outputs": [],
   "source": [
    "def simulate_game(player_1, player_2):\n",
    "    \n",
    "    game = ConnectFour()\n",
    "    \n",
    "    while not game.finished:\n",
    "        \n",
    "        if game.current_player == 1:\n",
    "            player = player_1\n",
    "        else:\n",
    "            player = player_2\n",
    "            \n",
    "        player.load_game(game)\n",
    "        player.fit()\n",
    "        action = player.predict()\n",
    "        game.make_move(action)\n",
    "#         print('After action board')\n",
    "#         game.visualize_board()\n",
    "#         print()\n",
    "#     print('Final board')\n",
    "#     game.visualize_board()\n",
    "#     print()\n",
    "    return game.outcome"
   ]
  },
  {
   "cell_type": "code",
   "execution_count": 7,
   "metadata": {},
   "outputs": [],
   "source": [
    "def simulate_games(player_1, player_2, n_games=100):\n",
    "    outcomes = []\n",
    "    for i in range(n_games):\n",
    "        outcome = simulate_game(player_1, player_2)\n",
    "        outcomes.append(outcome)\n",
    "    return np.array(outcomes)"
   ]
  },
  {
   "cell_type": "code",
   "execution_count": 8,
   "metadata": {},
   "outputs": [],
   "source": [
    "def get_dfs_for_plotting(player_1, player_2, n_games=100):\n",
    "    outcomes = simulate_games(player_1, player_2, n_games=n_games)\n",
    "\n",
    "    strats = np.abs(outcomes)\n",
    "    players = np.where(outcomes > 0, 1, outcomes)\n",
    "    players = np.where(players < 0, -1, players)\n",
    "\n",
    "    df = pd.DataFrame(np.vstack([strats, players]).T, columns=['strategy', 'winner'])\n",
    "    df['strategy'] = df['strategy'].map(STRATEGIES)\n",
    "    df['winner'] = df['winner'].map(PLAYERS)\n",
    "    new_df = df[df.strategy != 'Tie'].groupby(\n",
    "        ['strategy', 'winner'])['winner'].count().rename('count').reset_index()\n",
    "    return df, new_df\n",
    "\n",
    "\n",
    "def get_simulated_games_info(player_1, player_2, n_games=100, plot=True):\n",
    "    \n",
    "    df, new_df = get_dfs_for_plotting(player_1, player_2, n_games=n_games)\n",
    "    probs = df['winner'].value_counts(normalize=True)\n",
    "    \n",
    "    if plot:\n",
    "        fig = plt.figure(figsize=(15, 5))\n",
    "        gs = fig.add_gridspec(1, 2)\n",
    "\n",
    "        # Соотношение побед\n",
    "        fig.add_subplot(gs[0, 0])\n",
    "        order = df.winner.sort_values().unique()\n",
    "        sns.countplot(df['winner'], data=df, order=order)\n",
    "\n",
    "        # Соотношение по типам побед\n",
    "        fig.add_subplot(gs[0, 1])\n",
    "        order = ['Vertical', 'Horizontal', 'Diagonal']\n",
    "        hue_order = new_df.winner.sort_values().unique()\n",
    "        sns.barplot(x='strategy', y='count', hue='winner', data=new_df, order=order, hue_order=hue_order)\n",
    "\n",
    "        plt.show()\n",
    "        print(probs)\n",
    "    \n",
    "    return probs.sort_index(ascending=True).values"
   ]
  },
  {
   "cell_type": "code",
   "execution_count": 9,
   "metadata": {},
   "outputs": [],
   "source": [
    "# генератор случайных позиций\n",
    "\n",
    "class RandomPlayer:\n",
    "    \n",
    "    def load_game(self, game):\n",
    "        self.game = game.make_image()\n",
    "        \n",
    "    def fit(self):\n",
    "        pass\n",
    "    \n",
    "    def predict(self):\n",
    "        return np.random.choice(self.game.legal_actions)\n",
    "    \n",
    "    def predict_probs(self):\n",
    "        n_actions = len(self.game.legal_actions)\n",
    "        return np.array([1 / n_actions for i in range(n_actions)])"
   ]
  },
  {
   "cell_type": "markdown",
   "metadata": {},
   "source": [
    "## 3. Оценка эффективности и корректности работы алгоритма MCTS"
   ]
  },
  {
   "cell_type": "markdown",
   "metadata": {},
   "source": [
    "### a)  Генератор случайных позиций против самого себя"
   ]
  },
  {
   "cell_type": "code",
   "execution_count": 10,
   "metadata": {},
   "outputs": [
    {
     "data": {
      "image/png": "[encoded data removed]",
      "text/plain": [
       "<Figure size 1080x360 with 2 Axes>"
      ]
     },
     "metadata": {
      "needs_background": "light"
     },
     "output_type": "display_data"
    },
    {
     "name": "stdout",
     "output_type": "stream",
     "text": [
      "1st    0.541\n",
      "2nd    0.455\n",
      "Tie    0.004\n",
      "Name: winner, dtype: float64\n"
     ]
    }
   ],
   "source": [
    "probs = get_simulated_games_info(RandomPlayer(), RandomPlayer(), n_games=1000)"
   ]
  },
  {
   "cell_type": "markdown",
   "metadata": {},
   "source": [
    "Игрок, начинающий первым, имеет преимущество: ~55% к ~45%"
   ]
  },
  {
   "cell_type": "markdown",
   "metadata": {},
   "source": [
    "### b)  Алгоритм MCTS против генератора случайных позиций (алгоритм играет первым номером)"
   ]
  },
  {
   "cell_type": "code",
   "execution_count": 14,
   "metadata": {},
   "outputs": [],
   "source": [
    "monte_carlo_player = MCTS(n_simulations=100, coeff=2, rewards=REWARDS_EQUAL_1)"
   ]
  },
  {
   "cell_type": "code",
   "execution_count": 15,
   "metadata": {},
   "outputs": [
    {
     "data": {
      "image/png": "[encoded data removed]",
      "text/plain": [
       "<Figure size 1080x360 with 2 Axes>"
      ]
     },
     "metadata": {
      "needs_background": "light"
     },
     "output_type": "display_data"
    },
    {
     "name": "stdout",
     "output_type": "stream",
     "text": [
      "1st    0.834\n",
      "2nd    0.162\n",
      "Tie    0.004\n",
      "Name: winner, dtype: float64\n"
     ]
    }
   ],
   "source": [
    "probs = get_simulated_games_info(monte_carlo_player, RandomPlayer(), n_games=500)"
   ]
  },
  {
   "cell_type": "markdown",
   "metadata": {},
   "source": [
    "Алгоритм MCTS показывает существенный прирост процента побед: >70% против базовых 55%"
   ]
  },
  {
   "cell_type": "markdown",
   "metadata": {},
   "source": [
    "### с)  Алгоритм MCTS против генератора случайных позиций (алгоритм играет вторым номером)"
   ]
  },
  {
   "cell_type": "code",
   "execution_count": 16,
   "metadata": {},
   "outputs": [],
   "source": [
    "monte_carlo_player = MCTS(n_simulations=100, coeff=2, rewards=REWARDS_EQUAL_2)"
   ]
  },
  {
   "cell_type": "code",
   "execution_count": 17,
   "metadata": {},
   "outputs": [
    {
     "data": {
      "image/png": "[encoded data removed]",
      "text/plain": [
       "<Figure size 1080x360 with 2 Axes>"
      ]
     },
     "metadata": {
      "needs_background": "light"
     },
     "output_type": "display_data"
    },
    {
     "name": "stdout",
     "output_type": "stream",
     "text": [
      "2nd    0.788\n",
      "1st    0.196\n",
      "Tie    0.016\n",
      "Name: winner, dtype: float64\n"
     ]
    }
   ],
   "source": [
    "probs = get_simulated_games_info(RandomPlayer(), monte_carlo_player, n_games=500)"
   ]
  },
  {
   "cell_type": "markdown",
   "metadata": {},
   "source": [
    "### d)  Алгоритм MCTS против генератора случайных позиций (вертикали оцениваются меньше всего)"
   ]
  },
  {
   "cell_type": "code",
   "execution_count": 18,
   "metadata": {},
   "outputs": [],
   "source": [
    "monte_carlo_player = MCTS(n_simulations=100, coeff=2, rewards=REWARDS_HORIZ_1)"
   ]
  },
  {
   "cell_type": "code",
   "execution_count": 19,
   "metadata": {},
   "outputs": [
    {
     "data": {
      "image/png": "[encoded data removed]",
      "text/plain": [
       "<Figure size 1080x360 with 2 Axes>"
      ]
     },
     "metadata": {
      "needs_background": "light"
     },
     "output_type": "display_data"
    },
    {
     "name": "stdout",
     "output_type": "stream",
     "text": [
      "1st    0.778\n",
      "2nd    0.212\n",
      "Tie    0.010\n",
      "Name: winner, dtype: float64\n"
     ]
    }
   ],
   "source": [
    "probs = get_simulated_games_info(monte_carlo_player, RandomPlayer(), n_games=500)"
   ]
  },
  {
   "cell_type": "markdown",
   "metadata": {},
   "source": [
    "Высокий процент побед сохранился: >70% против базовых 55%. Количество вертикальных побед стало меньше, чем горизонтальных и диагональных. Таким образом, алгоритм корректно реагирует на изменение наград."
   ]
  },
  {
   "cell_type": "markdown",
   "metadata": {},
   "source": [
    "### d)  Зависимость процента побед алгоритма MCTS от числа симуляций"
   ]
  },
  {
   "cell_type": "code",
   "execution_count": null,
   "metadata": {},
   "outputs": [],
   "source": [
    "# n_simulations = np.linspace(10, 510, 5, endpoint=False)\n",
    "# n_games = 500\n",
    "\n",
    "# total_outcomes = []\n",
    "\n",
    "# for n_sim in n_simulations:\n",
    "#     monte_carlo_player = MCTS(n_simulations=int(n_sim), coeff=2, rewards=REWARDS_EQUAL)\n",
    "#     random_player = RandomPlayer()\n",
    "#     probs = get_simulated_games_info(monte_carlo_player, RandomPlayer(), n_games=n_games, plot=False)\n",
    "#     total_outcomes.append(probs[0])\n",
    "#     print([c.visit_counts for c in monte_carlo_player.root.children])\n",
    "#     print([c.total_value for c in monte_carlo_player.root.children])\n",
    "#     print(probs[0])"
   ]
  },
  {
   "cell_type": "markdown",
   "metadata": {},
   "source": [
    "## 4. Нейронная сеть для предсказания действия в текущей ситуации"
   ]
  },
  {
   "cell_type": "markdown",
   "metadata": {},
   "source": [
    "### Реализация"
   ]
  },
  {
   "cell_type": "code",
   "execution_count": 20,
   "metadata": {},
   "outputs": [],
   "source": [
    "class PolicyNet(nn.Module):\n",
    "    \n",
    "    def __init__(self, input_size=42, n_classes=7, hidden_size=100, \n",
    "                 learning_rate=1e-3, batch_size=200, n_epochs=5):\n",
    "        \n",
    "        super().__init__()\n",
    "        \n",
    "        self.input_size = input_size\n",
    "        self.n_classes = n_classes\n",
    "        self.learning_rate = learning_rate\n",
    "        self.batch_size = batch_size\n",
    "        self.n_epochs = n_epochs\n",
    "        \n",
    "        self.fc1 = nn.Linear(self.input_size, hidden_size)\n",
    "        self.bn1 = nn.BatchNorm1d(hidden_size)\n",
    "        \n",
    "        self.fc2 = nn.Linear(hidden_size, hidden_size)\n",
    "        self.do2 = nn.Dropout(p=0.5)\n",
    "        self.bn2 = nn.BatchNorm1d(hidden_size)\n",
    "        \n",
    "        self.fc3 = nn.Linear(hidden_size, hidden_size)\n",
    "        self.bn3 = nn.BatchNorm1d(hidden_size)\n",
    "        \n",
    "        self.fc4 = nn.Linear(hidden_size, self.n_classes)\n",
    "    \n",
    "        self.optimizer = torch.optim.Adam(self.parameters(), lr=self.learning_rate)\n",
    "        self.loss = nn.CrossEntropyLoss()\n",
    "        \n",
    "        self.device = torch.device('cuda:0' if torch.cuda.is_available() else 'cpu')\n",
    "        self.to(self.device)\n",
    "        \n",
    "        self.accuracy_history_train = []\n",
    "        self.loss_history_train = []\n",
    "        self.accuracy_history_test = []\n",
    "        self.loss_history_test = []\n",
    "    \n",
    "    def forward(self, X):\n",
    "        # 1\n",
    "        X = self.fc1(X)\n",
    "        X = F.relu(X)\n",
    "        X = self.bn1(X)\n",
    "        # 2\n",
    "        X = self.fc2(X)\n",
    "        X = F.relu(X)\n",
    "        X = self.do2(X)\n",
    "        X = self.bn2(X)\n",
    "        # 3\n",
    "        X = self.fc3(X)\n",
    "        X = F.relu(X)\n",
    "        X = self.bn3(X)\n",
    "        # 4\n",
    "        X = self.fc4(X)\n",
    "        return X\n",
    "    \n",
    "    def load_data(self, X, y):\n",
    "        X_train, X_test, y_train, y_test = train_test_split(X, y, random_state=42, test_size=0.3, shuffle=True)\n",
    "        X_train = torch.FloatTensor(X_train)\n",
    "        y_train = torch.LongTensor(y_train)\n",
    "        X_test = torch.FloatTensor(X_test)\n",
    "        y_test = torch.LongTensor(y_test)\n",
    "        data_train = torch.utils.data.TensorDataset(X_train, y_train)\n",
    "        self.data_loader_train = torch.utils.data.DataLoader(\n",
    "            data_train, \n",
    "            batch_size=self.batch_size, \n",
    "            shuffle=True\n",
    "        )\n",
    "        self.X_test = X_test\n",
    "        self.y_test = y_test\n",
    "        \n",
    "    def train_model(self):\n",
    "        for epoch in range(self.n_epochs):\n",
    "            self.train()\n",
    "            loss_epoch = []\n",
    "            accuracy_epoch = []\n",
    "            for i, (X_batch, y_batch) in enumerate(self.data_loader_train):\n",
    "                self.optimizer.zero_grad()\n",
    "                y_batch = y_batch.to(self.device)\n",
    "                preds = self.forward(X_batch.to(self.device))\n",
    "                loss_batch = self.loss(preds, y_batch)\n",
    "                # loss history\n",
    "                loss_epoch.append(loss_batch.item())\n",
    "                # accuracy history\n",
    "                preds = F.softmax(preds, dim=1)\n",
    "                preds = torch.argmax(preds, dim=1)\n",
    "                good_preds = torch.where(preds != y_batch, \n",
    "                                          torch.tensor([0.]).to(self.device), \n",
    "                                          torch.tensor([1.]).to(self.device))\n",
    "                accuracy_batch = torch.mean(good_preds)\n",
    "                accuracy_epoch.append(accuracy_batch.item())\n",
    "                # backprop\n",
    "                loss_batch.backward()\n",
    "                self.optimizer.step()\n",
    "            # epoch history\n",
    "            self.loss_history_train.append(np.mean(loss_epoch))\n",
    "            self.accuracy_history_train.append(np.mean(accuracy_epoch))\n",
    "            \n",
    "            self.eval()\n",
    "            with torch.no_grad():\n",
    "                y_test = self.y_test.to(self.device)\n",
    "                preds_test = self.forward(self.X_test.to(self.device))\n",
    "                loss_test = self.loss(preds_test, y_test)\n",
    "                preds_test = F.softmax(preds_test, dim=1)\n",
    "                preds_test = torch.argmax(preds_test, dim=1)\n",
    "                good_preds_test = torch.where(preds_test != y_test, \n",
    "                                          torch.tensor([0.]).to(self.device), \n",
    "                                          torch.tensor([1.]).to(self.device))\n",
    "                accuracy_test = torch.mean(good_preds_test)\n",
    "                self.loss_history_test.append(loss_test.item())\n",
    "                self.accuracy_history_test.append(accuracy_test)\n",
    "            \n",
    "\n",
    "        print(f'Loss:\\t\\t{self.loss_history_train[-1]}\\t{self.loss_history_test[-1]}')\n",
    "        print(f'Accuracy:\\t{self.accuracy_history_train[-1]}\\t{self.accuracy_history_test[-1]}')\n",
    "            \n",
    "        print()\n",
    "        \n",
    "    def predict(self, state):\n",
    "        self.eval()\n",
    "        state = torch.FloatTensor(state)\n",
    "        with torch.no_grad():\n",
    "            preds = self.forward(state.to(self.device))\n",
    "            preds = F.softmax(preds, dim=1)\n",
    "            cols = torch.argsort(preds, descending=True)[0].tolist()\n",
    "        return cols\n",
    "    \n",
    "    def predict_probs(self, state):\n",
    "        self.eval()\n",
    "        state = torch.FloatTensor(state)\n",
    "        with torch.no_grad():\n",
    "            preds = self.forward(state.to(self.device))\n",
    "            probs = F.softmax(preds, dim=1)\n",
    "        return probs"
   ]
  },
  {
   "cell_type": "code",
   "execution_count": 21,
   "metadata": {},
   "outputs": [],
   "source": [
    "class ReinforcedPlayer:\n",
    "    \n",
    "    def __init__(self):\n",
    "        self.network = PolicyNet(\n",
    "            input_size=42, \n",
    "            n_classes=7, \n",
    "            hidden_size=1000,\n",
    "            learning_rate=1e-3, \n",
    "            batch_size=1024,\n",
    "            n_epochs=5\n",
    "        )\n",
    "        \n",
    "    def fit(self):\n",
    "        pass\n",
    "    \n",
    "    def load_game(self, game):\n",
    "        self.game = game.make_image()\n",
    "        \n",
    "    def train(self):\n",
    "        self.network.train_model()\n",
    "        \n",
    "    def load_data(self, X, y):\n",
    "        self.network.load_data(X, y)\n",
    "    \n",
    "    def predict(self):\n",
    "        probs = self.predict_probs()\n",
    "        index = np.argmax(probs)\n",
    "        return self.game.legal_actions[index]\n",
    "        \n",
    "    def predict_probs(self):\n",
    "#         state = self.game.board.flatten().reshape(1, -1)\n",
    "#         state = np.where(state == -1, 2, state)\n",
    "        probs = self.network.predict_probs(self.game.state)\n",
    "        probs = probs.cpu()[0].numpy()\n",
    "        new_probs = probs[self.game.legal_actions]\n",
    "        new_probs = new_probs/np.sum(new_probs)\n",
    "        return new_probs"
   ]
  },
  {
   "cell_type": "markdown",
   "metadata": {},
   "source": [
    "### Вспомогательные функции для тренировки сети"
   ]
  },
  {
   "cell_type": "code",
   "execution_count": 22,
   "metadata": {},
   "outputs": [],
   "source": [
    "def play_game(player_1, player_2):\n",
    "    \n",
    "    game = ConnectFour()\n",
    "    \n",
    "    game_states_1 = []\n",
    "    game_actions_1 = []\n",
    "    game_states_2 = []\n",
    "    game_actions_2 = []\n",
    "\n",
    "    while not game.finished:\n",
    "        current_player = game.current_player\n",
    "        if current_player == 1:\n",
    "            game_states_1.extend(chain.from_iterable(game.state))\n",
    "            player_1.load_game(game)\n",
    "            column = np.random.choice(game.legal_actions, p=player_1.predict_probs())\n",
    "            game.make_move(column)\n",
    "            game_actions_1.append(column)\n",
    "        if current_player == -1:\n",
    "            game_states_2.extend(chain.from_iterable(game.state))\n",
    "            player_2.load_game(game)\n",
    "            column = np.random.choice(game.legal_actions, p=player_2.predict_probs())\n",
    "            game.make_move(column)\n",
    "            game_actions_2.append(column)\n",
    "    \n",
    "    return game_states_1, game_actions_1, game_states_2, game_actions_2, game.outcome, game.moves"
   ]
  },
  {
   "cell_type": "code",
   "execution_count": 23,
   "metadata": {},
   "outputs": [],
   "source": [
    "def play_games(player_1, player_2, n_games=100):\n",
    "    \n",
    "    states_1 = []\n",
    "    actions_1 = []\n",
    "    states_2 = []\n",
    "    actions_2 = []\n",
    "    winners = []\n",
    "    moves = []\n",
    "    strategies = []\n",
    "    \n",
    "    for i in range(n_games):\n",
    "\n",
    "        game_st_1, game_act_1, game_st_2, game_act_2, outcome, game_moves = play_game(player_1, player_2)        \n",
    "        \n",
    "        states_1.append(game_st_1)\n",
    "        actions_1.append(game_act_1)\n",
    "        states_2.append(game_st_2)\n",
    "        actions_2.append(game_act_2)\n",
    "        if outcome > 0:\n",
    "            winners.append(1)\n",
    "        elif outcome < 0:\n",
    "            winners.append(-1)\n",
    "        else:\n",
    "            winners.append(0)\n",
    "        moves.append(game_moves)\n",
    "        strategies.append(np.abs(outcome))\n",
    "        \n",
    "    return states_1, actions_1, states_2, actions_2, winners, moves, strategies"
   ]
  },
  {
   "cell_type": "code",
   "execution_count": 24,
   "metadata": {},
   "outputs": [],
   "source": [
    "def get_dataset_from_game_data(states, actions, winners, moves, strategies, player=1):\n",
    "    df = pd.DataFrame(zip(moves, strategies, winners), columns=['moves', 'strategy', 'winner'])\n",
    "    \n",
    "#     print(df.winner.value_counts(normalize=True))\n",
    "#     print()\n",
    "#     print(df[df.winner == player].strategy.value_counts())\n",
    "#     print()\n",
    "    \n",
    "    games_indices = df[(df.winner == player) & (df.moves >= 15)].index.to_list()\n",
    "    X = itemgetter(*games_indices)(states)\n",
    "    y = itemgetter(*games_indices)(actions)\n",
    "    X = np.fromiter(chain.from_iterable(X), int).reshape(-1, 6*7)\n",
    "    y = np.fromiter(chain.from_iterable(y), int)\n",
    "    return X, y"
   ]
  },
  {
   "cell_type": "code",
   "execution_count": 25,
   "metadata": {},
   "outputs": [],
   "source": [
    "def train_policy_network(player_1, player_2, n_rounds=10, n_games=1000):\n",
    "\n",
    "    for i in range(n_rounds):\n",
    "        print(i)\n",
    "\n",
    "        st_1, act_1, st_2, act_2, winners, moves, strategies = play_games(player_1, player_2, n_games=n_games)\n",
    "\n",
    "        X1, y1 = get_dataset_from_game_data(st_1, act_1, winners, moves, strategies, player=1)\n",
    "        X2, y2 = get_dataset_from_game_data(st_2, act_2, winners, moves, strategies, player=-1)\n",
    "\n",
    "        player_1.load_data(X1, y1)\n",
    "        player_1.train()\n",
    "\n",
    "        player_2.load_data(X2, y2)\n",
    "        player_2.train()"
   ]
  },
  {
   "cell_type": "markdown",
   "metadata": {},
   "source": [
    "### Тренируем нейросеть"
   ]
  },
  {
   "cell_type": "code",
   "execution_count": 26,
   "metadata": {},
   "outputs": [],
   "source": [
    "player_1 = ReinforcedPlayer()\n",
    "player_2 = ReinforcedPlayer()"
   ]
  },
  {
   "cell_type": "code",
   "execution_count": 27,
   "metadata": {},
   "outputs": [
    {
     "name": "stdout",
     "output_type": "stream",
     "text": [
      "0\n",
      "Loss:\t\t1.923595064395183\t1.9746569395065308\n",
      "Accuracy:\t0.19055285767928973\t0.15533308684825897\n",
      "\n",
      "Loss:\t\t1.9120465715726216\t1.968962550163269\n",
      "Accuracy:\t0.2019016593694687\t0.15751083195209503\n",
      "\n",
      "1\n",
      "Loss:\t\t1.868173552883996\t1.930829405784607\n",
      "Accuracy:\t0.23955965042114258\t0.1982627511024475\n",
      "\n",
      "Loss:\t\t1.850785739960209\t1.9236538410186768\n",
      "Accuracy:\t0.24926814917595155\t0.2094307392835617\n",
      "\n",
      "2\n",
      "Loss:\t\t1.8022775716251798\t1.87816321849823\n",
      "Accuracy:\t0.27354323863983154\t0.2404281198978424\n",
      "\n",
      "Loss:\t\t1.7801766134798527\t1.8846911191940308\n",
      "Accuracy:\t0.2876660153269768\t0.24548973143100739\n",
      "\n",
      "3\n",
      "Loss:\t\t1.7395874398095268\t1.815104603767395\n",
      "Accuracy:\t0.3019355024610247\t0.2737187147140503\n",
      "\n",
      "Loss:\t\t1.674501422792673\t1.7798725366592407\n",
      "Accuracy:\t0.3375604972243309\t0.29355815052986145\n",
      "\n",
      "4\n",
      "Loss:\t\t1.651709845571807\t1.7786484956741333\n",
      "Accuracy:\t0.3493878525314909\t0.2994235157966614\n",
      "\n",
      "Loss:\t\t1.6126762014446836\t1.7309260368347168\n",
      "Accuracy:\t0.36727120569258026\t0.32471224665641785\n",
      "\n",
      "5\n",
      "Loss:\t\t1.5540200717308943\t1.7008488178253174\n",
      "Accuracy:\t0.3936590403318405\t0.3387480676174164\n",
      "\n",
      "Loss:\t\t1.5110564939677715\t1.6562151908874512\n",
      "Accuracy:\t0.409651692956686\t0.35456645488739014\n",
      "\n",
      "6\n",
      "Loss:\t\t1.493798862184797\t1.6606645584106445\n",
      "Accuracy:\t0.41719756977898736\t0.3609720468521118\n",
      "\n",
      "Loss:\t\t1.4244819148894279\t1.6036920547485352\n",
      "Accuracy:\t0.4390342120201357\t0.3767870366573334\n",
      "\n",
      "7\n",
      "Loss:\t\t1.4067658483982086\t1.5801968574523926\n",
      "Accuracy:\t0.4548914291792446\t0.39309942722320557\n",
      "\n",
      "Loss:\t\t1.3621957609730382\t1.5509322881698608\n",
      "Accuracy:\t0.46966355846774194\t0.40291962027549744\n",
      "\n",
      "8\n",
      "Loss:\t\t1.3796542717350855\t1.550995945930481\n",
      "Accuracy:\t0.4625267825192875\t0.3987932801246643\n",
      "\n",
      "Loss:\t\t1.3033418357372284\t1.499885082244873\n",
      "Accuracy:\t0.4899356169626117\t0.42093443870544434\n",
      "\n",
      "9\n",
      "Loss:\t\t1.3602409859498341\t1.5272955894470215\n",
      "Accuracy:\t0.4710361957550049\t0.40845343470573425\n",
      "\n",
      "Loss:\t\t1.2324163131415844\t1.4463545083999634\n",
      "Accuracy:\t0.5248838365077972\t0.44733619689941406\n",
      "\n",
      "10\n",
      "Loss:\t\t1.3113800525665282\t1.5105006694793701\n",
      "Accuracy:\t0.48676356247493197\t0.4111073911190033\n",
      "\n",
      "Loss:\t\t1.1974566368495716\t1.3942731618881226\n",
      "Accuracy:\t0.5355008507476133\t0.4660392999649048\n",
      "\n",
      "11\n",
      "Loss:\t\t1.2886627719209\t1.4784362316131592\n",
      "Accuracy:\t0.5013721826914195\t0.4351659417152405\n",
      "\n",
      "Loss:\t\t1.1553350759275032\t1.3666620254516602\n",
      "Accuracy:\t0.5521369124903823\t0.47497713565826416\n",
      "\n",
      "12\n",
      "Loss:\t\t1.2290578024727958\t1.4077491760253906\n",
      "Accuracy:\t0.5267871465001788\t0.46046027541160583\n",
      "\n",
      "Loss:\t\t1.1025692633220128\t1.3220624923706055\n",
      "Accuracy:\t0.5791138444628035\t0.497959166765213\n",
      "\n",
      "13\n",
      "Loss:\t\t1.2758776148160298\t1.3938171863555908\n",
      "Accuracy:\t0.5107630540927252\t0.4688394367694855\n",
      "\n",
      "Loss:\t\t1.0593566877501353\t1.2675294876098633\n",
      "Accuracy:\t0.5996550151279995\t0.5218701362609863\n",
      "\n",
      "14\n",
      "Loss:\t\t1.2174926280975342\t1.3535152673721313\n",
      "Accuracy:\t0.5429966517857143\t0.4903518855571747\n",
      "\n",
      "Loss:\t\t1.0120619518889322\t1.1982629299163818\n",
      "Accuracy:\t0.6250689493285285\t0.5625962018966675\n",
      "\n",
      "15\n",
      "Loss:\t\t1.1839881828853063\t1.3361271619796753\n",
      "Accuracy:\t0.549677562713623\t0.4936659038066864\n",
      "\n",
      "Loss:\t\t0.9629859063360426\t1.1625431776046753\n",
      "Accuracy:\t0.6504320684406493\t0.5800164937973022\n",
      "\n",
      "16\n",
      "Loss:\t\t1.1396072319575719\t1.3014154434204102\n",
      "Accuracy:\t0.5669414145605904\t0.5063442587852478\n",
      "\n",
      "Loss:\t\t0.9236180878974296\t1.1164031028747559\n",
      "Accuracy:\t0.6668952171866959\t0.6040197610855103\n",
      "\n",
      "17\n",
      "Loss:\t\t1.1319873196738106\t1.2520527839660645\n",
      "Accuracy:\t0.5661383935383388\t0.5195351243019104\n",
      "\n",
      "Loss:\t\t0.8873581628541689\t1.0836116075515747\n",
      "Accuracy:\t0.682711894447739\t0.6121411323547363\n",
      "\n",
      "18\n",
      "Loss:\t\t1.0814964932364386\t1.2061431407928467\n",
      "Accuracy:\t0.5940467908575728\t0.5462656617164612\n",
      "\n",
      "Loss:\t\t0.8623652872112062\t1.040917158126831\n",
      "Accuracy:\t0.6933965682983398\t0.6263354420661926\n",
      "\n",
      "19\n",
      "Loss:\t\t1.0573004202710257\t1.1907310485839844\n",
      "Accuracy:\t0.6028357148170471\t0.5502303242683411\n",
      "\n",
      "Loss:\t\t0.8244895223114226\t1.0029984712600708\n",
      "Accuracy:\t0.7047985543807348\t0.6465850472450256\n",
      "\n"
     ]
    }
   ],
   "source": [
    "train_policy_network(player_1, player_2, n_rounds=20, n_games=10000)"
   ]
  },
  {
   "cell_type": "markdown",
   "metadata": {},
   "source": [
    "## 5. Оценка корректности работы нейросети"
   ]
  },
  {
   "cell_type": "markdown",
   "metadata": {},
   "source": [
    "### a)  Нейросеть против генератора случайных позиций (нейросеть играет первым номером)"
   ]
  },
  {
   "cell_type": "code",
   "execution_count": 28,
   "metadata": {},
   "outputs": [
    {
     "data": {
      "image/png": "[encoded data removed]",
      "text/plain": [
       "<Figure size 1080x360 with 2 Axes>"
      ]
     },
     "metadata": {
      "needs_background": "light"
     },
     "output_type": "display_data"
    },
    {
     "name": "stdout",
     "output_type": "stream",
     "text": [
      "1st    0.907\n",
      "2nd    0.093\n",
      "Name: winner, dtype: float64\n"
     ]
    }
   ],
   "source": [
    "probs = get_simulated_games_info(player_1, RandomPlayer(), n_games=1000)"
   ]
  },
  {
   "cell_type": "markdown",
   "metadata": {},
   "source": [
    "### b)  Нейросеть против генератора случайных позиций (нейросеть играет вторым номером)"
   ]
  },
  {
   "cell_type": "code",
   "execution_count": 45,
   "metadata": {},
   "outputs": [
    {
     "data": {
      "image/png": "[encoded data removed]",
      "text/plain": [
       "<Figure size 1080x360 with 2 Axes>"
      ]
     },
     "metadata": {
      "needs_background": "light"
     },
     "output_type": "display_data"
    },
    {
     "name": "stdout",
     "output_type": "stream",
     "text": [
      "2nd    0.911\n",
      "1st    0.088\n",
      "Tie    0.001\n",
      "Name: winner, dtype: float64\n"
     ]
    }
   ],
   "source": [
    "probs = get_simulated_games_info(RandomPlayer(), player_2, n_games=1000)"
   ]
  },
  {
   "cell_type": "markdown",
   "metadata": {},
   "source": [
    "### c)  Нейросеть против алгоритма MCTS (нейросеть играет первым номером)"
   ]
  },
  {
   "cell_type": "code",
   "execution_count": 30,
   "metadata": {},
   "outputs": [
    {
     "data": {
      "image/png": "[encoded data removed]",
      "text/plain": [
       "<Figure size 1080x360 with 2 Axes>"
      ]
     },
     "metadata": {
      "needs_background": "light"
     },
     "output_type": "display_data"
    },
    {
     "name": "stdout",
     "output_type": "stream",
     "text": [
      "1st    0.806\n",
      "2nd    0.178\n",
      "Tie    0.016\n",
      "Name: winner, dtype: float64\n"
     ]
    }
   ],
   "source": [
    "monte_carlo_player = MCTS(n_simulations=100, coeff=2, rewards=REWARDS_EQUAL_2)\n",
    "probs = get_simulated_games_info(player_1, monte_carlo_player, n_games=500)"
   ]
  },
  {
   "cell_type": "markdown",
   "metadata": {},
   "source": [
    "### d)  Нейросеть против алгоритма MCTS (нейросеть играет вторым номером)"
   ]
  },
  {
   "cell_type": "code",
   "execution_count": 31,
   "metadata": {},
   "outputs": [
    {
     "data": {
      "image/png": "[encoded data removed]",
      "text/plain": [
       "<Figure size 1080x360 with 2 Axes>"
      ]
     },
     "metadata": {
      "needs_background": "light"
     },
     "output_type": "display_data"
    },
    {
     "name": "stdout",
     "output_type": "stream",
     "text": [
      "2nd    0.772\n",
      "1st    0.224\n",
      "Tie    0.004\n",
      "Name: winner, dtype: float64\n"
     ]
    }
   ],
   "source": [
    "monte_carlo_player = MCTS(n_simulations=100, coeff=2, rewards=REWARDS_EQUAL_1)\n",
    "probs = get_simulated_games_info(monte_carlo_player, player_2, n_games=500)"
   ]
  },
  {
   "cell_type": "markdown",
   "metadata": {},
   "source": [
    "## 6. Объединение алгоритма MCTS и нейросети"
   ]
  },
  {
   "cell_type": "markdown",
   "metadata": {},
   "source": [
    "Используем нейросеть в стадии \"expand\" алгоритма MCTS. Вместо автоматического расширения рассматриваемого узла на допустимое количество дочерних узлов (game.legal_actions) создадим с помощью нейросети только один дочерний узел с максимальной вероятностью выигрыша партии. Это сузит пространство поиска оптимального хода в ширину, фокусируя внимание алгоритма MCTS на наилучших путях в дереве."
   ]
  },
  {
   "cell_type": "code",
   "execution_count": 32,
   "metadata": {},
   "outputs": [],
   "source": [
    "class NodePolicyNetwork(NodeMCTS):\n",
    "    \n",
    "    def expand(self, action):\n",
    "        child_node = self.create_child(action)\n",
    "        self.children.append(child_node)"
   ]
  },
  {
   "cell_type": "code",
   "execution_count": 67,
   "metadata": {},
   "outputs": [],
   "source": [
    "class PolicyNetworkMCTS(MCTS):\n",
    "    \n",
    "    def __init__(self, policy_network, n_simulations=10, coeff=2, rewards=None):\n",
    "        self.n_simulations = n_simulations\n",
    "        self.coeff = coeff\n",
    "        self.rewards = rewards\n",
    "        # две сети - по одной на каждую сторону\n",
    "        self.policy_network = policy_network\n",
    "        \n",
    "    def expand_root(self):\n",
    "        for action in self.root.game_state.legal_actions:\n",
    "            child_node = self.root.create_child(action)\n",
    "            self.root.children.append(child_node)\n",
    "        \n",
    "    def load_game(self, game):\n",
    "        game_image = game.make_image()\n",
    "        self.root = NodePolicyNetwork(game_image, self.coeff)\n",
    "        self.expand_root()\n",
    "      \n",
    "    def fit(self):\n",
    "        for i in range(self.n_simulations):\n",
    "            current_node = self.select()\n",
    "            if current_node.visit_counts != 0:\n",
    "                if current_node.game_state.moves == 42:\n",
    "                    continue\n",
    "                if current_node.game_state.finished:\n",
    "                    continue\n",
    "                #если игра закончена?    \n",
    "      \n",
    "                self.policy_network.load_game(current_node.game_state)\n",
    "#                 self.policy_network.game.visualize_board()\n",
    "#                 probs = self.policy_network.predict_probs()\n",
    "#                 action = np.random.choice(current_node.game_state.legal_actions, p=probs)\n",
    "                action = self.policy_network.predict()\n",
    "                current_node.expand(action)\n",
    "                if current_node.children:\n",
    "                    first_child_node = current_node.children[0]\n",
    "                    self.simulate(first_child_node)\n",
    "                    self.backpropagate(first_child_node)\n",
    "            else: \n",
    "                self.simulate(current_node)\n",
    "                self.backpropagate(current_node)"
   ]
  },
  {
   "cell_type": "markdown",
   "metadata": {},
   "source": [
    "### a) Алгоритм против генератора случайных позиций (алгоритм играет первым номером)"
   ]
  },
  {
   "cell_type": "code",
   "execution_count": 68,
   "metadata": {},
   "outputs": [],
   "source": [
    "mcts_pn_player = PolicyNetworkMCTS(player_1, n_simulations=100, coeff=2, rewards=REWARDS_EQUAL_1)"
   ]
  },
  {
   "cell_type": "code",
   "execution_count": 69,
   "metadata": {},
   "outputs": [
    {
     "data": {
      "image/png": "[encoded data removed]",
      "text/plain": [
       "<Figure size 1080x360 with 2 Axes>"
      ]
     },
     "metadata": {
      "needs_background": "light"
     },
     "output_type": "display_data"
    },
    {
     "name": "stdout",
     "output_type": "stream",
     "text": [
      "1st    0.936\n",
      "2nd    0.064\n",
      "Name: winner, dtype: float64\n"
     ]
    }
   ],
   "source": [
    "probs = get_simulated_games_info(mcts_pn_player, RandomPlayer(), n_games=500)"
   ]
  },
  {
   "cell_type": "markdown",
   "metadata": {},
   "source": [
    "### b) Алгоритм против генератора случайных позиций (алгоритм играет вторым номером)"
   ]
  },
  {
   "cell_type": "code",
   "execution_count": 116,
   "metadata": {},
   "outputs": [],
   "source": [
    "mcts_pn_player = PolicyNetworkMCTS(player_2, n_simulations=100, coeff=2, rewards=REWARDS_EQUAL_2)"
   ]
  },
  {
   "cell_type": "code",
   "execution_count": 117,
   "metadata": {},
   "outputs": [
    {
     "data": {
      "image/png": "[encoded data removed]",
      "text/plain": [
       "<Figure size 1080x360 with 2 Axes>"
      ]
     },
     "metadata": {
      "needs_background": "light"
     },
     "output_type": "display_data"
    },
    {
     "name": "stdout",
     "output_type": "stream",
     "text": [
      "2nd    0.858\n",
      "1st    0.142\n",
      "Name: winner, dtype: float64\n"
     ]
    }
   ],
   "source": [
    "probs = get_simulated_games_info(RandomPlayer(), mcts_pn_player, n_games=1000)"
   ]
  },
  {
   "cell_type": "code",
   "execution_count": null,
   "metadata": {},
   "outputs": [],
   "source": []
  },
  {
   "cell_type": "code",
   "execution_count": null,
   "metadata": {},
   "outputs": [],
   "source": []
  },
  {
   "cell_type": "code",
   "execution_count": null,
   "metadata": {},
   "outputs": [],
   "source": []
  },
  {
   "cell_type": "code",
   "execution_count": null,
   "metadata": {},
   "outputs": [],
   "source": []
  },
  {
   "cell_type": "code",
   "execution_count": null,
   "metadata": {},
   "outputs": [],
   "source": []
  }
 ],
 "metadata": {
  "kernelspec": {
   "display_name": "Python 3",
   "language": "python",
   "name": "python3"
  },
  "language_info": {
   "codemirror_mode": {
    "name": "ipython",
    "version": 3
   },
   "file_extension": ".py",
   "mimetype": "text/x-python",
   "name": "python",
   "nbconvert_exporter": "python",
   "pygments_lexer": "ipython3",
   "version": "3.6.9"
  }
 },
 "nbformat": 4,
 "nbformat_minor": 2
}
