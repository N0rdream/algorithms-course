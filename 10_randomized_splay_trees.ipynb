{
 "cells": [
  {
   "cell_type": "markdown",
   "metadata": {},
   "source": [
    "# Тестирование АВЛ, рандомизированных и расширяющихся деревьев поиска"
   ]
  },
  {
   "cell_type": "code",
   "execution_count": 1,
   "metadata": {},
   "outputs": [],
   "source": [
    "import random\n",
    "import sys\n",
    "\n",
    "from algorithms_py.trees import TreeAVL, TreeRandom, TreeSplay\n",
    "\n",
    "sys.setrecursionlimit(20000)"
   ]
  },
  {
   "cell_type": "markdown",
   "metadata": {},
   "source": [
    "Cлучайным образом выполняет операции добавления, поиска и удаления элемента в соотношении \"weights\". Поиск и удаление осуществляются на присутствующих в дереве элементах. Таким образом, в процессе еще происходит обход дерева."
   ]
  },
  {
   "cell_type": "code",
   "execution_count": 2,
   "metadata": {},
   "outputs": [],
   "source": [
    "def test(tree_type, N, weights=[0.8, 0.1, 0.1], shuffle=False):\n",
    "    tree = tree_type()\n",
    "    array = [(i, random.randint(0, 999)) for i in range(N)]\n",
    "    array_used = []\n",
    "    if shuffle:\n",
    "        random.shuffle(array)\n",
    "    count = 0\n",
    "    i = 0\n",
    "    f = 0\n",
    "    r = 0\n",
    "    for k in random.choices(['i', 'f', 'r'], weights=weights, k=N*100):\n",
    "        if array:\n",
    "            count += 1\n",
    "            if k == 'i':\n",
    "                key, value = array.pop(0)\n",
    "                tree.insert(key, value)\n",
    "                array_used.append(key)\n",
    "                i += 1\n",
    "            elif k == 'f':\n",
    "                if array_used:\n",
    "                    key = random.choice(array_used)\n",
    "                    tree.has_key(key)\n",
    "                    f += 1\n",
    "            else:\n",
    "                try:\n",
    "                    if array_used:\n",
    "                        key = random.choice(array_used)\n",
    "                        tree.remove(key)\n",
    "                        r += 1\n",
    "                # если числа нет в дереве\n",
    "                except KeyError:\n",
    "                    pass\n",
    "        if not array:\n",
    "            break\n",
    "    #print(count, i, f, r)\n",
    "    print('Обход дерева:', list(tree)[:10])\n",
    "    print('Количество узлов:', len(list(tree)))\n",
    "    return tree"
   ]
  },
  {
   "cell_type": "markdown",
   "metadata": {},
   "source": [
    "## Тест №1"
   ]
  },
  {
   "cell_type": "markdown",
   "metadata": {},
   "source": [
    "- Входной массив отсортирован\n",
    "- Операций добавления больше, чем операций поиска и удаления\n",
    "- N = 50000"
   ]
  },
  {
   "cell_type": "code",
   "execution_count": 3,
   "metadata": {},
   "outputs": [],
   "source": [
    "N = 50000\n",
    "weights = [5, 1, 1]"
   ]
  },
  {
   "cell_type": "code",
   "execution_count": 4,
   "metadata": {},
   "outputs": [
    {
     "name": "stdout",
     "output_type": "stream",
     "text": [
      "Обход дерева: [(5, 706), (15, 53), (23, 103), (27, 35), (29, 568), (30, 897), (35, 99), (42, 334), (50, 695), (53, 597)]\n",
      "Количество узлов: 41641\n"
     ]
    },
    {
     "data": {
      "text/plain": [
       "<TimeitResult : 3.38 s ± 0 ns per loop (mean ± std. dev. of 1 run, 1 loop each)>"
      ]
     },
     "execution_count": 4,
     "metadata": {},
     "output_type": "execute_result"
    }
   ],
   "source": [
    "%%timeit -r 1 -n 1 -o -q\n",
    "\n",
    "tree = test(TreeAVL, N, weights=weights)"
   ]
  },
  {
   "cell_type": "code",
   "execution_count": 5,
   "metadata": {},
   "outputs": [
    {
     "name": "stdout",
     "output_type": "stream",
     "text": [
      "Обход дерева: [(1, 297), (15, 905), (18, 70), (20, 373), (21, 428), (26, 607), (30, 103), (32, 537), (34, 463), (36, 505)]\n",
      "Количество узлов: 41554\n"
     ]
    },
    {
     "data": {
      "text/plain": [
       "<TimeitResult : 3.84 s ± 0 ns per loop (mean ± std. dev. of 1 run, 1 loop each)>"
      ]
     },
     "execution_count": 5,
     "metadata": {},
     "output_type": "execute_result"
    }
   ],
   "source": [
    "%%timeit -r 1 -n 1 -o -q\n",
    "\n",
    "tree = test(TreeRandom, N, weights=weights)"
   ]
  },
  {
   "cell_type": "code",
   "execution_count": 6,
   "metadata": {},
   "outputs": [
    {
     "name": "stdout",
     "output_type": "stream",
     "text": [
      "Обход дерева: [(0, 406), (5, 608), (9, 690), (21, 682), (22, 758), (23, 552), (26, 994), (34, 647), (36, 898), (37, 499)]\n",
      "Количество узлов: 41642\n"
     ]
    },
    {
     "data": {
      "text/plain": [
       "<TimeitResult : 8.76 s ± 0 ns per loop (mean ± std. dev. of 1 run, 1 loop each)>"
      ]
     },
     "execution_count": 6,
     "metadata": {},
     "output_type": "execute_result"
    }
   ],
   "source": [
    "%%timeit -r 1 -n 1 -o -q\n",
    "\n",
    "tree = test(TreeSplay, N, weights=weights)"
   ]
  },
  {
   "cell_type": "markdown",
   "metadata": {},
   "source": [
    "## Тест №2"
   ]
  },
  {
   "cell_type": "markdown",
   "metadata": {},
   "source": [
    "- Входной массив отсортирован\n",
    "- Операций поиска больше, чем операций добавления и удаления\n",
    "- N = 50000"
   ]
  },
  {
   "cell_type": "code",
   "execution_count": 7,
   "metadata": {},
   "outputs": [],
   "source": [
    "N = 50000\n",
    "weights = [2, 5, 1]"
   ]
  },
  {
   "cell_type": "code",
   "execution_count": 8,
   "metadata": {},
   "outputs": [
    {
     "name": "stdout",
     "output_type": "stream",
     "text": [
      "Обход дерева: [(7, 674), (16, 450), (70, 588), (91, 55), (146, 228), (152, 543), (172, 635), (182, 456), (190, 232), (217, 398)]\n",
      "Количество узлов: 33350\n"
     ]
    },
    {
     "data": {
      "text/plain": [
       "<TimeitResult : 4.24 s ± 0 ns per loop (mean ± std. dev. of 1 run, 1 loop each)>"
      ]
     },
     "execution_count": 8,
     "metadata": {},
     "output_type": "execute_result"
    }
   ],
   "source": [
    "%%timeit -r 1 -n 1 -o -q\n",
    "\n",
    "tree = test(TreeAVL, N, weights=weights)"
   ]
  },
  {
   "cell_type": "code",
   "execution_count": 9,
   "metadata": {},
   "outputs": [
    {
     "name": "stdout",
     "output_type": "stream",
     "text": [
      "Обход дерева: [(86, 126), (118, 330), (123, 983), (125, 71), (146, 825), (170, 607), (179, 831), (209, 343), (260, 98), (274, 805)]\n",
      "Количество узлов: 33481\n"
     ]
    },
    {
     "data": {
      "text/plain": [
       "<TimeitResult : 7.45 s ± 0 ns per loop (mean ± std. dev. of 1 run, 1 loop each)>"
      ]
     },
     "execution_count": 9,
     "metadata": {},
     "output_type": "execute_result"
    }
   ],
   "source": [
    "%%timeit -r 1 -n 1 -o -q\n",
    "\n",
    "tree = test(TreeRandom, N, weights=weights)"
   ]
  },
  {
   "cell_type": "code",
   "execution_count": 10,
   "metadata": {},
   "outputs": [
    {
     "name": "stdout",
     "output_type": "stream",
     "text": [
      "Обход дерева: [(67, 800), (84, 581), (89, 469), (96, 884), (151, 850), (193, 933), (220, 859), (231, 106), (262, 198), (272, 418)]\n",
      "Количество узлов: 33150\n"
     ]
    },
    {
     "data": {
      "text/plain": [
       "<TimeitResult : 6.79 s ± 0 ns per loop (mean ± std. dev. of 1 run, 1 loop each)>"
      ]
     },
     "execution_count": 10,
     "metadata": {},
     "output_type": "execute_result"
    }
   ],
   "source": [
    "%%timeit -r 1 -n 1 -o -q\n",
    "\n",
    "tree = test(TreeSplay, N, weights=weights)"
   ]
  },
  {
   "cell_type": "markdown",
   "metadata": {},
   "source": [
    "## Тест №3"
   ]
  },
  {
   "cell_type": "markdown",
   "metadata": {},
   "source": [
    "- Входной массив перемешан\n",
    "- Операций добавления больше, чем операций поиска и удаления\n",
    "- N = 50000"
   ]
  },
  {
   "cell_type": "code",
   "execution_count": 11,
   "metadata": {},
   "outputs": [],
   "source": [
    "N = 50000\n",
    "weights = [5, 1, 1]"
   ]
  },
  {
   "cell_type": "code",
   "execution_count": 12,
   "metadata": {},
   "outputs": [
    {
     "name": "stdout",
     "output_type": "stream",
     "text": [
      "Обход дерева: [(1, 725), (2, 732), (4, 738), (5, 177), (6, 797), (7, 555), (8, 596), (10, 344), (13, 313), (14, 2)]\n",
      "Количество узлов: 41772\n"
     ]
    },
    {
     "data": {
      "text/plain": [
       "<TimeitResult : 3.33 s ± 0 ns per loop (mean ± std. dev. of 1 run, 1 loop each)>"
      ]
     },
     "execution_count": 12,
     "metadata": {},
     "output_type": "execute_result"
    }
   ],
   "source": [
    "%%timeit -r 1 -n 1 -o -q\n",
    "\n",
    "tree = test(TreeAVL, N, weights=weights, shuffle=True)"
   ]
  },
  {
   "cell_type": "code",
   "execution_count": 13,
   "metadata": {},
   "outputs": [
    {
     "name": "stdout",
     "output_type": "stream",
     "text": [
      "Обход дерева: [(0, 129), (1, 869), (2, 928), (3, 946), (5, 95), (6, 735), (7, 583), (8, 332), (9, 205), (11, 850)]\n",
      "Количество узлов: 41754\n"
     ]
    },
    {
     "data": {
      "text/plain": [
       "<TimeitResult : 8.85 s ± 0 ns per loop (mean ± std. dev. of 1 run, 1 loop each)>"
      ]
     },
     "execution_count": 13,
     "metadata": {},
     "output_type": "execute_result"
    }
   ],
   "source": [
    "%%timeit -r 1 -n 1 -o -q\n",
    "\n",
    "tree = test(TreeRandom, N, weights=weights, shuffle=True)"
   ]
  },
  {
   "cell_type": "code",
   "execution_count": 14,
   "metadata": {},
   "outputs": [
    {
     "name": "stdout",
     "output_type": "stream",
     "text": [
      "Обход дерева: [(1, 185), (3, 339), (4, 101), (5, 660), (6, 47), (8, 535), (10, 247), (11, 575), (14, 747), (15, 653)]\n",
      "Количество узлов: 41682\n"
     ]
    },
    {
     "data": {
      "text/plain": [
       "<TimeitResult : 2.92 s ± 0 ns per loop (mean ± std. dev. of 1 run, 1 loop each)>"
      ]
     },
     "execution_count": 14,
     "metadata": {},
     "output_type": "execute_result"
    }
   ],
   "source": [
    "%%timeit -r 1 -n 1 -o -q\n",
    "\n",
    "tree = test(TreeSplay, N, weights=weights, shuffle=True)"
   ]
  },
  {
   "cell_type": "markdown",
   "metadata": {},
   "source": [
    "## Тест №4"
   ]
  },
  {
   "cell_type": "markdown",
   "metadata": {},
   "source": [
    "- Входной массив перемешан\n",
    "- Операций поиска больше, чем операций добавления и удаления\n",
    "- N = 50000"
   ]
  },
  {
   "cell_type": "code",
   "execution_count": 15,
   "metadata": {},
   "outputs": [],
   "source": [
    "N = 50000\n",
    "weights = [2, 5, 1]"
   ]
  },
  {
   "cell_type": "code",
   "execution_count": 16,
   "metadata": {},
   "outputs": [
    {
     "name": "stdout",
     "output_type": "stream",
     "text": [
      "Обход дерева: [(0, 356), (1, 486), (2, 833), (4, 179), (5, 987), (6, 555), (7, 667), (8, 266), (9, 758), (10, 691)]\n",
      "Количество узлов: 33464\n"
     ]
    },
    {
     "data": {
      "text/plain": [
       "<TimeitResult : 4.21 s ± 0 ns per loop (mean ± std. dev. of 1 run, 1 loop each)>"
      ]
     },
     "execution_count": 16,
     "metadata": {},
     "output_type": "execute_result"
    }
   ],
   "source": [
    "%%timeit -r 1 -n 1 -o -q\n",
    "\n",
    "tree = test(TreeAVL, N, weights=weights, shuffle=True)"
   ]
  },
  {
   "cell_type": "code",
   "execution_count": 17,
   "metadata": {},
   "outputs": [
    {
     "name": "stdout",
     "output_type": "stream",
     "text": [
      "Обход дерева: [(0, 506), (2, 892), (4, 974), (6, 922), (7, 41), (8, 557), (11, 296), (13, 948), (14, 981), (15, 394)]\n",
      "Количество узлов: 33234\n"
     ]
    },
    {
     "data": {
      "text/plain": [
       "<TimeitResult : 9.47 s ± 0 ns per loop (mean ± std. dev. of 1 run, 1 loop each)>"
      ]
     },
     "execution_count": 17,
     "metadata": {},
     "output_type": "execute_result"
    }
   ],
   "source": [
    "%%timeit -r 1 -n 1 -o -q\n",
    "\n",
    "tree = test(TreeRandom, N, weights=weights, shuffle=True)"
   ]
  },
  {
   "cell_type": "code",
   "execution_count": 18,
   "metadata": {},
   "outputs": [
    {
     "name": "stdout",
     "output_type": "stream",
     "text": [
      "Обход дерева: [(0, 135), (1, 497), (2, 77), (4, 890), (5, 344), (6, 673), (7, 393), (10, 988), (13, 536), (14, 189)]\n",
      "Количество узлов: 33306\n"
     ]
    },
    {
     "data": {
      "text/plain": [
       "<TimeitResult : 5.09 s ± 0 ns per loop (mean ± std. dev. of 1 run, 1 loop each)>"
      ]
     },
     "execution_count": 18,
     "metadata": {},
     "output_type": "execute_result"
    }
   ],
   "source": [
    "%%timeit -r 1 -n 1 -o -q\n",
    "\n",
    "tree = test(TreeSplay, N, weights=weights, shuffle=True)"
   ]
  },
  {
   "cell_type": "markdown",
   "metadata": {},
   "source": [
    "## Выводы"
   ]
  },
  {
   "cell_type": "markdown",
   "metadata": {},
   "source": [
    "|Номер теста|АВЛ|Random|Splay|\n",
    "|:--------:|---------|--------------|--------------------|\n",
    "|1|3.38|3.836|8.759|\n",
    "|2|4.242|7.449|6.794|\n",
    "|3|3.333|8.847|2.921|\n",
    "|4|4.211|9.474|5.086|"
   ]
  },
  {
   "cell_type": "markdown",
   "metadata": {},
   "source": [
    "- АВЛ-дерево показывает стабильный результат во всех тестах\n",
    "- Рандомизированное дерево показывает себя лучше splay в случае отсортированного массива на входе, когда операций добавления больше, чем операций поиска и удаления. При таком варианте высока вероятность перебалансировки дерева перестановкой добавляемого узла в корень поддерева.\n",
    "- Splay дерево начинает показывать себя лучше рандомизированного в случае отсортированного массива на входе, операций поиска больше, чем операций добавления и удаления. При таком варианте перебалансировка дерева происходит при помощи перестановки найденного узла в корень дерева, что позволяет также ускорить поиск часто запрашиваемых элементов."
   ]
  },
  {
   "cell_type": "code",
   "execution_count": 19,
   "metadata": {},
   "outputs": [],
   "source": [
    "# для сбора замеров времени в один массив\n",
    "from IPython import get_ipython\n",
    "from IPython.core.magics.execution import TimeitResult\n",
    "\n",
    "RESULTS = []\n",
    "\n",
    "def collect_results():\n",
    "    for k, v in get_ipython().__dict__['user_ns']['Out'].items():\n",
    "        if v.__class__ == TimeitResult:\n",
    "            RESULTS.append(round(v.worst, 3))"
   ]
  },
  {
   "cell_type": "code",
   "execution_count": 20,
   "metadata": {},
   "outputs": [],
   "source": [
    "collect_results()"
   ]
  },
  {
   "cell_type": "code",
   "execution_count": 21,
   "metadata": {},
   "outputs": [
    {
     "name": "stdout",
     "output_type": "stream",
     "text": [
      "|3.38|3.836|8.759|\n",
      "|4.242|7.449|6.794|\n",
      "|3.333|8.847|2.921|\n",
      "|4.211|9.474|5.086|\n"
     ]
    }
   ],
   "source": [
    "for i in range(4):\n",
    "    print(('|' + '|'.join(str(v) for v in RESULTS[i*3:3*(i+1)]) + '|'))"
   ]
  }
 ],
 "metadata": {
  "kernelspec": {
   "display_name": "Python 3",
   "language": "python",
   "name": "python3"
  },
  "language_info": {
   "codemirror_mode": {
    "name": "ipython",
    "version": 3
   },
   "file_extension": ".py",
   "mimetype": "text/x-python",
   "name": "python",
   "nbconvert_exporter": "python",
   "pygments_lexer": "ipython3",
   "version": "3.6.9"
  }
 },
 "nbformat": 4,
 "nbformat_minor": 4
}
