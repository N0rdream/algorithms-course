{
 "cells": [
  {
   "cell_type": "markdown",
   "metadata": {},
   "source": [
    "# Тестирование АВЛ, рандомизированных и расширяющихся деревьев поиска"
   ]
  },
  {
   "cell_type": "code",
   "execution_count": 1,
   "metadata": {},
   "outputs": [],
   "source": [
    "import random\n",
    "import sys\n",
    "\n",
    "from algorithms_py.trees import TreeAVL, TreeRandom, TreeSplay\n",
    "\n",
    "sys.setrecursionlimit(20000)"
   ]
  },
  {
   "cell_type": "markdown",
   "metadata": {},
   "source": [
    "Cлучайным образом выполняет операции добавления, поиска и удаления элемента в соотношении \"weights\". Поиск и удаление осуществляются на присутствующих в дереве элементах. Таким образом, в процессе еще происходит обход дерева."
   ]
  },
  {
   "cell_type": "code",
   "execution_count": 2,
   "metadata": {},
   "outputs": [],
   "source": [
    "def test(tree_type, N, weights=[0.8, 0.1, 0.1], shuffle=False):\n",
    "    tree = tree_type()\n",
    "    array = [i for i in range(N)]\n",
    "    array_used = []\n",
    "    if shuffle:\n",
    "        random.shuffle(array)\n",
    "    count = 0\n",
    "    i = 0\n",
    "    f = 0\n",
    "    r = 0\n",
    "    for k in random.choices(['i', 'f', 'r'], weights=weights, k=N*100):\n",
    "        if array:\n",
    "            count += 1\n",
    "            if k == 'i':\n",
    "                number = array.pop(0)\n",
    "                tree.insert(number)\n",
    "                array_used.append(number)\n",
    "                i += 1\n",
    "            elif k == 'f':\n",
    "                if array_used:\n",
    "                    number = random.choice(array_used)\n",
    "                    tree.has_value(number)\n",
    "                    f += 1\n",
    "            else:\n",
    "                try:\n",
    "                    if array_used:\n",
    "                        number = random.choice(array_used)\n",
    "                        tree.remove(number)\n",
    "                        r += 1\n",
    "                # если числа нет в дереве\n",
    "                except KeyError:\n",
    "                    pass\n",
    "        if not array:\n",
    "            break\n",
    "    #print(count, i, f, r)\n",
    "    print('Обход дерева:', list(tree)[:10])\n",
    "    print('Количество узлов:', len(list(tree)))\n",
    "    return tree"
   ]
  },
  {
   "cell_type": "markdown",
   "metadata": {},
   "source": [
    "## Тест №1"
   ]
  },
  {
   "cell_type": "markdown",
   "metadata": {},
   "source": [
    "- Входной массив отсортирован\n",
    "- Операций добавления больше, чем операций поиска и удаления\n",
    "- N = 50000"
   ]
  },
  {
   "cell_type": "code",
   "execution_count": 3,
   "metadata": {},
   "outputs": [],
   "source": [
    "N = 50000\n",
    "weights = [5, 1, 1]"
   ]
  },
  {
   "cell_type": "code",
   "execution_count": 4,
   "metadata": {},
   "outputs": [
    {
     "name": "stdout",
     "output_type": "stream",
     "text": [
      "Обход дерева: [0, 12, 16, 25, 28, 29, 30, 32, 35, 38]\n",
      "Количество узлов: 41853\n"
     ]
    },
    {
     "data": {
      "text/plain": [
       "<TimeitResult : 3.22 s ± 0 ns per loop (mean ± std. dev. of 1 run, 1 loop each)>"
      ]
     },
     "execution_count": 4,
     "metadata": {},
     "output_type": "execute_result"
    }
   ],
   "source": [
    "%%timeit -r 1 -n 1 -o -q\n",
    "\n",
    "tree = test(TreeAVL, N, weights=weights)"
   ]
  },
  {
   "cell_type": "code",
   "execution_count": 5,
   "metadata": {},
   "outputs": [
    {
     "name": "stdout",
     "output_type": "stream",
     "text": [
      "Обход дерева: [9, 17, 20, 21, 32, 36, 37, 46, 55, 56]\n",
      "Количество узлов: 41730\n"
     ]
    },
    {
     "data": {
      "text/plain": [
       "<TimeitResult : 3.51 s ± 0 ns per loop (mean ± std. dev. of 1 run, 1 loop each)>"
      ]
     },
     "execution_count": 5,
     "metadata": {},
     "output_type": "execute_result"
    }
   ],
   "source": [
    "%%timeit -r 1 -n 1 -o -q\n",
    "\n",
    "tree = test(TreeRandom, N, weights=weights)"
   ]
  },
  {
   "cell_type": "code",
   "execution_count": 6,
   "metadata": {},
   "outputs": [
    {
     "name": "stdout",
     "output_type": "stream",
     "text": [
      "Обход дерева: [2, 4, 11, 13, 16, 22, 29, 34, 45, 47]\n",
      "Количество узлов: 41781\n"
     ]
    },
    {
     "data": {
      "text/plain": [
       "<TimeitResult : 9.23 s ± 0 ns per loop (mean ± std. dev. of 1 run, 1 loop each)>"
      ]
     },
     "execution_count": 6,
     "metadata": {},
     "output_type": "execute_result"
    }
   ],
   "source": [
    "%%timeit -r 1 -n 1 -o -q\n",
    "\n",
    "tree = test(TreeSplay, N, weights=weights)"
   ]
  },
  {
   "cell_type": "markdown",
   "metadata": {},
   "source": [
    "## Тест №2"
   ]
  },
  {
   "cell_type": "markdown",
   "metadata": {},
   "source": [
    "- Входной массив отсортирован\n",
    "- Операций поиска больше, чем операций добавления и удаления\n",
    "- N = 50000"
   ]
  },
  {
   "cell_type": "code",
   "execution_count": 7,
   "metadata": {},
   "outputs": [],
   "source": [
    "N = 50000\n",
    "weights = [2, 5, 1]"
   ]
  },
  {
   "cell_type": "code",
   "execution_count": 8,
   "metadata": {},
   "outputs": [
    {
     "name": "stdout",
     "output_type": "stream",
     "text": [
      "Обход дерева: [49, 88, 115, 150, 178, 196, 231, 234, 235, 240]\n",
      "Количество узлов: 33359\n"
     ]
    },
    {
     "data": {
      "text/plain": [
       "<TimeitResult : 4.03 s ± 0 ns per loop (mean ± std. dev. of 1 run, 1 loop each)>"
      ]
     },
     "execution_count": 8,
     "metadata": {},
     "output_type": "execute_result"
    }
   ],
   "source": [
    "%%timeit -r 1 -n 1 -o -q\n",
    "\n",
    "tree = test(TreeAVL, N, weights=weights)"
   ]
  },
  {
   "cell_type": "code",
   "execution_count": 9,
   "metadata": {},
   "outputs": [
    {
     "name": "stdout",
     "output_type": "stream",
     "text": [
      "Обход дерева: [24, 67, 88, 101, 146, 177, 184, 202, 210, 246]\n",
      "Количество узлов: 33409\n"
     ]
    },
    {
     "data": {
      "text/plain": [
       "<TimeitResult : 7.06 s ± 0 ns per loop (mean ± std. dev. of 1 run, 1 loop each)>"
      ]
     },
     "execution_count": 9,
     "metadata": {},
     "output_type": "execute_result"
    }
   ],
   "source": [
    "%%timeit -r 1 -n 1 -o -q\n",
    "\n",
    "tree = test(TreeRandom, N, weights=weights)"
   ]
  },
  {
   "cell_type": "code",
   "execution_count": 10,
   "metadata": {},
   "outputs": [
    {
     "name": "stdout",
     "output_type": "stream",
     "text": [
      "Обход дерева: [30, 34, 35, 42, 107, 112, 113, 115, 126, 130]\n",
      "Количество узлов: 33545\n"
     ]
    },
    {
     "data": {
      "text/plain": [
       "<TimeitResult : 6.82 s ± 0 ns per loop (mean ± std. dev. of 1 run, 1 loop each)>"
      ]
     },
     "execution_count": 10,
     "metadata": {},
     "output_type": "execute_result"
    }
   ],
   "source": [
    "%%timeit -r 1 -n 1 -o -q\n",
    "\n",
    "tree = test(TreeSplay, N, weights=weights)"
   ]
  },
  {
   "cell_type": "markdown",
   "metadata": {},
   "source": [
    "## Тест №3"
   ]
  },
  {
   "cell_type": "markdown",
   "metadata": {},
   "source": [
    "- Входной массив перемешан\n",
    "- Операций добавления больше, чем операций поиска и удаления\n",
    "- N = 50000"
   ]
  },
  {
   "cell_type": "code",
   "execution_count": 11,
   "metadata": {},
   "outputs": [],
   "source": [
    "N = 50000\n",
    "weights = [5, 1, 1]"
   ]
  },
  {
   "cell_type": "code",
   "execution_count": 12,
   "metadata": {},
   "outputs": [
    {
     "name": "stdout",
     "output_type": "stream",
     "text": [
      "Обход дерева: [1, 2, 3, 4, 5, 6, 7, 8, 9, 10]\n",
      "Количество узлов: 41619\n"
     ]
    },
    {
     "data": {
      "text/plain": [
       "<TimeitResult : 3.12 s ± 0 ns per loop (mean ± std. dev. of 1 run, 1 loop each)>"
      ]
     },
     "execution_count": 12,
     "metadata": {},
     "output_type": "execute_result"
    }
   ],
   "source": [
    "%%timeit -r 1 -n 1 -o -q\n",
    "\n",
    "tree = test(TreeAVL, N, weights=weights, shuffle=True)"
   ]
  },
  {
   "cell_type": "code",
   "execution_count": 13,
   "metadata": {},
   "outputs": [
    {
     "name": "stdout",
     "output_type": "stream",
     "text": [
      "Обход дерева: [2, 3, 4, 6, 7, 8, 9, 10, 11, 12]\n",
      "Количество узлов: 41692\n"
     ]
    },
    {
     "data": {
      "text/plain": [
       "<TimeitResult : 8.41 s ± 0 ns per loop (mean ± std. dev. of 1 run, 1 loop each)>"
      ]
     },
     "execution_count": 13,
     "metadata": {},
     "output_type": "execute_result"
    }
   ],
   "source": [
    "%%timeit -r 1 -n 1 -o -q\n",
    "\n",
    "tree = test(TreeRandom, N, weights=weights, shuffle=True)"
   ]
  },
  {
   "cell_type": "code",
   "execution_count": 14,
   "metadata": {},
   "outputs": [
    {
     "name": "stdout",
     "output_type": "stream",
     "text": [
      "Обход дерева: [0, 1, 2, 3, 4, 6, 7, 8, 9, 11]\n",
      "Количество узлов: 41750\n"
     ]
    },
    {
     "data": {
      "text/plain": [
       "<TimeitResult : 2.71 s ± 0 ns per loop (mean ± std. dev. of 1 run, 1 loop each)>"
      ]
     },
     "execution_count": 14,
     "metadata": {},
     "output_type": "execute_result"
    }
   ],
   "source": [
    "%%timeit -r 1 -n 1 -o -q\n",
    "\n",
    "tree = test(TreeSplay, N, weights=weights, shuffle=True)"
   ]
  },
  {
   "cell_type": "markdown",
   "metadata": {},
   "source": [
    "## Тест №4"
   ]
  },
  {
   "cell_type": "markdown",
   "metadata": {},
   "source": [
    "- Входной массив перемешан\n",
    "- Операций поиска больше, чем операций добавления и удаления\n",
    "- N = 50000"
   ]
  },
  {
   "cell_type": "code",
   "execution_count": 15,
   "metadata": {},
   "outputs": [],
   "source": [
    "N = 50000\n",
    "weights = [2, 5, 1]"
   ]
  },
  {
   "cell_type": "code",
   "execution_count": 16,
   "metadata": {},
   "outputs": [
    {
     "name": "stdout",
     "output_type": "stream",
     "text": [
      "Обход дерева: [2, 3, 4, 5, 8, 9, 12, 13, 15, 16]\n",
      "Количество узлов: 33458\n"
     ]
    },
    {
     "data": {
      "text/plain": [
       "<TimeitResult : 3.98 s ± 0 ns per loop (mean ± std. dev. of 1 run, 1 loop each)>"
      ]
     },
     "execution_count": 16,
     "metadata": {},
     "output_type": "execute_result"
    }
   ],
   "source": [
    "%%timeit -r 1 -n 1 -o -q\n",
    "\n",
    "tree = test(TreeAVL, N, weights=weights, shuffle=True)"
   ]
  },
  {
   "cell_type": "code",
   "execution_count": 17,
   "metadata": {},
   "outputs": [
    {
     "name": "stdout",
     "output_type": "stream",
     "text": [
      "Обход дерева: [0, 1, 3, 7, 11, 12, 13, 14, 15, 16]\n",
      "Количество узлов: 33470\n"
     ]
    },
    {
     "data": {
      "text/plain": [
       "<TimeitResult : 9.25 s ± 0 ns per loop (mean ± std. dev. of 1 run, 1 loop each)>"
      ]
     },
     "execution_count": 17,
     "metadata": {},
     "output_type": "execute_result"
    }
   ],
   "source": [
    "%%timeit -r 1 -n 1 -o -q\n",
    "\n",
    "tree = test(TreeRandom, N, weights=weights, shuffle=True)"
   ]
  },
  {
   "cell_type": "code",
   "execution_count": 18,
   "metadata": {},
   "outputs": [
    {
     "name": "stdout",
     "output_type": "stream",
     "text": [
      "Обход дерева: [0, 3, 4, 7, 8, 10, 11, 13, 14, 16]\n",
      "Количество узлов: 33423\n"
     ]
    },
    {
     "data": {
      "text/plain": [
       "<TimeitResult : 5.02 s ± 0 ns per loop (mean ± std. dev. of 1 run, 1 loop each)>"
      ]
     },
     "execution_count": 18,
     "metadata": {},
     "output_type": "execute_result"
    }
   ],
   "source": [
    "%%timeit -r 1 -n 1 -o -q\n",
    "\n",
    "tree = test(TreeSplay, N, weights=weights, shuffle=True)"
   ]
  },
  {
   "cell_type": "markdown",
   "metadata": {},
   "source": [
    "## Выводы"
   ]
  },
  {
   "cell_type": "markdown",
   "metadata": {},
   "source": [
    "|Номер теста|АВЛ|Рандомизированное|Расширяющееся|\n",
    "|:--------:|---------|--------------|--------------------|\n",
    "|1|3.223|3.512|9.232|\n",
    "|2|4.027|7.056|6.817|\n",
    "|3|3.117|8.414|2.708|\n",
    "|4|3.983|9.246|5.016|"
   ]
  },
  {
   "cell_type": "markdown",
   "metadata": {},
   "source": [
    "- АВЛ-дерево показывает наилучший результат во всех тестах\n",
    "- Рандомизированное дерево показывает себя лучше расширяющегося в случае отсортированного массива на входе, когда операций добавления больше, чем операций поиска и удаления. При таком варианте высока вероятность перебалансировки дерева перестановкой добавляемого узла в корень поддерева.\n",
    "- Расширяющееся дерево начинает показывать себя лучше рандомизированного в случае отсортированного массива на входе, операций поиска больше, чем операций добавления и удаления. При таком варианте перебалансировка дерева происходит при помощи перестановки найденного узла в корень дерева, что позволяет также ускорить поиск часто запрашиваемых элементов."
   ]
  },
  {
   "cell_type": "code",
   "execution_count": null,
   "metadata": {},
   "outputs": [],
   "source": []
  },
  {
   "cell_type": "code",
   "execution_count": null,
   "metadata": {},
   "outputs": [],
   "source": []
  },
  {
   "cell_type": "code",
   "execution_count": null,
   "metadata": {},
   "outputs": [],
   "source": []
  },
  {
   "cell_type": "code",
   "execution_count": 20,
   "metadata": {},
   "outputs": [],
   "source": [
    "# для сбора замеров времени в один массив\n",
    "from IPython import get_ipython\n",
    "from IPython.core.magics.execution import TimeitResult\n",
    "\n",
    "RESULTS = []\n",
    "\n",
    "def collect_results():\n",
    "    for k, v in get_ipython().__dict__['user_ns']['Out'].items():\n",
    "        if v.__class__ == TimeitResult:\n",
    "            RESULTS.append(round(v.worst, 3))"
   ]
  },
  {
   "cell_type": "code",
   "execution_count": 21,
   "metadata": {},
   "outputs": [],
   "source": [
    "collect_results()"
   ]
  },
  {
   "cell_type": "code",
   "execution_count": 25,
   "metadata": {},
   "outputs": [
    {
     "name": "stdout",
     "output_type": "stream",
     "text": [
      "[3.223, 3.512, 9.232]\n",
      "[4.027, 7.056, 6.817]\n",
      "[3.117, 8.414, 2.708]\n",
      "[3.983, 9.246, 5.016]\n"
     ]
    }
   ],
   "source": [
    "for i in range(4):\n",
    "    print(RESULTS[i*3:3*(i+1)])"
   ]
  },
  {
   "cell_type": "code",
   "execution_count": null,
   "metadata": {},
   "outputs": [],
   "source": []
  }
 ],
 "metadata": {
  "kernelspec": {
   "display_name": "Python 3",
   "language": "python",
   "name": "python3"
  },
  "language_info": {
   "codemirror_mode": {
    "name": "ipython",
    "version": 3
   },
   "file_extension": ".py",
   "mimetype": "text/x-python",
   "name": "python",
   "nbconvert_exporter": "python",
   "pygments_lexer": "ipython3",
   "version": "3.6.9"
  }
 },
 "nbformat": 4,
 "nbformat_minor": 4
}
