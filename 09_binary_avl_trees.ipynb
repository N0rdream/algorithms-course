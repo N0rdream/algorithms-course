{
 "cells": [
  {
   "cell_type": "markdown",
   "metadata": {},
   "source": [
    "# Тестирование двоичных деревьев поиска и АВЛ-деревьев"
   ]
  },
  {
   "cell_type": "code",
   "execution_count": 1,
   "metadata": {},
   "outputs": [],
   "source": [
    "import random\n",
    "import sys\n",
    "\n",
    "from algorithms_py.trees import TreeBinary, TreeAVL\n",
    "\n",
    "sys.setrecursionlimit(30000)"
   ]
  },
  {
   "cell_type": "markdown",
   "metadata": {},
   "source": [
    "### Вспомогательные функции"
   ]
  },
  {
   "cell_type": "code",
   "execution_count": 2,
   "metadata": {},
   "outputs": [],
   "source": [
    "def get_test_arrays(N, perc=0.1):\n",
    "    array = [(i, random.randint(0, 999)) for i in range(N)]\n",
    "    random.shuffle(array)\n",
    "    array_missing = [random.randint(N+1, N*2) for i in range(int(N*perc))]\n",
    "    array_part = [k for k, v in array[:int(N*perc)]]\n",
    "    random.shuffle(array_part)\n",
    "    return array, array_missing, array_part\n",
    "\n",
    "def print_tree_info(tree):\n",
    "    numbers = list(tree)\n",
    "    print('Количество узлов:', len(numbers))\n",
    "    print('Обход дерева:', numbers[:10], '...')    \n",
    "    \n",
    "def compare_with_dict(tree, py_dict):\n",
    "    for k, v in tree:\n",
    "        if not v == py_dict[k]:\n",
    "            raise StopIteration\n",
    "    print(len(py_dict) == len(list(tree)))\n",
    "\n",
    "# для сбора замеров времени в один массив\n",
    "from IPython import get_ipython\n",
    "from IPython.core.magics.execution import TimeitResult\n",
    "\n",
    "RESULTS = []\n",
    "\n",
    "def collect_results():\n",
    "    for k, v in get_ipython().__dict__['user_ns']['Out'].items():\n",
    "        if v.__class__ == TimeitResult:\n",
    "            RESULTS.append(round(v.worst, 3))"
   ]
  },
  {
   "cell_type": "markdown",
   "metadata": {},
   "source": [
    "## Тест №1"
   ]
  },
  {
   "cell_type": "markdown",
   "metadata": {},
   "source": [
    "- Двоичное дерево\n",
    "- Отсортированный массив"
   ]
  },
  {
   "cell_type": "code",
   "execution_count": 3,
   "metadata": {},
   "outputs": [],
   "source": [
    "array_rand, array_miss, array_part = get_test_arrays(10000, perc=0.2)\n",
    "\n",
    "TEST_DICT = {}\n",
    "for k, v in array_rand:\n",
    "    TEST_DICT[k] = v\n",
    "for k in array_part:\n",
    "    del TEST_DICT[k]"
   ]
  },
  {
   "cell_type": "code",
   "execution_count": 4,
   "metadata": {},
   "outputs": [],
   "source": [
    "tree_binary_sorted = TreeBinary()"
   ]
  },
  {
   "cell_type": "markdown",
   "metadata": {},
   "source": [
    "#### Добавление отсортированных чисел"
   ]
  },
  {
   "cell_type": "code",
   "execution_count": 5,
   "metadata": {},
   "outputs": [
    {
     "data": {
      "text/plain": [
       "<TimeitResult : 23.2 s ± 0 ns per loop (mean ± std. dev. of 1 run, 1 loop each)>"
      ]
     },
     "execution_count": 5,
     "metadata": {},
     "output_type": "execute_result"
    }
   ],
   "source": [
    "%%timeit -r 1 -n 1 -o -q\n",
    "\n",
    "for k, v in sorted(array_rand):\n",
    "    tree_binary_sorted.insert(k, v)"
   ]
  },
  {
   "cell_type": "markdown",
   "metadata": {},
   "source": [
    "#### Обход дерева"
   ]
  },
  {
   "cell_type": "code",
   "execution_count": 6,
   "metadata": {},
   "outputs": [
    {
     "name": "stdout",
     "output_type": "stream",
     "text": [
      "Количество узлов: 10000\n",
      "Обход дерева: [(0, 806), (1, 254), (2, 462), (3, 41), (4, 37), (5, 809), (6, 85), (7, 34), (8, 895), (9, 72)] ...\n"
     ]
    },
    {
     "data": {
      "text/plain": [
       "<TimeitResult : 4.83 s ± 0 ns per loop (mean ± std. dev. of 1 run, 1 loop each)>"
      ]
     },
     "execution_count": 6,
     "metadata": {},
     "output_type": "execute_result"
    }
   ],
   "source": [
    "%%timeit -r 1 -n 1 -o -q\n",
    "\n",
    "print_tree_info(tree_binary_sorted)"
   ]
  },
  {
   "cell_type": "markdown",
   "metadata": {},
   "source": [
    "#### Поиск отсутствующих чисел"
   ]
  },
  {
   "cell_type": "code",
   "execution_count": 7,
   "metadata": {},
   "outputs": [
    {
     "data": {
      "text/plain": [
       "<TimeitResult : 8.65 s ± 0 ns per loop (mean ± std. dev. of 1 run, 1 loop each)>"
      ]
     },
     "execution_count": 7,
     "metadata": {},
     "output_type": "execute_result"
    }
   ],
   "source": [
    "%%timeit -r 1 -n 1 -o -q\n",
    "\n",
    "for k in array_miss:\n",
    "    if tree_binary_sorted.has_key(k):\n",
    "        print(f'{i} is in the tree')\n",
    "        break"
   ]
  },
  {
   "cell_type": "markdown",
   "metadata": {},
   "source": [
    "#### Поиск присутствующих чисел"
   ]
  },
  {
   "cell_type": "code",
   "execution_count": 8,
   "metadata": {},
   "outputs": [
    {
     "data": {
      "text/plain": [
       "<TimeitResult : 3.77 s ± 0 ns per loop (mean ± std. dev. of 1 run, 1 loop each)>"
      ]
     },
     "execution_count": 8,
     "metadata": {},
     "output_type": "execute_result"
    }
   ],
   "source": [
    "%%timeit -r 1 -n 1 -o -q\n",
    "\n",
    "for k in array_part:\n",
    "    if not tree_binary_sorted.has_key(k):\n",
    "        print(f'{i} is not in the tree')\n",
    "        break"
   ]
  },
  {
   "cell_type": "markdown",
   "metadata": {},
   "source": [
    "#### Удаление части имеющихся чисел"
   ]
  },
  {
   "cell_type": "code",
   "execution_count": 9,
   "metadata": {},
   "outputs": [
    {
     "data": {
      "text/plain": [
       "<TimeitResult : 3.29 s ± 0 ns per loop (mean ± std. dev. of 1 run, 1 loop each)>"
      ]
     },
     "execution_count": 9,
     "metadata": {},
     "output_type": "execute_result"
    }
   ],
   "source": [
    "%%timeit -r 1 -n 1 -o -q\n",
    "\n",
    "for k in array_part:\n",
    "    tree_binary_sorted.remove(k)"
   ]
  },
  {
   "cell_type": "markdown",
   "metadata": {},
   "source": [
    "#### Обход дерева с проверкой"
   ]
  },
  {
   "cell_type": "code",
   "execution_count": 10,
   "metadata": {},
   "outputs": [
    {
     "name": "stdout",
     "output_type": "stream",
     "text": [
      "True\n"
     ]
    },
    {
     "data": {
      "text/plain": [
       "<TimeitResult : 5 s ± 0 ns per loop (mean ± std. dev. of 1 run, 1 loop each)>"
      ]
     },
     "execution_count": 10,
     "metadata": {},
     "output_type": "execute_result"
    }
   ],
   "source": [
    "%%timeit -r 1 -n 1 -o -q\n",
    "\n",
    "compare_with_dict(tree_binary_sorted, TEST_DICT)"
   ]
  },
  {
   "cell_type": "markdown",
   "metadata": {},
   "source": [
    "## Тест №2"
   ]
  },
  {
   "cell_type": "markdown",
   "metadata": {},
   "source": [
    "- Двоичное дерево\n",
    "- Массив перемешан"
   ]
  },
  {
   "cell_type": "code",
   "execution_count": 11,
   "metadata": {},
   "outputs": [],
   "source": [
    "array_rand, array_miss, array_part = get_test_arrays(40000, perc=0.2)\n",
    "\n",
    "TEST_DICT = {}\n",
    "for k, v in array_rand:\n",
    "    TEST_DICT[k] = v\n",
    "for k in array_part:\n",
    "    del TEST_DICT[k]"
   ]
  },
  {
   "cell_type": "code",
   "execution_count": 12,
   "metadata": {},
   "outputs": [],
   "source": [
    "tree_binary_random = TreeBinary()"
   ]
  },
  {
   "cell_type": "markdown",
   "metadata": {},
   "source": [
    "#### Добавление чисел в случайном порядке"
   ]
  },
  {
   "cell_type": "code",
   "execution_count": 13,
   "metadata": {},
   "outputs": [
    {
     "data": {
      "text/plain": [
       "<TimeitResult : 331 ms ± 0 ns per loop (mean ± std. dev. of 1 run, 1 loop each)>"
      ]
     },
     "execution_count": 13,
     "metadata": {},
     "output_type": "execute_result"
    }
   ],
   "source": [
    "%%timeit -r 1 -n 1 -o -q\n",
    "\n",
    "for k, v in array_rand:\n",
    "    tree_binary_random.insert(k, v)"
   ]
  },
  {
   "cell_type": "markdown",
   "metadata": {},
   "source": [
    "#### Обход дерева"
   ]
  },
  {
   "cell_type": "code",
   "execution_count": 14,
   "metadata": {},
   "outputs": [
    {
     "name": "stdout",
     "output_type": "stream",
     "text": [
      "Количество узлов: 40000\n",
      "Обход дерева: [(0, 340), (1, 808), (2, 608), (3, 814), (4, 430), (5, 139), (6, 830), (7, 775), (8, 53), (9, 961)] ...\n"
     ]
    },
    {
     "data": {
      "text/plain": [
       "<TimeitResult : 73.9 ms ± 0 ns per loop (mean ± std. dev. of 1 run, 1 loop each)>"
      ]
     },
     "execution_count": 14,
     "metadata": {},
     "output_type": "execute_result"
    }
   ],
   "source": [
    "%%timeit -r 1 -n 1 -o -q\n",
    "\n",
    "print_tree_info(tree_binary_random)"
   ]
  },
  {
   "cell_type": "markdown",
   "metadata": {},
   "source": [
    "#### Поиск отсутствующих чисел"
   ]
  },
  {
   "cell_type": "code",
   "execution_count": 15,
   "metadata": {},
   "outputs": [
    {
     "data": {
      "text/plain": [
       "<TimeitResult : 24.4 ms ± 0 ns per loop (mean ± std. dev. of 1 run, 1 loop each)>"
      ]
     },
     "execution_count": 15,
     "metadata": {},
     "output_type": "execute_result"
    }
   ],
   "source": [
    "%%timeit -r 1 -n 1 -o -q\n",
    "\n",
    "for k in array_miss:\n",
    "    if tree_binary_random.has_key(k):\n",
    "        print(f'{i} is in the tree')\n",
    "        break"
   ]
  },
  {
   "cell_type": "markdown",
   "metadata": {},
   "source": [
    "#### Поиск присутствующих чисел"
   ]
  },
  {
   "cell_type": "code",
   "execution_count": 16,
   "metadata": {},
   "outputs": [
    {
     "data": {
      "text/plain": [
       "<TimeitResult : 42.5 ms ± 0 ns per loop (mean ± std. dev. of 1 run, 1 loop each)>"
      ]
     },
     "execution_count": 16,
     "metadata": {},
     "output_type": "execute_result"
    }
   ],
   "source": [
    "%%timeit -r 1 -n 1 -o -q\n",
    "\n",
    "for k in array_part:\n",
    "    if not tree_binary_random.has_key(k):\n",
    "        print(f'{i} is not in the tree')\n",
    "        break"
   ]
  },
  {
   "cell_type": "markdown",
   "metadata": {},
   "source": [
    "#### Удаление части имеющихся чисел"
   ]
  },
  {
   "cell_type": "code",
   "execution_count": 17,
   "metadata": {},
   "outputs": [
    {
     "data": {
      "text/plain": [
       "<TimeitResult : 4.4 s ± 0 ns per loop (mean ± std. dev. of 1 run, 1 loop each)>"
      ]
     },
     "execution_count": 17,
     "metadata": {},
     "output_type": "execute_result"
    }
   ],
   "source": [
    "%%timeit -r 1 -n 1 -o -q\n",
    "\n",
    "for k in array_part:\n",
    "    tree_binary_random.remove(k)"
   ]
  },
  {
   "cell_type": "markdown",
   "metadata": {},
   "source": [
    "#### Обход дерева с проверкой"
   ]
  },
  {
   "cell_type": "code",
   "execution_count": 18,
   "metadata": {},
   "outputs": [
    {
     "name": "stdout",
     "output_type": "stream",
     "text": [
      "True\n"
     ]
    },
    {
     "data": {
      "text/plain": [
       "<TimeitResult : 53.7 s ± 0 ns per loop (mean ± std. dev. of 1 run, 1 loop each)>"
      ]
     },
     "execution_count": 18,
     "metadata": {},
     "output_type": "execute_result"
    }
   ],
   "source": [
    "%%timeit -r 1 -n 1 -o -q\n",
    "\n",
    "compare_with_dict(tree_binary_random, TEST_DICT)"
   ]
  },
  {
   "cell_type": "markdown",
   "metadata": {},
   "source": [
    "## Тест №3"
   ]
  },
  {
   "cell_type": "markdown",
   "metadata": {},
   "source": [
    "- АВЛ-дерево\n",
    "- Отсортированный массив"
   ]
  },
  {
   "cell_type": "code",
   "execution_count": 19,
   "metadata": {},
   "outputs": [],
   "source": [
    "array_rand, array_miss, array_part = get_test_arrays(40000, perc=0.2)\n",
    "\n",
    "TEST_DICT = {}\n",
    "for k, v in array_rand:\n",
    "    TEST_DICT[k] = v\n",
    "for k in array_part:\n",
    "    del TEST_DICT[k]"
   ]
  },
  {
   "cell_type": "code",
   "execution_count": 20,
   "metadata": {},
   "outputs": [],
   "source": [
    "tree_avl_sorted = TreeAVL()"
   ]
  },
  {
   "cell_type": "markdown",
   "metadata": {},
   "source": [
    "#### Добавление отсортированных чисел"
   ]
  },
  {
   "cell_type": "code",
   "execution_count": 21,
   "metadata": {},
   "outputs": [
    {
     "data": {
      "text/plain": [
       "<TimeitResult : 1.01 s ± 0 ns per loop (mean ± std. dev. of 1 run, 1 loop each)>"
      ]
     },
     "execution_count": 21,
     "metadata": {},
     "output_type": "execute_result"
    }
   ],
   "source": [
    "%%timeit -r 1 -n 1 -o -q\n",
    "\n",
    "for k, v in sorted(array_rand):\n",
    "    tree_avl_sorted.insert(k, v)"
   ]
  },
  {
   "cell_type": "markdown",
   "metadata": {},
   "source": [
    "#### Обход дерева"
   ]
  },
  {
   "cell_type": "code",
   "execution_count": 22,
   "metadata": {},
   "outputs": [
    {
     "name": "stdout",
     "output_type": "stream",
     "text": [
      "Количество узлов: 40000\n",
      "Обход дерева: [(0, 759), (1, 519), (2, 639), (3, 875), (4, 552), (5, 565), (6, 718), (7, 34), (8, 940), (9, 628)] ...\n"
     ]
    },
    {
     "data": {
      "text/plain": [
       "<TimeitResult : 55.6 ms ± 0 ns per loop (mean ± std. dev. of 1 run, 1 loop each)>"
      ]
     },
     "execution_count": 22,
     "metadata": {},
     "output_type": "execute_result"
    }
   ],
   "source": [
    "%%timeit -r 1 -n 1 -o -q\n",
    "\n",
    "print_tree_info(tree_avl_sorted)"
   ]
  },
  {
   "cell_type": "markdown",
   "metadata": {},
   "source": [
    "#### Поиск отсутствующих чисел"
   ]
  },
  {
   "cell_type": "code",
   "execution_count": 23,
   "metadata": {},
   "outputs": [
    {
     "data": {
      "text/plain": [
       "<TimeitResult : 38.3 ms ± 0 ns per loop (mean ± std. dev. of 1 run, 1 loop each)>"
      ]
     },
     "execution_count": 23,
     "metadata": {},
     "output_type": "execute_result"
    }
   ],
   "source": [
    "%%timeit -r 1 -n 1 -o -q\n",
    "\n",
    "for k in array_miss:\n",
    "    if tree_avl_sorted.has_key(k):\n",
    "        print(f'{i} is in the tree')\n",
    "        break"
   ]
  },
  {
   "cell_type": "markdown",
   "metadata": {},
   "source": [
    "#### Поиск присутствующих чисел"
   ]
  },
  {
   "cell_type": "code",
   "execution_count": 24,
   "metadata": {},
   "outputs": [
    {
     "data": {
      "text/plain": [
       "<TimeitResult : 41.6 ms ± 0 ns per loop (mean ± std. dev. of 1 run, 1 loop each)>"
      ]
     },
     "execution_count": 24,
     "metadata": {},
     "output_type": "execute_result"
    }
   ],
   "source": [
    "%%timeit -r 1 -n 1 -o -q\n",
    "\n",
    "for k in array_part:\n",
    "    if not tree_avl_sorted.has_key(k):\n",
    "        print(f'{i} is not in the tree')\n",
    "        break"
   ]
  },
  {
   "cell_type": "markdown",
   "metadata": {},
   "source": [
    "#### Удаление части имеющихся чисел"
   ]
  },
  {
   "cell_type": "code",
   "execution_count": 25,
   "metadata": {},
   "outputs": [
    {
     "data": {
      "text/plain": [
       "<TimeitResult : 181 ms ± 0 ns per loop (mean ± std. dev. of 1 run, 1 loop each)>"
      ]
     },
     "execution_count": 25,
     "metadata": {},
     "output_type": "execute_result"
    }
   ],
   "source": [
    "%%timeit -r 1 -n 1 -o -q\n",
    "\n",
    "for k in array_part:\n",
    "    tree_avl_sorted.remove(k)"
   ]
  },
  {
   "cell_type": "markdown",
   "metadata": {},
   "source": [
    "#### Обход дерева с проверкой"
   ]
  },
  {
   "cell_type": "code",
   "execution_count": 26,
   "metadata": {},
   "outputs": [
    {
     "name": "stdout",
     "output_type": "stream",
     "text": [
      "True\n"
     ]
    },
    {
     "data": {
      "text/plain": [
       "<TimeitResult : 88.4 ms ± 0 ns per loop (mean ± std. dev. of 1 run, 1 loop each)>"
      ]
     },
     "execution_count": 26,
     "metadata": {},
     "output_type": "execute_result"
    }
   ],
   "source": [
    "%%timeit -r 1 -n 1 -o -q\n",
    "\n",
    "compare_with_dict(tree_avl_sorted, TEST_DICT)"
   ]
  },
  {
   "cell_type": "markdown",
   "metadata": {},
   "source": [
    "## Тест №4"
   ]
  },
  {
   "cell_type": "markdown",
   "metadata": {},
   "source": [
    "- АВЛ-дерево\n",
    "- Массив перемешан"
   ]
  },
  {
   "cell_type": "code",
   "execution_count": 27,
   "metadata": {},
   "outputs": [],
   "source": [
    "array_rand, array_miss, array_part = get_test_arrays(40000, perc=0.2)\n",
    "\n",
    "TEST_DICT = {}\n",
    "for k, v in array_rand:\n",
    "    TEST_DICT[k] = v\n",
    "for k in array_part:\n",
    "    del TEST_DICT[k]"
   ]
  },
  {
   "cell_type": "code",
   "execution_count": 28,
   "metadata": {},
   "outputs": [],
   "source": [
    "tree_avl_random = TreeAVL()"
   ]
  },
  {
   "cell_type": "markdown",
   "metadata": {},
   "source": [
    "#### Добавление чисел"
   ]
  },
  {
   "cell_type": "code",
   "execution_count": 29,
   "metadata": {},
   "outputs": [
    {
     "data": {
      "text/plain": [
       "<TimeitResult : 960 ms ± 0 ns per loop (mean ± std. dev. of 1 run, 1 loop each)>"
      ]
     },
     "execution_count": 29,
     "metadata": {},
     "output_type": "execute_result"
    }
   ],
   "source": [
    "%%timeit -r 1 -n 1 -o -q\n",
    "\n",
    "for k, v in array_rand:\n",
    "    tree_avl_random.insert(k, v)"
   ]
  },
  {
   "cell_type": "markdown",
   "metadata": {},
   "source": [
    "#### Обход дерева"
   ]
  },
  {
   "cell_type": "code",
   "execution_count": 30,
   "metadata": {},
   "outputs": [
    {
     "name": "stdout",
     "output_type": "stream",
     "text": [
      "Количество узлов: 40000\n",
      "Обход дерева: [(0, 787), (1, 142), (2, 476), (3, 262), (4, 115), (5, 691), (6, 710), (7, 630), (8, 426), (9, 170)] ...\n"
     ]
    },
    {
     "data": {
      "text/plain": [
       "<TimeitResult : 66.9 ms ± 0 ns per loop (mean ± std. dev. of 1 run, 1 loop each)>"
      ]
     },
     "execution_count": 30,
     "metadata": {},
     "output_type": "execute_result"
    }
   ],
   "source": [
    "%%timeit -r 1 -n 1 -o -q\n",
    "\n",
    "print_tree_info(tree_avl_random)"
   ]
  },
  {
   "cell_type": "markdown",
   "metadata": {},
   "source": [
    "#### Поиск отсутствующих чисел"
   ]
  },
  {
   "cell_type": "code",
   "execution_count": 31,
   "metadata": {},
   "outputs": [
    {
     "data": {
      "text/plain": [
       "<TimeitResult : 40.9 ms ± 0 ns per loop (mean ± std. dev. of 1 run, 1 loop each)>"
      ]
     },
     "execution_count": 31,
     "metadata": {},
     "output_type": "execute_result"
    }
   ],
   "source": [
    "%%timeit -r 1 -n 1 -o -q\n",
    "\n",
    "for k in array_miss:\n",
    "    if tree_avl_random.has_key(k):\n",
    "        print(f'{i} is in the tree')\n",
    "        break"
   ]
  },
  {
   "cell_type": "markdown",
   "metadata": {},
   "source": [
    "#### Поиск присутствующих чисел"
   ]
  },
  {
   "cell_type": "code",
   "execution_count": 32,
   "metadata": {},
   "outputs": [
    {
     "data": {
      "text/plain": [
       "<TimeitResult : 42.9 ms ± 0 ns per loop (mean ± std. dev. of 1 run, 1 loop each)>"
      ]
     },
     "execution_count": 32,
     "metadata": {},
     "output_type": "execute_result"
    }
   ],
   "source": [
    "%%timeit -r 1 -n 1 -o -q\n",
    "\n",
    "for k in array_part:\n",
    "    if not tree_avl_random.has_key(k):\n",
    "        print(f'{i} is not in the tree')\n",
    "        break"
   ]
  },
  {
   "cell_type": "markdown",
   "metadata": {},
   "source": [
    "#### Удаление части имеющихся чисел"
   ]
  },
  {
   "cell_type": "code",
   "execution_count": 33,
   "metadata": {},
   "outputs": [
    {
     "data": {
      "text/plain": [
       "<TimeitResult : 277 ms ± 0 ns per loop (mean ± std. dev. of 1 run, 1 loop each)>"
      ]
     },
     "execution_count": 33,
     "metadata": {},
     "output_type": "execute_result"
    }
   ],
   "source": [
    "%%timeit -r 1 -n 1 -o -q\n",
    "\n",
    "for k in array_part:\n",
    "    tree_avl_random.remove(k)"
   ]
  },
  {
   "cell_type": "markdown",
   "metadata": {},
   "source": [
    "#### Обход дерева с проверкой"
   ]
  },
  {
   "cell_type": "code",
   "execution_count": 34,
   "metadata": {},
   "outputs": [
    {
     "name": "stdout",
     "output_type": "stream",
     "text": [
      "True\n"
     ]
    },
    {
     "data": {
      "text/plain": [
       "<TimeitResult : 108 ms ± 0 ns per loop (mean ± std. dev. of 1 run, 1 loop each)>"
      ]
     },
     "execution_count": 34,
     "metadata": {},
     "output_type": "execute_result"
    }
   ],
   "source": [
    "%%timeit -r 1 -n 1 -o -q\n",
    "\n",
    "compare_with_dict(tree_avl_random, TEST_DICT)"
   ]
  },
  {
   "cell_type": "markdown",
   "metadata": {},
   "source": [
    "## Выводы"
   ]
  },
  {
   "cell_type": "markdown",
   "metadata": {},
   "source": [
    "#### Таблица производительности"
   ]
  },
  {
   "cell_type": "markdown",
   "metadata": {},
   "source": [
    "|Тип дерева|Тип массива|Количество элементов|Добавление|Обход|Поиск отсутствующих|Поиск присутствующих|Удаление|Обход с проверкой|\n",
    "|:--------:|---------|--------------|--------------------|------------------|---|---|---|---|\n",
    "|Бинарное|Отсортированный|10000|23.151|4.826|8.648|3.768|3.292|5.0|\n",
    "|Бинарное|Случайный|40000|0.331|0.074|0.024|0.042|4.4|53.687|\n",
    "|АВЛ|Отсортированный|40000|1.012|0.056|0.038|0.042|0.181|0.088|\n",
    "|АВЛ|Случайный|40000|0.96|0.067|0.041|0.043|0.277|0.108|"
   ]
  },
  {
   "cell_type": "markdown",
   "metadata": {},
   "source": [
    "* Добавление элементов в дерево занимает наибольшее время в случае бинарного дерева и сортированного входного массива: дерево вырождается в связанный список с длиной равной длине входного массива. По этой же причине поиск и удаление элементов максимально по сравнению с другими случаями.\n",
    "* Случайно перемешанный входной массив позволяет быстро добавлять и искать элементы в обычном бинарное дерево. Удаление элементов и операции, производимые после этого, уже занимают больше времени по сравнению с АВЛ-деревом. Из-за того, что при удалении не происходит балансировки, структура дерева препятствует эффективному выполнению операций.\n",
    "* В случае АВЛ-дерева наличие или отсутствие сортировки входного массива не влияет на совершаемые операции - балансировка позволяет выстроить эффективную структуру дерева."
   ]
  },
  {
   "cell_type": "code",
   "execution_count": 35,
   "metadata": {},
   "outputs": [],
   "source": [
    "collect_results()"
   ]
  },
  {
   "cell_type": "code",
   "execution_count": 36,
   "metadata": {},
   "outputs": [
    {
     "name": "stdout",
     "output_type": "stream",
     "text": [
      "|23.151|4.826|8.648|3.768|3.292|5.0|\n",
      "|0.331|0.074|0.024|0.042|4.4|53.687|\n",
      "|1.012|0.056|0.038|0.042|0.181|0.088|\n",
      "|0.96|0.067|0.041|0.043|0.277|0.108|\n"
     ]
    }
   ],
   "source": [
    "for i in range(4):\n",
    "    print('|' + '|'.join(str(v) for v in RESULTS[i*6:6*(i+1)]) + '|')"
   ]
  }
 ],
 "metadata": {
  "kernelspec": {
   "display_name": "Python 3",
   "language": "python",
   "name": "python3"
  },
  "language_info": {
   "codemirror_mode": {
    "name": "ipython",
    "version": 3
   },
   "file_extension": ".py",
   "mimetype": "text/x-python",
   "name": "python",
   "nbconvert_exporter": "python",
   "pygments_lexer": "ipython3",
   "version": "3.6.9"
  }
 },
 "nbformat": 4,
 "nbformat_minor": 2
}
