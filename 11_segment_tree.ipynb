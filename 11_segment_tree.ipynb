{
 "cells": [
  {
   "cell_type": "markdown",
   "metadata": {},
   "source": [
    "# Решение задачи \"Сумма на отрезке\""
   ]
  },
  {
   "cell_type": "code",
   "execution_count": 90,
   "metadata": {},
   "outputs": [],
   "source": [
    "import random\n",
    "import os\n",
    "import math"
   ]
  },
  {
   "cell_type": "markdown",
   "metadata": {},
   "source": [
    "- N - число элементов массива: [1, 100000]\n",
    "- K - число запросов: [0, 100000]\n",
    "- i - номер элемента в массиве: [1, 100000]\n",
    "- x - значение: [0, 1000000000]\n",
    "- A i x - присвоить значение\n",
    "- Q l r - найти сумму"
   ]
  },
  {
   "cell_type": "markdown",
   "metadata": {},
   "source": [
    "## Вспомогательные функции"
   ]
  },
  {
   "cell_type": "code",
   "execution_count": 91,
   "metadata": {},
   "outputs": [],
   "source": [
    "def generate_files(N_min, N_max, K_min, K_max, x_max):\n",
    "    N = random.randint(N_min, N_max)\n",
    "    K = random.randint(K_min, K_max)\n",
    "    array = [0 for i in range(N+1)]\n",
    "    with open('sum.in', 'w') as fi, open('sum_right.out', 'w') as fo:\n",
    "        fi.write(f'{N} {K}\\n')\n",
    "        if K != 0:\n",
    "            for k in range(K):\n",
    "                operation = random.choice(['A', 'Q'])\n",
    "                if operation == 'A':\n",
    "                    i = random.randint(1, N)\n",
    "                    x = random.randint(0, x_max)\n",
    "                    array[i] = x\n",
    "                    fi.write(f'A {i} {x}\\n')\n",
    "                if operation == 'Q':\n",
    "                    l = random.randint(1, N)\n",
    "                    r = random.randint(l, N)\n",
    "                    s = sum(array[l:r+1])\n",
    "                    fi.write(f'Q {l} {r}\\n')\n",
    "                    fo.write(str(s)+'\\n')\n",
    "\n",
    "def compare_files():                   \n",
    "    with open('sum_right.out', 'r') as fr, open('sum.out', 'r') as fo:\n",
    "        if not (fr.read() == fo.read()):\n",
    "            print('False')\n",
    "            return "
   ]
  },
  {
   "cell_type": "markdown",
   "metadata": {},
   "source": [
    "## Реализация"
   ]
  },
  {
   "cell_type": "code",
   "execution_count": 92,
   "metadata": {},
   "outputs": [],
   "source": [
    "def get_data():\n",
    "    with open('sum.in', 'r') as fi:\n",
    "        for line in fi:\n",
    "            yield line\n",
    "\n",
    "def get_sum(array, ind_l, ind_r):\n",
    "    result = 0\n",
    "    while ind_l <= ind_r:\n",
    "        # если элемент с индексом ind_l - правый потомок (нечетный индекс), добавляем к результату\n",
    "        if ind_l % 2 == 1:\n",
    "            result += array[ind_l]\n",
    "        # если элемент с индексом ind_r - левый потомок (четный индекс), добавляем к результату\n",
    "        if ind_r % 2 == 0:\n",
    "            result += array[ind_r]\n",
    "        ind_l = (ind_l + 1) // 2\n",
    "        ind_r = (ind_r - 1) // 2\n",
    "    return result\n",
    "\n",
    "def get_results():\n",
    "    lines = get_data()\n",
    "    line = next(lines).split()\n",
    "    N, K = int(line[0]), int(line[1])\n",
    "    if K == 0:\n",
    "        return results\n",
    "    #array_n = [0 for i in range(N+1)]\n",
    "    shift = 2**math.ceil(math.log(N, 2))\n",
    "    array = [0 for i in range(2*shift)]\n",
    "    with open('sum.out', 'w') as fo:\n",
    "        for i in range(K):\n",
    "            line = next(lines).split()\n",
    "            if line[0] == 'A':\n",
    "                i = int(line[1]) + shift - 1\n",
    "                x = int(line[2])\n",
    "                diff = x - array[i]\n",
    "                array[i] = x\n",
    "                while i != 1:\n",
    "                    array[i//2] += diff\n",
    "                    i //= 2\n",
    "            if line[0] == 'Q':\n",
    "                l, r = int(line[1]), int(line[2])\n",
    "                s = get_sum(array, l+shift-1, r+shift-1)\n",
    "                fo.write(str(s)+'\\n')"
   ]
  },
  {
   "cell_type": "markdown",
   "metadata": {},
   "source": [
    "## Тестирование"
   ]
  },
  {
   "cell_type": "code",
   "execution_count": 93,
   "metadata": {},
   "outputs": [],
   "source": [
    "N_min = 10**5\n",
    "N_max = 10**5\n",
    "K_min = 10**5\n",
    "K_max = 10**5\n",
    "x_max = 10**9"
   ]
  },
  {
   "cell_type": "code",
   "execution_count": 94,
   "metadata": {},
   "outputs": [],
   "source": [
    "generate_files(N_min, N_max, K_min, K_max, x_max)"
   ]
  },
  {
   "cell_type": "code",
   "execution_count": 95,
   "metadata": {},
   "outputs": [
    {
     "data": {
      "text/plain": [
       "<TimeitResult : 407 ms ± 0 ns per loop (mean ± std. dev. of 1 run, 1 loop each)>"
      ]
     },
     "execution_count": 95,
     "metadata": {},
     "output_type": "execute_result"
    }
   ],
   "source": [
    "%%timeit -r 1 -n 1 -o -q\n",
    "get_results()\n",
    "compare_files()"
   ]
  },
  {
   "cell_type": "code",
   "execution_count": 97,
   "metadata": {},
   "outputs": [
    {
     "data": {
      "text/plain": [
       "<TimeitResult : 214 ms ± 0 ns per loop (mean ± std. dev. of 1 run, 1 loop each)>"
      ]
     },
     "execution_count": 97,
     "metadata": {},
     "output_type": "execute_result"
    }
   ],
   "source": [
    "%%timeit -r 1 -n 1 -o -q\n",
    "!./algorithms_cpp/11_segment_tree.out\n",
    "compare_files()"
   ]
  },
  {
   "cell_type": "code",
   "execution_count": 98,
   "metadata": {},
   "outputs": [],
   "source": [
    "os.remove('sum.in')\n",
    "os.remove('sum_right.out')\n",
    "os.remove('sum.out')"
   ]
  },
  {
   "cell_type": "code",
   "execution_count": null,
   "metadata": {},
   "outputs": [],
   "source": []
  }
 ],
 "metadata": {
  "kernelspec": {
   "display_name": "Python 3",
   "language": "python",
   "name": "python3"
  },
  "language_info": {
   "codemirror_mode": {
    "name": "ipython",
    "version": 3
   },
   "file_extension": ".py",
   "mimetype": "text/x-python",
   "name": "python",
   "nbconvert_exporter": "python",
   "pygments_lexer": "ipython3",
   "version": "3.6.9"
  }
 },
 "nbformat": 4,
 "nbformat_minor": 4
}
