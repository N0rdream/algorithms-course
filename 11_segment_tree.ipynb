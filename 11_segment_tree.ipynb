{
 "cells": [
  {
   "cell_type": "markdown",
   "metadata": {},
   "source": [
    "# Решение задачи \"Сумма на отрезке\""
   ]
  },
  {
   "cell_type": "code",
   "execution_count": 149,
   "metadata": {},
   "outputs": [],
   "source": [
    "import random\n",
    "import os\n",
    "import math"
   ]
  },
  {
   "cell_type": "markdown",
   "metadata": {},
   "source": [
    "- N - число элементов массива: [1, 100000]\n",
    "- K - число запросов: [0, 100000]\n",
    "- i - номер элемента в массиве: [1, 100000]\n",
    "- x - значение: [0, 1000000000]\n",
    "- A i x - присвоить значение\n",
    "- Q l r - найти сумму"
   ]
  },
  {
   "cell_type": "markdown",
   "metadata": {},
   "source": [
    "## Вспомогательные функции"
   ]
  },
  {
   "cell_type": "code",
   "execution_count": 174,
   "metadata": {},
   "outputs": [],
   "source": [
    "def generate_files(N_min, N_max, K_max, x_max, null_cases=True):\n",
    "    N = random.randint(N_min, N_max)\n",
    "    if null_cases:\n",
    "        K = random.randint(0, K_max)\n",
    "    else:\n",
    "        K = random.randint(N, K_max)\n",
    "    with open('sum.in', 'w') as fi, open('sum_right.out', 'w') as fo:\n",
    "        fi.write(f'{N} {K}\\n')\n",
    "        if K:\n",
    "            array = [random.randint(0, x_max) for i in range(N+1)]\n",
    "            array[0] = 0\n",
    "            #print('generated array:', array)\n",
    "            for j in range(1, N+1):\n",
    "                num = array[j]\n",
    "                if num:\n",
    "                    fi.write(f'A {j} {num}\\n')\n",
    "                    K -= 1\n",
    "            for j in range(K):\n",
    "                l = random.randint(1, N)\n",
    "                r = random.randint(l, N)\n",
    "                s = sum(array[l:r+1])\n",
    "                K -= 1\n",
    "                if K:\n",
    "                    fi.write(f'Q {l} {r}\\n')\n",
    "                    fo.write(str(s)+'\\n')\n",
    "                else:\n",
    "                    fi.write(f'Q {l} {r}')\n",
    "                    fo.write(str(s))\n",
    "\n",
    "\n",
    "def compare_files():                   \n",
    "    with open('sum_right.out', 'r') as fr, open('sum.out', 'r') as fo:\n",
    "        if not (fr.read() == fo.read()):\n",
    "            print('False')\n",
    "            return"
   ]
  },
  {
   "cell_type": "markdown",
   "metadata": {},
   "source": [
    "## Реализация"
   ]
  },
  {
   "cell_type": "code",
   "execution_count": 150,
   "metadata": {},
   "outputs": [],
   "source": [
    "def get_data():\n",
    "    with open('sum.in', 'r') as fi:\n",
    "        for line in fi:\n",
    "            yield line\n",
    "            \n",
    "\n",
    "def get_double_array(array, N):\n",
    "    # вычисляем ближайшее число с основанием 2\n",
    "    x = 2**math.ceil(math.log(N, 2))\n",
    "    new_array = [0 for i in range(2*x)]\n",
    "    for i in range(1, N+1):\n",
    "        new_array[i+x-1] = array[i]\n",
    "    return new_array, 2*x\n",
    "\n",
    "\n",
    "def fill_array(array, N):\n",
    "    for i in range (N-2, 0, -2):\n",
    "        array[i//2] = array[i] + array[i+1]\n",
    "\n",
    "        \n",
    "def get_sum(array, ind_l, ind_r):\n",
    "    result = 0\n",
    "    while ind_l <= ind_r:\n",
    "        # если элемент с индексом ind_l - правый потомок (нечетный индекс), добавляем к результату\n",
    "        if ind_l % 2 == 1:\n",
    "            result += array[ind_l]\n",
    "        # если элемент с индексом ind_r - левый потомок (четный индекс), добавляем к результату\n",
    "        if ind_r % 2 == 0:\n",
    "            result += array[ind_r]\n",
    "        ind_l = (ind_l + 1) // 2\n",
    "        ind_r = (ind_r - 1) // 2\n",
    "    return result\n",
    "\n",
    "\n",
    "def get_result():\n",
    "    lines = get_data()\n",
    "    tmp = next(lines).split()\n",
    "    N, K = int(tmp[0]), int(tmp[1])\n",
    "    if not K:\n",
    "        open('sum.out', 'w').close()\n",
    "        return\n",
    "    array = [0 for i in range(N+1)]\n",
    "    tmp = next(lines).split()\n",
    "    while tmp[0] == 'A':\n",
    "        array[int(tmp[1])] = int(tmp[2])\n",
    "        K -= 1\n",
    "        if K:\n",
    "            tmp = next(lines).split()\n",
    "        else:\n",
    "            open('sum.out', 'w').close()\n",
    "            return\n",
    "    array, N = get_double_array(array, N)\n",
    "    fill_array(array, N)\n",
    "    with open('sum.out', 'w') as fo:\n",
    "        while True:\n",
    "            s = get_sum(array, int(tmp[1])+N//2-1, int(tmp[2])+N//2-1)\n",
    "            K -= 1\n",
    "            if K:\n",
    "                fo.write(str(s)+'\\n')\n",
    "                tmp = next(lines).split()\n",
    "            else:\n",
    "                fo.write(str(s))\n",
    "                return"
   ]
  },
  {
   "cell_type": "markdown",
   "metadata": {},
   "source": [
    "## Тестирование"
   ]
  },
  {
   "cell_type": "code",
   "execution_count": 172,
   "metadata": {},
   "outputs": [],
   "source": [
    "N_min = 1\n",
    "N_max = 10**5\n",
    "K_max = 10**5\n",
    "x_max = 10**9"
   ]
  },
  {
   "cell_type": "code",
   "execution_count": 155,
   "metadata": {},
   "outputs": [
    {
     "data": {
      "text/plain": [
       "<TimeitResult : 1.17 s ± 890 ms per loop (mean ± std. dev. of 20 runs, 1 loop each)>"
      ]
     },
     "execution_count": 155,
     "metadata": {},
     "output_type": "execute_result"
    }
   ],
   "source": [
    "%%timeit -r 20 -n 1 -o -q\n",
    "\n",
    "generate_files(N_min, N_max, K_max, x_max, null_cases=False)\n",
    "get_result()\n",
    "compare_files()\n",
    "\n",
    "os.remove('sum.in')\n",
    "os.remove('sum_right.out')\n",
    "os.remove('sum.out')"
   ]
  },
  {
   "cell_type": "code",
   "execution_count": null,
   "metadata": {},
   "outputs": [],
   "source": []
  },
  {
   "cell_type": "code",
   "execution_count": null,
   "metadata": {},
   "outputs": [],
   "source": []
  },
  {
   "cell_type": "code",
   "execution_count": null,
   "metadata": {},
   "outputs": [],
   "source": []
  }
 ],
 "metadata": {
  "kernelspec": {
   "display_name": "Python 3",
   "language": "python",
   "name": "python3"
  },
  "language_info": {
   "codemirror_mode": {
    "name": "ipython",
    "version": 3
   },
   "file_extension": ".py",
   "mimetype": "text/x-python",
   "name": "python",
   "nbconvert_exporter": "python",
   "pygments_lexer": "ipython3",
   "version": "3.6.9"
  }
 },
 "nbformat": 4,
 "nbformat_minor": 4
}
