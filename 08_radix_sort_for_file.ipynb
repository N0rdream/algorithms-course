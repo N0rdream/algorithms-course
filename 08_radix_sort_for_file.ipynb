{
 "cells": [
  {
   "cell_type": "markdown",
   "metadata": {},
   "source": [
    "# Использование radix sort для сортировки внешнего файла"
   ]
  },
  {
   "cell_type": "code",
   "execution_count": 123,
   "metadata": {},
   "outputs": [],
   "source": [
    "import random\n",
    "import struct\n",
    "import os\n",
    "import shutil"
   ]
  },
  {
   "cell_type": "code",
   "execution_count": 4,
   "metadata": {},
   "outputs": [],
   "source": [
    "FILENAME = 'numbers'\n",
    "FILENAME_TMP = 'numbers_tmp'"
   ]
  },
  {
   "cell_type": "markdown",
   "metadata": {},
   "source": [
    "## Вспомогательные функции"
   ]
  },
  {
   "cell_type": "code",
   "execution_count": 95,
   "metadata": {},
   "outputs": [],
   "source": [
    "def generate_binary_file(filename, first, last, n):\n",
    "    with open(filename, 'wb') as f:\n",
    "        for i in range(n):\n",
    "            f.write(struct.pack('H', random.randint(first, last)))\n",
    "            \n",
    "            \n",
    "def generate_ints_from_file(filename):\n",
    "    with open(filename, 'rb') as fr:\n",
    "        while True:\n",
    "            data = fr.read(2)\n",
    "            if not data:\n",
    "                return\n",
    "            yield struct.unpack('H', data)[0]\n",
    "\n",
    "\n",
    "def generate_ints_from_file_reversed(filename):\n",
    "    with open(filename, 'rb') as fr:\n",
    "        cursor = fr.seek(0, os.SEEK_END)\n",
    "        while cursor > 0:\n",
    "            cursor -= 2\n",
    "            fr.seek(cursor)\n",
    "            yield struct.unpack('H', fr.read(2))[0]\n",
    "        \n",
    "\n",
    "def convert_int(number):\n",
    "    return struct.pack('H', number)\n",
    "\n",
    "\n",
    "def get_ints(filename, ind_l, ind_r):\n",
    "    with open(filename, 'rb') as fr:\n",
    "        fr.seek(ind_l*2)\n",
    "        data_b = fr.read((ind_r - ind_l)*2)\n",
    "        return list(struct.unpack('H'*(ind_r - ind_l), data_b))"
   ]
  },
  {
   "cell_type": "markdown",
   "metadata": {},
   "source": [
    "## Реализация radix sort"
   ]
  },
  {
   "cell_type": "code",
   "execution_count": 14,
   "metadata": {},
   "outputs": [],
   "source": [
    "def sort_radix(array, base, max_exp):\n",
    "    for exp in range(0, max_exp+1):\n",
    "        sort_radix_helper(array, base, exp)\n",
    "\n",
    "def sort_radix_helper(array, base, exp):\n",
    "    # создаем пустой массив размера base для подсчета количества встретившихся цифр\n",
    "    counter = [0 for i in range(base)]\n",
    "    for number in array:\n",
    "        counter[get_digit(number, base, exp)] += 1\n",
    "    for i in range(1, base):\n",
    "        counter[i] += counter[i - 1] \n",
    "    tmp_array = [0 for i in range(len(array))]\n",
    "    for i in range(len(array)-1, -1, -1):\n",
    "        counter[get_digit(array[i], base, exp)] -= 1\n",
    "        tmp_array[counter[get_digit(array[i], base, exp)]] = array[i] \n",
    "    for i in range(0, len(array)):\n",
    "        array[i] = tmp_array[i]\n",
    "        \n",
    "def get_digit(number, base, exp):\n",
    "    return number // base**exp % base"
   ]
  },
  {
   "cell_type": "markdown",
   "metadata": {},
   "source": [
    "## Реализация radix sort для сортировки файла"
   ]
  },
  {
   "cell_type": "code",
   "execution_count": 82,
   "metadata": {},
   "outputs": [],
   "source": [
    "def sort_radix_hdd(filename, base, max_exp):\n",
    "    for exp in range(0, max_exp+1):\n",
    "        sort_radix_hdd_helper(filename, base, exp)\n",
    "\n",
    "def sort_radix_hdd_helper(filename, base, exp):\n",
    "    counter = [0 for i in range(base)]\n",
    "    for number in generate_ints(filename):\n",
    "        counter[get_digit(number, base, exp)] += 1\n",
    "    for i in range(1, base):\n",
    "        counter[i] += counter[i - 1]\n",
    "    #вынести в функцию\n",
    "    with open(FILENAME_TMP, 'wb') as fw:\n",
    "        for number in generate_ints_from_file_reversed(filename):\n",
    "            counter[get_digit(number, base, exp)] -= 1\n",
    "            fw.seek(counter[get_digit(number, base, exp)] * 2)\n",
    "            fw.write(convert_int(number))\n",
    "    shutil.copyfile(FILENAME_TMP, filename)\n",
    "    os.remove(FILENAME_TMP)"
   ]
  },
  {
   "cell_type": "markdown",
   "metadata": {},
   "source": [
    "## Оценка времени работы radix sort для сортировки файла"
   ]
  },
  {
   "cell_type": "code",
   "execution_count": 118,
   "metadata": {},
   "outputs": [],
   "source": [
    "FIRST = 0\n",
    "LAST = 2**16 - 1\n",
    "NUMBER = 100000"
   ]
  },
  {
   "cell_type": "code",
   "execution_count": 119,
   "metadata": {},
   "outputs": [
    {
     "name": "stdout",
     "output_type": "stream",
     "text": [
      "[12426, 49609, 61071, 26123, 39596, 1084, 6041, 22627, 25043, 32902]\n"
     ]
    }
   ],
   "source": [
    "generate_binary_file(FILENAME, FIRST, LAST, NUMBER)\n",
    "print(get_ints(FILENAME, 0, 10))"
   ]
  },
  {
   "cell_type": "code",
   "execution_count": 120,
   "metadata": {},
   "outputs": [
    {
     "name": "stdout",
     "output_type": "stream",
     "text": [
      "CPU times: user 2.36 s, sys: 817 ms, total: 3.18 s\n",
      "Wall time: 3.18 s\n"
     ]
    }
   ],
   "source": [
    "%%time\n",
    "sort_radix_hdd(FILENAME, 10, 5)"
   ]
  },
  {
   "cell_type": "code",
   "execution_count": 121,
   "metadata": {},
   "outputs": [
    {
     "name": "stdout",
     "output_type": "stream",
     "text": [
      "[32752, 32752, 32753, 32754, 32755, 32755, 32755, 32755, 32756, 32759, 32759, 32759, 32760, 32760]\n"
     ]
    }
   ],
   "source": [
    "print(get_ints(FILENAME, NUMBER//2-7, NUMBER//2+7))"
   ]
  },
  {
   "cell_type": "code",
   "execution_count": 122,
   "metadata": {},
   "outputs": [],
   "source": [
    "os.remove(FILENAME)"
   ]
  },
  {
   "cell_type": "markdown",
   "metadata": {},
   "source": [
    "## Выводы"
   ]
  },
  {
   "cell_type": "markdown",
   "metadata": {},
   "source": [
    "При сортировке 100000 целых чисел от 0 до 65535, записанных в бинарный файл, поразрядный метод сортировки показывает лучший результат по сравнению с комбинированным merge sort (merge + quick sort): 3.18 s против 7.39 s."
   ]
  },
  {
   "cell_type": "code",
   "execution_count": null,
   "metadata": {},
   "outputs": [],
   "source": []
  }
 ],
 "metadata": {
  "kernelspec": {
   "display_name": "Python 3",
   "language": "python",
   "name": "python3"
  },
  "language_info": {
   "codemirror_mode": {
    "name": "ipython",
    "version": 3
   },
   "file_extension": ".py",
   "mimetype": "text/x-python",
   "name": "python",
   "nbconvert_exporter": "python",
   "pygments_lexer": "ipython3",
   "version": "3.7.2"
  }
 },
 "nbformat": 4,
 "nbformat_minor": 2
}
