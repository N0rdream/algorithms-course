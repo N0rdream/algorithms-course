{
 "cells": [
  {
   "cell_type": "markdown",
   "metadata": {},
   "source": [
    "# Реализация Quick Sort"
   ]
  },
  {
   "cell_type": "code",
   "execution_count": 1,
   "metadata": {},
   "outputs": [],
   "source": [
    "import random"
   ]
  },
  {
   "cell_type": "markdown",
   "metadata": {},
   "source": [
    "## Код"
   ]
  },
  {
   "cell_type": "code",
   "execution_count": 2,
   "metadata": {},
   "outputs": [],
   "source": [
    "def sort_quick(array, randomized=False):\n",
    "    sort_quick_helper(array, 0, len(array) - 1, randomized)\n",
    "    \n",
    "\n",
    "def sort_quick_helper(array, ind_l, ind_r, randomized):\n",
    "    if ind_l >= ind_r:\n",
    "        return \n",
    "    ind_c = partition(array, ind_l, ind_r, randomized)\n",
    "    sort_quick_helper(array, ind_l, ind_c - 1, randomized)\n",
    "    sort_quick_helper(array, ind_c + 1, ind_r, randomized)\n",
    "\n",
    "\n",
    "def partition(array, ind_l, ind_r, randomized):\n",
    "    if randomized:\n",
    "        r = random.randint(ind_l, ind_r)\n",
    "        array[ind_r], array[r] = array[r], array[ind_r]\n",
    "    pivot = array[ind_r]\n",
    "    i = ind_l - 1;\n",
    "    for j in range(ind_l, ind_r+1):\n",
    "        if array[j] <= pivot:\n",
    "            i += 1;\n",
    "            array[i], array[j] = array[j], array[i]\n",
    "    return i"
   ]
  },
  {
   "cell_type": "markdown",
   "metadata": {},
   "source": [
    "Небольшой тест"
   ]
  },
  {
   "cell_type": "code",
   "execution_count": 5,
   "metadata": {},
   "outputs": [
    {
     "name": "stdout",
     "output_type": "stream",
     "text": [
      "True\n",
      "True\n"
     ]
    }
   ],
   "source": [
    "A = [i for i in range(1000)]\n",
    "random.shuffle(A)\n",
    "\n",
    "A_sort_quick_right = A[:]\n",
    "A_sort_quick_random = A[:]\n",
    "A_sort_python = A[:]\n",
    "\n",
    "sort_quick(A_sort_quick_right)\n",
    "sort_quick(A_sort_quick_random, randomized=True)\n",
    "A_sort_python.sort()\n",
    "\n",
    "print(A_sort_quick_right == A_sort_python)\n",
    "print(A_sort_quick_random == A_sort_python)"
   ]
  },
  {
   "cell_type": "markdown",
   "metadata": {},
   "source": [
    "## Сравним время выполнения двух типов Quick Sort"
   ]
  },
  {
   "cell_type": "markdown",
   "metadata": {},
   "source": [
    "### На примере случайного массива"
   ]
  },
  {
   "cell_type": "code",
   "execution_count": 8,
   "metadata": {},
   "outputs": [
    {
     "name": "stdout",
     "output_type": "stream",
     "text": [
      "91.3 ms ± 4.14 ms per loop (mean ± std. dev. of 3 runs, 3 loops each)\n"
     ]
    }
   ],
   "source": [
    "%%timeit -n 3 -r 3\n",
    "\n",
    "A = [i for i in range(30000)]\n",
    "random.shuffle(A)\n",
    "sort_quick(A)"
   ]
  },
  {
   "cell_type": "code",
   "execution_count": 9,
   "metadata": {},
   "outputs": [
    {
     "name": "stdout",
     "output_type": "stream",
     "text": [
      "114 ms ± 3.74 ms per loop (mean ± std. dev. of 3 runs, 3 loops each)\n"
     ]
    }
   ],
   "source": [
    "%%timeit -n 3 -r 3\n",
    "\n",
    "A = [i for i in range(30000)]\n",
    "random.shuffle(A)\n",
    "sort_quick(A, randomized=True)"
   ]
  },
  {
   "cell_type": "markdown",
   "metadata": {},
   "source": [
    "### На примере почти упорядоченного массива"
   ]
  },
  {
   "cell_type": "code",
   "execution_count": 11,
   "metadata": {},
   "outputs": [],
   "source": [
    "def shuffle_part(array, n):\n",
    "    if type(n) == float:\n",
    "        num = int(n * len(array))\n",
    "    if type(n) == int:\n",
    "        num = n\n",
    "    indices = [i for i in range(len(array))]\n",
    "    indices_shuffle = random.sample(indices, num)\n",
    "    half_1 = indices_shuffle[0:int(len(indices_shuffle) / 2)]\n",
    "    half_2 = indices_shuffle[int(len(indices_shuffle) / 2):]\n",
    "    for index_1, index_2 in zip(half_1, half_2):\n",
    "        array[index_1], array[index_2] = array[index_2], array[index_1]"
   ]
  },
  {
   "cell_type": "code",
   "execution_count": 12,
   "metadata": {},
   "outputs": [
    {
     "name": "stdout",
     "output_type": "stream",
     "text": [
      "523 ms ± 48.7 ms per loop (mean ± std. dev. of 3 runs, 3 loops each)\n"
     ]
    }
   ],
   "source": [
    "%%timeit -n 3 -r 3\n",
    "\n",
    "A = [i for i in range(3000)]\n",
    "shuffle_part(A, 5)\n",
    "sort_quick(A)"
   ]
  },
  {
   "cell_type": "code",
   "execution_count": 13,
   "metadata": {},
   "outputs": [
    {
     "name": "stdout",
     "output_type": "stream",
     "text": [
      "9.7 ms ± 1.51 ms per loop (mean ± std. dev. of 3 runs, 3 loops each)\n"
     ]
    }
   ],
   "source": [
    "%%timeit -n 3 -r 3\n",
    "\n",
    "A = [i for i in range(3000)]\n",
    "shuffle_part(A, 5)\n",
    "sort_quick(A, randomized=True)"
   ]
  },
  {
   "cell_type": "markdown",
   "metadata": {},
   "source": [
    "### Выводы"
   ]
  },
  {
   "cell_type": "markdown",
   "metadata": {},
   "source": [
    "В случае случайного массива оба типа показывают себя примерно одинаково. Но если массив оказывается почти упорядоченным, рандомизированный вариант quick sort показывает себя лучше, вариант с выбором крайнего правого элемента откатывается к квадратичному времени выполнения."
   ]
  }
 ],
 "metadata": {
  "kernelspec": {
   "display_name": "Python 3",
   "language": "python",
   "name": "python3"
  },
  "language_info": {
   "codemirror_mode": {
    "name": "ipython",
    "version": 3
   },
   "file_extension": ".py",
   "mimetype": "text/x-python",
   "name": "python",
   "nbconvert_exporter": "python",
   "pygments_lexer": "ipython3",
   "version": "3.7.2"
  }
 },
 "nbformat": 4,
 "nbformat_minor": 2
}
