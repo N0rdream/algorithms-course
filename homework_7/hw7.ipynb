{
 "cells": [
  {
   "cell_type": "markdown",
   "metadata": {},
   "source": [
    "# Реализация Quick Sort"
   ]
  },
  {
   "cell_type": "code",
   "execution_count": 5,
   "metadata": {},
   "outputs": [],
   "source": [
    "import random"
   ]
  },
  {
   "cell_type": "markdown",
   "metadata": {},
   "source": [
    "## Код"
   ]
  },
  {
   "cell_type": "code",
   "execution_count": 6,
   "metadata": {},
   "outputs": [],
   "source": [
    "def sort_quick(array, partition_type='random'):\n",
    "    sort_quick_helper(array, 0, len(array) - 1, partition_type)\n",
    "    \n",
    "\n",
    "def sort_quick_helper(array, index_first, index_last, partition_type):\n",
    "    if index_first < index_last: \n",
    "        index_split = partition(array, index_first, index_last, partition_type)\n",
    "        sort_quick_helper(array, index_first, index_split - 1, partition_type)\n",
    "        sort_quick_helper(array, index_split + 1, index_last, partition_type)\n",
    "\n",
    "\n",
    "def partition(array, index_first, index_last, partition_type):\n",
    "    if partition_type == 'random':\n",
    "        pivot = array[random.randint(index_first, index_last)]\n",
    "    if partition_type == 'right':\n",
    "        pivot = array[index_last]\n",
    "    i, j = index_first, index_last\n",
    "    while i < j:\n",
    "        while array[j] > pivot:\n",
    "            j -= 1\n",
    "        while array[i] < pivot:\n",
    "            i += 1\n",
    "        array[i], array[j] = array[j], array[i]\n",
    "    return j"
   ]
  },
  {
   "cell_type": "markdown",
   "metadata": {},
   "source": [
    "Небольшой тест"
   ]
  },
  {
   "cell_type": "code",
   "execution_count": 7,
   "metadata": {},
   "outputs": [
    {
     "name": "stdout",
     "output_type": "stream",
     "text": [
      "True\n",
      "True\n"
     ]
    }
   ],
   "source": [
    "A = [i for i in range(1000)]\n",
    "random.shuffle(A)\n",
    "\n",
    "A_sort_quick_right = A[:]\n",
    "A_sort_quick_random = A[:]\n",
    "A_sort_python = A[:]\n",
    "\n",
    "sort_quick(A_sort_quick_right, partition_type='right')\n",
    "sort_quick(A_sort_quick_random, partition_type='random')\n",
    "A_sort_python.sort()\n",
    "\n",
    "print(A_sort_quick_right == A_sort_python)\n",
    "print(A_sort_quick_random == A_sort_python)"
   ]
  },
  {
   "cell_type": "markdown",
   "metadata": {},
   "source": [
    "## Сравним время выполнения двух типов Quick Sort"
   ]
  },
  {
   "cell_type": "markdown",
   "metadata": {},
   "source": [
    "### На примере случайного массива"
   ]
  },
  {
   "cell_type": "code",
   "execution_count": 18,
   "metadata": {},
   "outputs": [
    {
     "name": "stdout",
     "output_type": "stream",
     "text": [
      "10.3 ms ± 747 µs per loop (mean ± std. dev. of 3 runs, 3 loops each)\n"
     ]
    }
   ],
   "source": [
    "%%timeit -n 3 -r 3\n",
    "\n",
    "A = [i for i in range(3000)]\n",
    "random.shuffle(A)\n",
    "sort_quick(A, partition_type='right')"
   ]
  },
  {
   "cell_type": "code",
   "execution_count": 19,
   "metadata": {},
   "outputs": [
    {
     "name": "stdout",
     "output_type": "stream",
     "text": [
      "11.1 ms ± 1.5 ms per loop (mean ± std. dev. of 3 runs, 3 loops each)\n"
     ]
    }
   ],
   "source": [
    "%%timeit -n 3 -r 3\n",
    "\n",
    "A = [i for i in range(3000)]\n",
    "random.shuffle(A)\n",
    "sort_quick(A, partition_type='random')"
   ]
  },
  {
   "cell_type": "markdown",
   "metadata": {},
   "source": [
    "### На примере почти упорядоченного массива"
   ]
  },
  {
   "cell_type": "code",
   "execution_count": 20,
   "metadata": {},
   "outputs": [],
   "source": [
    "def shuffle_part(array, n):\n",
    "    if type(n) == float:\n",
    "        num = int(n * len(array))\n",
    "    if type(n) == int:\n",
    "        num = n\n",
    "    indices = [i for i in range(len(array))]\n",
    "    indices_shuffle = random.sample(indices, num)\n",
    "    half_1 = indices_shuffle[0:int(len(indices_shuffle) / 2)]\n",
    "    half_2 = indices_shuffle[int(len(indices_shuffle) / 2):]\n",
    "    for index_1, index_2 in zip(half_1, half_2):\n",
    "        array[index_1], array[index_2] = array[index_2], array[index_1]"
   ]
  },
  {
   "cell_type": "code",
   "execution_count": 21,
   "metadata": {},
   "outputs": [
    {
     "name": "stdout",
     "output_type": "stream",
     "text": [
      "227 ms ± 19.4 ms per loop (mean ± std. dev. of 3 runs, 3 loops each)\n"
     ]
    }
   ],
   "source": [
    "%%timeit -n 3 -r 3\n",
    "\n",
    "A = [i for i in range(3000)]\n",
    "shuffle_part(A, 5)\n",
    "sort_quick(A, partition_type='right')"
   ]
  },
  {
   "cell_type": "code",
   "execution_count": 22,
   "metadata": {},
   "outputs": [
    {
     "name": "stdout",
     "output_type": "stream",
     "text": [
      "7.15 ms ± 1.14 ms per loop (mean ± std. dev. of 3 runs, 3 loops each)\n"
     ]
    }
   ],
   "source": [
    "%%timeit -n 3 -r 3\n",
    "\n",
    "A = [i for i in range(3000)]\n",
    "shuffle_part(A, 5)\n",
    "sort_quick(A, partition_type='random')"
   ]
  },
  {
   "cell_type": "markdown",
   "metadata": {},
   "source": [
    "### Выводы"
   ]
  },
  {
   "cell_type": "markdown",
   "metadata": {},
   "source": [
    "В случае случайного массива оба типа показывают себя примерно одинаково. Но если массив оказывается почти упорядоченным, рандомизированный вариант quick sort показывает себя лучше, вариант с выбором крайнего правого элемента откатывается к квадратичному времени выполнения."
   ]
  }
 ],
 "metadata": {
  "kernelspec": {
   "display_name": "Python 3",
   "language": "python",
   "name": "python3"
  },
  "language_info": {
   "codemirror_mode": {
    "name": "ipython",
    "version": 3
   },
   "file_extension": ".py",
   "mimetype": "text/x-python",
   "name": "python",
   "nbconvert_exporter": "python",
   "pygments_lexer": "ipython3",
   "version": "3.7.3"
  }
 },
 "nbformat": 4,
 "nbformat_minor": 2
}
