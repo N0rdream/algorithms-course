{
 "cells": [
  {
   "cell_type": "markdown",
   "metadata": {},
   "source": [
    "# Использование merge sort для сортировки внешнего файла"
   ]
  },
  {
   "cell_type": "code",
   "execution_count": 2,
   "metadata": {},
   "outputs": [],
   "source": [
    "import random\n",
    "import struct\n",
    "import os\n",
    "import sys\n",
    "\n",
    "sys.setrecursionlimit(5000)"
   ]
  },
  {
   "cell_type": "code",
   "execution_count": 3,
   "metadata": {},
   "outputs": [],
   "source": [
    "FILENAME = 'numbers'\n",
    "FILENAME_TMP = 'numbers_tmp'"
   ]
  },
  {
   "cell_type": "markdown",
   "metadata": {},
   "source": [
    "## Вспомогательные функции"
   ]
  },
  {
   "cell_type": "code",
   "execution_count": 4,
   "metadata": {},
   "outputs": [],
   "source": [
    "def generate_binary_file(filename, first, last, n):\n",
    "    with open(filename, 'wb') as f:\n",
    "        for i in range(n):\n",
    "            f.write(struct.pack('H', random.randint(first, last)))\n",
    "\n",
    "            \n",
    "def get_binary_code(filename, ind_l=None, ind_r=None):\n",
    "    with open(filename, 'rb') as fr:\n",
    "        if ind_l is None and ind_r is None:\n",
    "            return fr.read()\n",
    "        if ind_l is None and ind_r is not None:\n",
    "            return fr.read()[:ind_r*2]\n",
    "        if ind_l is not None and ind_r is None:\n",
    "            return fr.read()[ind_l*2:]\n",
    "        return fr.read()[ind_l*2:ind_r*2]\n",
    "\n",
    "            \n",
    "def get_number_of_words(filename):\n",
    "    return os.path.getsize(filename) // 2\n",
    "\n",
    "\n",
    "def get_int(filename, index):\n",
    "    with open(filename, 'rb') as fr:\n",
    "        fr.seek(index*2)\n",
    "        return struct.unpack('H', fr.read(2))[0]\n",
    "    \n",
    "\n",
    "def write_merged_data(filename_in, filename_out, ind_l):\n",
    "    with open(filename_in, 'rb+') as fi, open(filename_out, 'rb') as fo:\n",
    "        fi.seek(ind_l*2)\n",
    "        fi.write(fo.read())\n",
    "\n",
    "        \n",
    "def put_int_into_binary_file(filename, number):\n",
    "    with open(filename, 'ab') as f:\n",
    "        f.write(convert_int(number))\n",
    "\n",
    "        \n",
    "def convert_int(number):\n",
    "    return struct.pack('H', number)\n",
    "\n",
    "\n",
    "def write_merged_data_array(filename, array, ind_l):\n",
    "    with open(filename, 'rb+') as fi:\n",
    "        fi.seek(ind_l*2)\n",
    "        fi.write(struct.pack('H'*len(array), *array))\n",
    "        \n",
    "\n",
    "def get_ints(filename, ind_l, ind_r):\n",
    "    with open(filename, 'rb') as fr:\n",
    "        fr.seek(ind_l*2)\n",
    "        data_b = fr.read((ind_r - ind_l)*2)\n",
    "        return list(struct.unpack('H'*(ind_r - ind_l), data_b))"
   ]
  },
  {
   "cell_type": "markdown",
   "metadata": {},
   "source": [
    "## Реализация quick sort"
   ]
  },
  {
   "cell_type": "code",
   "execution_count": 5,
   "metadata": {},
   "outputs": [],
   "source": [
    "def sort_quick(array, randomized=False):\n",
    "    sort_quick_helper(array, 0, len(array) - 1, randomized)\n",
    "    \n",
    "\n",
    "def sort_quick_helper(array, ind_l, ind_r, randomized):\n",
    "    if ind_l >= ind_r:\n",
    "        return \n",
    "    ind_c = partition(array, ind_l, ind_r, randomized)\n",
    "    sort_quick_helper(array, ind_l, ind_c - 1, randomized)\n",
    "    sort_quick_helper(array, ind_c + 1, ind_r, randomized)\n",
    "\n",
    "\n",
    "def partition(array, ind_l, ind_r, randomized):\n",
    "    if randomized:\n",
    "        r = random.randint(ind_l, ind_r)\n",
    "        array[ind_r], array[r] = array[r], array[ind_r]\n",
    "    pivot = array[ind_r]\n",
    "    i = ind_l - 1;\n",
    "    for j in range(ind_l, ind_r+1):\n",
    "        if array[j] <= pivot:\n",
    "            i += 1;\n",
    "            array[i], array[j] = array[j], array[i]\n",
    "    return i"
   ]
  },
  {
   "cell_type": "markdown",
   "metadata": {},
   "source": [
    "## Реализация merge sort"
   ]
  },
  {
   "cell_type": "code",
   "execution_count": 14,
   "metadata": {},
   "outputs": [],
   "source": [
    "def merge_hdd(filename, ind_l, ind_c, ind_r):\n",
    "    with open(FILENAME_TMP, 'wb') as fw:\n",
    "        l = ind_l\n",
    "        r = ind_c + 1\n",
    "        int_l = get_int(FILENAME, l)\n",
    "        int_r = get_int(FILENAME, r)\n",
    "        flag_l = False\n",
    "        flag_r = False\n",
    "        while l <= ind_c and r <= ind_r:\n",
    "            if flag_l:\n",
    "                int_l = get_int(FILENAME, l)\n",
    "                flag_l = False\n",
    "            if flag_r:\n",
    "                int_r = get_int(FILENAME, r)\n",
    "                flag_r = False\n",
    "            if int_l < int_r:\n",
    "                fw.write(convert_int(int_l))\n",
    "                l += 1\n",
    "                flag_l = True\n",
    "            else:\n",
    "                fw.write(convert_int(int_r))\n",
    "                r += 1\n",
    "                flag_r = True\n",
    "        while l <= ind_c:\n",
    "            int_l = get_int(FILENAME, l)\n",
    "            fw.write(convert_int(int_l))\n",
    "            l += 1\n",
    "        while r <= ind_r:\n",
    "            int_r = get_int(FILENAME, r)\n",
    "            fw.write(convert_int(int_r))\n",
    "            r += 1\n",
    "    write_merged_data(FILENAME, FILENAME_TMP, ind_l)\n",
    "    os.remove(FILENAME_TMP)\n",
    "\n",
    "    \n",
    "def sort_merge_hdd_helper(filename, ind_l, ind_r, chunk_size):\n",
    "    if ind_l >= ind_r:\n",
    "        return\n",
    "    if chunk_size and (ind_r - ind_l) < chunk_size:\n",
    "        array = get_ints(filename, ind_l, ind_r)\n",
    "        sort_quick(array, randomized=True)\n",
    "        write_merged_data_array(filename, array, ind_l)\n",
    "        return\n",
    "    ind_c = ind_l + (ind_r - ind_l) // 2\n",
    "    sort_merge_hdd_helper(filename, ind_l, ind_c, chunk_size)\n",
    "    sort_merge_hdd_helper(filename, ind_c+1, ind_r, chunk_size)\n",
    "    merge_hdd(filename, ind_l, ind_c, ind_r)\n",
    "\n",
    "    \n",
    "def sort_merge_hdd(filename, chunk_size=0):\n",
    "    sort_merge_hdd_helper(filename, 0, get_number_of_words(filename) - 1, chunk_size)"
   ]
  },
  {
   "cell_type": "markdown",
   "metadata": {},
   "source": [
    "## Оценка времени работы merge sort"
   ]
  },
  {
   "cell_type": "code",
   "execution_count": 7,
   "metadata": {},
   "outputs": [],
   "source": [
    "FIRST = 0\n",
    "LAST = 2**16 - 1\n",
    "NUMBER = 100000"
   ]
  },
  {
   "cell_type": "code",
   "execution_count": 8,
   "metadata": {},
   "outputs": [
    {
     "name": "stdout",
     "output_type": "stream",
     "text": [
      "[16310, 44498, 17540, 49949, 60091, 39118, 28154, 20691, 30767, 53211]\n"
     ]
    }
   ],
   "source": [
    "generate_binary_file(FILENAME, FIRST, LAST, NUMBER)\n",
    "print(get_ints(FILENAME, 0, 10))"
   ]
  },
  {
   "cell_type": "code",
   "execution_count": 9,
   "metadata": {},
   "outputs": [
    {
     "name": "stdout",
     "output_type": "stream",
     "text": [
      "CPU times: user 11.6 s, sys: 7.78 s, total: 19.4 s\n",
      "Wall time: 19.6 s\n"
     ]
    }
   ],
   "source": [
    "%%time\n",
    "sort_merge_hdd(FILENAME)"
   ]
  },
  {
   "cell_type": "code",
   "execution_count": 10,
   "metadata": {},
   "outputs": [
    {
     "name": "stdout",
     "output_type": "stream",
     "text": [
      "[32890, 32891, 32891, 32891, 32892, 32892, 32894, 32895, 32895, 32895, 32895, 32896, 32897, 32897]\n"
     ]
    }
   ],
   "source": [
    "print(get_ints(FILENAME, NUMBER//2-7, NUMBER//2+7))"
   ]
  },
  {
   "cell_type": "code",
   "execution_count": 11,
   "metadata": {},
   "outputs": [],
   "source": [
    "os.remove(FILENAME)"
   ]
  },
  {
   "cell_type": "markdown",
   "metadata": {},
   "source": [
    "## Оценка времени работы merge sort с использованием quick sort на малых массивах"
   ]
  },
  {
   "cell_type": "code",
   "execution_count": 18,
   "metadata": {},
   "outputs": [
    {
     "name": "stdout",
     "output_type": "stream",
     "text": [
      "[37402, 50596, 58564, 7728, 47053, 4370, 1204, 33211, 7664, 4610]\n"
     ]
    }
   ],
   "source": [
    "generate_binary_file(FILENAME, FIRST, LAST, NUMBER)\n",
    "print(get_ints(FILENAME, 0, 10))"
   ]
  },
  {
   "cell_type": "code",
   "execution_count": 19,
   "metadata": {},
   "outputs": [
    {
     "name": "stdout",
     "output_type": "stream",
     "text": [
      "CPU times: user 5.36 s, sys: 1.98 s, total: 7.34 s\n",
      "Wall time: 7.39 s\n"
     ]
    }
   ],
   "source": [
    "%%time\n",
    "sort_merge_hdd(FILENAME, chunk_size=128)"
   ]
  },
  {
   "cell_type": "code",
   "execution_count": 20,
   "metadata": {},
   "outputs": [
    {
     "name": "stdout",
     "output_type": "stream",
     "text": [
      "[33080, 33082, 33082, 33083, 33085, 33087, 33088, 33088, 33088, 33089, 33089, 33090, 33090, 33092]\n"
     ]
    }
   ],
   "source": [
    "print(get_ints(FILENAME, NUMBER//2-7, NUMBER//2+7))"
   ]
  },
  {
   "cell_type": "code",
   "execution_count": 21,
   "metadata": {},
   "outputs": [],
   "source": [
    "os.remove(FILENAME)"
   ]
  },
  {
   "cell_type": "markdown",
   "metadata": {},
   "source": [
    "## Выводы"
   ]
  },
  {
   "cell_type": "markdown",
   "metadata": {},
   "source": [
    "При сортировке 100000 целых чисел от 0 до 65535, записанных в бинарный файл, комбинированный метод сортировки (merge + quick sort) показывает лучший результат по сравнению с чистым merge sort (7.39 s против 19.6 s). На малых массивах (до 128 чисел) сортировка происходит в памяти, что позволяет избавиться от большого числа операций чтения/записи на жесткий диск."
   ]
  }
 ],
 "metadata": {
  "kernelspec": {
   "display_name": "Python 3",
   "language": "python",
   "name": "python3"
  },
  "language_info": {
   "codemirror_mode": {
    "name": "ipython",
    "version": 3
   },
   "file_extension": ".py",
   "mimetype": "text/x-python",
   "name": "python",
   "nbconvert_exporter": "python",
   "pygments_lexer": "ipython3",
   "version": "3.7.2"
  }
 },
 "nbformat": 4,
 "nbformat_minor": 2
}
